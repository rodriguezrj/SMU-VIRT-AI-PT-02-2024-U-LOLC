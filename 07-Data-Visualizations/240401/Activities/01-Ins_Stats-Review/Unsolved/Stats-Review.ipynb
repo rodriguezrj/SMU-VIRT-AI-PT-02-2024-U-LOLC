{
 "cells": [
  {
   "cell_type": "markdown",
   "metadata": {},
   "source": [
    "# Stats Review"
   ]
  },
  {
   "cell_type": "code",
   "execution_count": 1,
   "metadata": {},
   "outputs": [],
   "source": [
    "# Dependencies\n",
    "import pandas as pd\n",
    "import matplotlib.pyplot as plt\n",
    "import scipy.stats as st\n",
    "import numpy as np"
   ]
  },
  {
   "cell_type": "code",
   "execution_count": 2,
   "metadata": {},
   "outputs": [],
   "source": [
    "# Read in the LAX temperature data\n",
    "temperature_df = pd.read_csv('../Resources/lax_temperature.csv')\n",
    "temperatures = temperature_df['HourlyDryBulbTemperature']"
   ]
  },
  {
   "cell_type": "code",
   "execution_count": 15,
   "metadata": {},
   "outputs": [
    {
     "name": "stdout",
     "output_type": "stream",
     "text": [
      "mean: 57.65514310002834\n",
      "median: 57.0\n",
      "mode: ModeResult(mode=57, count=327)\n"
     ]
    }
   ],
   "source": [
    "# Demonstrate calculating measures of central tendency\n",
    "mean = np.mean(temperatures)\n",
    "median = np.median(temperatures)\n",
    "mode = st.mode(temperatures)\n",
    "print(\"mean:\", np.mean(temperatures))\n",
    "print(\"median:\", np.median(temperatures))\n",
    "print(\"mode:\", st.mode(temperatures))"
   ]
  },
  {
   "cell_type": "code",
   "execution_count": 4,
   "metadata": {},
   "outputs": [
    {
     "data": {
      "text/plain": [
       "(3529,)"
      ]
     },
     "execution_count": 4,
     "metadata": {},
     "output_type": "execute_result"
    }
   ],
   "source": [
    "temperatures.shape"
   ]
  },
  {
   "cell_type": "code",
   "execution_count": 5,
   "metadata": {},
   "outputs": [
    {
     "data": {
      "image/png": "[encoded data removed]",
      "text/plain": [
       "<Figure size 640x480 with 1 Axes>"
      ]
     },
     "metadata": {},
     "output_type": "display_data"
    }
   ],
   "source": [
    "# Characterize the data set using matplotlib\n",
    "plt.hist(temperatures, bins=100)\n",
    "plt.xlabel(\"Temperature F\")\n",
    "plt.ylabel(\"Counts\")\n",
    "plt.show()"
   ]
  },
  {
   "cell_type": "code",
   "execution_count": 6,
   "metadata": {
    "scrolled": false
   },
   "outputs": [
    {
     "data": {
      "image/png": "[encoded data removed]",
      "text/plain": [
       "<Figure size 640x480 with 1 Axes>"
      ]
     },
     "metadata": {},
     "output_type": "display_data"
    }
   ],
   "source": [
    "# Characterize the data set using matplotlib\n",
    "plt.hist(temperatures, bins=10)\n",
    "plt.xlabel(\"Temperature F\")\n",
    "plt.ylabel(\"Counts\")\n",
    "plt.show()"
   ]
  },
  {
   "cell_type": "code",
   "execution_count": 9,
   "metadata": {},
   "outputs": [],
   "source": [
    "# Demonstrate calculating the variance and standard deviation using the different modules\n",
    "# print(np.var(temperatures, ddof=1))\n",
    "# print(np.std(temperatures, ddof=1))"
   ]
  },
  {
   "cell_type": "code",
   "execution_count": 11,
   "metadata": {},
   "outputs": [],
   "source": [
    "# Demonstrate calculating the variance and standard deviation using the different modules\n",
    "var = np.var(temperatures, ddof=0)\n",
    "std = np.std(temperatures, ddof=0)"
   ]
  },
  {
   "cell_type": "code",
   "execution_count": 13,
   "metadata": {},
   "outputs": [
    {
     "data": {
      "text/plain": [
       "32.33077618382955"
      ]
     },
     "execution_count": 13,
     "metadata": {},
     "output_type": "execute_result"
    }
   ],
   "source": [
    "var"
   ]
  },
  {
   "cell_type": "code",
   "execution_count": 12,
   "metadata": {},
   "outputs": [
    {
     "data": {
      "text/plain": [
       "5.686015844493361"
      ]
     },
     "execution_count": 12,
     "metadata": {},
     "output_type": "execute_result"
    }
   ],
   "source": [
    "std"
   ]
  },
  {
   "cell_type": "code",
   "execution_count": 22,
   "metadata": {},
   "outputs": [
    {
     "name": "stdout",
     "output_type": "stream",
     "text": [
      "51.969 63.341\n",
      "46.283 69.027\n",
      "40.597 74.713\n"
     ]
    }
   ],
   "source": [
    "print(round(mean - std, 3), round(mean + std, 3))\n",
    "print(round(mean - 2*std,3), round(mean + 2*std, 3))\n",
    "print(round(mean - 3*std, 3), round(mean + 3*std, 3))"
   ]
  },
  {
   "cell_type": "code",
   "execution_count": 6,
   "metadata": {},
   "outputs": [
    {
     "name": "stdout",
     "output_type": "stream",
     "text": [
      "Roughly 68% of the data is between 51.969 and 63.341\n",
      "Roughly 95% of the data is between 46.283 and 69.027\n",
      "Roughly 99.7% of the data is between 40.597 and 74.713\n"
     ]
    }
   ],
   "source": [
    "# Calculate the 68-95-99.7 rule using the standard deviation\n"
   ]
  },
  {
   "cell_type": "code",
   "execution_count": 20,
   "metadata": {
    "scrolled": true
   },
   "outputs": [
    {
     "data": {
      "text/plain": [
       "0      -0.994570\n",
       "1      -1.170440\n",
       "2      -0.994570\n",
       "3      -1.522181\n",
       "4      -2.577401\n",
       "          ...   \n",
       "3524    0.412390\n",
       "3525    0.236520\n",
       "3526    0.060650\n",
       "3527    0.060650\n",
       "3528    0.060650\n",
       "Name: HourlyDryBulbTemperature, Length: 3529, dtype: float64"
      ]
     },
     "execution_count": 20,
     "metadata": {},
     "output_type": "execute_result"
    }
   ],
   "source": [
    "# Demonstrate calculating the z-scores using SciPy\n",
    "z_scipy = st.zscore(temperatures)\n",
    "\n",
    "z_scipy"
   ]
  },
  {
   "cell_type": "code",
   "execution_count": null,
   "metadata": {},
   "outputs": [],
   "source": []
  }
 ],
 "metadata": {
  "kernelspec": {
   "display_name": "Python 3",
   "language": "python",
   "name": "python3"
  },
  "language_info": {
   "codemirror_mode": {
    "name": "ipython",
    "version": 3
   },
   "file_extension": ".py",
   "mimetype": "text/x-python",
   "name": "python",
   "nbconvert_exporter": "python",
   "pygments_lexer": "ipython3",
   "version": "3.11.7"
  }
 },
 "nbformat": 4,
 "nbformat_minor": 4
}
