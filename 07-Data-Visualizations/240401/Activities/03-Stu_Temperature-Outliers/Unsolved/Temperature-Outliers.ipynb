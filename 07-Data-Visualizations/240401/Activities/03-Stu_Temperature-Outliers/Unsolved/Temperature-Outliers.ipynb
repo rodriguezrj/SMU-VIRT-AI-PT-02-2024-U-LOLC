{
 "cells": [
  {
   "cell_type": "markdown",
   "metadata": {},
   "source": [
    "# Temperature Outliers"
   ]
  },
  {
   "cell_type": "code",
   "execution_count": 2,
   "metadata": {},
   "outputs": [],
   "source": [
    "# Dependencies\n",
    "import pandas as pd\n",
    "import numpy as np\n",
    "import matplotlib.pyplot as plt"
   ]
  },
  {
   "cell_type": "code",
   "execution_count": 3,
   "metadata": {},
   "outputs": [],
   "source": [
    "# Read the LAX temperature dataset into a dataframe\n",
    "data = pd.read_csv(\"../Resources/lax_temperature.csv\")"
   ]
  },
  {
   "cell_type": "code",
   "execution_count": 9,
   "metadata": {},
   "outputs": [],
   "source": [
    "# Filter the dataset to only include the `HourlyDryBulbTemperature` column\n",
    "temps = data[['HourlyDryBulbTemperature']]"
   ]
  },
  {
   "cell_type": "code",
   "execution_count": 22,
   "metadata": {},
   "outputs": [],
   "source": [
    "# df = pd.DataFrame(np.random.rand(10, 5), columns=['A', 'B', 'C', 'D', 'E'])\n",
    "# ax = df.plot(kind='box',\n",
    "#              color=dict(boxes='r', whiskers='r', medians='r', caps='r'),\n",
    "#              boxprops=dict(linestyle='-', linewidth=1.5),\n",
    "#              flierprops=dict(linestyle='-', linewidth=1.5),\n",
    "#              medianprops=dict(linestyle='-', linewidth=1.5),\n",
    "#              whiskerprops=dict(linestyle='-', linewidth=1.5),\n",
    "#              capprops=dict(linestyle='-', linewidth=1.5),\n",
    "#              showfliers=False, grid=True, rot=0)\n",
    "# ax.set_xlabel('Foo')\n",
    "# ax.set_ylabel('Bar in X')\n",
    "# plt.show()"
   ]
  },
  {
   "cell_type": "code",
   "execution_count": 28,
   "metadata": {},
   "outputs": [
    {
     "data": {
      "image/png": "[encoded data removed]",
      "text/plain": [
       "<Figure size 640x480 with 1 Axes>"
      ]
     },
     "metadata": {},
     "output_type": "display_data"
    }
   ],
   "source": [
    "# Create a boxplot to visualize the filtered dataset\n",
    "temps.plot(kind='box', \n",
    "           title=\"Temperatures at LAX\", \n",
    "           color=dict(boxes='r', whiskers='r', medians='r', caps='r'),\n",
    "           boxprops=dict(linestyle='-', linewidth=1.5),\n",
    "           flierprops=dict(linestyle='-', linewidth=1.5),\n",
    "           medianprops=dict(linestyle='-', linewidth=1.5),\n",
    "           whiskerprops=dict(linestyle='-', linewidth=1.5),\n",
    "           capprops=dict(linestyle='-', linewidth=1.5),\n",
    "           ylabel='Temperature (F)')\n",
    "plt.show()"
   ]
  },
  {
   "cell_type": "code",
   "execution_count": 17,
   "metadata": {},
   "outputs": [],
   "source": [
    "def find_outliers_IQR(data, column):\n",
    "    Q1 = data[column].quantile(0.25)\n",
    "    Q2 = data[column].quantile(0.50)\n",
    "    Q3 = data[column].quantile(0.75)\n",
    "\n",
    "    IQR = Q3 - Q1\n",
    "    lb = Q1 - (1.5 * IQR)\n",
    "    ub = Q3 + (1.5 * IQR)\n",
    "\n",
    "#     outliers = data[column][(data[column] < lower_bound) | (data[column] > upper_bound)]\n",
    "\n",
    "    return Q1, Q2, Q3, IQR, lb, ub"
   ]
  },
  {
   "cell_type": "code",
   "execution_count": 31,
   "metadata": {},
   "outputs": [],
   "source": [
    "# quartiles = temps['HourlyDryBulbTemperature'].quantile([0.25, 0.5, .75])\n",
    "# quartiles[0.25]\n",
    "# quartiles[0.5]\n",
    "# quartiles[0.75]"
   ]
  },
  {
   "cell_type": "code",
   "execution_count": 18,
   "metadata": {},
   "outputs": [],
   "source": [
    "Q1, Q2, Q3, IQR, lb, ub = find_outliers_IQR(temps, 'HourlyDryBulbTemperature')"
   ]
  },
  {
   "cell_type": "code",
   "execution_count": 19,
   "metadata": {},
   "outputs": [
    {
     "name": "stdout",
     "output_type": "stream",
     "text": [
      "The lower quartile of temperatures is: 54.0\n",
      "The upper quartile of temperatures is: 60.0\n",
      "The interquartile range of temperatures is: 6.0\n",
      "The the median of temperatures is: 57.0\n"
     ]
    }
   ],
   "source": [
    "# Use Pandas to calculate the quartiles, IQR, and median, and print the results\n",
    "print(f\"The lower quartile of temperatures is: {Q1}\")\n",
    "print(f\"The upper quartile of temperatures is: {Q3}\")\n",
    "print(f\"The interquartile range of temperatures is: {IQR}\")\n",
    "print(f\"The the median of temperatures is: {Q2}\")"
   ]
  },
  {
   "cell_type": "code",
   "execution_count": 20,
   "metadata": {},
   "outputs": [
    {
     "name": "stdout",
     "output_type": "stream",
     "text": [
      "Values below 45.0 could be outliers.\n",
      "Values above 69.0 could be outliers.\n"
     ]
    }
   ],
   "source": [
    "# Use the IQR to determine an upper and lower bound for outliers, then print the results\n",
    "print(f\"Values below {lb} could be outliers.\")\n",
    "print(f\"Values above {ub} could be outliers.\")"
   ]
  }
 ],
 "metadata": {
  "kernelspec": {
   "display_name": "Python 3",
   "language": "python",
   "name": "python3"
  },
  "language_info": {
   "codemirror_mode": {
    "name": "ipython",
    "version": 3
   },
   "file_extension": ".py",
   "mimetype": "text/x-python",
   "name": "python",
   "nbconvert_exporter": "python",
   "pygments_lexer": "ipython3",
   "version": "3.11.7"
  }
 },
 "nbformat": 4,
 "nbformat_minor": 4
}
