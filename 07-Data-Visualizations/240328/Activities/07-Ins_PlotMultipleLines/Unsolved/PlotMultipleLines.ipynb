{
 "cells": [
  {
   "cell_type": "code",
   "execution_count": 1,
   "metadata": {},
   "outputs": [],
   "source": [
    "# Dependencies\n",
    "import matplotlib.pyplot as plt\n",
    "import numpy as np\n",
    "import pandas as pd"
   ]
  },
  {
   "cell_type": "code",
   "execution_count": 2,
   "metadata": {},
   "outputs": [],
   "source": [
    "# Read CSV\n",
    "unemployed_data_one = pd.read_csv(\"../Resources/unemployment_2010-2015.csv\")\n",
    "unemployed_data_two = pd.read_csv(\"../Resources/unemployment_2016-2020.csv\")"
   ]
  },
  {
   "cell_type": "code",
   "execution_count": 3,
   "metadata": {},
   "outputs": [
    {
     "name": "stdout",
     "output_type": "stream",
     "text": [
      "Index(['Country Name', 'Country Code', '2010', '2011', '2012', '2013', '2014',\n",
      "       '2015'],\n",
      "      dtype='object')\n",
      "Index(['Country Name', 'Country Code', '2016', '2017', '2018', '2019', '2020'], dtype='object')\n"
     ]
    }
   ],
   "source": [
    "print(unemployed_data_one.columns)\n",
    "\n",
    "print(unemployed_data_two.columns)"
   ]
  },
  {
   "cell_type": "code",
   "execution_count": 4,
   "metadata": {},
   "outputs": [
    {
     "data": {
      "text/plain": [
       "Country Name     object\n",
       "Country Code     object\n",
       "2010            float64\n",
       "2011            float64\n",
       "2012            float64\n",
       "2013            float64\n",
       "2014            float64\n",
       "2015            float64\n",
       "dtype: object"
      ]
     },
     "execution_count": 4,
     "metadata": {},
     "output_type": "execute_result"
    }
   ],
   "source": [
    "unemployed_data_one.dtypes"
   ]
  },
  {
   "cell_type": "code",
   "execution_count": 5,
   "metadata": {},
   "outputs": [
    {
     "data": {
      "text/plain": [
       "(235, 8)"
      ]
     },
     "execution_count": 5,
     "metadata": {},
     "output_type": "execute_result"
    }
   ],
   "source": [
    "unemployed_data_one.shape"
   ]
  },
  {
   "cell_type": "code",
   "execution_count": 6,
   "metadata": {},
   "outputs": [
    {
     "data": {
      "text/plain": [
       "Country Name     object\n",
       "Country Code     object\n",
       "2016            float64\n",
       "2017            float64\n",
       "2018            float64\n",
       "2019            float64\n",
       "2020            float64\n",
       "dtype: object"
      ]
     },
     "execution_count": 6,
     "metadata": {},
     "output_type": "execute_result"
    }
   ],
   "source": [
    "unemployed_data_two.dtypes"
   ]
  },
  {
   "cell_type": "code",
   "execution_count": 7,
   "metadata": {},
   "outputs": [
    {
     "data": {
      "text/plain": [
       "(235, 7)"
      ]
     },
     "execution_count": 7,
     "metadata": {},
     "output_type": "execute_result"
    }
   ],
   "source": [
    "unemployed_data_two.shape"
   ]
  },
  {
   "cell_type": "code",
   "execution_count": 8,
   "metadata": {},
   "outputs": [
    {
     "data": {
      "text/plain": [
       "True"
      ]
     },
     "execution_count": 8,
     "metadata": {},
     "output_type": "execute_result"
    }
   ],
   "source": [
    "list(unemployed_data_one['Country Name'])==list(unemployed_data_two['Country Name'])"
   ]
  },
  {
   "cell_type": "code",
   "execution_count": 9,
   "metadata": {},
   "outputs": [
    {
     "data": {
      "text/html": [
       "<div>\n",
       "<style scoped>\n",
       "    .dataframe tbody tr th:only-of-type {\n",
       "        vertical-align: middle;\n",
       "    }\n",
       "\n",
       "    .dataframe tbody tr th {\n",
       "        vertical-align: top;\n",
       "    }\n",
       "\n",
       "    .dataframe thead th {\n",
       "        text-align: right;\n",
       "    }\n",
       "</style>\n",
       "<table border=\"1\" class=\"dataframe\">\n",
       "  <thead>\n",
       "    <tr style=\"text-align: right;\">\n",
       "      <th></th>\n",
       "      <th>Country Name</th>\n",
       "      <th>Country Code_x</th>\n",
       "      <th>2010</th>\n",
       "      <th>2011</th>\n",
       "      <th>2012</th>\n",
       "      <th>2013</th>\n",
       "      <th>2014</th>\n",
       "      <th>2015</th>\n",
       "      <th>Country Code_y</th>\n",
       "      <th>2016</th>\n",
       "      <th>2017</th>\n",
       "      <th>2018</th>\n",
       "      <th>2019</th>\n",
       "      <th>2020</th>\n",
       "    </tr>\n",
       "  </thead>\n",
       "  <tbody>\n",
       "    <tr>\n",
       "      <th>0</th>\n",
       "      <td>Africa Eastern and Southern</td>\n",
       "      <td>AFE</td>\n",
       "      <td>6.879694</td>\n",
       "      <td>6.730720</td>\n",
       "      <td>6.578243</td>\n",
       "      <td>6.480673</td>\n",
       "      <td>6.414462</td>\n",
       "      <td>6.468598</td>\n",
       "      <td>AFE</td>\n",
       "      <td>6.546351</td>\n",
       "      <td>6.523061</td>\n",
       "      <td>6.414392</td>\n",
       "      <td>6.472269</td>\n",
       "      <td>6.814177</td>\n",
       "    </tr>\n",
       "    <tr>\n",
       "      <th>1</th>\n",
       "      <td>Afghanistan</td>\n",
       "      <td>AFG</td>\n",
       "      <td>11.520000</td>\n",
       "      <td>11.510000</td>\n",
       "      <td>11.520000</td>\n",
       "      <td>11.540000</td>\n",
       "      <td>11.450000</td>\n",
       "      <td>11.390000</td>\n",
       "      <td>AFG</td>\n",
       "      <td>11.310000</td>\n",
       "      <td>11.180000</td>\n",
       "      <td>11.060000</td>\n",
       "      <td>10.980000</td>\n",
       "      <td>11.730000</td>\n",
       "    </tr>\n",
       "    <tr>\n",
       "      <th>2</th>\n",
       "      <td>Africa Western and Central</td>\n",
       "      <td>AFW</td>\n",
       "      <td>4.471161</td>\n",
       "      <td>4.466731</td>\n",
       "      <td>4.560139</td>\n",
       "      <td>4.356187</td>\n",
       "      <td>4.640632</td>\n",
       "      <td>4.547113</td>\n",
       "      <td>AFW</td>\n",
       "      <td>5.486480</td>\n",
       "      <td>5.927104</td>\n",
       "      <td>5.910615</td>\n",
       "      <td>5.928926</td>\n",
       "      <td>6.300105</td>\n",
       "    </tr>\n",
       "    <tr>\n",
       "      <th>3</th>\n",
       "      <td>Angola</td>\n",
       "      <td>AGO</td>\n",
       "      <td>9.430000</td>\n",
       "      <td>7.360000</td>\n",
       "      <td>7.370000</td>\n",
       "      <td>7.380000</td>\n",
       "      <td>7.310000</td>\n",
       "      <td>7.260000</td>\n",
       "      <td>AGO</td>\n",
       "      <td>7.200000</td>\n",
       "      <td>7.100000</td>\n",
       "      <td>7.000000</td>\n",
       "      <td>6.930000</td>\n",
       "      <td>7.700000</td>\n",
       "    </tr>\n",
       "    <tr>\n",
       "      <th>4</th>\n",
       "      <td>Albania</td>\n",
       "      <td>ALB</td>\n",
       "      <td>14.090000</td>\n",
       "      <td>13.480000</td>\n",
       "      <td>13.380000</td>\n",
       "      <td>15.870000</td>\n",
       "      <td>18.060000</td>\n",
       "      <td>17.190000</td>\n",
       "      <td>ALB</td>\n",
       "      <td>15.420000</td>\n",
       "      <td>13.620000</td>\n",
       "      <td>12.300000</td>\n",
       "      <td>11.470000</td>\n",
       "      <td>11.700000</td>\n",
       "    </tr>\n",
       "  </tbody>\n",
       "</table>\n",
       "</div>"
      ],
      "text/plain": [
       "                  Country Name Country Code_x       2010       2011  \\\n",
       "0  Africa Eastern and Southern            AFE   6.879694   6.730720   \n",
       "1                  Afghanistan            AFG  11.520000  11.510000   \n",
       "2   Africa Western and Central            AFW   4.471161   4.466731   \n",
       "3                       Angola            AGO   9.430000   7.360000   \n",
       "4                      Albania            ALB  14.090000  13.480000   \n",
       "\n",
       "        2012       2013       2014       2015 Country Code_y       2016  \\\n",
       "0   6.578243   6.480673   6.414462   6.468598            AFE   6.546351   \n",
       "1  11.520000  11.540000  11.450000  11.390000            AFG  11.310000   \n",
       "2   4.560139   4.356187   4.640632   4.547113            AFW   5.486480   \n",
       "3   7.370000   7.380000   7.310000   7.260000            AGO   7.200000   \n",
       "4  13.380000  15.870000  18.060000  17.190000            ALB  15.420000   \n",
       "\n",
       "        2017       2018       2019       2020  \n",
       "0   6.523061   6.414392   6.472269   6.814177  \n",
       "1  11.180000  11.060000  10.980000  11.730000  \n",
       "2   5.927104   5.910615   5.928926   6.300105  \n",
       "3   7.100000   7.000000   6.930000   7.700000  \n",
       "4  13.620000  12.300000  11.470000  11.700000  "
      ]
     },
     "execution_count": 9,
     "metadata": {},
     "output_type": "execute_result"
    }
   ],
   "source": [
    "# Merge our two data frames together\n",
    "merged_data = unemployed_data_one.merge(unemployed_data_two, on='Country Name')\n",
    "\n",
    "merged_data.head()"
   ]
  },
  {
   "cell_type": "code",
   "execution_count": 10,
   "metadata": {
    "scrolled": true
   },
   "outputs": [
    {
     "data": {
      "text/plain": [
       "(235, 14)"
      ]
     },
     "execution_count": 10,
     "metadata": {},
     "output_type": "execute_result"
    }
   ],
   "source": [
    "merged_data.shape"
   ]
  },
  {
   "cell_type": "code",
   "execution_count": 11,
   "metadata": {},
   "outputs": [
    {
     "data": {
      "text/plain": [
       "Index(['Country Name', 'Country Code_x', '2010', '2011', '2012', '2013',\n",
       "       '2014', '2015', 'Country Code_y', '2016', '2017', '2018', '2019',\n",
       "       '2020'],\n",
       "      dtype='object')"
      ]
     },
     "execution_count": 11,
     "metadata": {},
     "output_type": "execute_result"
    }
   ],
   "source": [
    "merged_data.columns"
   ]
  },
  {
   "cell_type": "code",
   "execution_count": 12,
   "metadata": {},
   "outputs": [],
   "source": [
    "# del merged_data['Country Code_y']"
   ]
  },
  {
   "cell_type": "code",
   "execution_count": 13,
   "metadata": {},
   "outputs": [],
   "source": [
    "# Delete the duplicate 'Country Code' column and rename the first one back to 'Country Code'\n",
    "merged_data = merged_data.drop('Country Code_y', axis=1)"
   ]
  },
  {
   "cell_type": "code",
   "execution_count": 14,
   "metadata": {},
   "outputs": [
    {
     "data": {
      "text/html": [
       "<div>\n",
       "<style scoped>\n",
       "    .dataframe tbody tr th:only-of-type {\n",
       "        vertical-align: middle;\n",
       "    }\n",
       "\n",
       "    .dataframe tbody tr th {\n",
       "        vertical-align: top;\n",
       "    }\n",
       "\n",
       "    .dataframe thead th {\n",
       "        text-align: right;\n",
       "    }\n",
       "</style>\n",
       "<table border=\"1\" class=\"dataframe\">\n",
       "  <thead>\n",
       "    <tr style=\"text-align: right;\">\n",
       "      <th></th>\n",
       "      <th>Country Name</th>\n",
       "      <th>Country Code</th>\n",
       "      <th>2010</th>\n",
       "      <th>2011</th>\n",
       "      <th>2012</th>\n",
       "      <th>2013</th>\n",
       "      <th>2014</th>\n",
       "      <th>2015</th>\n",
       "      <th>2016</th>\n",
       "      <th>2017</th>\n",
       "      <th>2018</th>\n",
       "      <th>2019</th>\n",
       "      <th>2020</th>\n",
       "    </tr>\n",
       "  </thead>\n",
       "  <tbody>\n",
       "    <tr>\n",
       "      <th>0</th>\n",
       "      <td>Africa Eastern and Southern</td>\n",
       "      <td>AFE</td>\n",
       "      <td>6.879694</td>\n",
       "      <td>6.730720</td>\n",
       "      <td>6.578243</td>\n",
       "      <td>6.480673</td>\n",
       "      <td>6.414462</td>\n",
       "      <td>6.468598</td>\n",
       "      <td>6.546351</td>\n",
       "      <td>6.523061</td>\n",
       "      <td>6.414392</td>\n",
       "      <td>6.472269</td>\n",
       "      <td>6.814177</td>\n",
       "    </tr>\n",
       "    <tr>\n",
       "      <th>1</th>\n",
       "      <td>Afghanistan</td>\n",
       "      <td>AFG</td>\n",
       "      <td>11.520000</td>\n",
       "      <td>11.510000</td>\n",
       "      <td>11.520000</td>\n",
       "      <td>11.540000</td>\n",
       "      <td>11.450000</td>\n",
       "      <td>11.390000</td>\n",
       "      <td>11.310000</td>\n",
       "      <td>11.180000</td>\n",
       "      <td>11.060000</td>\n",
       "      <td>10.980000</td>\n",
       "      <td>11.730000</td>\n",
       "    </tr>\n",
       "    <tr>\n",
       "      <th>2</th>\n",
       "      <td>Africa Western and Central</td>\n",
       "      <td>AFW</td>\n",
       "      <td>4.471161</td>\n",
       "      <td>4.466731</td>\n",
       "      <td>4.560139</td>\n",
       "      <td>4.356187</td>\n",
       "      <td>4.640632</td>\n",
       "      <td>4.547113</td>\n",
       "      <td>5.486480</td>\n",
       "      <td>5.927104</td>\n",
       "      <td>5.910615</td>\n",
       "      <td>5.928926</td>\n",
       "      <td>6.300105</td>\n",
       "    </tr>\n",
       "    <tr>\n",
       "      <th>3</th>\n",
       "      <td>Angola</td>\n",
       "      <td>AGO</td>\n",
       "      <td>9.430000</td>\n",
       "      <td>7.360000</td>\n",
       "      <td>7.370000</td>\n",
       "      <td>7.380000</td>\n",
       "      <td>7.310000</td>\n",
       "      <td>7.260000</td>\n",
       "      <td>7.200000</td>\n",
       "      <td>7.100000</td>\n",
       "      <td>7.000000</td>\n",
       "      <td>6.930000</td>\n",
       "      <td>7.700000</td>\n",
       "    </tr>\n",
       "    <tr>\n",
       "      <th>4</th>\n",
       "      <td>Albania</td>\n",
       "      <td>ALB</td>\n",
       "      <td>14.090000</td>\n",
       "      <td>13.480000</td>\n",
       "      <td>13.380000</td>\n",
       "      <td>15.870000</td>\n",
       "      <td>18.060000</td>\n",
       "      <td>17.190000</td>\n",
       "      <td>15.420000</td>\n",
       "      <td>13.620000</td>\n",
       "      <td>12.300000</td>\n",
       "      <td>11.470000</td>\n",
       "      <td>11.700000</td>\n",
       "    </tr>\n",
       "  </tbody>\n",
       "</table>\n",
       "</div>"
      ],
      "text/plain": [
       "                  Country Name Country Code       2010       2011       2012  \\\n",
       "0  Africa Eastern and Southern          AFE   6.879694   6.730720   6.578243   \n",
       "1                  Afghanistan          AFG  11.520000  11.510000  11.520000   \n",
       "2   Africa Western and Central          AFW   4.471161   4.466731   4.560139   \n",
       "3                       Angola          AGO   9.430000   7.360000   7.370000   \n",
       "4                      Albania          ALB  14.090000  13.480000  13.380000   \n",
       "\n",
       "        2013       2014       2015       2016       2017       2018  \\\n",
       "0   6.480673   6.414462   6.468598   6.546351   6.523061   6.414392   \n",
       "1  11.540000  11.450000  11.390000  11.310000  11.180000  11.060000   \n",
       "2   4.356187   4.640632   4.547113   5.486480   5.927104   5.910615   \n",
       "3   7.380000   7.310000   7.260000   7.200000   7.100000   7.000000   \n",
       "4  15.870000  18.060000  17.190000  15.420000  13.620000  12.300000   \n",
       "\n",
       "        2019       2020  \n",
       "0   6.472269   6.814177  \n",
       "1  10.980000  11.730000  \n",
       "2   5.928926   6.300105  \n",
       "3   6.930000   7.700000  \n",
       "4  11.470000  11.700000  "
      ]
     },
     "execution_count": 14,
     "metadata": {},
     "output_type": "execute_result"
    }
   ],
   "source": [
    "merged_data = merged_data.rename(columns={'Country Code_x' : 'Country Code'})\n",
    "merged_data.head()"
   ]
  },
  {
   "cell_type": "code",
   "execution_count": 15,
   "metadata": {},
   "outputs": [
    {
     "data": {
      "text/html": [
       "<div>\n",
       "<style scoped>\n",
       "    .dataframe tbody tr th:only-of-type {\n",
       "        vertical-align: middle;\n",
       "    }\n",
       "\n",
       "    .dataframe tbody tr th {\n",
       "        vertical-align: top;\n",
       "    }\n",
       "\n",
       "    .dataframe thead th {\n",
       "        text-align: right;\n",
       "    }\n",
       "</style>\n",
       "<table border=\"1\" class=\"dataframe\">\n",
       "  <thead>\n",
       "    <tr style=\"text-align: right;\">\n",
       "      <th></th>\n",
       "      <th>Country Name</th>\n",
       "      <th>2010</th>\n",
       "      <th>2011</th>\n",
       "      <th>2012</th>\n",
       "      <th>2013</th>\n",
       "      <th>2014</th>\n",
       "      <th>2015</th>\n",
       "      <th>2016</th>\n",
       "      <th>2017</th>\n",
       "      <th>2018</th>\n",
       "      <th>2019</th>\n",
       "      <th>2020</th>\n",
       "    </tr>\n",
       "    <tr>\n",
       "      <th>Country Code</th>\n",
       "      <th></th>\n",
       "      <th></th>\n",
       "      <th></th>\n",
       "      <th></th>\n",
       "      <th></th>\n",
       "      <th></th>\n",
       "      <th></th>\n",
       "      <th></th>\n",
       "      <th></th>\n",
       "      <th></th>\n",
       "      <th></th>\n",
       "      <th></th>\n",
       "    </tr>\n",
       "  </thead>\n",
       "  <tbody>\n",
       "    <tr>\n",
       "      <th>AFE</th>\n",
       "      <td>Africa Eastern and Southern</td>\n",
       "      <td>6.879694</td>\n",
       "      <td>6.730720</td>\n",
       "      <td>6.578243</td>\n",
       "      <td>6.480673</td>\n",
       "      <td>6.414462</td>\n",
       "      <td>6.468598</td>\n",
       "      <td>6.546351</td>\n",
       "      <td>6.523061</td>\n",
       "      <td>6.414392</td>\n",
       "      <td>6.472269</td>\n",
       "      <td>6.814177</td>\n",
       "    </tr>\n",
       "    <tr>\n",
       "      <th>AFG</th>\n",
       "      <td>Afghanistan</td>\n",
       "      <td>11.520000</td>\n",
       "      <td>11.510000</td>\n",
       "      <td>11.520000</td>\n",
       "      <td>11.540000</td>\n",
       "      <td>11.450000</td>\n",
       "      <td>11.390000</td>\n",
       "      <td>11.310000</td>\n",
       "      <td>11.180000</td>\n",
       "      <td>11.060000</td>\n",
       "      <td>10.980000</td>\n",
       "      <td>11.730000</td>\n",
       "    </tr>\n",
       "    <tr>\n",
       "      <th>AFW</th>\n",
       "      <td>Africa Western and Central</td>\n",
       "      <td>4.471161</td>\n",
       "      <td>4.466731</td>\n",
       "      <td>4.560139</td>\n",
       "      <td>4.356187</td>\n",
       "      <td>4.640632</td>\n",
       "      <td>4.547113</td>\n",
       "      <td>5.486480</td>\n",
       "      <td>5.927104</td>\n",
       "      <td>5.910615</td>\n",
       "      <td>5.928926</td>\n",
       "      <td>6.300105</td>\n",
       "    </tr>\n",
       "    <tr>\n",
       "      <th>AGO</th>\n",
       "      <td>Angola</td>\n",
       "      <td>9.430000</td>\n",
       "      <td>7.360000</td>\n",
       "      <td>7.370000</td>\n",
       "      <td>7.380000</td>\n",
       "      <td>7.310000</td>\n",
       "      <td>7.260000</td>\n",
       "      <td>7.200000</td>\n",
       "      <td>7.100000</td>\n",
       "      <td>7.000000</td>\n",
       "      <td>6.930000</td>\n",
       "      <td>7.700000</td>\n",
       "    </tr>\n",
       "    <tr>\n",
       "      <th>ALB</th>\n",
       "      <td>Albania</td>\n",
       "      <td>14.090000</td>\n",
       "      <td>13.480000</td>\n",
       "      <td>13.380000</td>\n",
       "      <td>15.870000</td>\n",
       "      <td>18.060000</td>\n",
       "      <td>17.190000</td>\n",
       "      <td>15.420000</td>\n",
       "      <td>13.620000</td>\n",
       "      <td>12.300000</td>\n",
       "      <td>11.470000</td>\n",
       "      <td>11.700000</td>\n",
       "    </tr>\n",
       "  </tbody>\n",
       "</table>\n",
       "</div>"
      ],
      "text/plain": [
       "                             Country Name       2010       2011       2012  \\\n",
       "Country Code                                                                 \n",
       "AFE           Africa Eastern and Southern   6.879694   6.730720   6.578243   \n",
       "AFG                           Afghanistan  11.520000  11.510000  11.520000   \n",
       "AFW            Africa Western and Central   4.471161   4.466731   4.560139   \n",
       "AGO                                Angola   9.430000   7.360000   7.370000   \n",
       "ALB                               Albania  14.090000  13.480000  13.380000   \n",
       "\n",
       "                   2013       2014       2015       2016       2017  \\\n",
       "Country Code                                                          \n",
       "AFE            6.480673   6.414462   6.468598   6.546351   6.523061   \n",
       "AFG           11.540000  11.450000  11.390000  11.310000  11.180000   \n",
       "AFW            4.356187   4.640632   4.547113   5.486480   5.927104   \n",
       "AGO            7.380000   7.310000   7.260000   7.200000   7.100000   \n",
       "ALB           15.870000  18.060000  17.190000  15.420000  13.620000   \n",
       "\n",
       "                   2018       2019       2020  \n",
       "Country Code                                   \n",
       "AFE            6.414392   6.472269   6.814177  \n",
       "AFG           11.060000  10.980000  11.730000  \n",
       "AFW            5.910615   5.928926   6.300105  \n",
       "AGO            7.000000   6.930000   7.700000  \n",
       "ALB           12.300000  11.470000  11.700000  "
      ]
     },
     "execution_count": 15,
     "metadata": {},
     "output_type": "execute_result"
    }
   ],
   "source": [
    "# Set the 'Country Code' to be our index for easy referencing of rows\n",
    "merged_data = merged_data.set_index('Country Code')\n",
    "\n",
    "merged_data.head(5)"
   ]
  },
  {
   "cell_type": "code",
   "execution_count": null,
   "metadata": {},
   "outputs": [],
   "source": []
  },
  {
   "cell_type": "code",
   "execution_count": 16,
   "metadata": {},
   "outputs": [],
   "source": [
    "# Collect the mean unemployment rates for the world\n",
    "mean_unemployment = merged_data[['2010', '2011', '2012', '2013', '2014', '2015', '2016',\n",
    "                                 '2017', '2018', '2019', '2020']].mean()\n",
    "\n",
    "# Collect the years where data was collected\n",
    "years = list(mean_unemployment.index)"
   ]
  },
  {
   "cell_type": "code",
   "execution_count": 17,
   "metadata": {},
   "outputs": [
    {
     "data": {
      "text/plain": [
       "2010    14.09\n",
       "2011    13.48\n",
       "2012    13.38\n",
       "2013    15.87\n",
       "2014    18.06\n",
       "2015    17.19\n",
       "2016    15.42\n",
       "2017    13.62\n",
       "2018     12.3\n",
       "2019    11.47\n",
       "2020     11.7\n",
       "Name: ALB, dtype: object"
      ]
     },
     "execution_count": 17,
     "metadata": {},
     "output_type": "execute_result"
    }
   ],
   "source": [
    "merged_data.loc['ALB', ['2010', '2011', '2012', '2013', '2014', '2015', '2016',\n",
    "                                 '2017', '2018', '2019', '2020']]"
   ]
  },
  {
   "cell_type": "code",
   "execution_count": 24,
   "metadata": {},
   "outputs": [
    {
     "data": {
      "image/png": "[encoded data removed]",
      "text/plain": [
       "<Figure size 640x480 with 1 Axes>"
      ]
     },
     "metadata": {},
     "output_type": "display_data"
    }
   ],
   "source": [
    "# Plot the world average as a line chart\n",
    "world_avg, = plt.plot(years, mean_unemployment, label='World Average')\n",
    "\n",
    "# Plot the unemployment values for a single country - ALB\n",
    "country, = plt.plot(years, merged_data.loc['ALB', ['2010', '2011', '2012', '2013', '2014', '2015', '2016',\n",
    "                                 '2017', '2018', '2019', '2020']], label='Albania Average')\n",
    "\n",
    "# Create a legend for our chart\n",
    "plt.legend(handles=[world_avg, country], loc='best')\n",
    "\n",
    "# Show the chart\n",
    "plt.show()"
   ]
  },
  {
   "cell_type": "code",
   "execution_count": 25,
   "metadata": {},
   "outputs": [
    {
     "data": {
      "text/plain": [
       "2010    7.949476\n",
       "2011    7.864397\n",
       "2012    7.883905\n",
       "2013    7.903511\n",
       "2014    7.730817\n",
       "2015    7.617846\n",
       "2016    7.527750\n",
       "2017    7.260905\n",
       "2018    6.988844\n",
       "2019    6.836369\n",
       "2020    7.981232\n",
       "dtype: float64"
      ]
     },
     "execution_count": 25,
     "metadata": {},
     "output_type": "execute_result"
    }
   ],
   "source": [
    "mean_unemployment"
   ]
  },
  {
   "cell_type": "code",
   "execution_count": 21,
   "metadata": {},
   "outputs": [
    {
     "data": {
      "image/png": "[encoded data removed]",
      "text/plain": [
       "<Figure size 640x480 with 1 Axes>"
      ]
     },
     "metadata": {},
     "output_type": "display_data"
    }
   ],
   "source": [
    "# Plot the same data using the Pandas plot function\n",
    "mean_unemployment.plot(kind='line', label=\"World Average\")\n",
    "merged_data.loc['ALB', ['2010', '2011', '2012', '2013', '2014', '2015', '2016',\n",
    "                                 '2017', '2018', '2019', '2020']].plot(kind='line', label=\"Albania Avg\")\n",
    "plt.legend()\n",
    "plt.show()"
   ]
  },
  {
   "cell_type": "code",
   "execution_count": null,
   "metadata": {},
   "outputs": [],
   "source": []
  }
 ],
 "metadata": {
  "kernelspec": {
   "display_name": "Python 3",
   "language": "python",
   "name": "python3"
  },
  "language_info": {
   "codemirror_mode": {
    "name": "ipython",
    "version": 3
   },
   "file_extension": ".py",
   "mimetype": "text/x-python",
   "name": "python",
   "nbconvert_exporter": "python",
   "pygments_lexer": "ipython3",
   "version": "3.11.7"
  }
 },
 "nbformat": 4,
 "nbformat_minor": 2
}
