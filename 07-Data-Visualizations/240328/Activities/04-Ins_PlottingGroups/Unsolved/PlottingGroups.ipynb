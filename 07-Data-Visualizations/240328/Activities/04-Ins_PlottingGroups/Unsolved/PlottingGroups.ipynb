{
 "cells": [
  {
   "cell_type": "code",
   "execution_count": 2,
   "metadata": {},
   "outputs": [],
   "source": [
    "# Import Dependencies\n",
    "import matplotlib.pyplot as plt\n",
    "import pandas as pd"
   ]
  },
  {
   "cell_type": "code",
   "execution_count": 4,
   "metadata": {},
   "outputs": [
    {
     "data": {
      "text/html": [
       "<div>\n",
       "<style scoped>\n",
       "    .dataframe tbody tr th:only-of-type {\n",
       "        vertical-align: middle;\n",
       "    }\n",
       "\n",
       "    .dataframe tbody tr th {\n",
       "        vertical-align: top;\n",
       "    }\n",
       "\n",
       "    .dataframe thead th {\n",
       "        text-align: right;\n",
       "    }\n",
       "</style>\n",
       "<table border=\"1\" class=\"dataframe\">\n",
       "  <thead>\n",
       "    <tr style=\"text-align: right;\">\n",
       "      <th></th>\n",
       "      <th>STATE</th>\n",
       "      <th>STATENAME</th>\n",
       "      <th>ST_CASE</th>\n",
       "      <th>VE_TOTAL</th>\n",
       "      <th>VE_FORMS</th>\n",
       "      <th>PVH_INVL</th>\n",
       "      <th>PEDS</th>\n",
       "      <th>PERSONS</th>\n",
       "      <th>PERMVIT</th>\n",
       "      <th>PERNOTMVIT</th>\n",
       "      <th>...</th>\n",
       "      <th>HOSP_MN</th>\n",
       "      <th>HOSP_MNNAME</th>\n",
       "      <th>CF1</th>\n",
       "      <th>CF1NAME</th>\n",
       "      <th>CF2</th>\n",
       "      <th>CF2NAME</th>\n",
       "      <th>CF3</th>\n",
       "      <th>CF3NAME</th>\n",
       "      <th>FATALS</th>\n",
       "      <th>DRUNK_DR</th>\n",
       "    </tr>\n",
       "  </thead>\n",
       "  <tbody>\n",
       "    <tr>\n",
       "      <th>0</th>\n",
       "      <td>1</td>\n",
       "      <td>Alabama</td>\n",
       "      <td>10001</td>\n",
       "      <td>2</td>\n",
       "      <td>2</td>\n",
       "      <td>0</td>\n",
       "      <td>0</td>\n",
       "      <td>3</td>\n",
       "      <td>3</td>\n",
       "      <td>0</td>\n",
       "      <td>...</td>\n",
       "      <td>27</td>\n",
       "      <td>27</td>\n",
       "      <td>0</td>\n",
       "      <td>NaN</td>\n",
       "      <td>0</td>\n",
       "      <td>NaN</td>\n",
       "      <td>0</td>\n",
       "      <td>NaN</td>\n",
       "      <td>1</td>\n",
       "      <td>1</td>\n",
       "    </tr>\n",
       "    <tr>\n",
       "      <th>1</th>\n",
       "      <td>1</td>\n",
       "      <td>Alabama</td>\n",
       "      <td>10002</td>\n",
       "      <td>2</td>\n",
       "      <td>2</td>\n",
       "      <td>0</td>\n",
       "      <td>0</td>\n",
       "      <td>2</td>\n",
       "      <td>2</td>\n",
       "      <td>0</td>\n",
       "      <td>...</td>\n",
       "      <td>99</td>\n",
       "      <td>Unknown EMS Hospital Arrival Time</td>\n",
       "      <td>0</td>\n",
       "      <td>NaN</td>\n",
       "      <td>0</td>\n",
       "      <td>NaN</td>\n",
       "      <td>0</td>\n",
       "      <td>NaN</td>\n",
       "      <td>1</td>\n",
       "      <td>0</td>\n",
       "    </tr>\n",
       "    <tr>\n",
       "      <th>2</th>\n",
       "      <td>1</td>\n",
       "      <td>Alabama</td>\n",
       "      <td>10003</td>\n",
       "      <td>3</td>\n",
       "      <td>3</td>\n",
       "      <td>0</td>\n",
       "      <td>0</td>\n",
       "      <td>4</td>\n",
       "      <td>4</td>\n",
       "      <td>0</td>\n",
       "      <td>...</td>\n",
       "      <td>5</td>\n",
       "      <td>5</td>\n",
       "      <td>14</td>\n",
       "      <td>Motor Vehicle struck by falling cargo,or somet...</td>\n",
       "      <td>0</td>\n",
       "      <td>NaN</td>\n",
       "      <td>0</td>\n",
       "      <td>NaN</td>\n",
       "      <td>1</td>\n",
       "      <td>0</td>\n",
       "    </tr>\n",
       "    <tr>\n",
       "      <th>3</th>\n",
       "      <td>1</td>\n",
       "      <td>Alabama</td>\n",
       "      <td>10004</td>\n",
       "      <td>1</td>\n",
       "      <td>1</td>\n",
       "      <td>0</td>\n",
       "      <td>1</td>\n",
       "      <td>1</td>\n",
       "      <td>1</td>\n",
       "      <td>1</td>\n",
       "      <td>...</td>\n",
       "      <td>88</td>\n",
       "      <td>Not Applicable (Not Transported)</td>\n",
       "      <td>0</td>\n",
       "      <td>NaN</td>\n",
       "      <td>0</td>\n",
       "      <td>NaN</td>\n",
       "      <td>0</td>\n",
       "      <td>NaN</td>\n",
       "      <td>1</td>\n",
       "      <td>0</td>\n",
       "    </tr>\n",
       "    <tr>\n",
       "      <th>4</th>\n",
       "      <td>1</td>\n",
       "      <td>Alabama</td>\n",
       "      <td>10005</td>\n",
       "      <td>1</td>\n",
       "      <td>1</td>\n",
       "      <td>0</td>\n",
       "      <td>0</td>\n",
       "      <td>1</td>\n",
       "      <td>1</td>\n",
       "      <td>0</td>\n",
       "      <td>...</td>\n",
       "      <td>88</td>\n",
       "      <td>Not Applicable (Not Transported)</td>\n",
       "      <td>0</td>\n",
       "      <td>NaN</td>\n",
       "      <td>0</td>\n",
       "      <td>NaN</td>\n",
       "      <td>0</td>\n",
       "      <td>NaN</td>\n",
       "      <td>1</td>\n",
       "      <td>1</td>\n",
       "    </tr>\n",
       "  </tbody>\n",
       "</table>\n",
       "<p>5 rows × 91 columns</p>\n",
       "</div>"
      ],
      "text/plain": [
       "   STATE STATENAME  ST_CASE  VE_TOTAL  VE_FORMS  PVH_INVL  PEDS  PERSONS  \\\n",
       "0      1   Alabama    10001         2         2         0     0        3   \n",
       "1      1   Alabama    10002         2         2         0     0        2   \n",
       "2      1   Alabama    10003         3         3         0     0        4   \n",
       "3      1   Alabama    10004         1         1         0     1        1   \n",
       "4      1   Alabama    10005         1         1         0     0        1   \n",
       "\n",
       "   PERMVIT  PERNOTMVIT  ...  HOSP_MN                        HOSP_MNNAME  CF1  \\\n",
       "0        3           0  ...       27                                 27    0   \n",
       "1        2           0  ...       99  Unknown EMS Hospital Arrival Time    0   \n",
       "2        4           0  ...        5                                  5   14   \n",
       "3        1           1  ...       88   Not Applicable (Not Transported)    0   \n",
       "4        1           0  ...       88   Not Applicable (Not Transported)    0   \n",
       "\n",
       "                                             CF1NAME  CF2  CF2NAME  CF3  \\\n",
       "0                                                NaN    0      NaN    0   \n",
       "1                                                NaN    0      NaN    0   \n",
       "2  Motor Vehicle struck by falling cargo,or somet...    0      NaN    0   \n",
       "3                                                NaN    0      NaN    0   \n",
       "4                                                NaN    0      NaN    0   \n",
       "\n",
       "  CF3NAME  FATALS  DRUNK_DR  \n",
       "0     NaN       1         1  \n",
       "1     NaN       1         0  \n",
       "2     NaN       1         0  \n",
       "3     NaN       1         0  \n",
       "4     NaN       1         1  \n",
       "\n",
       "[5 rows x 91 columns]"
      ]
     },
     "execution_count": 4,
     "metadata": {},
     "output_type": "execute_result"
    }
   ],
   "source": [
    "# Import our data into pandas from CSV\n",
    "df = pd.read_csv('../Resources/accidents.csv', low_memory=False)\n",
    "\n",
    "df.head()"
   ]
  },
  {
   "cell_type": "code",
   "execution_count": 6,
   "metadata": {},
   "outputs": [
    {
     "data": {
      "text/plain": [
       "Index(['STATE', 'STATENAME', 'ST_CASE', 'VE_TOTAL', 'VE_FORMS', 'PVH_INVL',\n",
       "       'PEDS', 'PERSONS', 'PERMVIT', 'PERNOTMVIT', 'COUNTY', 'COUNTYNAME',\n",
       "       'CITY', 'CITYNAME', 'DAY', 'DAYNAME', 'MONTH', 'MONTHNAME', 'YEAR',\n",
       "       'DAY_WEEK', 'DAY_WEEKNAME', 'HOUR', 'HOURNAME', 'MINUTE', 'MINUTENAME',\n",
       "       'NHS', 'NHSNAME', 'ROUTE', 'ROUTENAME', 'TWAY_ID', 'TWAY_ID2',\n",
       "       'RUR_URB', 'RUR_URBNAME', 'FUNC_SYS', 'FUNC_SYSNAME', 'RD_OWNER',\n",
       "       'RD_OWNERNAME', 'MILEPT', 'MILEPTNAME', 'LATITUDE', 'LATITUDENAME',\n",
       "       'LONGITUD', 'LONGITUDNAME', 'SP_JUR', 'SP_JURNAME', 'HARM_EV',\n",
       "       'HARM_EVNAME', 'MAN_COLL', 'MAN_COLLNAME', 'RELJCT1', 'RELJCT1NAME',\n",
       "       'RELJCT2', 'RELJCT2NAME', 'TYP_INT', 'TYP_INTNAME', 'WRK_ZONE',\n",
       "       'WRK_ZONENAME', 'REL_ROAD', 'REL_ROADNAME', 'LGT_COND', 'LGT_CONDNAME',\n",
       "       'WEATHER1', 'WEATHER1NAME', 'WEATHER2', 'WEATHER2NAME', 'WEATHER',\n",
       "       'WEATHERNAME', 'SCH_BUS', 'SCH_BUSNAME', 'RAIL', 'RAILNAME', 'NOT_HOUR',\n",
       "       'NOT_HOURNAME', 'NOT_MIN', 'NOT_MINNAME', 'ARR_HOUR', 'ARR_HOURNAME',\n",
       "       'ARR_MIN', 'ARR_MINNAME', 'HOSP_HR', 'HOSP_HRNAME', 'HOSP_MN',\n",
       "       'HOSP_MNNAME', 'CF1', 'CF1NAME', 'CF2', 'CF2NAME', 'CF3', 'CF3NAME',\n",
       "       'FATALS', 'DRUNK_DR'],\n",
       "      dtype='object')"
      ]
     },
     "execution_count": 6,
     "metadata": {},
     "output_type": "execute_result"
    }
   ],
   "source": [
    "df.columns"
   ]
  },
  {
   "cell_type": "code",
   "execution_count": 10,
   "metadata": {
    "scrolled": true
   },
   "outputs": [
    {
     "data": {
      "text/plain": [
       "FUNC_SYSNAME\n",
       "Interstate                                             4168\n",
       "Local                                                  4151\n",
       "Major Collector                                        4860\n",
       "Minor Arterial                                         7284\n",
       "Minor Collector                                        1236\n",
       "Not Reported                                             36\n",
       "Principal Arterial - Other                             9987\n",
       "Principal Arterial - Other Freeways and Expressways    1358\n",
       "Trafficway Not in State Inventory                        85\n",
       "Unknown                                                  79\n",
       "Name: FUNC_SYSNAME, dtype: int64"
      ]
     },
     "execution_count": 10,
     "metadata": {},
     "output_type": "execute_result"
    }
   ],
   "source": [
    "# Create a group based on the values in the 'FUNC_SYSNAME' column\n",
    "# 'FUNC_SYSNAME' stores the type of road the accident occurred\n",
    "road_type = df.groupby(['FUNC_SYSNAME'])['FUNC_SYSNAME'].count()\n",
    "\n",
    "# Count how many times each road type appears in our group\n",
    "# data = df.groupby(['FUNC_SYSNAME']).agg({'FUNC_SYSNAME' : 'count'})\n",
    "road_type"
   ]
  },
  {
   "cell_type": "code",
   "execution_count": 19,
   "metadata": {},
   "outputs": [
    {
     "data": {
      "image/png": "[encoded data removed]",
      "text/plain": [
       "<Figure size 1000x600 with 1 Axes>"
      ]
     },
     "metadata": {},
     "output_type": "display_data"
    }
   ],
   "source": [
    "# Create a bar chart based off of the group series from before\n",
    "data = road_type.plot(kind='bar', figsize=(10, 6), x='Road Type', y=\"Num Accidents\")\n",
    "\n",
    "# Set the xlabel and ylabel using class methods\n",
    "data.set_xticklabels(road_type.index, ha='right', rotation_mode='anchor',rotation=45, wrap=True)\n",
    "\n",
    "plt.show()"
   ]
  },
  {
   "cell_type": "code",
   "execution_count": null,
   "metadata": {},
   "outputs": [],
   "source": []
  }
 ],
 "metadata": {
  "kernelspec": {
   "display_name": "Python 3",
   "language": "python",
   "name": "python3"
  },
  "language_info": {
   "codemirror_mode": {
    "name": "ipython",
    "version": 3
   },
   "file_extension": ".py",
   "mimetype": "text/x-python",
   "name": "python",
   "nbconvert_exporter": "python",
   "pygments_lexer": "ipython3",
   "version": "3.11.7"
  },
  "nteract": {
   "version": "0.8.4"
  }
 },
 "nbformat": 4,
 "nbformat_minor": 2
}
