{
 "cells": [
  {
   "cell_type": "markdown",
   "metadata": {},
   "source": [
    "# Library Usage\n",
    "\n",
    "For this assignment, you will be taking Library Usage data from San Francisco and creating charts to determine which patron type checks out items from the library the most.\n",
    "\n",
    "* Import your dependencies and then import your data into a pandas data frame from the CSV within the 'Data' folder\n",
    "* Reduce the data to include only patrons who have checked out at least one item\n",
    "* Split up your data into groups based upon the 'Patron Type Definition' column\n",
    "* Chart your data using a bar graph, giving it both a title and labels for the axes"
   ]
  },
  {
   "cell_type": "code",
   "execution_count": 1,
   "metadata": {},
   "outputs": [],
   "source": [
    "# Import Dependencies\n",
    "import matplotlib.pyplot as plt\n",
    "import pandas as pd\n",
    "import numpy as np"
   ]
  },
  {
   "cell_type": "code",
   "execution_count": 2,
   "metadata": {},
   "outputs": [
    {
     "data": {
      "text/html": [
       "<div>\n",
       "<style scoped>\n",
       "    .dataframe tbody tr th:only-of-type {\n",
       "        vertical-align: middle;\n",
       "    }\n",
       "\n",
       "    .dataframe tbody tr th {\n",
       "        vertical-align: top;\n",
       "    }\n",
       "\n",
       "    .dataframe thead th {\n",
       "        text-align: right;\n",
       "    }\n",
       "</style>\n",
       "<table border=\"1\" class=\"dataframe\">\n",
       "  <thead>\n",
       "    <tr style=\"text-align: right;\">\n",
       "      <th></th>\n",
       "      <th>Patron Type Code</th>\n",
       "      <th>Patron Type Definition</th>\n",
       "      <th>Total Checkouts</th>\n",
       "      <th>Total Renewals</th>\n",
       "      <th>Age Range</th>\n",
       "      <th>Home Library Code</th>\n",
       "      <th>Home Library Definition</th>\n",
       "      <th>Circulation Active Month</th>\n",
       "      <th>Circulation Active Year</th>\n",
       "      <th>Notice Preference Code</th>\n",
       "      <th>Notice Preference Definition</th>\n",
       "      <th>Provided Email Address</th>\n",
       "      <th>Year Patron Registered</th>\n",
       "      <th>Outside of County</th>\n",
       "      <th>Supervisor District</th>\n",
       "    </tr>\n",
       "  </thead>\n",
       "  <tbody>\n",
       "    <tr>\n",
       "      <th>0</th>\n",
       "      <td>0</td>\n",
       "      <td>ADULT</td>\n",
       "      <td>0</td>\n",
       "      <td>0</td>\n",
       "      <td>20 to 24 years</td>\n",
       "      <td>P1</td>\n",
       "      <td>Park</td>\n",
       "      <td>NaN</td>\n",
       "      <td>NaN</td>\n",
       "      <td>z</td>\n",
       "      <td>email</td>\n",
       "      <td>True</td>\n",
       "      <td>2014</td>\n",
       "      <td>False</td>\n",
       "      <td>5.0</td>\n",
       "    </tr>\n",
       "    <tr>\n",
       "      <th>1</th>\n",
       "      <td>0</td>\n",
       "      <td>ADULT</td>\n",
       "      <td>31</td>\n",
       "      <td>22</td>\n",
       "      <td>25 to 34 years</td>\n",
       "      <td>S7</td>\n",
       "      <td>Sunset</td>\n",
       "      <td>April</td>\n",
       "      <td>2016.0</td>\n",
       "      <td>z</td>\n",
       "      <td>email</td>\n",
       "      <td>True</td>\n",
       "      <td>2010</td>\n",
       "      <td>False</td>\n",
       "      <td>4.0</td>\n",
       "    </tr>\n",
       "    <tr>\n",
       "      <th>2</th>\n",
       "      <td>0</td>\n",
       "      <td>ADULT</td>\n",
       "      <td>0</td>\n",
       "      <td>0</td>\n",
       "      <td>45 to 54 years</td>\n",
       "      <td>P1</td>\n",
       "      <td>Park</td>\n",
       "      <td>NaN</td>\n",
       "      <td>NaN</td>\n",
       "      <td>a</td>\n",
       "      <td>print</td>\n",
       "      <td>False</td>\n",
       "      <td>2016</td>\n",
       "      <td>True</td>\n",
       "      <td>NaN</td>\n",
       "    </tr>\n",
       "    <tr>\n",
       "      <th>3</th>\n",
       "      <td>0</td>\n",
       "      <td>ADULT</td>\n",
       "      <td>0</td>\n",
       "      <td>0</td>\n",
       "      <td>25 to 34 years</td>\n",
       "      <td>X</td>\n",
       "      <td>Main Library</td>\n",
       "      <td>NaN</td>\n",
       "      <td>NaN</td>\n",
       "      <td>z</td>\n",
       "      <td>email</td>\n",
       "      <td>True</td>\n",
       "      <td>2015</td>\n",
       "      <td>False</td>\n",
       "      <td>3.0</td>\n",
       "    </tr>\n",
       "    <tr>\n",
       "      <th>4</th>\n",
       "      <td>0</td>\n",
       "      <td>ADULT</td>\n",
       "      <td>126</td>\n",
       "      <td>11</td>\n",
       "      <td>45 to 54 years</td>\n",
       "      <td>M2</td>\n",
       "      <td>Marina</td>\n",
       "      <td>January</td>\n",
       "      <td>2016.0</td>\n",
       "      <td>z</td>\n",
       "      <td>email</td>\n",
       "      <td>True</td>\n",
       "      <td>2003</td>\n",
       "      <td>False</td>\n",
       "      <td>2.0</td>\n",
       "    </tr>\n",
       "  </tbody>\n",
       "</table>\n",
       "</div>"
      ],
      "text/plain": [
       "   Patron Type Code Patron Type Definition  Total Checkouts  Total Renewals  \\\n",
       "0                 0                  ADULT                0               0   \n",
       "1                 0                  ADULT               31              22   \n",
       "2                 0                  ADULT                0               0   \n",
       "3                 0                  ADULT                0               0   \n",
       "4                 0                  ADULT              126              11   \n",
       "\n",
       "        Age Range Home Library Code Home Library Definition  \\\n",
       "0  20 to 24 years                P1                    Park   \n",
       "1  25 to 34 years                S7                  Sunset   \n",
       "2  45 to 54 years                P1                    Park   \n",
       "3  25 to 34 years                 X            Main Library   \n",
       "4  45 to 54 years                M2                  Marina   \n",
       "\n",
       "  Circulation Active Month  Circulation Active Year Notice Preference Code  \\\n",
       "0                      NaN                      NaN                      z   \n",
       "1                    April                   2016.0                      z   \n",
       "2                      NaN                      NaN                      a   \n",
       "3                      NaN                      NaN                      z   \n",
       "4                  January                   2016.0                      z   \n",
       "\n",
       "  Notice Preference Definition  Provided Email Address  \\\n",
       "0                        email                    True   \n",
       "1                        email                    True   \n",
       "2                        print                   False   \n",
       "3                        email                    True   \n",
       "4                        email                    True   \n",
       "\n",
       "   Year Patron Registered  Outside of County  Supervisor District  \n",
       "0                    2014              False                  5.0  \n",
       "1                    2010              False                  4.0  \n",
       "2                    2016               True                  NaN  \n",
       "3                    2015              False                  3.0  \n",
       "4                    2003              False                  2.0  "
      ]
     },
     "execution_count": 2,
     "metadata": {},
     "output_type": "execute_result"
    }
   ],
   "source": [
    "# Import our data into pandas from CSV\n",
    "file_path = '../Resources/library_usage.csv'\n",
    "library_usage_df = pd.read_csv(file_path, low_memory=False)\n",
    "\n",
    "library_usage_df.head()"
   ]
  },
  {
   "cell_type": "code",
   "execution_count": 3,
   "metadata": {},
   "outputs": [
    {
     "data": {
      "text/plain": [
       "Index(['Patron Type Code', 'Patron Type Definition', 'Total Checkouts',\n",
       "       'Total Renewals', 'Age Range', 'Home Library Code',\n",
       "       'Home Library Definition', 'Circulation Active Month',\n",
       "       'Circulation Active Year', 'Notice Preference Code',\n",
       "       'Notice Preference Definition', 'Provided Email Address',\n",
       "       'Year Patron Registered', 'Outside of County', 'Supervisor District'],\n",
       "      dtype='object')"
      ]
     },
     "execution_count": 3,
     "metadata": {},
     "output_type": "execute_result"
    }
   ],
   "source": [
    "library_usage_df.columns"
   ]
  },
  {
   "cell_type": "code",
   "execution_count": 4,
   "metadata": {},
   "outputs": [
    {
     "data": {
      "text/plain": [
       "Patron Type Code                     0\n",
       "Patron Type Definition               0\n",
       "Total Checkouts                      0\n",
       "Total Renewals                       0\n",
       "Age Range                          215\n",
       "Home Library Code                   40\n",
       "Home Library Definition              0\n",
       "Circulation Active Month         67904\n",
       "Circulation Active Year          67904\n",
       "Notice Preference Code               0\n",
       "Notice Preference Definition         0\n",
       "Provided Email Address               0\n",
       "Year Patron Registered               0\n",
       "Outside of County                    0\n",
       "Supervisor District             110310\n",
       "dtype: int64"
      ]
     },
     "execution_count": 4,
     "metadata": {},
     "output_type": "execute_result"
    }
   ],
   "source": [
    "library_usage_df.isna().sum()"
   ]
  },
  {
   "cell_type": "code",
   "execution_count": 5,
   "metadata": {},
   "outputs": [
    {
     "data": {
      "text/plain": [
       "(423448, 15)"
      ]
     },
     "execution_count": 5,
     "metadata": {},
     "output_type": "execute_result"
    }
   ],
   "source": [
    "library_usage_df.shape"
   ]
  },
  {
   "cell_type": "code",
   "execution_count": 14,
   "metadata": {},
   "outputs": [
    {
     "data": {
      "text/plain": [
       "Patron Type Definition\n",
       "ADULT                  224828\n",
       "AT USER ADULT             299\n",
       "AT USER JUVENILE           42\n",
       "AT USER SENIOR             55\n",
       "AT USER TEEN               33\n",
       "AT USER WELCOME            23\n",
       "BOOKS BY MAIL              83\n",
       "DIGITAL ACCESS CARD       123\n",
       "FRIENDS FOR LIFE           30\n",
       "JUVENILE                53945\n",
       "RETIRED STAFF             156\n",
       "SENIOR                  34817\n",
       "SPECIAL                   928\n",
       "STAFF                     835\n",
       "TEACHER CARD             1555\n",
       "VISITOR                   369\n",
       "WELCOME                  7711\n",
       "YOUNG ADULT             24038\n",
       "Name: Total Checkouts, dtype: int64"
      ]
     },
     "execution_count": 14,
     "metadata": {},
     "output_type": "execute_result"
    }
   ],
   "source": [
    "patrons"
   ]
  },
  {
   "cell_type": "code",
   "execution_count": 13,
   "metadata": {},
   "outputs": [
    {
     "data": {
      "text/plain": [
       "<Axes: title={'center': 'Patrons Who Checkout'}, xlabel='Patron Type Definition'>"
      ]
     },
     "execution_count": 13,
     "metadata": {},
     "output_type": "execute_result"
    },
    {
     "data": {
      "image/png": "[encoded data removed]",
      "text/plain": [
       "<Figure size 800x500 with 1 Axes>"
      ]
     },
     "metadata": {},
     "output_type": "display_data"
    }
   ],
   "source": [
    "# Filter data so it only includes patrons who checked out at least one item\n",
    "checkouts_above_zero = library_usage_df[library_usage_df['Total Checkouts']>0]\n",
    "\n",
    "# Split up our data into groups based upon 'Patron Type Definition'\n",
    "# Find out how many of each patron type borrowed library items\n",
    "patrons = checkouts_above_zero.groupby('Patron Type Definition')['Total Checkouts'].count()\n",
    "\n",
    "# Chart our data, give it a title, and label the axes\n",
    "patrons.plot(kind='bar', figsize=(8, 5), title=\"Patrons Who Checkout\", \n",
    "             x=\"Pation Type\", y=\"Num Patrons Checking Out\")"
   ]
  },
  {
   "cell_type": "markdown",
   "metadata": {},
   "source": [
    "## Individual Branch Charts\n",
    "You will now take the same base data frame before and create some code that will allow you to create individual bar charts for each library branch. For this part of the activity, we want you to chart the total 'Total Checkouts' of each library, sorted by patron type. If you are able to, try and come up with a method to do this without using loc or iloc to filter the original data frame! You can use loc to filter group data though.\n",
    "\n",
    "Since there are quite a lot of patron types with minimal checkouts, the pie charts could look messy with overlapping text. You may also like to include a filter to limit the minimum number of total checkouts by patron group."
   ]
  },
  {
   "cell_type": "code",
   "execution_count": 20,
   "metadata": {
    "scrolled": true
   },
   "outputs": [
    {
     "data": {
      "text/html": [
       "<div>\n",
       "<style scoped>\n",
       "    .dataframe tbody tr th:only-of-type {\n",
       "        vertical-align: middle;\n",
       "    }\n",
       "\n",
       "    .dataframe tbody tr th {\n",
       "        vertical-align: top;\n",
       "    }\n",
       "\n",
       "    .dataframe thead th {\n",
       "        text-align: right;\n",
       "    }\n",
       "</style>\n",
       "<table border=\"1\" class=\"dataframe\">\n",
       "  <thead>\n",
       "    <tr style=\"text-align: right;\">\n",
       "      <th></th>\n",
       "      <th></th>\n",
       "      <th>Total Checkouts</th>\n",
       "    </tr>\n",
       "    <tr>\n",
       "      <th>Home Library Definition</th>\n",
       "      <th>Patron Type Definition</th>\n",
       "      <th></th>\n",
       "    </tr>\n",
       "  </thead>\n",
       "  <tbody>\n",
       "    <tr>\n",
       "      <th rowspan=\"14\" valign=\"top\">Anza</th>\n",
       "      <th>ADULT</th>\n",
       "      <td>855994</td>\n",
       "    </tr>\n",
       "    <tr>\n",
       "      <th>AT USER ADULT</th>\n",
       "      <td>131</td>\n",
       "    </tr>\n",
       "    <tr>\n",
       "      <th>AT USER JUVENILE</th>\n",
       "      <td>77</td>\n",
       "    </tr>\n",
       "    <tr>\n",
       "      <th>AT USER TEEN</th>\n",
       "      <td>45</td>\n",
       "    </tr>\n",
       "    <tr>\n",
       "      <th>DIGITAL ACCESS CARD</th>\n",
       "      <td>4</td>\n",
       "    </tr>\n",
       "    <tr>\n",
       "      <th>FRIENDS FOR LIFE</th>\n",
       "      <td>1456</td>\n",
       "    </tr>\n",
       "    <tr>\n",
       "      <th>JUVENILE</th>\n",
       "      <td>289395</td>\n",
       "    </tr>\n",
       "    <tr>\n",
       "      <th>RETIRED STAFF</th>\n",
       "      <td>543</td>\n",
       "    </tr>\n",
       "    <tr>\n",
       "      <th>SENIOR</th>\n",
       "      <td>328922</td>\n",
       "    </tr>\n",
       "    <tr>\n",
       "      <th>STAFF</th>\n",
       "      <td>9545</td>\n",
       "    </tr>\n",
       "    <tr>\n",
       "      <th>TEACHER CARD</th>\n",
       "      <td>4192</td>\n",
       "    </tr>\n",
       "    <tr>\n",
       "      <th>VISITOR</th>\n",
       "      <td>17</td>\n",
       "    </tr>\n",
       "    <tr>\n",
       "      <th>WELCOME</th>\n",
       "      <td>445</td>\n",
       "    </tr>\n",
       "    <tr>\n",
       "      <th>YOUNG ADULT</th>\n",
       "      <td>222294</td>\n",
       "    </tr>\n",
       "    <tr>\n",
       "      <th rowspan=\"6\" valign=\"top\">Bayview/Linda Brooks-Burton</th>\n",
       "      <th>ADULT</th>\n",
       "      <td>269157</td>\n",
       "    </tr>\n",
       "    <tr>\n",
       "      <th>AT USER ADULT</th>\n",
       "      <td>217</td>\n",
       "    </tr>\n",
       "    <tr>\n",
       "      <th>AT USER SENIOR</th>\n",
       "      <td>42</td>\n",
       "    </tr>\n",
       "    <tr>\n",
       "      <th>DIGITAL ACCESS CARD</th>\n",
       "      <td>14</td>\n",
       "    </tr>\n",
       "    <tr>\n",
       "      <th>JUVENILE</th>\n",
       "      <td>111745</td>\n",
       "    </tr>\n",
       "    <tr>\n",
       "      <th>SENIOR</th>\n",
       "      <td>47446</td>\n",
       "    </tr>\n",
       "  </tbody>\n",
       "</table>\n",
       "</div>"
      ],
      "text/plain": [
       "                                                    Total Checkouts\n",
       "Home Library Definition     Patron Type Definition                 \n",
       "Anza                        ADULT                            855994\n",
       "                            AT USER ADULT                       131\n",
       "                            AT USER JUVENILE                     77\n",
       "                            AT USER TEEN                         45\n",
       "                            DIGITAL ACCESS CARD                   4\n",
       "                            FRIENDS FOR LIFE                   1456\n",
       "                            JUVENILE                         289395\n",
       "                            RETIRED STAFF                       543\n",
       "                            SENIOR                           328922\n",
       "                            STAFF                              9545\n",
       "                            TEACHER CARD                       4192\n",
       "                            VISITOR                              17\n",
       "                            WELCOME                             445\n",
       "                            YOUNG ADULT                      222294\n",
       "Bayview/Linda Brooks-Burton ADULT                            269157\n",
       "                            AT USER ADULT                       217\n",
       "                            AT USER SENIOR                       42\n",
       "                            DIGITAL ACCESS CARD                  14\n",
       "                            JUVENILE                         111745\n",
       "                            SENIOR                            47446"
      ]
     },
     "execution_count": 20,
     "metadata": {},
     "output_type": "execute_result"
    }
   ],
   "source": [
    "# Split up our data into groups based upon 'Home Library Definition' and 'Patron Type Definition'\n",
    "# Create a new variable that holds the sum of our groups\n",
    "new_data = checkouts_above_zero.groupby(['Home Library Definition', \n",
    "                                        'Patron Type Definition'])['Total Checkouts'].sum()\n",
    "\n",
    "\n",
    "new_data = pd.DataFrame(new_data)\n",
    "\n",
    "new_data.head(20)"
   ]
  },
  {
   "cell_type": "code",
   "execution_count": 22,
   "metadata": {},
   "outputs": [
    {
     "data": {
      "text/plain": [
       "Home Library Definition  Patron Type Definition\n",
       "Anza                     ADULT                     1\n",
       "Park                     AT USER SENIOR            1\n",
       "                         YOUNG ADULT               1\n",
       "                         WELCOME                   1\n",
       "                         VISITOR                   1\n",
       "                                                  ..\n",
       "Ingleside                TEACHER CARD              1\n",
       "                         STAFF                     1\n",
       "                         SPECIAL                   1\n",
       "                         SENIOR                    1\n",
       "Western Addition         YOUNG ADULT               1\n",
       "Name: count, Length: 445, dtype: int64"
      ]
     },
     "execution_count": 22,
     "metadata": {},
     "output_type": "execute_result"
    }
   ],
   "source": [
    "new_data.index.value_counts()"
   ]
  },
  {
   "cell_type": "code",
   "execution_count": 32,
   "metadata": {},
   "outputs": [
    {
     "data": {
      "text/html": [
       "<div>\n",
       "<style scoped>\n",
       "    .dataframe tbody tr th:only-of-type {\n",
       "        vertical-align: middle;\n",
       "    }\n",
       "\n",
       "    .dataframe tbody tr th {\n",
       "        vertical-align: top;\n",
       "    }\n",
       "\n",
       "    .dataframe thead th {\n",
       "        text-align: right;\n",
       "    }\n",
       "</style>\n",
       "<table border=\"1\" class=\"dataframe\">\n",
       "  <thead>\n",
       "    <tr style=\"text-align: right;\">\n",
       "      <th></th>\n",
       "      <th>Total Checkouts</th>\n",
       "    </tr>\n",
       "    <tr>\n",
       "      <th>Patron Type Definition</th>\n",
       "      <th></th>\n",
       "    </tr>\n",
       "  </thead>\n",
       "  <tbody>\n",
       "    <tr>\n",
       "      <th>ADULT</th>\n",
       "      <td>1044904</td>\n",
       "    </tr>\n",
       "    <tr>\n",
       "      <th>JUVENILE</th>\n",
       "      <td>375265</td>\n",
       "    </tr>\n",
       "    <tr>\n",
       "      <th>RETIRED STAFF</th>\n",
       "      <td>1343</td>\n",
       "    </tr>\n",
       "    <tr>\n",
       "      <th>SENIOR</th>\n",
       "      <td>213031</td>\n",
       "    </tr>\n",
       "    <tr>\n",
       "      <th>SPECIAL</th>\n",
       "      <td>3137</td>\n",
       "    </tr>\n",
       "    <tr>\n",
       "      <th>STAFF</th>\n",
       "      <td>15722</td>\n",
       "    </tr>\n",
       "    <tr>\n",
       "      <th>TEACHER CARD</th>\n",
       "      <td>3679</td>\n",
       "    </tr>\n",
       "    <tr>\n",
       "      <th>YOUNG ADULT</th>\n",
       "      <td>294923</td>\n",
       "    </tr>\n",
       "  </tbody>\n",
       "</table>\n",
       "</div>"
      ],
      "text/plain": [
       "                        Total Checkouts\n",
       "Patron Type Definition                 \n",
       "ADULT                           1044904\n",
       "JUVENILE                         375265\n",
       "RETIRED STAFF                      1343\n",
       "SENIOR                           213031\n",
       "SPECIAL                            3137\n",
       "STAFF                             15722\n",
       "TEACHER CARD                       3679\n",
       "YOUNG ADULT                      294923"
      ]
     },
     "execution_count": 32,
     "metadata": {},
     "output_type": "execute_result"
    }
   ],
   "source": [
    "final_data"
   ]
  },
  {
   "cell_type": "code",
   "execution_count": 39,
   "metadata": {
    "scrolled": false
   },
   "outputs": [
    {
     "data": {
      "image/png": "[encoded data removed]",
      "text/plain": [
       "<Figure size 640x480 with 1 Axes>"
      ]
     },
     "metadata": {},
     "output_type": "display_data"
    }
   ],
   "source": [
    "# Make a variable called branch and store a 'Home Library Definition' in it\n",
    "branch = 'Ingleside'\n",
    "\n",
    "# Make a variable called min_checkouts that you can change depending on how busy the library branch you've chosen is\n",
    "min_checkouts = 500\n",
    "\n",
    "# Collect the loans of the branch above\n",
    "# filter the data to patron types with greater than the value set for min_checkouts\n",
    "final_data = new_data.loc[branch].loc[new_data.loc[branch]['Total Checkouts']>min_checkouts, :]\n",
    "# final_data = new_data.loc[branch][new_data.loc[branch]['Total Checkouts']>min_checkouts]\n",
    "\n",
    "# Create a bar chart based upon the total checkouts (or loans) of that single branch\n",
    "final_data.plot(kind='bar', title='Ingleside Checkouts',  \n",
    "                y='Total Checkouts')\n",
    "\n",
    "plt.show()"
   ]
  },
  {
   "cell_type": "code",
   "execution_count": 40,
   "metadata": {},
   "outputs": [
    {
     "data": {
      "text/html": [
       "<div>\n",
       "<style scoped>\n",
       "    .dataframe tbody tr th:only-of-type {\n",
       "        vertical-align: middle;\n",
       "    }\n",
       "\n",
       "    .dataframe tbody tr th {\n",
       "        vertical-align: top;\n",
       "    }\n",
       "\n",
       "    .dataframe thead th {\n",
       "        text-align: right;\n",
       "    }\n",
       "</style>\n",
       "<table border=\"1\" class=\"dataframe\">\n",
       "  <thead>\n",
       "    <tr style=\"text-align: right;\">\n",
       "      <th></th>\n",
       "      <th>Total Checkouts</th>\n",
       "    </tr>\n",
       "    <tr>\n",
       "      <th>Patron Type Definition</th>\n",
       "      <th></th>\n",
       "    </tr>\n",
       "  </thead>\n",
       "  <tbody>\n",
       "    <tr>\n",
       "      <th>ADULT</th>\n",
       "      <td>1044904</td>\n",
       "    </tr>\n",
       "    <tr>\n",
       "      <th>JUVENILE</th>\n",
       "      <td>375265</td>\n",
       "    </tr>\n",
       "    <tr>\n",
       "      <th>RETIRED STAFF</th>\n",
       "      <td>1343</td>\n",
       "    </tr>\n",
       "    <tr>\n",
       "      <th>SENIOR</th>\n",
       "      <td>213031</td>\n",
       "    </tr>\n",
       "    <tr>\n",
       "      <th>SPECIAL</th>\n",
       "      <td>3137</td>\n",
       "    </tr>\n",
       "    <tr>\n",
       "      <th>STAFF</th>\n",
       "      <td>15722</td>\n",
       "    </tr>\n",
       "    <tr>\n",
       "      <th>TEACHER CARD</th>\n",
       "      <td>3679</td>\n",
       "    </tr>\n",
       "    <tr>\n",
       "      <th>YOUNG ADULT</th>\n",
       "      <td>294923</td>\n",
       "    </tr>\n",
       "  </tbody>\n",
       "</table>\n",
       "</div>"
      ],
      "text/plain": [
       "                        Total Checkouts\n",
       "Patron Type Definition                 \n",
       "ADULT                           1044904\n",
       "JUVENILE                         375265\n",
       "RETIRED STAFF                      1343\n",
       "SENIOR                           213031\n",
       "SPECIAL                            3137\n",
       "STAFF                             15722\n",
       "TEACHER CARD                       3679\n",
       "YOUNG ADULT                      294923"
      ]
     },
     "execution_count": 40,
     "metadata": {},
     "output_type": "execute_result"
    }
   ],
   "source": [
    "final_data"
   ]
  },
  {
   "cell_type": "code",
   "execution_count": 41,
   "metadata": {},
   "outputs": [
    {
     "data": {
      "text/html": [
       "<div>\n",
       "<style scoped>\n",
       "    .dataframe tbody tr th:only-of-type {\n",
       "        vertical-align: middle;\n",
       "    }\n",
       "\n",
       "    .dataframe tbody tr th {\n",
       "        vertical-align: top;\n",
       "    }\n",
       "\n",
       "    .dataframe thead th {\n",
       "        text-align: right;\n",
       "    }\n",
       "</style>\n",
       "<table border=\"1\" class=\"dataframe\">\n",
       "  <thead>\n",
       "    <tr style=\"text-align: right;\">\n",
       "      <th></th>\n",
       "      <th>Total Checkouts</th>\n",
       "    </tr>\n",
       "    <tr>\n",
       "      <th>Patron Type Definition</th>\n",
       "      <th></th>\n",
       "    </tr>\n",
       "  </thead>\n",
       "  <tbody>\n",
       "    <tr>\n",
       "      <th>ADULT</th>\n",
       "      <td>1044904</td>\n",
       "    </tr>\n",
       "    <tr>\n",
       "      <th>JUVENILE</th>\n",
       "      <td>375265</td>\n",
       "    </tr>\n",
       "    <tr>\n",
       "      <th>RETIRED STAFF</th>\n",
       "      <td>1343</td>\n",
       "    </tr>\n",
       "    <tr>\n",
       "      <th>SENIOR</th>\n",
       "      <td>213031</td>\n",
       "    </tr>\n",
       "    <tr>\n",
       "      <th>SPECIAL</th>\n",
       "      <td>3137</td>\n",
       "    </tr>\n",
       "    <tr>\n",
       "      <th>STAFF</th>\n",
       "      <td>15722</td>\n",
       "    </tr>\n",
       "    <tr>\n",
       "      <th>TEACHER CARD</th>\n",
       "      <td>3679</td>\n",
       "    </tr>\n",
       "    <tr>\n",
       "      <th>YOUNG ADULT</th>\n",
       "      <td>294923</td>\n",
       "    </tr>\n",
       "  </tbody>\n",
       "</table>\n",
       "</div>"
      ],
      "text/plain": [
       "                        Total Checkouts\n",
       "Patron Type Definition                 \n",
       "ADULT                           1044904\n",
       "JUVENILE                         375265\n",
       "RETIRED STAFF                      1343\n",
       "SENIOR                           213031\n",
       "SPECIAL                            3137\n",
       "STAFF                             15722\n",
       "TEACHER CARD                       3679\n",
       "YOUNG ADULT                      294923"
      ]
     },
     "execution_count": 41,
     "metadata": {},
     "output_type": "execute_result"
    }
   ],
   "source": [
    "new_data.loc[branch].loc[new_data.loc[branch]['Total Checkouts']>min_checkouts, :]\n",
    "\n",
    "new_data.loc[branch][new_data.loc[branch]['Total Checkouts']>min_checkouts]"
   ]
  },
  {
   "cell_type": "code",
   "execution_count": null,
   "metadata": {},
   "outputs": [],
   "source": []
  }
 ],
 "metadata": {
  "kernelspec": {
   "display_name": "Python 3",
   "language": "python",
   "name": "python3"
  },
  "language_info": {
   "codemirror_mode": {
    "name": "ipython",
    "version": 3
   },
   "file_extension": ".py",
   "mimetype": "text/x-python",
   "name": "python",
   "nbconvert_exporter": "python",
   "pygments_lexer": "ipython3",
   "version": "3.11.7"
  }
 },
 "nbformat": 4,
 "nbformat_minor": 4
}
