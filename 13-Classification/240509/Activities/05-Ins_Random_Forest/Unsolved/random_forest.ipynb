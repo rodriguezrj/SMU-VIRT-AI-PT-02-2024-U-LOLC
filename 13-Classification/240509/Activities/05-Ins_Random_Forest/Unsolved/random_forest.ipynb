{
 "cells": [
  {
   "cell_type": "code",
   "execution_count": 1,
   "metadata": {},
   "outputs": [],
   "source": [
    "%matplotlib inline\n",
    "from matplotlib import pyplot as plt\n",
    "import pandas as pd\n",
    "from sklearn.ensemble import RandomForestClassifier\n",
    "from sklearn.model_selection import train_test_split\n",
    "from sklearn.preprocessing import StandardScaler"
   ]
  },
  {
   "cell_type": "markdown",
   "metadata": {},
   "source": [
    "# Dataset:  covtype.csv\n",
    "\n",
    "Source: Remote Sensing and GIS Program, Department of Forest Sciences, College of Natural Resources, Colorado State University\n",
    "\n",
    "Description: Predicting forest cover type from cartographic variables only (no remotely sensed data). The actual forest cover type for a given observation (30 x 30 meter cell) was determined from US Forest Service (USFS) Region 2 Resource Information System (RIS) data. Independent variables were derived from data originally obtained from US Geological Survey (USGS) and USFS data. Data is in raw form (not scaled) and contains binary (0 or 1) columns of data for qualitative independent variables (wilderness areas and soil types).\n",
    "\n",
    "This study area includes four wilderness areas located in the Roosevelt National Forest of northern Colorado. These areas represent forests with minimal human-caused disturbances, so that existing forest cover types are more a result of ecological processes rather than forest management practices.\n",
    "\n",
    "Variables/Columns\n",
    "\n",
    "- Elevation: Elevation in meters\n",
    "- Aspect: Aspect in degrees azimuth\n",
    "- Slope: Slope in degrees\n",
    "- Horizontal_Distance_To_Hydrology: Horz Dist to nearest surface water features\n",
    "- Vertical_Distance_To_Hydrology: Vert Dist to nearest surface water features\n",
    "- Horizontal_Distance_To_Roadways: Horz Dist to nearest roadway\n",
    "- Hillshade_9am: Hillshade index at 9am, summer solstice\n",
    "- Hillshade_Noon: Hillshade index at noon, summer soltice\n",
    "- Hillshade_3pm: Hillshade index at 3pm, summer solstice\n",
    "- Horizontal_Distance_To_Fire_Points: Horz Dist to nearest wildfire ignition points\n",
    "- Wilderness_Area: 0 (absence) or 1 (presence)\n",
    "- Cover_Type: (2 types) Forest Cover Type designation\n",
    "    - 1: Spruce/Fir\n",
    "    - 2: Lodgepole Pine"
   ]
  },
  {
   "cell_type": "code",
   "execution_count": 2,
   "metadata": {},
   "outputs": [
    {
     "data": {
      "text/html": [
       "<div>\n",
       "<style scoped>\n",
       "    .dataframe tbody tr th:only-of-type {\n",
       "        vertical-align: middle;\n",
       "    }\n",
       "\n",
       "    .dataframe tbody tr th {\n",
       "        vertical-align: top;\n",
       "    }\n",
       "\n",
       "    .dataframe thead th {\n",
       "        text-align: right;\n",
       "    }\n",
       "</style>\n",
       "<table border=\"1\" class=\"dataframe\">\n",
       "  <thead>\n",
       "    <tr style=\"text-align: right;\">\n",
       "      <th></th>\n",
       "      <th>elevation</th>\n",
       "      <th>aspect</th>\n",
       "      <th>slope</th>\n",
       "      <th>horz dist water</th>\n",
       "      <th>vert dist water</th>\n",
       "      <th>horz dist road</th>\n",
       "      <th>hillshade 9am</th>\n",
       "      <th>hillshade noon</th>\n",
       "      <th>hillshade 3pm</th>\n",
       "      <th>horz dist fire</th>\n",
       "      <th>wilderness area</th>\n",
       "      <th>cover</th>\n",
       "    </tr>\n",
       "  </thead>\n",
       "  <tbody>\n",
       "    <tr>\n",
       "      <th>0</th>\n",
       "      <td>2900</td>\n",
       "      <td>341</td>\n",
       "      <td>19</td>\n",
       "      <td>216</td>\n",
       "      <td>97</td>\n",
       "      <td>4615</td>\n",
       "      <td>177</td>\n",
       "      <td>208</td>\n",
       "      <td>168</td>\n",
       "      <td>4999</td>\n",
       "      <td>1</td>\n",
       "      <td>1</td>\n",
       "    </tr>\n",
       "    <tr>\n",
       "      <th>1</th>\n",
       "      <td>3191</td>\n",
       "      <td>86</td>\n",
       "      <td>17</td>\n",
       "      <td>162</td>\n",
       "      <td>29</td>\n",
       "      <td>3946</td>\n",
       "      <td>242</td>\n",
       "      <td>210</td>\n",
       "      <td>93</td>\n",
       "      <td>1445</td>\n",
       "      <td>1</td>\n",
       "      <td>1</td>\n",
       "    </tr>\n",
       "    <tr>\n",
       "      <th>2</th>\n",
       "      <td>3090</td>\n",
       "      <td>108</td>\n",
       "      <td>10</td>\n",
       "      <td>42</td>\n",
       "      <td>10</td>\n",
       "      <td>3512</td>\n",
       "      <td>237</td>\n",
       "      <td>229</td>\n",
       "      <td>122</td>\n",
       "      <td>2932</td>\n",
       "      <td>1</td>\n",
       "      <td>1</td>\n",
       "    </tr>\n",
       "    <tr>\n",
       "      <th>3</th>\n",
       "      <td>3104</td>\n",
       "      <td>162</td>\n",
       "      <td>8</td>\n",
       "      <td>234</td>\n",
       "      <td>38</td>\n",
       "      <td>1728</td>\n",
       "      <td>228</td>\n",
       "      <td>242</td>\n",
       "      <td>147</td>\n",
       "      <td>2143</td>\n",
       "      <td>1</td>\n",
       "      <td>2</td>\n",
       "    </tr>\n",
       "    <tr>\n",
       "      <th>4</th>\n",
       "      <td>2693</td>\n",
       "      <td>255</td>\n",
       "      <td>12</td>\n",
       "      <td>0</td>\n",
       "      <td>0</td>\n",
       "      <td>1168</td>\n",
       "      <td>192</td>\n",
       "      <td>247</td>\n",
       "      <td>193</td>\n",
       "      <td>2481</td>\n",
       "      <td>1</td>\n",
       "      <td>2</td>\n",
       "    </tr>\n",
       "    <tr>\n",
       "      <th>...</th>\n",
       "      <td>...</td>\n",
       "      <td>...</td>\n",
       "      <td>...</td>\n",
       "      <td>...</td>\n",
       "      <td>...</td>\n",
       "      <td>...</td>\n",
       "      <td>...</td>\n",
       "      <td>...</td>\n",
       "      <td>...</td>\n",
       "      <td>...</td>\n",
       "      <td>...</td>\n",
       "      <td>...</td>\n",
       "    </tr>\n",
       "    <tr>\n",
       "      <th>49510</th>\n",
       "      <td>3045</td>\n",
       "      <td>87</td>\n",
       "      <td>4</td>\n",
       "      <td>228</td>\n",
       "      <td>44</td>\n",
       "      <td>42</td>\n",
       "      <td>226</td>\n",
       "      <td>233</td>\n",
       "      <td>142</td>\n",
       "      <td>661</td>\n",
       "      <td>1</td>\n",
       "      <td>1</td>\n",
       "    </tr>\n",
       "    <tr>\n",
       "      <th>49511</th>\n",
       "      <td>2582</td>\n",
       "      <td>1</td>\n",
       "      <td>18</td>\n",
       "      <td>0</td>\n",
       "      <td>0</td>\n",
       "      <td>924</td>\n",
       "      <td>192</td>\n",
       "      <td>203</td>\n",
       "      <td>146</td>\n",
       "      <td>3240</td>\n",
       "      <td>1</td>\n",
       "      <td>2</td>\n",
       "    </tr>\n",
       "    <tr>\n",
       "      <th>49512</th>\n",
       "      <td>3063</td>\n",
       "      <td>122</td>\n",
       "      <td>9</td>\n",
       "      <td>150</td>\n",
       "      <td>-15</td>\n",
       "      <td>920</td>\n",
       "      <td>236</td>\n",
       "      <td>233</td>\n",
       "      <td>127</td>\n",
       "      <td>1189</td>\n",
       "      <td>0</td>\n",
       "      <td>1</td>\n",
       "    </tr>\n",
       "    <tr>\n",
       "      <th>49513</th>\n",
       "      <td>2975</td>\n",
       "      <td>298</td>\n",
       "      <td>30</td>\n",
       "      <td>324</td>\n",
       "      <td>131</td>\n",
       "      <td>5689</td>\n",
       "      <td>125</td>\n",
       "      <td>215</td>\n",
       "      <td>223</td>\n",
       "      <td>4852</td>\n",
       "      <td>1</td>\n",
       "      <td>2</td>\n",
       "    </tr>\n",
       "    <tr>\n",
       "      <th>49514</th>\n",
       "      <td>2651</td>\n",
       "      <td>124</td>\n",
       "      <td>17</td>\n",
       "      <td>350</td>\n",
       "      <td>51</td>\n",
       "      <td>981</td>\n",
       "      <td>246</td>\n",
       "      <td>225</td>\n",
       "      <td>101</td>\n",
       "      <td>2506</td>\n",
       "      <td>1</td>\n",
       "      <td>2</td>\n",
       "    </tr>\n",
       "  </tbody>\n",
       "</table>\n",
       "<p>49515 rows × 12 columns</p>\n",
       "</div>"
      ],
      "text/plain": [
       "       elevation  aspect  slope  horz dist water  vert dist water  \\\n",
       "0           2900     341     19              216               97   \n",
       "1           3191      86     17              162               29   \n",
       "2           3090     108     10               42               10   \n",
       "3           3104     162      8              234               38   \n",
       "4           2693     255     12                0                0   \n",
       "...          ...     ...    ...              ...              ...   \n",
       "49510       3045      87      4              228               44   \n",
       "49511       2582       1     18                0                0   \n",
       "49512       3063     122      9              150              -15   \n",
       "49513       2975     298     30              324              131   \n",
       "49514       2651     124     17              350               51   \n",
       "\n",
       "       horz dist road  hillshade 9am  hillshade noon  hillshade 3pm  \\\n",
       "0                4615            177             208            168   \n",
       "1                3946            242             210             93   \n",
       "2                3512            237             229            122   \n",
       "3                1728            228             242            147   \n",
       "4                1168            192             247            193   \n",
       "...               ...            ...             ...            ...   \n",
       "49510              42            226             233            142   \n",
       "49511             924            192             203            146   \n",
       "49512             920            236             233            127   \n",
       "49513            5689            125             215            223   \n",
       "49514             981            246             225            101   \n",
       "\n",
       "       horz dist fire  wilderness area  cover  \n",
       "0                4999                1      1  \n",
       "1                1445                1      1  \n",
       "2                2932                1      1  \n",
       "3                2143                1      2  \n",
       "4                2481                1      2  \n",
       "...               ...              ...    ...  \n",
       "49510             661                1      1  \n",
       "49511            3240                1      2  \n",
       "49512            1189                0      1  \n",
       "49513            4852                1      2  \n",
       "49514            2506                1      2  \n",
       "\n",
       "[49515 rows x 12 columns]"
      ]
     },
     "execution_count": 2,
     "metadata": {},
     "output_type": "execute_result"
    }
   ],
   "source": [
    "# Import data\n",
    "df = pd.read_csv('https://static.bc-edx.com/ai/ail-v-1-0/m13/lesson_2/datasets/covtype.csv')\n",
    "df"
   ]
  },
  {
   "cell_type": "code",
   "execution_count": 5,
   "metadata": {},
   "outputs": [],
   "source": [
    "# Split features and target\n",
    "X = df.drop('cover', axis=1)\n",
    "y = df['cover']"
   ]
  },
  {
   "cell_type": "code",
   "execution_count": 6,
   "metadata": {},
   "outputs": [],
   "source": [
    "# Split into training and testing sets\n",
    "X_train, X_test, y_train, y_test = train_test_split(X, y, random_state=1)\n",
    "\n",
    "# Scale the data\n",
    "scaler = StandardScaler().fit(X_train)\n",
    "X_train_scaled = scaler.transform(X_train)\n",
    "X_test_scaled = scaler.transform(X_test)"
   ]
  },
  {
   "cell_type": "code",
   "execution_count": 7,
   "metadata": {},
   "outputs": [
    {
     "name": "stdout",
     "output_type": "stream",
     "text": [
      "Training Score: 1.0\n",
      "Testing Score: 0.8935293642459003\n"
     ]
    }
   ],
   "source": [
    "# Train the Random Forest model\n",
    "clf = RandomForestClassifier(random_state=1, n_estimators=500).fit(X_train_scaled, y_train)\n",
    "\n",
    "# Evaluate the model\n",
    "print(f'Training Score: {clf.score(X_train_scaled, y_train)}')\n",
    "print(f'Testing Score: {clf.score(X_test_scaled, y_test)}')"
   ]
  },
  {
   "cell_type": "code",
   "execution_count": 9,
   "metadata": {},
   "outputs": [
    {
     "name": "stdout",
     "output_type": "stream",
     "text": [
      "Training Score: 0.917654028436019\n",
      "Testing Score: 0.7782534938201794\n"
     ]
    }
   ],
   "source": [
    "# Train the Random Forest model\n",
    "clf = RandomForestClassifier(random_state=1, n_estimators=2).fit(X_train_scaled, y_train)\n",
    "\n",
    "# Evaluate the model\n",
    "print(f'Training Score: {clf.score(X_train_scaled, y_train)}')\n",
    "print(f'Testing Score: {clf.score(X_test_scaled, y_test)}')"
   ]
  },
  {
   "cell_type": "code",
   "execution_count": 11,
   "metadata": {},
   "outputs": [],
   "source": [
    "# Get the feature importance array\n",
    "feature_importances = clf.feature_importances_"
   ]
  },
  {
   "cell_type": "code",
   "execution_count": 13,
   "metadata": {},
   "outputs": [
    {
     "data": {
      "text/plain": [
       "array([0.32450807, 0.0677875 , 0.04002315, 0.07400826, 0.0688079 ,\n",
       "       0.12699861, 0.05292263, 0.05076179, 0.05020285, 0.11918206,\n",
       "       0.02479717])"
      ]
     },
     "execution_count": 13,
     "metadata": {},
     "output_type": "execute_result"
    }
   ],
   "source": [
    "feature_importances"
   ]
  },
  {
   "cell_type": "code",
   "execution_count": 14,
   "metadata": {},
   "outputs": [
    {
     "data": {
      "text/plain": [
       "Index(['elevation', 'aspect', 'slope', 'horz dist water', 'vert dist water',\n",
       "       'horz dist road', 'hillshade 9am', 'hillshade noon', 'hillshade 3pm',\n",
       "       'horz dist fire', 'wilderness area'],\n",
       "      dtype='object')"
      ]
     },
     "execution_count": 14,
     "metadata": {},
     "output_type": "execute_result"
    }
   ],
   "source": [
    "X.columns"
   ]
  },
  {
   "cell_type": "code",
   "execution_count": 12,
   "metadata": {},
   "outputs": [
    {
     "data": {
      "text/plain": [
       "[(0.32450807485541006, 'elevation'),\n",
       " (0.126998612737642, 'horz dist road'),\n",
       " (0.11918205961185625, 'horz dist fire'),\n",
       " (0.0740082553606088, 'horz dist water'),\n",
       " (0.06880790119670199, 'vert dist water'),\n",
       " (0.06778750286430676, 'aspect'),\n",
       " (0.052922633081185146, 'hillshade 9am'),\n",
       " (0.050761788743558675, 'hillshade noon'),\n",
       " (0.05020285333097344, 'hillshade 3pm'),\n",
       " (0.04002314942913173, 'slope'),\n",
       " (0.024797168788625253, 'wilderness area')]"
      ]
     },
     "execution_count": 12,
     "metadata": {},
     "output_type": "execute_result"
    }
   ],
   "source": [
    "# List the top 10 most important features\n",
    "importance_sorted = sorted(zip(feature_importances, X.columns), reverse=True)\n",
    "importance_sorted"
   ]
  },
  {
   "cell_type": "code",
   "execution_count": 16,
   "metadata": {},
   "outputs": [],
   "source": [
    "features = sorted(zip(feature_importances, X.columns), key=lambda x: x[1])"
   ]
  },
  {
   "cell_type": "code",
   "execution_count": 18,
   "metadata": {},
   "outputs": [],
   "source": [
    "cols = [f[0] for f in features]\n",
    "width = [f[1] for f in features]"
   ]
  },
  {
   "cell_type": "code",
   "execution_count": 20,
   "metadata": {},
   "outputs": [
    {
     "data": {
      "text/plain": [
       "[0.06778750286430676,\n",
       " 0.32450807485541006,\n",
       " 0.05020285333097344,\n",
       " 0.052922633081185146,\n",
       " 0.050761788743558675,\n",
       " 0.11918205961185625,\n",
       " 0.126998612737642,\n",
       " 0.0740082553606088,\n",
       " 0.04002314942913173,\n",
       " 0.06880790119670199,\n",
       " 0.024797168788625253]"
      ]
     },
     "execution_count": 20,
     "metadata": {},
     "output_type": "execute_result"
    }
   ],
   "source": [
    "cols"
   ]
  },
  {
   "cell_type": "code",
   "execution_count": 19,
   "metadata": {},
   "outputs": [
    {
     "data": {
      "text/plain": [
       "['aspect',\n",
       " 'elevation',\n",
       " 'hillshade 3pm',\n",
       " 'hillshade 9am',\n",
       " 'hillshade noon',\n",
       " 'horz dist fire',\n",
       " 'horz dist road',\n",
       " 'horz dist water',\n",
       " 'slope',\n",
       " 'vert dist water',\n",
       " 'wilderness area']"
      ]
     },
     "execution_count": 19,
     "metadata": {},
     "output_type": "execute_result"
    }
   ],
   "source": [
    "width"
   ]
  },
  {
   "cell_type": "code",
   "execution_count": 23,
   "metadata": {},
   "outputs": [
    {
     "data": {
      "image/png": "[encoded data removed]",
      "text/plain": [
       "<Figure size 800x600 with 1 Axes>"
      ]
     },
     "metadata": {},
     "output_type": "display_data"
    }
   ],
   "source": [
    "# Plot the feature importances\n",
    "features = sorted(zip(feature_importances, X.columns), key=lambda x: x[0])\n",
    "cols = [f[1] for f in features]\n",
    "width = [f[0] for f in features]\n",
    "\n",
    "fig, ax = plt.subplots()\n",
    "\n",
    "fig.set_size_inches(8, 6)\n",
    "plt.margins(y=0.001)\n",
    "\n",
    "ax.barh(y=cols, width=width)\n",
    "plt.show()"
   ]
  },
  {
   "cell_type": "code",
   "execution_count": null,
   "metadata": {},
   "outputs": [],
   "source": []
  }
 ],
 "metadata": {
  "kernelspec": {
   "display_name": "Python 3",
   "language": "python",
   "name": "python3"
  },
  "language_info": {
   "codemirror_mode": {
    "name": "ipython",
    "version": 3
   },
   "file_extension": ".py",
   "mimetype": "text/x-python",
   "name": "python",
   "nbconvert_exporter": "python",
   "pygments_lexer": "ipython3",
   "version": "3.11.7"
  }
 },
 "nbformat": 4,
 "nbformat_minor": 4
}
