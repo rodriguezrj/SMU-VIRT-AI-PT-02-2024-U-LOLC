{
 "cells": [
  {
   "cell_type": "code",
   "execution_count": 35,
   "metadata": {},
   "outputs": [],
   "source": [
    "# Import the required libraries and dependencies\n",
    "import numpy as np\n",
    "import pandas as pd\n",
    "import hvplot.pandas"
   ]
  },
  {
   "cell_type": "code",
   "execution_count": 36,
   "metadata": {},
   "outputs": [
    {
     "name": "stderr",
     "output_type": "stream",
     "text": [
      "/var/folders/y1/wwd_67td207gyk1vt0gf7w500000gn/T/ipykernel_94230/597171049.py:2: FutureWarning: The argument 'infer_datetime_format' is deprecated and will be removed in a future version. A strict version of it is now the default, see https://pandas.pydata.org/pdeps/0004-consistent-to-datetime-parsing.html. You can safely remove this argument.\n",
      "  df_stock = pd.read_csv(\n"
     ]
    },
    {
     "data": {
      "text/html": [
       "<div>\n",
       "<style scoped>\n",
       "    .dataframe tbody tr th:only-of-type {\n",
       "        vertical-align: middle;\n",
       "    }\n",
       "\n",
       "    .dataframe tbody tr th {\n",
       "        vertical-align: top;\n",
       "    }\n",
       "\n",
       "    .dataframe thead th {\n",
       "        text-align: right;\n",
       "    }\n",
       "</style>\n",
       "<table border=\"1\" class=\"dataframe\">\n",
       "  <thead>\n",
       "    <tr style=\"text-align: right;\">\n",
       "      <th></th>\n",
       "      <th>close</th>\n",
       "    </tr>\n",
       "    <tr>\n",
       "      <th>date</th>\n",
       "      <th></th>\n",
       "    </tr>\n",
       "  </thead>\n",
       "  <tbody>\n",
       "    <tr>\n",
       "      <th>2015-10-19</th>\n",
       "      <td>27.93</td>\n",
       "    </tr>\n",
       "    <tr>\n",
       "      <th>2015-10-20</th>\n",
       "      <td>28.44</td>\n",
       "    </tr>\n",
       "    <tr>\n",
       "      <th>2015-10-21</th>\n",
       "      <td>28.44</td>\n",
       "    </tr>\n",
       "    <tr>\n",
       "      <th>2015-10-22</th>\n",
       "      <td>28.88</td>\n",
       "    </tr>\n",
       "    <tr>\n",
       "      <th>2015-10-23</th>\n",
       "      <td>29.77</td>\n",
       "    </tr>\n",
       "  </tbody>\n",
       "</table>\n",
       "</div>"
      ],
      "text/plain": [
       "            close\n",
       "date             \n",
       "2015-10-19  27.93\n",
       "2015-10-20  28.44\n",
       "2015-10-21  28.44\n",
       "2015-10-22  28.88\n",
       "2015-10-23  29.77"
      ]
     },
     "execution_count": 36,
     "metadata": {},
     "output_type": "execute_result"
    }
   ],
   "source": [
    "# Read the data from the apple-price.csv file into a Pandas DataFrame\n",
    "df_stock = pd.read_csv(\n",
    "    \"../Resources/aapl-price.csv\", \n",
    "    index_col=\"date\", \n",
    "    parse_dates=True, \n",
    "    infer_datetime_format=True\n",
    ")\n",
    "\n",
    "# Review the DataFrame\n",
    "df_stock.head()"
   ]
  },
  {
   "cell_type": "code",
   "execution_count": 37,
   "metadata": {},
   "outputs": [
    {
     "name": "stderr",
     "output_type": "stream",
     "text": [
      "/var/folders/y1/wwd_67td207gyk1vt0gf7w500000gn/T/ipykernel_94230/98708399.py:2: FutureWarning: The argument 'infer_datetime_format' is deprecated and will be removed in a future version. A strict version of it is now the default, see https://pandas.pydata.org/pdeps/0004-consistent-to-datetime-parsing.html. You can safely remove this argument.\n",
      "  df_trends = pd.read_csv(\n"
     ]
    },
    {
     "data": {
      "text/html": [
       "<div>\n",
       "<style scoped>\n",
       "    .dataframe tbody tr th:only-of-type {\n",
       "        vertical-align: middle;\n",
       "    }\n",
       "\n",
       "    .dataframe tbody tr th {\n",
       "        vertical-align: top;\n",
       "    }\n",
       "\n",
       "    .dataframe thead th {\n",
       "        text-align: right;\n",
       "    }\n",
       "</style>\n",
       "<table border=\"1\" class=\"dataframe\">\n",
       "  <thead>\n",
       "    <tr style=\"text-align: right;\">\n",
       "      <th></th>\n",
       "      <th>trend-worldwide</th>\n",
       "    </tr>\n",
       "    <tr>\n",
       "      <th>date</th>\n",
       "      <th></th>\n",
       "    </tr>\n",
       "  </thead>\n",
       "  <tbody>\n",
       "    <tr>\n",
       "      <th>2015-10-23</th>\n",
       "      <td>32</td>\n",
       "    </tr>\n",
       "    <tr>\n",
       "      <th>2015-10-30</th>\n",
       "      <td>33</td>\n",
       "    </tr>\n",
       "    <tr>\n",
       "      <th>2015-11-06</th>\n",
       "      <td>32</td>\n",
       "    </tr>\n",
       "    <tr>\n",
       "      <th>2015-11-13</th>\n",
       "      <td>32</td>\n",
       "    </tr>\n",
       "    <tr>\n",
       "      <th>2015-11-20</th>\n",
       "      <td>31</td>\n",
       "    </tr>\n",
       "  </tbody>\n",
       "</table>\n",
       "</div>"
      ],
      "text/plain": [
       "            trend-worldwide\n",
       "date                       \n",
       "2015-10-23               32\n",
       "2015-10-30               33\n",
       "2015-11-06               32\n",
       "2015-11-13               32\n",
       "2015-11-20               31"
      ]
     },
     "execution_count": 37,
     "metadata": {},
     "output_type": "execute_result"
    }
   ],
   "source": [
    "# Read the data from the apple-trends.csv file into a Pandas DataFrame\n",
    "df_trends = pd.read_csv(\n",
    "    \"../Resources/apple-trends.csv\", \n",
    "    index_col=\"date\", \n",
    "    parse_dates=True, \n",
    "    infer_datetime_format=True\n",
    ")\n",
    "\n",
    "# Review the DataFrame\n",
    "df_trends.head()"
   ]
  },
  {
   "cell_type": "markdown",
   "metadata": {},
   "source": [
    "#### Step 2: Concatenate the `df_stock` DataFrame to the `df_trends` DataFrame, creating a single DataFrame named `df_apple`.\n",
    "\n",
    "> **Rewind** Concatenation: Two DataFrames that have the same `datetime` index can be merged using `pd.concat`. The `axis=1` parameter means that we're bringing the columns of the two DataFrames together."
   ]
  },
  {
   "cell_type": "code",
   "execution_count": 39,
   "metadata": {},
   "outputs": [
    {
     "data": {
      "text/plain": [
       "(252, 2)"
      ]
     },
     "execution_count": 39,
     "metadata": {},
     "output_type": "execute_result"
    }
   ],
   "source": [
    "# pd.merge(df_stock, df_trends, on='date', how='inner').dropna().shape"
   ]
  },
  {
   "cell_type": "code",
   "execution_count": 40,
   "metadata": {},
   "outputs": [
    {
     "data": {
      "text/plain": [
       "(252, 2)"
      ]
     },
     "execution_count": 40,
     "metadata": {},
     "output_type": "execute_result"
    }
   ],
   "source": [
    "# pd.concat([df_stock, df_trends], axis=1).dropna().shape"
   ]
  },
  {
   "cell_type": "code",
   "execution_count": 41,
   "metadata": {},
   "outputs": [
    {
     "data": {
      "text/html": [
       "<div>\n",
       "<style scoped>\n",
       "    .dataframe tbody tr th:only-of-type {\n",
       "        vertical-align: middle;\n",
       "    }\n",
       "\n",
       "    .dataframe tbody tr th {\n",
       "        vertical-align: top;\n",
       "    }\n",
       "\n",
       "    .dataframe thead th {\n",
       "        text-align: right;\n",
       "    }\n",
       "</style>\n",
       "<table border=\"1\" class=\"dataframe\">\n",
       "  <thead>\n",
       "    <tr style=\"text-align: right;\">\n",
       "      <th></th>\n",
       "      <th>close</th>\n",
       "      <th>trend-worldwide</th>\n",
       "    </tr>\n",
       "    <tr>\n",
       "      <th>date</th>\n",
       "      <th></th>\n",
       "      <th></th>\n",
       "    </tr>\n",
       "  </thead>\n",
       "  <tbody>\n",
       "    <tr>\n",
       "      <th>2015-10-23</th>\n",
       "      <td>29.77</td>\n",
       "      <td>32.0</td>\n",
       "    </tr>\n",
       "    <tr>\n",
       "      <th>2015-10-30</th>\n",
       "      <td>29.88</td>\n",
       "      <td>33.0</td>\n",
       "    </tr>\n",
       "    <tr>\n",
       "      <th>2015-11-06</th>\n",
       "      <td>30.27</td>\n",
       "      <td>32.0</td>\n",
       "    </tr>\n",
       "    <tr>\n",
       "      <th>2015-11-13</th>\n",
       "      <td>28.09</td>\n",
       "      <td>32.0</td>\n",
       "    </tr>\n",
       "    <tr>\n",
       "      <th>2015-11-20</th>\n",
       "      <td>29.83</td>\n",
       "      <td>31.0</td>\n",
       "    </tr>\n",
       "  </tbody>\n",
       "</table>\n",
       "</div>"
      ],
      "text/plain": [
       "            close  trend-worldwide\n",
       "date                              \n",
       "2015-10-23  29.77             32.0\n",
       "2015-10-30  29.88             33.0\n",
       "2015-11-06  30.27             32.0\n",
       "2015-11-13  28.09             32.0\n",
       "2015-11-20  29.83             31.0"
      ]
     },
     "execution_count": 41,
     "metadata": {},
     "output_type": "execute_result"
    }
   ],
   "source": [
    "# Concatenate Apple's stock price and Google trends data\n",
    "# Use a parameter of axis=1 to ensure the concatenation by columns\n",
    "# Chain the dropna function to remove any rows of data that do not \n",
    "# contain information in both columns\n",
    "df_apple = pd.concat([df_stock, df_trends], axis=1).dropna()\n",
    "\n",
    "# Review the df_apple DataFrame\n",
    "df_apple.head()"
   ]
  },
  {
   "cell_type": "markdown",
   "metadata": {},
   "source": [
    "### Step 3: Create a plot of the concatenated DataFrame and analyze any trends and correlations. Do you observe any seasonal patterns?\n",
    "\n",
    "> **Hint** You might find it useful to refer to the [Apple Events page](https://www.apple.com/apple-events/) and the [Timeline of Apple Inc. products](https://en.wikipedia.org/wiki/Timeline_of_Apple_Inc._products) to spotlight moments over time that could have triggered a particular pattern."
   ]
  },
  {
   "cell_type": "code",
   "execution_count": 42,
   "metadata": {},
   "outputs": [
    {
     "data": {},
     "metadata": {},
     "output_type": "display_data"
    },
    {
     "data": {
      "application/vnd.holoviews_exec.v0+json": "",
      "text/html": [
       "<div id='p1906'>\n",
       "  <div id=\"dcebddfb-5c5b-4385-80c4-4cc0e506ddc8\" data-root-id=\"p1906\" style=\"display: contents;\"></div>\n",
       "</div>\n",
       "<script type=\"application/javascript\">(function(root) {\n",
       "  var docs_json = {\"c485e53e-7063-4d01-a28c-c50a6d55f467\":{\"version\":\"3.3.4\",\"title\":\"Bokeh Application\",\"roots\":[{\"type\":\"object\",\"name\":\"Row\",\"id\":\"p1906\",\"attributes\":{\"name\":\"Row02529\",\"tags\":[\"embedded\"],\"stylesheets\":[\"\\n:host(.pn-loading.pn-arc):before, .pn-loading.pn-arc:before {\\n  background-image: url(\\\"data:image/svg+xml;base64,PHN2ZyB4bWxucz0iaHR0cDovL3d3dy53My5vcmcvMjAwMC9zdmciIHN0eWxlPSJtYXJnaW46IGF1dG87IGJhY2tncm91bmQ6IG5vbmU7IGRpc3BsYXk6IGJsb2NrOyBzaGFwZS1yZW5kZXJpbmc6IGF1dG87IiB2aWV3Qm94PSIwIDAgMTAwIDEwMCIgcHJlc2VydmVBc3BlY3RSYXRpbz0ieE1pZFlNaWQiPiAgPGNpcmNsZSBjeD0iNTAiIGN5PSI1MCIgZmlsbD0ibm9uZSIgc3Ryb2tlPSIjYzNjM2MzIiBzdHJva2Utd2lkdGg9IjEwIiByPSIzNSIgc3Ryb2tlLWRhc2hhcnJheT0iMTY0LjkzMzYxNDMxMzQ2NDE1IDU2Ljk3Nzg3MTQzNzgyMTM4Ij4gICAgPGFuaW1hdGVUcmFuc2Zvcm0gYXR0cmlidXRlTmFtZT0idHJhbnNmb3JtIiB0eXBlPSJyb3RhdGUiIHJlcGVhdENvdW50PSJpbmRlZmluaXRlIiBkdXI9IjFzIiB2YWx1ZXM9IjAgNTAgNTA7MzYwIDUwIDUwIiBrZXlUaW1lcz0iMDsxIj48L2FuaW1hdGVUcmFuc2Zvcm0+ICA8L2NpcmNsZT48L3N2Zz4=\\\");\\n  background-size: auto calc(min(50%, 400px));\\n}\",{\"type\":\"object\",\"name\":\"ImportedStyleSheet\",\"id\":\"p1909\",\"attributes\":{\"url\":\"https://cdn.holoviz.org/panel/1.3.8/dist/css/loading.css\"}},{\"type\":\"object\",\"name\":\"ImportedStyleSheet\",\"id\":\"p1996\",\"attributes\":{\"url\":\"https://cdn.holoviz.org/panel/1.3.8/dist/css/listpanel.css\"}},{\"type\":\"object\",\"name\":\"ImportedStyleSheet\",\"id\":\"p1907\",\"attributes\":{\"url\":\"https://cdn.holoviz.org/panel/1.3.8/dist/bundled/theme/default.css\"}},{\"type\":\"object\",\"name\":\"ImportedStyleSheet\",\"id\":\"p1908\",\"attributes\":{\"url\":\"https://cdn.holoviz.org/panel/1.3.8/dist/bundled/theme/native.css\"}}],\"min_width\":700,\"margin\":0,\"sizing_mode\":\"stretch_width\",\"align\":\"start\",\"children\":[{\"type\":\"object\",\"name\":\"Spacer\",\"id\":\"p1910\",\"attributes\":{\"name\":\"HSpacer02536\",\"stylesheets\":[\"\\n:host(.pn-loading.pn-arc):before, .pn-loading.pn-arc:before {\\n  background-image: url(\\\"data:image/svg+xml;base64,PHN2ZyB4bWxucz0iaHR0cDovL3d3dy53My5vcmcvMjAwMC9zdmciIHN0eWxlPSJtYXJnaW46IGF1dG87IGJhY2tncm91bmQ6IG5vbmU7IGRpc3BsYXk6IGJsb2NrOyBzaGFwZS1yZW5kZXJpbmc6IGF1dG87IiB2aWV3Qm94PSIwIDAgMTAwIDEwMCIgcHJlc2VydmVBc3BlY3RSYXRpbz0ieE1pZFlNaWQiPiAgPGNpcmNsZSBjeD0iNTAiIGN5PSI1MCIgZmlsbD0ibm9uZSIgc3Ryb2tlPSIjYzNjM2MzIiBzdHJva2Utd2lkdGg9IjEwIiByPSIzNSIgc3Ryb2tlLWRhc2hhcnJheT0iMTY0LjkzMzYxNDMxMzQ2NDE1IDU2Ljk3Nzg3MTQzNzgyMTM4Ij4gICAgPGFuaW1hdGVUcmFuc2Zvcm0gYXR0cmlidXRlTmFtZT0idHJhbnNmb3JtIiB0eXBlPSJyb3RhdGUiIHJlcGVhdENvdW50PSJpbmRlZmluaXRlIiBkdXI9IjFzIiB2YWx1ZXM9IjAgNTAgNTA7MzYwIDUwIDUwIiBrZXlUaW1lcz0iMDsxIj48L2FuaW1hdGVUcmFuc2Zvcm0+ICA8L2NpcmNsZT48L3N2Zz4=\\\");\\n  background-size: auto calc(min(50%, 400px));\\n}\",{\"id\":\"p1909\"},{\"id\":\"p1907\"},{\"id\":\"p1908\"}],\"margin\":0,\"sizing_mode\":\"stretch_width\",\"align\":\"start\"}},{\"type\":\"object\",\"name\":\"Figure\",\"id\":\"p1921\",\"attributes\":{\"width\":700,\"height\":300,\"margin\":[5,10],\"sizing_mode\":\"fixed\",\"align\":\"start\",\"x_range\":{\"type\":\"object\",\"name\":\"Range1d\",\"id\":\"p1911\",\"attributes\":{\"tags\":[[[\"date\",\"date\",null]],[]],\"start\":1445558400000.0,\"end\":1602201600000.0,\"reset_start\":1445558400000.0,\"reset_end\":1602201600000.0}},\"y_range\":{\"type\":\"object\",\"name\":\"Range1d\",\"id\":\"p1912\",\"attributes\":{\"tags\":[[[\"value\",\"value\",null]],{\"type\":\"map\",\"entries\":[[\"invert_yaxis\",false],[\"autorange\",false]]}],\"start\":12.411999999999997,\"end\":135.028,\"reset_start\":12.411999999999997,\"reset_end\":135.028}},\"x_scale\":{\"type\":\"object\",\"name\":\"LinearScale\",\"id\":\"p1931\"},\"y_scale\":{\"type\":\"object\",\"name\":\"LinearScale\",\"id\":\"p1932\"},\"title\":{\"type\":\"object\",\"name\":\"Title\",\"id\":\"p1924\",\"attributes\":{\"text_color\":\"black\",\"text_font_size\":\"12pt\"}},\"renderers\":[{\"type\":\"object\",\"name\":\"GlyphRenderer\",\"id\":\"p1973\",\"attributes\":{\"name\":\"close\",\"data_source\":{\"type\":\"object\",\"name\":\"ColumnDataSource\",\"id\":\"p1964\",\"attributes\":{\"selected\":{\"type\":\"object\",\"name\":\"Selection\",\"id\":\"p1965\",\"attributes\":{\"indices\":[],\"line_indices\":[]}},\"selection_policy\":{\"type\":\"object\",\"name\":\"UnionRenderers\",\"id\":\"p1966\"},\"data\":{\"type\":\"map\",\"entries\":[[\"date\",{\"type\":\"ndarray\",\"array\":{\"type\":\"bytes\",\"data\":\"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\"},\"shape\":[252],\"dtype\":\"float64\",\"order\":\"little\"}],[\"value\",{\"type\":\"ndarray\",\"array\":{\"type\":\"bytes\",\"data\":\"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\"},\"shape\":[252],\"dtype\":\"float64\",\"order\":\"little\"}],[\"Variable\",[\"close\",\"close\",\"close\",\"close\",\"close\",\"close\",\"close\",\"close\",\"close\",\"close\",\"close\",\"close\",\"close\",\"close\",\"close\",\"close\",\"close\",\"close\",\"close\",\"close\",\"close\",\"close\",\"close\",\"close\",\"close\",\"close\",\"close\",\"close\",\"close\",\"close\",\"close\",\"close\",\"close\",\"close\",\"close\",\"close\",\"close\",\"close\",\"close\",\"close\",\"close\",\"close\",\"close\",\"close\",\"close\",\"close\",\"close\",\"close\",\"close\",\"close\",\"close\",\"close\",\"close\",\"close\",\"close\",\"close\",\"close\",\"close\",\"close\",\"close\",\"close\",\"close\",\"close\",\"close\",\"close\",\"close\",\"close\",\"close\",\"close\",\"close\",\"close\",\"close\",\"close\",\"close\",\"close\",\"close\",\"close\",\"close\",\"close\",\"close\",\"close\",\"close\",\"close\",\"close\",\"close\",\"close\",\"close\",\"close\",\"close\",\"close\",\"close\",\"close\",\"close\",\"close\",\"close\",\"close\",\"close\",\"close\",\"close\",\"close\",\"close\",\"close\",\"close\",\"close\",\"close\",\"close\",\"close\",\"close\",\"close\",\"close\",\"close\",\"close\",\"close\",\"close\",\"close\",\"close\",\"close\",\"close\",\"close\",\"close\",\"close\",\"close\",\"close\",\"close\",\"close\",\"close\",\"close\",\"close\",\"close\",\"close\",\"close\",\"close\",\"close\",\"close\",\"close\",\"close\",\"close\",\"close\",\"close\",\"close\",\"close\",\"close\",\"close\",\"close\",\"close\",\"close\",\"close\",\"close\",\"close\",\"close\",\"close\",\"close\",\"close\",\"close\",\"close\",\"close\",\"close\",\"close\",\"close\",\"close\",\"close\",\"close\",\"close\",\"close\",\"close\",\"close\",\"close\",\"close\",\"close\",\"close\",\"close\",\"close\",\"close\",\"close\",\"close\",\"close\",\"close\",\"close\",\"close\",\"close\",\"close\",\"close\",\"close\",\"close\",\"close\",\"close\",\"close\",\"close\",\"close\",\"close\",\"close\",\"close\",\"close\",\"close\",\"close\",\"close\",\"close\",\"close\",\"close\",\"close\",\"close\",\"close\",\"close\",\"close\",\"close\",\"close\",\"close\",\"close\",\"close\",\"close\",\"close\",\"close\",\"close\",\"close\",\"close\",\"close\",\"close\",\"close\",\"close\",\"close\",\"close\",\"close\",\"close\",\"close\",\"close\",\"close\",\"close\",\"close\",\"close\",\"close\",\"close\",\"close\",\"close\",\"close\",\"close\",\"close\",\"close\",\"close\",\"close\",\"close\",\"close\",\"close\",\"close\",\"close\",\"close\",\"close\",\"close\",\"close\",\"close\",\"close\",\"close\",\"close\"]]]}}},\"view\":{\"type\":\"object\",\"name\":\"CDSView\",\"id\":\"p1974\",\"attributes\":{\"filter\":{\"type\":\"object\",\"name\":\"AllIndices\",\"id\":\"p1975\"}}},\"glyph\":{\"type\":\"object\",\"name\":\"Line\",\"id\":\"p1970\",\"attributes\":{\"tags\":[\"apply_ranges\"],\"x\":{\"type\":\"field\",\"field\":\"date\"},\"y\":{\"type\":\"field\",\"field\":\"value\"},\"line_color\":\"#30a2da\",\"line_width\":2}},\"selection_glyph\":{\"type\":\"object\",\"name\":\"Line\",\"id\":\"p1978\",\"attributes\":{\"tags\":[\"apply_ranges\"],\"x\":{\"type\":\"field\",\"field\":\"date\"},\"y\":{\"type\":\"field\",\"field\":\"value\"},\"line_color\":\"#30a2da\",\"line_width\":2}},\"nonselection_glyph\":{\"type\":\"object\",\"name\":\"Line\",\"id\":\"p1971\",\"attributes\":{\"tags\":[\"apply_ranges\"],\"x\":{\"type\":\"field\",\"field\":\"date\"},\"y\":{\"type\":\"field\",\"field\":\"value\"},\"line_color\":\"#30a2da\",\"line_alpha\":0.1,\"line_width\":2}},\"muted_glyph\":{\"type\":\"object\",\"name\":\"Line\",\"id\":\"p1972\",\"attributes\":{\"tags\":[\"apply_ranges\"],\"x\":{\"type\":\"field\",\"field\":\"date\"},\"y\":{\"type\":\"field\",\"field\":\"value\"},\"line_color\":\"#30a2da\",\"line_alpha\":0.2,\"line_width\":2}}}},{\"type\":\"object\",\"name\":\"GlyphRenderer\",\"id\":\"p1988\",\"attributes\":{\"name\":\"trend-worldwide\",\"data_source\":{\"type\":\"object\",\"name\":\"ColumnDataSource\",\"id\":\"p1979\",\"attributes\":{\"selected\":{\"type\":\"object\",\"name\":\"Selection\",\"id\":\"p1980\",\"attributes\":{\"indices\":[],\"line_indices\":[]}},\"selection_policy\":{\"type\":\"object\",\"name\":\"UnionRenderers\",\"id\":\"p1981\"},\"data\":{\"type\":\"map\",\"entries\":[[\"date\",{\"type\":\"ndarray\",\"array\":{\"type\":\"bytes\",\"data\":\"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\"},\"shape\":[252],\"dtype\":\"float64\",\"order\":\"little\"}],[\"value\",{\"type\":\"ndarray\",\"array\":{\"type\":\"bytes\",\"data\":\"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\"},\"shape\":[252],\"dtype\":\"float64\",\"order\":\"little\"}],[\"Variable\",[\"trend-worldwide\",\"trend-worldwide\",\"trend-worldwide\",\"trend-worldwide\",\"trend-worldwide\",\"trend-worldwide\",\"trend-worldwide\",\"trend-worldwide\",\"trend-worldwide\",\"trend-worldwide\",\"trend-worldwide\",\"trend-worldwide\",\"trend-worldwide\",\"trend-worldwide\",\"trend-worldwide\",\"trend-worldwide\",\"trend-worldwide\",\"trend-worldwide\",\"trend-worldwide\",\"trend-worldwide\",\"trend-worldwide\",\"trend-worldwide\",\"trend-worldwide\",\"trend-worldwide\",\"trend-worldwide\",\"trend-worldwide\",\"trend-worldwide\",\"trend-worldwide\",\"trend-worldwide\",\"trend-worldwide\",\"trend-worldwide\",\"trend-worldwide\",\"trend-worldwide\",\"trend-worldwide\",\"trend-worldwide\",\"trend-worldwide\",\"trend-worldwide\",\"trend-worldwide\",\"trend-worldwide\",\"trend-worldwide\",\"trend-worldwide\",\"trend-worldwide\",\"trend-worldwide\",\"trend-worldwide\",\"trend-worldwide\",\"trend-worldwide\",\"trend-worldwide\",\"trend-worldwide\",\"trend-worldwide\",\"trend-worldwide\",\"trend-worldwide\",\"trend-worldwide\",\"trend-worldwide\",\"trend-worldwide\",\"trend-worldwide\",\"trend-worldwide\",\"trend-worldwide\",\"trend-worldwide\",\"trend-worldwide\",\"trend-worldwide\",\"trend-worldwide\",\"trend-worldwide\",\"trend-worldwide\",\"trend-worldwide\",\"trend-worldwide\",\"trend-worldwide\",\"trend-worldwide\",\"trend-worldwide\",\"trend-worldwide\",\"trend-worldwide\",\"trend-worldwide\",\"trend-worldwide\",\"trend-worldwide\",\"trend-worldwide\",\"trend-worldwide\",\"trend-worldwide\",\"trend-worldwide\",\"trend-worldwide\",\"trend-worldwide\",\"trend-worldwide\",\"trend-worldwide\",\"trend-worldwide\",\"trend-worldwide\",\"trend-worldwide\",\"trend-worldwide\",\"trend-worldwide\",\"trend-worldwide\",\"trend-worldwide\",\"trend-worldwide\",\"trend-worldwide\",\"trend-worldwide\",\"trend-worldwide\",\"trend-worldwide\",\"trend-worldwide\",\"trend-worldwide\",\"trend-worldwide\",\"trend-worldwide\",\"trend-worldwide\",\"trend-worldwide\",\"trend-worldwide\",\"trend-worldwide\",\"trend-worldwide\",\"trend-worldwide\",\"trend-worldwide\",\"trend-worldwide\",\"trend-worldwide\",\"trend-worldwide\",\"trend-worldwide\",\"trend-worldwide\",\"trend-worldwide\",\"trend-worldwide\",\"trend-worldwide\",\"trend-worldwide\",\"trend-worldwide\",\"trend-worldwide\",\"trend-worldwide\",\"trend-worldwide\",\"trend-worldwide\",\"trend-worldwide\",\"trend-worldwide\",\"trend-worldwide\",\"trend-worldwide\",\"trend-worldwide\",\"trend-worldwide\",\"trend-worldwide\",\"trend-worldwide\",\"trend-worldwide\",\"trend-worldwide\",\"trend-worldwide\",\"trend-worldwide\",\"trend-worldwide\",\"trend-worldwide\",\"trend-worldwide\",\"trend-worldwide\",\"trend-worldwide\",\"trend-worldwide\",\"trend-worldwide\",\"trend-worldwide\",\"trend-worldwide\",\"trend-worldwide\",\"trend-worldwide\",\"trend-worldwide\",\"trend-worldwide\",\"trend-worldwide\",\"trend-worldwide\",\"trend-worldwide\",\"trend-worldwide\",\"trend-worldwide\",\"trend-worldwide\",\"trend-worldwide\",\"trend-worldwide\",\"trend-worldwide\",\"trend-worldwide\",\"trend-worldwide\",\"trend-worldwide\",\"trend-worldwide\",\"trend-worldwide\",\"trend-worldwide\",\"trend-worldwide\",\"trend-worldwide\",\"trend-worldwide\",\"trend-worldwide\",\"trend-worldwide\",\"trend-worldwide\",\"trend-worldwide\",\"trend-worldwide\",\"trend-worldwide\",\"trend-worldwide\",\"trend-worldwide\",\"trend-worldwide\",\"trend-worldwide\",\"trend-worldwide\",\"trend-worldwide\",\"trend-worldwide\",\"trend-worldwide\",\"trend-worldwide\",\"trend-worldwide\",\"trend-worldwide\",\"trend-worldwide\",\"trend-worldwide\",\"trend-worldwide\",\"trend-worldwide\",\"trend-worldwide\",\"trend-worldwide\",\"trend-worldwide\",\"trend-worldwide\",\"trend-worldwide\",\"trend-worldwide\",\"trend-worldwide\",\"trend-worldwide\",\"trend-worldwide\",\"trend-worldwide\",\"trend-worldwide\",\"trend-worldwide\",\"trend-worldwide\",\"trend-worldwide\",\"trend-worldwide\",\"trend-worldwide\",\"trend-worldwide\",\"trend-worldwide\",\"trend-worldwide\",\"trend-worldwide\",\"trend-worldwide\",\"trend-worldwide\",\"trend-worldwide\",\"trend-worldwide\",\"trend-worldwide\",\"trend-worldwide\",\"trend-worldwide\",\"trend-worldwide\",\"trend-worldwide\",\"trend-worldwide\",\"trend-worldwide\",\"trend-worldwide\",\"trend-worldwide\",\"trend-worldwide\",\"trend-worldwide\",\"trend-worldwide\",\"trend-worldwide\",\"trend-worldwide\",\"trend-worldwide\",\"trend-worldwide\",\"trend-worldwide\",\"trend-worldwide\",\"trend-worldwide\",\"trend-worldwide\",\"trend-worldwide\",\"trend-worldwide\",\"trend-worldwide\",\"trend-worldwide\",\"trend-worldwide\",\"trend-worldwide\",\"trend-worldwide\",\"trend-worldwide\",\"trend-worldwide\",\"trend-worldwide\",\"trend-worldwide\",\"trend-worldwide\",\"trend-worldwide\",\"trend-worldwide\",\"trend-worldwide\",\"trend-worldwide\",\"trend-worldwide\",\"trend-worldwide\",\"trend-worldwide\",\"trend-worldwide\",\"trend-worldwide\",\"trend-worldwide\",\"trend-worldwide\",\"trend-worldwide\",\"trend-worldwide\",\"trend-worldwide\"]]]}}},\"view\":{\"type\":\"object\",\"name\":\"CDSView\",\"id\":\"p1989\",\"attributes\":{\"filter\":{\"type\":\"object\",\"name\":\"AllIndices\",\"id\":\"p1990\"}}},\"glyph\":{\"type\":\"object\",\"name\":\"Line\",\"id\":\"p1985\",\"attributes\":{\"tags\":[\"apply_ranges\"],\"x\":{\"type\":\"field\",\"field\":\"date\"},\"y\":{\"type\":\"field\",\"field\":\"value\"},\"line_color\":\"#fc4f30\",\"line_width\":2}},\"selection_glyph\":{\"type\":\"object\",\"name\":\"Line\",\"id\":\"p1992\",\"attributes\":{\"tags\":[\"apply_ranges\"],\"x\":{\"type\":\"field\",\"field\":\"date\"},\"y\":{\"type\":\"field\",\"field\":\"value\"},\"line_color\":\"#fc4f30\",\"line_width\":2}},\"nonselection_glyph\":{\"type\":\"object\",\"name\":\"Line\",\"id\":\"p1986\",\"attributes\":{\"tags\":[\"apply_ranges\"],\"x\":{\"type\":\"field\",\"field\":\"date\"},\"y\":{\"type\":\"field\",\"field\":\"value\"},\"line_color\":\"#fc4f30\",\"line_alpha\":0.1,\"line_width\":2}},\"muted_glyph\":{\"type\":\"object\",\"name\":\"Line\",\"id\":\"p1987\",\"attributes\":{\"tags\":[\"apply_ranges\"],\"x\":{\"type\":\"field\",\"field\":\"date\"},\"y\":{\"type\":\"field\",\"field\":\"value\"},\"line_color\":\"#fc4f30\",\"line_alpha\":0.2,\"line_width\":2}}}}],\"toolbar\":{\"type\":\"object\",\"name\":\"Toolbar\",\"id\":\"p1930\",\"attributes\":{\"tools\":[{\"type\":\"object\",\"name\":\"WheelZoomTool\",\"id\":\"p1916\",\"attributes\":{\"tags\":[\"hv_created\"],\"renderers\":\"auto\",\"zoom_together\":\"none\"}},{\"type\":\"object\",\"name\":\"HoverTool\",\"id\":\"p1917\",\"attributes\":{\"tags\":[\"hv_created\"],\"renderers\":[{\"id\":\"p1973\"},{\"id\":\"p1988\"}],\"tooltips\":[[\"Variable\",\"@{Variable}\"],[\"date\",\"@{date}{%F %T}\"],[\"value\",\"@{value}\"]],\"formatters\":{\"type\":\"map\",\"entries\":[[\"@{date}\",\"datetime\"]]}}},{\"type\":\"object\",\"name\":\"SaveTool\",\"id\":\"p1955\"},{\"type\":\"object\",\"name\":\"PanTool\",\"id\":\"p1956\"},{\"type\":\"object\",\"name\":\"BoxZoomTool\",\"id\":\"p1957\",\"attributes\":{\"overlay\":{\"type\":\"object\",\"name\":\"BoxAnnotation\",\"id\":\"p1958\",\"attributes\":{\"syncable\":false,\"level\":\"overlay\",\"visible\":false,\"left\":{\"type\":\"number\",\"value\":\"nan\"},\"right\":{\"type\":\"number\",\"value\":\"nan\"},\"top\":{\"type\":\"number\",\"value\":\"nan\"},\"bottom\":{\"type\":\"number\",\"value\":\"nan\"},\"left_units\":\"canvas\",\"right_units\":\"canvas\",\"top_units\":\"canvas\",\"bottom_units\":\"canvas\",\"line_color\":\"black\",\"line_alpha\":1.0,\"line_width\":2,\"line_dash\":[4,4],\"fill_color\":\"lightgrey\",\"fill_alpha\":0.5}}}},{\"type\":\"object\",\"name\":\"ResetTool\",\"id\":\"p1963\"}],\"active_drag\":{\"id\":\"p1956\"},\"active_scroll\":{\"id\":\"p1916\"}}},\"left\":[{\"type\":\"object\",\"name\":\"LinearAxis\",\"id\":\"p1950\",\"attributes\":{\"ticker\":{\"type\":\"object\",\"name\":\"BasicTicker\",\"id\":\"p1951\",\"attributes\":{\"mantissas\":[1,2,5]}},\"formatter\":{\"type\":\"object\",\"name\":\"BasicTickFormatter\",\"id\":\"p1952\"},\"axis_label\":\"\",\"major_label_policy\":{\"type\":\"object\",\"name\":\"AllLabels\",\"id\":\"p1953\"}}}],\"right\":[{\"type\":\"object\",\"name\":\"Legend\",\"id\":\"p1976\",\"attributes\":{\"location\":[0,0],\"title\":\"Variable\",\"click_policy\":\"mute\",\"items\":[{\"type\":\"object\",\"name\":\"LegendItem\",\"id\":\"p1977\",\"attributes\":{\"label\":{\"type\":\"value\",\"value\":\"close\"},\"renderers\":[{\"id\":\"p1973\"}]}},{\"type\":\"object\",\"name\":\"LegendItem\",\"id\":\"p1991\",\"attributes\":{\"label\":{\"type\":\"value\",\"value\":\"trend-worldwide\"},\"renderers\":[{\"id\":\"p1988\"}]}}]}}],\"below\":[{\"type\":\"object\",\"name\":\"DatetimeAxis\",\"id\":\"p1933\",\"attributes\":{\"ticker\":{\"type\":\"object\",\"name\":\"DatetimeTicker\",\"id\":\"p1934\",\"attributes\":{\"num_minor_ticks\":5,\"tickers\":[{\"type\":\"object\",\"name\":\"AdaptiveTicker\",\"id\":\"p1935\",\"attributes\":{\"num_minor_ticks\":0,\"mantissas\":[1,2,5],\"max_interval\":500.0}},{\"type\":\"object\",\"name\":\"AdaptiveTicker\",\"id\":\"p1936\",\"attributes\":{\"num_minor_ticks\":0,\"base\":60,\"mantissas\":[1,2,5,10,15,20,30],\"min_interval\":1000.0,\"max_interval\":1800000.0}},{\"type\":\"object\",\"name\":\"AdaptiveTicker\",\"id\":\"p1937\",\"attributes\":{\"num_minor_ticks\":0,\"base\":24,\"mantissas\":[1,2,4,6,8,12],\"min_interval\":3600000.0,\"max_interval\":43200000.0}},{\"type\":\"object\",\"name\":\"DaysTicker\",\"id\":\"p1938\",\"attributes\":{\"days\":[1,2,3,4,5,6,7,8,9,10,11,12,13,14,15,16,17,18,19,20,21,22,23,24,25,26,27,28,29,30,31]}},{\"type\":\"object\",\"name\":\"DaysTicker\",\"id\":\"p1939\",\"attributes\":{\"days\":[1,4,7,10,13,16,19,22,25,28]}},{\"type\":\"object\",\"name\":\"DaysTicker\",\"id\":\"p1940\",\"attributes\":{\"days\":[1,8,15,22]}},{\"type\":\"object\",\"name\":\"DaysTicker\",\"id\":\"p1941\",\"attributes\":{\"days\":[1,15]}},{\"type\":\"object\",\"name\":\"MonthsTicker\",\"id\":\"p1942\",\"attributes\":{\"months\":[0,1,2,3,4,5,6,7,8,9,10,11]}},{\"type\":\"object\",\"name\":\"MonthsTicker\",\"id\":\"p1943\",\"attributes\":{\"months\":[0,2,4,6,8,10]}},{\"type\":\"object\",\"name\":\"MonthsTicker\",\"id\":\"p1944\",\"attributes\":{\"months\":[0,4,8]}},{\"type\":\"object\",\"name\":\"MonthsTicker\",\"id\":\"p1945\",\"attributes\":{\"months\":[0,6]}},{\"type\":\"object\",\"name\":\"YearsTicker\",\"id\":\"p1946\"}]}},\"formatter\":{\"type\":\"object\",\"name\":\"DatetimeTickFormatter\",\"id\":\"p1947\"},\"axis_label\":\"date\",\"major_label_policy\":{\"type\":\"object\",\"name\":\"AllLabels\",\"id\":\"p1948\"}}}],\"center\":[{\"type\":\"object\",\"name\":\"Grid\",\"id\":\"p1949\",\"attributes\":{\"axis\":{\"id\":\"p1933\"},\"grid_line_color\":null}},{\"type\":\"object\",\"name\":\"Grid\",\"id\":\"p1954\",\"attributes\":{\"dimension\":1,\"axis\":{\"id\":\"p1950\"},\"grid_line_color\":null}}],\"min_border_top\":10,\"min_border_bottom\":10,\"min_border_left\":10,\"min_border_right\":10,\"output_backend\":\"webgl\"}},{\"type\":\"object\",\"name\":\"Spacer\",\"id\":\"p1994\",\"attributes\":{\"name\":\"HSpacer02537\",\"stylesheets\":[\"\\n:host(.pn-loading.pn-arc):before, .pn-loading.pn-arc:before {\\n  background-image: url(\\\"data:image/svg+xml;base64,PHN2ZyB4bWxucz0iaHR0cDovL3d3dy53My5vcmcvMjAwMC9zdmciIHN0eWxlPSJtYXJnaW46IGF1dG87IGJhY2tncm91bmQ6IG5vbmU7IGRpc3BsYXk6IGJsb2NrOyBzaGFwZS1yZW5kZXJpbmc6IGF1dG87IiB2aWV3Qm94PSIwIDAgMTAwIDEwMCIgcHJlc2VydmVBc3BlY3RSYXRpbz0ieE1pZFlNaWQiPiAgPGNpcmNsZSBjeD0iNTAiIGN5PSI1MCIgZmlsbD0ibm9uZSIgc3Ryb2tlPSIjYzNjM2MzIiBzdHJva2Utd2lkdGg9IjEwIiByPSIzNSIgc3Ryb2tlLWRhc2hhcnJheT0iMTY0LjkzMzYxNDMxMzQ2NDE1IDU2Ljk3Nzg3MTQzNzgyMTM4Ij4gICAgPGFuaW1hdGVUcmFuc2Zvcm0gYXR0cmlidXRlTmFtZT0idHJhbnNmb3JtIiB0eXBlPSJyb3RhdGUiIHJlcGVhdENvdW50PSJpbmRlZmluaXRlIiBkdXI9IjFzIiB2YWx1ZXM9IjAgNTAgNTA7MzYwIDUwIDUwIiBrZXlUaW1lcz0iMDsxIj48L2FuaW1hdGVUcmFuc2Zvcm0+ICA8L2NpcmNsZT48L3N2Zz4=\\\");\\n  background-size: auto calc(min(50%, 400px));\\n}\",{\"id\":\"p1909\"},{\"id\":\"p1907\"},{\"id\":\"p1908\"}],\"margin\":0,\"sizing_mode\":\"stretch_width\",\"align\":\"start\"}}]}}],\"defs\":[{\"type\":\"model\",\"name\":\"ReactiveHTML1\"},{\"type\":\"model\",\"name\":\"FlexBox1\",\"properties\":[{\"name\":\"align_content\",\"kind\":\"Any\",\"default\":\"flex-start\"},{\"name\":\"align_items\",\"kind\":\"Any\",\"default\":\"flex-start\"},{\"name\":\"flex_direction\",\"kind\":\"Any\",\"default\":\"row\"},{\"name\":\"flex_wrap\",\"kind\":\"Any\",\"default\":\"wrap\"},{\"name\":\"justify_content\",\"kind\":\"Any\",\"default\":\"flex-start\"}]},{\"type\":\"model\",\"name\":\"FloatPanel1\",\"properties\":[{\"name\":\"config\",\"kind\":\"Any\",\"default\":{\"type\":\"map\"}},{\"name\":\"contained\",\"kind\":\"Any\",\"default\":true},{\"name\":\"position\",\"kind\":\"Any\",\"default\":\"right-top\"},{\"name\":\"offsetx\",\"kind\":\"Any\",\"default\":null},{\"name\":\"offsety\",\"kind\":\"Any\",\"default\":null},{\"name\":\"theme\",\"kind\":\"Any\",\"default\":\"primary\"},{\"name\":\"status\",\"kind\":\"Any\",\"default\":\"normalized\"}]},{\"type\":\"model\",\"name\":\"GridStack1\",\"properties\":[{\"name\":\"mode\",\"kind\":\"Any\",\"default\":\"warn\"},{\"name\":\"ncols\",\"kind\":\"Any\",\"default\":null},{\"name\":\"nrows\",\"kind\":\"Any\",\"default\":null},{\"name\":\"allow_resize\",\"kind\":\"Any\",\"default\":true},{\"name\":\"allow_drag\",\"kind\":\"Any\",\"default\":true},{\"name\":\"state\",\"kind\":\"Any\",\"default\":[]}]},{\"type\":\"model\",\"name\":\"drag1\",\"properties\":[{\"name\":\"slider_width\",\"kind\":\"Any\",\"default\":5},{\"name\":\"slider_color\",\"kind\":\"Any\",\"default\":\"black\"},{\"name\":\"value\",\"kind\":\"Any\",\"default\":50}]},{\"type\":\"model\",\"name\":\"click1\",\"properties\":[{\"name\":\"terminal_output\",\"kind\":\"Any\",\"default\":\"\"},{\"name\":\"debug_name\",\"kind\":\"Any\",\"default\":\"\"},{\"name\":\"clears\",\"kind\":\"Any\",\"default\":0}]},{\"type\":\"model\",\"name\":\"copy_to_clipboard1\",\"properties\":[{\"name\":\"fill\",\"kind\":\"Any\",\"default\":\"none\"},{\"name\":\"value\",\"kind\":\"Any\",\"default\":null}]},{\"type\":\"model\",\"name\":\"FastWrapper1\",\"properties\":[{\"name\":\"object\",\"kind\":\"Any\",\"default\":null},{\"name\":\"style\",\"kind\":\"Any\",\"default\":null}]},{\"type\":\"model\",\"name\":\"NotificationAreaBase1\",\"properties\":[{\"name\":\"js_events\",\"kind\":\"Any\",\"default\":{\"type\":\"map\"}},{\"name\":\"position\",\"kind\":\"Any\",\"default\":\"bottom-right\"},{\"name\":\"_clear\",\"kind\":\"Any\",\"default\":0}]},{\"type\":\"model\",\"name\":\"NotificationArea1\",\"properties\":[{\"name\":\"js_events\",\"kind\":\"Any\",\"default\":{\"type\":\"map\"}},{\"name\":\"notifications\",\"kind\":\"Any\",\"default\":[]},{\"name\":\"position\",\"kind\":\"Any\",\"default\":\"bottom-right\"},{\"name\":\"_clear\",\"kind\":\"Any\",\"default\":0},{\"name\":\"types\",\"kind\":\"Any\",\"default\":[{\"type\":\"map\",\"entries\":[[\"type\",\"warning\"],[\"background\",\"#ffc107\"],[\"icon\",{\"type\":\"map\",\"entries\":[[\"className\",\"fas fa-exclamation-triangle\"],[\"tagName\",\"i\"],[\"color\",\"white\"]]}]]},{\"type\":\"map\",\"entries\":[[\"type\",\"info\"],[\"background\",\"#007bff\"],[\"icon\",{\"type\":\"map\",\"entries\":[[\"className\",\"fas fa-info-circle\"],[\"tagName\",\"i\"],[\"color\",\"white\"]]}]]}]}]},{\"type\":\"model\",\"name\":\"Notification\",\"properties\":[{\"name\":\"background\",\"kind\":\"Any\",\"default\":null},{\"name\":\"duration\",\"kind\":\"Any\",\"default\":3000},{\"name\":\"icon\",\"kind\":\"Any\",\"default\":null},{\"name\":\"message\",\"kind\":\"Any\",\"default\":\"\"},{\"name\":\"notification_type\",\"kind\":\"Any\",\"default\":null},{\"name\":\"_destroyed\",\"kind\":\"Any\",\"default\":false}]},{\"type\":\"model\",\"name\":\"TemplateActions1\",\"properties\":[{\"name\":\"open_modal\",\"kind\":\"Any\",\"default\":0},{\"name\":\"close_modal\",\"kind\":\"Any\",\"default\":0}]},{\"type\":\"model\",\"name\":\"BootstrapTemplateActions1\",\"properties\":[{\"name\":\"open_modal\",\"kind\":\"Any\",\"default\":0},{\"name\":\"close_modal\",\"kind\":\"Any\",\"default\":0}]},{\"type\":\"model\",\"name\":\"MaterialTemplateActions1\",\"properties\":[{\"name\":\"open_modal\",\"kind\":\"Any\",\"default\":0},{\"name\":\"close_modal\",\"kind\":\"Any\",\"default\":0}]}]}};\n",
       "  var render_items = [{\"docid\":\"c485e53e-7063-4d01-a28c-c50a6d55f467\",\"roots\":{\"p1906\":\"dcebddfb-5c5b-4385-80c4-4cc0e506ddc8\"},\"root_ids\":[\"p1906\"]}];\n",
       "  var docs = Object.values(docs_json)\n",
       "  if (!docs) {\n",
       "    return\n",
       "  }\n",
       "  const py_version = docs[0].version.replace('rc', '-rc.').replace('.dev', '-dev.')\n",
       "  function embed_document(root) {\n",
       "    var Bokeh = get_bokeh(root)\n",
       "    Bokeh.embed.embed_items_notebook(docs_json, render_items);\n",
       "    for (const render_item of render_items) {\n",
       "      for (const root_id of render_item.root_ids) {\n",
       "\tconst id_el = document.getElementById(root_id)\n",
       "\tif (id_el.children.length && (id_el.children[0].className === 'bk-root')) {\n",
       "\t  const root_el = id_el.children[0]\n",
       "\t  root_el.id = root_el.id + '-rendered'\n",
       "\t}\n",
       "      }\n",
       "    }\n",
       "  }\n",
       "  function get_bokeh(root) {\n",
       "    if (root.Bokeh === undefined) {\n",
       "      return null\n",
       "    } else if (root.Bokeh.version !== py_version) {\n",
       "      if (root.Bokeh.versions === undefined || !root.Bokeh.versions.has(py_version)) {\n",
       "\treturn null\n",
       "      }\n",
       "      return root.Bokeh.versions.get(py_version);\n",
       "    } else if (root.Bokeh.version === py_version) {\n",
       "      return root.Bokeh\n",
       "    }\n",
       "    return null\n",
       "  }\n",
       "  function is_loaded(root) {\n",
       "    var Bokeh = get_bokeh(root)\n",
       "    return (Bokeh != null && Bokeh.Panel !== undefined)\n",
       "  }\n",
       "  if (is_loaded(root)) {\n",
       "    embed_document(root);\n",
       "  } else {\n",
       "    var attempts = 0;\n",
       "    var timer = setInterval(function(root) {\n",
       "      if (is_loaded(root)) {\n",
       "        clearInterval(timer);\n",
       "        embed_document(root);\n",
       "      } else if (document.readyState == \"complete\") {\n",
       "        attempts++;\n",
       "        if (attempts > 200) {\n",
       "          clearInterval(timer);\n",
       "\t  var Bokeh = get_bokeh(root)\n",
       "\t  if (Bokeh == null || Bokeh.Panel == null) {\n",
       "            console.warn(\"Panel: ERROR: Unable to run Panel code because Bokeh or Panel library is missing\");\n",
       "\t  } else {\n",
       "\t    console.warn(\"Panel: WARNING: Attempting to render but not all required libraries could be resolved.\")\n",
       "\t    embed_document(root)\n",
       "\t  }\n",
       "        }\n",
       "      }\n",
       "    }, 25, root)\n",
       "  }\n",
       "})(window);</script>"
      ],
      "text/plain": [
       ":NdOverlay   [Variable]\n",
       "   :Curve   [date]   (value)"
      ]
     },
     "execution_count": 42,
     "metadata": {
      "application/vnd.holoviews_exec.v0+json": {
       "id": "p1906"
      }
     },
     "output_type": "execute_result"
    }
   ],
   "source": [
    "# Use hvplot to visualize the time series data in the df_apple DataFrame\n",
    "df_apple.hvplot(kind='line')"
   ]
  },
  {
   "cell_type": "markdown",
   "metadata": {},
   "source": [
    "## Building Time Trends"
   ]
  },
  {
   "cell_type": "markdown",
   "metadata": {},
   "source": [
    "### Step 1: Note that on September 10, 2019, Apple organized an event where it presented the new iPhone 11 family, the Apple Watch Series 5, and a new iPad. This event gained worldwide attention."
   ]
  },
  {
   "cell_type": "markdown",
   "metadata": {},
   "source": [
    "### Step 2: Closely examine the data from March 1, 2019 to January 31, 2020."
   ]
  },
  {
   "cell_type": "code",
   "execution_count": 43,
   "metadata": {},
   "outputs": [
    {
     "data": {
      "text/html": [
       "<div>\n",
       "<style scoped>\n",
       "    .dataframe tbody tr th:only-of-type {\n",
       "        vertical-align: middle;\n",
       "    }\n",
       "\n",
       "    .dataframe tbody tr th {\n",
       "        vertical-align: top;\n",
       "    }\n",
       "\n",
       "    .dataframe thead th {\n",
       "        text-align: right;\n",
       "    }\n",
       "</style>\n",
       "<table border=\"1\" class=\"dataframe\">\n",
       "  <thead>\n",
       "    <tr style=\"text-align: right;\">\n",
       "      <th></th>\n",
       "      <th>close</th>\n",
       "      <th>trend-worldwide</th>\n",
       "    </tr>\n",
       "    <tr>\n",
       "      <th>date</th>\n",
       "      <th></th>\n",
       "      <th></th>\n",
       "    </tr>\n",
       "  </thead>\n",
       "  <tbody>\n",
       "    <tr>\n",
       "      <th>2019-03-01</th>\n",
       "      <td>43.74</td>\n",
       "      <td>27.0</td>\n",
       "    </tr>\n",
       "    <tr>\n",
       "      <th>2019-03-08</th>\n",
       "      <td>43.23</td>\n",
       "      <td>27.0</td>\n",
       "    </tr>\n",
       "    <tr>\n",
       "      <th>2019-03-15</th>\n",
       "      <td>46.53</td>\n",
       "      <td>27.0</td>\n",
       "    </tr>\n",
       "    <tr>\n",
       "      <th>2019-03-22</th>\n",
       "      <td>47.76</td>\n",
       "      <td>30.0</td>\n",
       "    </tr>\n",
       "    <tr>\n",
       "      <th>2019-03-29</th>\n",
       "      <td>47.49</td>\n",
       "      <td>34.0</td>\n",
       "    </tr>\n",
       "  </tbody>\n",
       "</table>\n",
       "</div>"
      ],
      "text/plain": [
       "            close  trend-worldwide\n",
       "date                              \n",
       "2019-03-01  43.74             27.0\n",
       "2019-03-08  43.23             27.0\n",
       "2019-03-15  46.53             27.0\n",
       "2019-03-22  47.76             30.0\n",
       "2019-03-29  47.49             34.0"
      ]
     },
     "execution_count": 43,
     "metadata": {},
     "output_type": "execute_result"
    }
   ],
   "source": [
    "# Using the df_apple DataFrame, use the loc function to select a\n",
    "# range of data from March 1st, 2019 to January 31st, 2020\n",
    "awesome = df_apple.loc['2019-03-01':'2020-01-31']\n",
    "\n",
    "# Review the df_spotlight DataFrame\n",
    "awesome.head()"
   ]
  },
  {
   "cell_type": "markdown",
   "metadata": {},
   "source": [
    "### Step 3: Create a plot and identify whether both time series indicate a common trend that might correspond to this narrative."
   ]
  },
  {
   "cell_type": "code",
   "execution_count": 44,
   "metadata": {},
   "outputs": [
    {
     "data": {},
     "metadata": {},
     "output_type": "display_data"
    },
    {
     "data": {
      "application/vnd.holoviews_exec.v0+json": "",
      "text/html": [
       "<div id='p2002'>\n",
       "  <div id=\"b8cd04a5-4b7e-4c9e-b23b-2d661bd9cb38\" data-root-id=\"p2002\" style=\"display: contents;\"></div>\n",
       "</div>\n",
       "<script type=\"application/javascript\">(function(root) {\n",
       "  var docs_json = {\"d1169828-ede2-4164-bcba-6063bd8cc11f\":{\"version\":\"3.3.4\",\"title\":\"Bokeh Application\",\"roots\":[{\"type\":\"object\",\"name\":\"Row\",\"id\":\"p2002\",\"attributes\":{\"name\":\"Row02693\",\"tags\":[\"embedded\"],\"stylesheets\":[\"\\n:host(.pn-loading.pn-arc):before, .pn-loading.pn-arc:before {\\n  background-image: url(\\\"data:image/svg+xml;base64,PHN2ZyB4bWxucz0iaHR0cDovL3d3dy53My5vcmcvMjAwMC9zdmciIHN0eWxlPSJtYXJnaW46IGF1dG87IGJhY2tncm91bmQ6IG5vbmU7IGRpc3BsYXk6IGJsb2NrOyBzaGFwZS1yZW5kZXJpbmc6IGF1dG87IiB2aWV3Qm94PSIwIDAgMTAwIDEwMCIgcHJlc2VydmVBc3BlY3RSYXRpbz0ieE1pZFlNaWQiPiAgPGNpcmNsZSBjeD0iNTAiIGN5PSI1MCIgZmlsbD0ibm9uZSIgc3Ryb2tlPSIjYzNjM2MzIiBzdHJva2Utd2lkdGg9IjEwIiByPSIzNSIgc3Ryb2tlLWRhc2hhcnJheT0iMTY0LjkzMzYxNDMxMzQ2NDE1IDU2Ljk3Nzg3MTQzNzgyMTM4Ij4gICAgPGFuaW1hdGVUcmFuc2Zvcm0gYXR0cmlidXRlTmFtZT0idHJhbnNmb3JtIiB0eXBlPSJyb3RhdGUiIHJlcGVhdENvdW50PSJpbmRlZmluaXRlIiBkdXI9IjFzIiB2YWx1ZXM9IjAgNTAgNTA7MzYwIDUwIDUwIiBrZXlUaW1lcz0iMDsxIj48L2FuaW1hdGVUcmFuc2Zvcm0+ICA8L2NpcmNsZT48L3N2Zz4=\\\");\\n  background-size: auto calc(min(50%, 400px));\\n}\",{\"type\":\"object\",\"name\":\"ImportedStyleSheet\",\"id\":\"p2005\",\"attributes\":{\"url\":\"https://cdn.holoviz.org/panel/1.3.8/dist/css/loading.css\"}},{\"type\":\"object\",\"name\":\"ImportedStyleSheet\",\"id\":\"p2092\",\"attributes\":{\"url\":\"https://cdn.holoviz.org/panel/1.3.8/dist/css/listpanel.css\"}},{\"type\":\"object\",\"name\":\"ImportedStyleSheet\",\"id\":\"p2003\",\"attributes\":{\"url\":\"https://cdn.holoviz.org/panel/1.3.8/dist/bundled/theme/default.css\"}},{\"type\":\"object\",\"name\":\"ImportedStyleSheet\",\"id\":\"p2004\",\"attributes\":{\"url\":\"https://cdn.holoviz.org/panel/1.3.8/dist/bundled/theme/native.css\"}}],\"min_width\":700,\"margin\":0,\"sizing_mode\":\"stretch_width\",\"align\":\"start\",\"children\":[{\"type\":\"object\",\"name\":\"Spacer\",\"id\":\"p2006\",\"attributes\":{\"name\":\"HSpacer02700\",\"stylesheets\":[\"\\n:host(.pn-loading.pn-arc):before, .pn-loading.pn-arc:before {\\n  background-image: url(\\\"data:image/svg+xml;base64,PHN2ZyB4bWxucz0iaHR0cDovL3d3dy53My5vcmcvMjAwMC9zdmciIHN0eWxlPSJtYXJnaW46IGF1dG87IGJhY2tncm91bmQ6IG5vbmU7IGRpc3BsYXk6IGJsb2NrOyBzaGFwZS1yZW5kZXJpbmc6IGF1dG87IiB2aWV3Qm94PSIwIDAgMTAwIDEwMCIgcHJlc2VydmVBc3BlY3RSYXRpbz0ieE1pZFlNaWQiPiAgPGNpcmNsZSBjeD0iNTAiIGN5PSI1MCIgZmlsbD0ibm9uZSIgc3Ryb2tlPSIjYzNjM2MzIiBzdHJva2Utd2lkdGg9IjEwIiByPSIzNSIgc3Ryb2tlLWRhc2hhcnJheT0iMTY0LjkzMzYxNDMxMzQ2NDE1IDU2Ljk3Nzg3MTQzNzgyMTM4Ij4gICAgPGFuaW1hdGVUcmFuc2Zvcm0gYXR0cmlidXRlTmFtZT0idHJhbnNmb3JtIiB0eXBlPSJyb3RhdGUiIHJlcGVhdENvdW50PSJpbmRlZmluaXRlIiBkdXI9IjFzIiB2YWx1ZXM9IjAgNTAgNTA7MzYwIDUwIDUwIiBrZXlUaW1lcz0iMDsxIj48L2FuaW1hdGVUcmFuc2Zvcm0+ICA8L2NpcmNsZT48L3N2Zz4=\\\");\\n  background-size: auto calc(min(50%, 400px));\\n}\",{\"id\":\"p2005\"},{\"id\":\"p2003\"},{\"id\":\"p2004\"}],\"margin\":0,\"sizing_mode\":\"stretch_width\",\"align\":\"start\"}},{\"type\":\"object\",\"name\":\"Figure\",\"id\":\"p2017\",\"attributes\":{\"width\":700,\"height\":300,\"margin\":[5,10],\"sizing_mode\":\"fixed\",\"align\":\"start\",\"x_range\":{\"type\":\"object\",\"name\":\"Range1d\",\"id\":\"p2007\",\"attributes\":{\"tags\":[[[\"date\",\"date\",null]],[]],\"start\":1551398400000.0,\"end\":1580428800000.0,\"reset_start\":1551398400000.0,\"reset_end\":1580428800000.0}},\"y_range\":{\"type\":\"object\",\"name\":\"Range1d\",\"id\":\"p2008\",\"attributes\":{\"tags\":[[[\"value\",\"value\",null]],{\"type\":\"map\",\"entries\":[[\"invert_yaxis\",false],[\"autorange\",false]]}],\"start\":19.7,\"end\":107.3,\"reset_start\":19.7,\"reset_end\":107.3}},\"x_scale\":{\"type\":\"object\",\"name\":\"LinearScale\",\"id\":\"p2027\"},\"y_scale\":{\"type\":\"object\",\"name\":\"LinearScale\",\"id\":\"p2028\"},\"title\":{\"type\":\"object\",\"name\":\"Title\",\"id\":\"p2020\",\"attributes\":{\"text_color\":\"black\",\"text_font_size\":\"12pt\"}},\"renderers\":[{\"type\":\"object\",\"name\":\"GlyphRenderer\",\"id\":\"p2069\",\"attributes\":{\"name\":\"close\",\"data_source\":{\"type\":\"object\",\"name\":\"ColumnDataSource\",\"id\":\"p2060\",\"attributes\":{\"selected\":{\"type\":\"object\",\"name\":\"Selection\",\"id\":\"p2061\",\"attributes\":{\"indices\":[],\"line_indices\":[]}},\"selection_policy\":{\"type\":\"object\",\"name\":\"UnionRenderers\",\"id\":\"p2062\"},\"data\":{\"type\":\"map\",\"entries\":[[\"date\",{\"type\":\"ndarray\",\"array\":{\"type\":\"bytes\",\"data\":\"AAAAz2iTdkIAAECXqZV2QgAAgF/ql3ZCAADAJyuadkIAAADwa5x2QgAAQLisnnZCAACAgO2gdkIAAAARb6V2QgAAQNmvp3ZCAACAofCpdkIAAMBpMax2QgAAADJyrnZCAABA+rKwdkIAAIDC87J2QgAAwIo0tXZCAAAAU3W3dkIAAEAbtrl2QgAAgOP2u3ZCAADAqze+dkIAAAB0eMB2QgAAQDy5wnZCAACABPrEdkIAAMDMOsd2QgAAAJV7yXZCAABAXbzLdkIAAIAl/c12QgAAwO090HZCAAAAtn7SdkIAAEB+v9R2QgAAgEYA13ZCAADADkHZdkIAAADXgdt2QgAAQJ/C3XZCAACAZwPgdkIAAMAvROJ2QgAAAPiE5HZCAABAwMXmdkIAAICIBul2QgAAwFBH63ZCAAAAGYjtdkIAAEDhyO92QgAAgKkJ8nZCAADAcUr0dkIAAAA6i/Z2QgAAQALM+HZCAACAygz7dkIAAMCSTf12QgAAAFuO/3ZC\"},\"shape\":[48],\"dtype\":\"float64\",\"order\":\"little\"}],[\"value\",{\"type\":\"ndarray\",\"array\":{\"type\":\"bytes\",\"data\":\"H4XrUbjeRUA9CtejcJ1FQKRwPQrXQ0dA4XoUrkfhR0AfhetRuL5HQAAAAAAAoEhAXI/C9SjcSEAK16NwPYpJQLgehetReEpAZmZmZmamSEAAAAAAAKBHQB+F61G4XkZAw/UoXI/iRUCF61G4HsVHQLgehetRGEhAmpmZmZnZSEA9CtejcL1IQEjhehSuh0lACtejcD1qSUAzMzMzM1NJQLgehetR+ElA4XoUrkeBSUAAAAAAACBJQHE9Ctej0ElAFK5H4XpUSUC4HoXrURhKQClcj8L1qEpAuB6F61FYS0DXo3A9CjdLQHsUrkfhWktAAAAAAABgTEBmZmZmZoZNQM3MzMzMjE1AMzMzMzPTTkB7FK5H4fpPQMP1KFyPQlBAXI/C9SicUEBcj8L1KFxQQKRwPQrXs1BA7FG4HoXrUEDD9ShcjzJRQNejcD0Kd1FAzczMzMwcUkDXo3A9CpdSQIXrUbgeZVNA7FG4HoXrU0CF61G4HuVTQLgehetRWFNA\"},\"shape\":[48],\"dtype\":\"float64\",\"order\":\"little\"}],[\"Variable\",[\"close\",\"close\",\"close\",\"close\",\"close\",\"close\",\"close\",\"close\",\"close\",\"close\",\"close\",\"close\",\"close\",\"close\",\"close\",\"close\",\"close\",\"close\",\"close\",\"close\",\"close\",\"close\",\"close\",\"close\",\"close\",\"close\",\"close\",\"close\",\"close\",\"close\",\"close\",\"close\",\"close\",\"close\",\"close\",\"close\",\"close\",\"close\",\"close\",\"close\",\"close\",\"close\",\"close\",\"close\",\"close\",\"close\",\"close\",\"close\"]]]}}},\"view\":{\"type\":\"object\",\"name\":\"CDSView\",\"id\":\"p2070\",\"attributes\":{\"filter\":{\"type\":\"object\",\"name\":\"AllIndices\",\"id\":\"p2071\"}}},\"glyph\":{\"type\":\"object\",\"name\":\"Line\",\"id\":\"p2066\",\"attributes\":{\"tags\":[\"apply_ranges\"],\"x\":{\"type\":\"field\",\"field\":\"date\"},\"y\":{\"type\":\"field\",\"field\":\"value\"},\"line_color\":\"#30a2da\",\"line_width\":2}},\"selection_glyph\":{\"type\":\"object\",\"name\":\"Line\",\"id\":\"p2074\",\"attributes\":{\"tags\":[\"apply_ranges\"],\"x\":{\"type\":\"field\",\"field\":\"date\"},\"y\":{\"type\":\"field\",\"field\":\"value\"},\"line_color\":\"#30a2da\",\"line_width\":2}},\"nonselection_glyph\":{\"type\":\"object\",\"name\":\"Line\",\"id\":\"p2067\",\"attributes\":{\"tags\":[\"apply_ranges\"],\"x\":{\"type\":\"field\",\"field\":\"date\"},\"y\":{\"type\":\"field\",\"field\":\"value\"},\"line_color\":\"#30a2da\",\"line_alpha\":0.1,\"line_width\":2}},\"muted_glyph\":{\"type\":\"object\",\"name\":\"Line\",\"id\":\"p2068\",\"attributes\":{\"tags\":[\"apply_ranges\"],\"x\":{\"type\":\"field\",\"field\":\"date\"},\"y\":{\"type\":\"field\",\"field\":\"value\"},\"line_color\":\"#30a2da\",\"line_alpha\":0.2,\"line_width\":2}}}},{\"type\":\"object\",\"name\":\"GlyphRenderer\",\"id\":\"p2084\",\"attributes\":{\"name\":\"trend-worldwide\",\"data_source\":{\"type\":\"object\",\"name\":\"ColumnDataSource\",\"id\":\"p2075\",\"attributes\":{\"selected\":{\"type\":\"object\",\"name\":\"Selection\",\"id\":\"p2076\",\"attributes\":{\"indices\":[],\"line_indices\":[]}},\"selection_policy\":{\"type\":\"object\",\"name\":\"UnionRenderers\",\"id\":\"p2077\"},\"data\":{\"type\":\"map\",\"entries\":[[\"date\",{\"type\":\"ndarray\",\"array\":{\"type\":\"bytes\",\"data\":\"AAAAz2iTdkIAAECXqZV2QgAAgF/ql3ZCAADAJyuadkIAAADwa5x2QgAAQLisnnZCAACAgO2gdkIAAAARb6V2QgAAQNmvp3ZCAACAofCpdkIAAMBpMax2QgAAADJyrnZCAABA+rKwdkIAAIDC87J2QgAAwIo0tXZCAAAAU3W3dkIAAEAbtrl2QgAAgOP2u3ZCAADAqze+dkIAAAB0eMB2QgAAQDy5wnZCAACABPrEdkIAAMDMOsd2QgAAAJV7yXZCAABAXbzLdkIAAIAl/c12QgAAwO090HZCAAAAtn7SdkIAAEB+v9R2QgAAgEYA13ZCAADADkHZdkIAAADXgdt2QgAAQJ/C3XZCAACAZwPgdkIAAMAvROJ2QgAAAPiE5HZCAABAwMXmdkIAAICIBul2QgAAwFBH63ZCAAAAGYjtdkIAAEDhyO92QgAAgKkJ8nZCAADAcUr0dkIAAAA6i/Z2QgAAQALM+HZCAACAygz7dkIAAMCSTf12QgAAAFuO/3ZC\"},\"shape\":[48],\"dtype\":\"float64\",\"order\":\"little\"}],[\"value\",{\"type\":\"ndarray\",\"array\":{\"type\":\"bytes\",\"data\":\"AAAAAAAAO0AAAAAAAAA7QAAAAAAAADtAAAAAAAAAPkAAAAAAAABBQAAAAAAAAD1AAAAAAAAAO0AAAAAAAAA7QAAAAAAAADxAAAAAAAAAO0AAAAAAAAA7QAAAAAAAADxAAAAAAAAAO0AAAAAAAIBBQAAAAAAAAD5AAAAAAAAAPUAAAAAAAAA8QAAAAAAAADxAAAAAAAAAPEAAAAAAAAA+QAAAAAAAADxAAAAAAAAAPUAAAAAAAAA9QAAAAAAAAD5AAAAAAAAAPkAAAAAAAABIQAAAAAAAAFlAAAAAAADAV0AAAAAAAEBTQAAAAAAAgE5AAAAAAAAAQkAAAAAAAABCQAAAAAAAAEFAAAAAAACAQEAAAAAAAABDQAAAAAAAgEJAAAAAAACAQkAAAAAAAABCQAAAAAAAAEdAAAAAAAAAREAAAAAAAIBCQAAAAAAAAENAAAAAAAAAR0AAAAAAAABDQAAAAAAAAEFAAAAAAAAAQEAAAAAAAABAQAAAAAAAAD9A\"},\"shape\":[48],\"dtype\":\"float64\",\"order\":\"little\"}],[\"Variable\",[\"trend-worldwide\",\"trend-worldwide\",\"trend-worldwide\",\"trend-worldwide\",\"trend-worldwide\",\"trend-worldwide\",\"trend-worldwide\",\"trend-worldwide\",\"trend-worldwide\",\"trend-worldwide\",\"trend-worldwide\",\"trend-worldwide\",\"trend-worldwide\",\"trend-worldwide\",\"trend-worldwide\",\"trend-worldwide\",\"trend-worldwide\",\"trend-worldwide\",\"trend-worldwide\",\"trend-worldwide\",\"trend-worldwide\",\"trend-worldwide\",\"trend-worldwide\",\"trend-worldwide\",\"trend-worldwide\",\"trend-worldwide\",\"trend-worldwide\",\"trend-worldwide\",\"trend-worldwide\",\"trend-worldwide\",\"trend-worldwide\",\"trend-worldwide\",\"trend-worldwide\",\"trend-worldwide\",\"trend-worldwide\",\"trend-worldwide\",\"trend-worldwide\",\"trend-worldwide\",\"trend-worldwide\",\"trend-worldwide\",\"trend-worldwide\",\"trend-worldwide\",\"trend-worldwide\",\"trend-worldwide\",\"trend-worldwide\",\"trend-worldwide\",\"trend-worldwide\",\"trend-worldwide\"]]]}}},\"view\":{\"type\":\"object\",\"name\":\"CDSView\",\"id\":\"p2085\",\"attributes\":{\"filter\":{\"type\":\"object\",\"name\":\"AllIndices\",\"id\":\"p2086\"}}},\"glyph\":{\"type\":\"object\",\"name\":\"Line\",\"id\":\"p2081\",\"attributes\":{\"tags\":[\"apply_ranges\"],\"x\":{\"type\":\"field\",\"field\":\"date\"},\"y\":{\"type\":\"field\",\"field\":\"value\"},\"line_color\":\"#fc4f30\",\"line_width\":2}},\"selection_glyph\":{\"type\":\"object\",\"name\":\"Line\",\"id\":\"p2088\",\"attributes\":{\"tags\":[\"apply_ranges\"],\"x\":{\"type\":\"field\",\"field\":\"date\"},\"y\":{\"type\":\"field\",\"field\":\"value\"},\"line_color\":\"#fc4f30\",\"line_width\":2}},\"nonselection_glyph\":{\"type\":\"object\",\"name\":\"Line\",\"id\":\"p2082\",\"attributes\":{\"tags\":[\"apply_ranges\"],\"x\":{\"type\":\"field\",\"field\":\"date\"},\"y\":{\"type\":\"field\",\"field\":\"value\"},\"line_color\":\"#fc4f30\",\"line_alpha\":0.1,\"line_width\":2}},\"muted_glyph\":{\"type\":\"object\",\"name\":\"Line\",\"id\":\"p2083\",\"attributes\":{\"tags\":[\"apply_ranges\"],\"x\":{\"type\":\"field\",\"field\":\"date\"},\"y\":{\"type\":\"field\",\"field\":\"value\"},\"line_color\":\"#fc4f30\",\"line_alpha\":0.2,\"line_width\":2}}}}],\"toolbar\":{\"type\":\"object\",\"name\":\"Toolbar\",\"id\":\"p2026\",\"attributes\":{\"tools\":[{\"type\":\"object\",\"name\":\"WheelZoomTool\",\"id\":\"p2012\",\"attributes\":{\"tags\":[\"hv_created\"],\"renderers\":\"auto\",\"zoom_together\":\"none\"}},{\"type\":\"object\",\"name\":\"HoverTool\",\"id\":\"p2013\",\"attributes\":{\"tags\":[\"hv_created\"],\"renderers\":[{\"id\":\"p2069\"},{\"id\":\"p2084\"}],\"tooltips\":[[\"Variable\",\"@{Variable}\"],[\"date\",\"@{date}{%F %T}\"],[\"value\",\"@{value}\"]],\"formatters\":{\"type\":\"map\",\"entries\":[[\"@{date}\",\"datetime\"]]}}},{\"type\":\"object\",\"name\":\"SaveTool\",\"id\":\"p2051\"},{\"type\":\"object\",\"name\":\"PanTool\",\"id\":\"p2052\"},{\"type\":\"object\",\"name\":\"BoxZoomTool\",\"id\":\"p2053\",\"attributes\":{\"overlay\":{\"type\":\"object\",\"name\":\"BoxAnnotation\",\"id\":\"p2054\",\"attributes\":{\"syncable\":false,\"level\":\"overlay\",\"visible\":false,\"left\":{\"type\":\"number\",\"value\":\"nan\"},\"right\":{\"type\":\"number\",\"value\":\"nan\"},\"top\":{\"type\":\"number\",\"value\":\"nan\"},\"bottom\":{\"type\":\"number\",\"value\":\"nan\"},\"left_units\":\"canvas\",\"right_units\":\"canvas\",\"top_units\":\"canvas\",\"bottom_units\":\"canvas\",\"line_color\":\"black\",\"line_alpha\":1.0,\"line_width\":2,\"line_dash\":[4,4],\"fill_color\":\"lightgrey\",\"fill_alpha\":0.5}}}},{\"type\":\"object\",\"name\":\"ResetTool\",\"id\":\"p2059\"}],\"active_drag\":{\"id\":\"p2052\"},\"active_scroll\":{\"id\":\"p2012\"}}},\"left\":[{\"type\":\"object\",\"name\":\"LinearAxis\",\"id\":\"p2046\",\"attributes\":{\"ticker\":{\"type\":\"object\",\"name\":\"BasicTicker\",\"id\":\"p2047\",\"attributes\":{\"mantissas\":[1,2,5]}},\"formatter\":{\"type\":\"object\",\"name\":\"BasicTickFormatter\",\"id\":\"p2048\"},\"axis_label\":\"\",\"major_label_policy\":{\"type\":\"object\",\"name\":\"AllLabels\",\"id\":\"p2049\"}}}],\"right\":[{\"type\":\"object\",\"name\":\"Legend\",\"id\":\"p2072\",\"attributes\":{\"location\":[0,0],\"title\":\"Variable\",\"click_policy\":\"mute\",\"items\":[{\"type\":\"object\",\"name\":\"LegendItem\",\"id\":\"p2073\",\"attributes\":{\"label\":{\"type\":\"value\",\"value\":\"close\"},\"renderers\":[{\"id\":\"p2069\"}]}},{\"type\":\"object\",\"name\":\"LegendItem\",\"id\":\"p2087\",\"attributes\":{\"label\":{\"type\":\"value\",\"value\":\"trend-worldwide\"},\"renderers\":[{\"id\":\"p2084\"}]}}]}}],\"below\":[{\"type\":\"object\",\"name\":\"DatetimeAxis\",\"id\":\"p2029\",\"attributes\":{\"ticker\":{\"type\":\"object\",\"name\":\"DatetimeTicker\",\"id\":\"p2030\",\"attributes\":{\"num_minor_ticks\":5,\"tickers\":[{\"type\":\"object\",\"name\":\"AdaptiveTicker\",\"id\":\"p2031\",\"attributes\":{\"num_minor_ticks\":0,\"mantissas\":[1,2,5],\"max_interval\":500.0}},{\"type\":\"object\",\"name\":\"AdaptiveTicker\",\"id\":\"p2032\",\"attributes\":{\"num_minor_ticks\":0,\"base\":60,\"mantissas\":[1,2,5,10,15,20,30],\"min_interval\":1000.0,\"max_interval\":1800000.0}},{\"type\":\"object\",\"name\":\"AdaptiveTicker\",\"id\":\"p2033\",\"attributes\":{\"num_minor_ticks\":0,\"base\":24,\"mantissas\":[1,2,4,6,8,12],\"min_interval\":3600000.0,\"max_interval\":43200000.0}},{\"type\":\"object\",\"name\":\"DaysTicker\",\"id\":\"p2034\",\"attributes\":{\"days\":[1,2,3,4,5,6,7,8,9,10,11,12,13,14,15,16,17,18,19,20,21,22,23,24,25,26,27,28,29,30,31]}},{\"type\":\"object\",\"name\":\"DaysTicker\",\"id\":\"p2035\",\"attributes\":{\"days\":[1,4,7,10,13,16,19,22,25,28]}},{\"type\":\"object\",\"name\":\"DaysTicker\",\"id\":\"p2036\",\"attributes\":{\"days\":[1,8,15,22]}},{\"type\":\"object\",\"name\":\"DaysTicker\",\"id\":\"p2037\",\"attributes\":{\"days\":[1,15]}},{\"type\":\"object\",\"name\":\"MonthsTicker\",\"id\":\"p2038\",\"attributes\":{\"months\":[0,1,2,3,4,5,6,7,8,9,10,11]}},{\"type\":\"object\",\"name\":\"MonthsTicker\",\"id\":\"p2039\",\"attributes\":{\"months\":[0,2,4,6,8,10]}},{\"type\":\"object\",\"name\":\"MonthsTicker\",\"id\":\"p2040\",\"attributes\":{\"months\":[0,4,8]}},{\"type\":\"object\",\"name\":\"MonthsTicker\",\"id\":\"p2041\",\"attributes\":{\"months\":[0,6]}},{\"type\":\"object\",\"name\":\"YearsTicker\",\"id\":\"p2042\"}]}},\"formatter\":{\"type\":\"object\",\"name\":\"DatetimeTickFormatter\",\"id\":\"p2043\"},\"axis_label\":\"date\",\"major_label_policy\":{\"type\":\"object\",\"name\":\"AllLabels\",\"id\":\"p2044\"}}}],\"center\":[{\"type\":\"object\",\"name\":\"Grid\",\"id\":\"p2045\",\"attributes\":{\"axis\":{\"id\":\"p2029\"},\"grid_line_color\":null}},{\"type\":\"object\",\"name\":\"Grid\",\"id\":\"p2050\",\"attributes\":{\"dimension\":1,\"axis\":{\"id\":\"p2046\"},\"grid_line_color\":null}}],\"min_border_top\":10,\"min_border_bottom\":10,\"min_border_left\":10,\"min_border_right\":10,\"output_backend\":\"webgl\"}},{\"type\":\"object\",\"name\":\"Spacer\",\"id\":\"p2090\",\"attributes\":{\"name\":\"HSpacer02701\",\"stylesheets\":[\"\\n:host(.pn-loading.pn-arc):before, .pn-loading.pn-arc:before {\\n  background-image: url(\\\"data:image/svg+xml;base64,PHN2ZyB4bWxucz0iaHR0cDovL3d3dy53My5vcmcvMjAwMC9zdmciIHN0eWxlPSJtYXJnaW46IGF1dG87IGJhY2tncm91bmQ6IG5vbmU7IGRpc3BsYXk6IGJsb2NrOyBzaGFwZS1yZW5kZXJpbmc6IGF1dG87IiB2aWV3Qm94PSIwIDAgMTAwIDEwMCIgcHJlc2VydmVBc3BlY3RSYXRpbz0ieE1pZFlNaWQiPiAgPGNpcmNsZSBjeD0iNTAiIGN5PSI1MCIgZmlsbD0ibm9uZSIgc3Ryb2tlPSIjYzNjM2MzIiBzdHJva2Utd2lkdGg9IjEwIiByPSIzNSIgc3Ryb2tlLWRhc2hhcnJheT0iMTY0LjkzMzYxNDMxMzQ2NDE1IDU2Ljk3Nzg3MTQzNzgyMTM4Ij4gICAgPGFuaW1hdGVUcmFuc2Zvcm0gYXR0cmlidXRlTmFtZT0idHJhbnNmb3JtIiB0eXBlPSJyb3RhdGUiIHJlcGVhdENvdW50PSJpbmRlZmluaXRlIiBkdXI9IjFzIiB2YWx1ZXM9IjAgNTAgNTA7MzYwIDUwIDUwIiBrZXlUaW1lcz0iMDsxIj48L2FuaW1hdGVUcmFuc2Zvcm0+ICA8L2NpcmNsZT48L3N2Zz4=\\\");\\n  background-size: auto calc(min(50%, 400px));\\n}\",{\"id\":\"p2005\"},{\"id\":\"p2003\"},{\"id\":\"p2004\"}],\"margin\":0,\"sizing_mode\":\"stretch_width\",\"align\":\"start\"}}]}}],\"defs\":[{\"type\":\"model\",\"name\":\"ReactiveHTML1\"},{\"type\":\"model\",\"name\":\"FlexBox1\",\"properties\":[{\"name\":\"align_content\",\"kind\":\"Any\",\"default\":\"flex-start\"},{\"name\":\"align_items\",\"kind\":\"Any\",\"default\":\"flex-start\"},{\"name\":\"flex_direction\",\"kind\":\"Any\",\"default\":\"row\"},{\"name\":\"flex_wrap\",\"kind\":\"Any\",\"default\":\"wrap\"},{\"name\":\"justify_content\",\"kind\":\"Any\",\"default\":\"flex-start\"}]},{\"type\":\"model\",\"name\":\"FloatPanel1\",\"properties\":[{\"name\":\"config\",\"kind\":\"Any\",\"default\":{\"type\":\"map\"}},{\"name\":\"contained\",\"kind\":\"Any\",\"default\":true},{\"name\":\"position\",\"kind\":\"Any\",\"default\":\"right-top\"},{\"name\":\"offsetx\",\"kind\":\"Any\",\"default\":null},{\"name\":\"offsety\",\"kind\":\"Any\",\"default\":null},{\"name\":\"theme\",\"kind\":\"Any\",\"default\":\"primary\"},{\"name\":\"status\",\"kind\":\"Any\",\"default\":\"normalized\"}]},{\"type\":\"model\",\"name\":\"GridStack1\",\"properties\":[{\"name\":\"mode\",\"kind\":\"Any\",\"default\":\"warn\"},{\"name\":\"ncols\",\"kind\":\"Any\",\"default\":null},{\"name\":\"nrows\",\"kind\":\"Any\",\"default\":null},{\"name\":\"allow_resize\",\"kind\":\"Any\",\"default\":true},{\"name\":\"allow_drag\",\"kind\":\"Any\",\"default\":true},{\"name\":\"state\",\"kind\":\"Any\",\"default\":[]}]},{\"type\":\"model\",\"name\":\"drag1\",\"properties\":[{\"name\":\"slider_width\",\"kind\":\"Any\",\"default\":5},{\"name\":\"slider_color\",\"kind\":\"Any\",\"default\":\"black\"},{\"name\":\"value\",\"kind\":\"Any\",\"default\":50}]},{\"type\":\"model\",\"name\":\"click1\",\"properties\":[{\"name\":\"terminal_output\",\"kind\":\"Any\",\"default\":\"\"},{\"name\":\"debug_name\",\"kind\":\"Any\",\"default\":\"\"},{\"name\":\"clears\",\"kind\":\"Any\",\"default\":0}]},{\"type\":\"model\",\"name\":\"copy_to_clipboard1\",\"properties\":[{\"name\":\"fill\",\"kind\":\"Any\",\"default\":\"none\"},{\"name\":\"value\",\"kind\":\"Any\",\"default\":null}]},{\"type\":\"model\",\"name\":\"FastWrapper1\",\"properties\":[{\"name\":\"object\",\"kind\":\"Any\",\"default\":null},{\"name\":\"style\",\"kind\":\"Any\",\"default\":null}]},{\"type\":\"model\",\"name\":\"NotificationAreaBase1\",\"properties\":[{\"name\":\"js_events\",\"kind\":\"Any\",\"default\":{\"type\":\"map\"}},{\"name\":\"position\",\"kind\":\"Any\",\"default\":\"bottom-right\"},{\"name\":\"_clear\",\"kind\":\"Any\",\"default\":0}]},{\"type\":\"model\",\"name\":\"NotificationArea1\",\"properties\":[{\"name\":\"js_events\",\"kind\":\"Any\",\"default\":{\"type\":\"map\"}},{\"name\":\"notifications\",\"kind\":\"Any\",\"default\":[]},{\"name\":\"position\",\"kind\":\"Any\",\"default\":\"bottom-right\"},{\"name\":\"_clear\",\"kind\":\"Any\",\"default\":0},{\"name\":\"types\",\"kind\":\"Any\",\"default\":[{\"type\":\"map\",\"entries\":[[\"type\",\"warning\"],[\"background\",\"#ffc107\"],[\"icon\",{\"type\":\"map\",\"entries\":[[\"className\",\"fas fa-exclamation-triangle\"],[\"tagName\",\"i\"],[\"color\",\"white\"]]}]]},{\"type\":\"map\",\"entries\":[[\"type\",\"info\"],[\"background\",\"#007bff\"],[\"icon\",{\"type\":\"map\",\"entries\":[[\"className\",\"fas fa-info-circle\"],[\"tagName\",\"i\"],[\"color\",\"white\"]]}]]}]}]},{\"type\":\"model\",\"name\":\"Notification\",\"properties\":[{\"name\":\"background\",\"kind\":\"Any\",\"default\":null},{\"name\":\"duration\",\"kind\":\"Any\",\"default\":3000},{\"name\":\"icon\",\"kind\":\"Any\",\"default\":null},{\"name\":\"message\",\"kind\":\"Any\",\"default\":\"\"},{\"name\":\"notification_type\",\"kind\":\"Any\",\"default\":null},{\"name\":\"_destroyed\",\"kind\":\"Any\",\"default\":false}]},{\"type\":\"model\",\"name\":\"TemplateActions1\",\"properties\":[{\"name\":\"open_modal\",\"kind\":\"Any\",\"default\":0},{\"name\":\"close_modal\",\"kind\":\"Any\",\"default\":0}]},{\"type\":\"model\",\"name\":\"BootstrapTemplateActions1\",\"properties\":[{\"name\":\"open_modal\",\"kind\":\"Any\",\"default\":0},{\"name\":\"close_modal\",\"kind\":\"Any\",\"default\":0}]},{\"type\":\"model\",\"name\":\"MaterialTemplateActions1\",\"properties\":[{\"name\":\"open_modal\",\"kind\":\"Any\",\"default\":0},{\"name\":\"close_modal\",\"kind\":\"Any\",\"default\":0}]}]}};\n",
       "  var render_items = [{\"docid\":\"d1169828-ede2-4164-bcba-6063bd8cc11f\",\"roots\":{\"p2002\":\"b8cd04a5-4b7e-4c9e-b23b-2d661bd9cb38\"},\"root_ids\":[\"p2002\"]}];\n",
       "  var docs = Object.values(docs_json)\n",
       "  if (!docs) {\n",
       "    return\n",
       "  }\n",
       "  const py_version = docs[0].version.replace('rc', '-rc.').replace('.dev', '-dev.')\n",
       "  function embed_document(root) {\n",
       "    var Bokeh = get_bokeh(root)\n",
       "    Bokeh.embed.embed_items_notebook(docs_json, render_items);\n",
       "    for (const render_item of render_items) {\n",
       "      for (const root_id of render_item.root_ids) {\n",
       "\tconst id_el = document.getElementById(root_id)\n",
       "\tif (id_el.children.length && (id_el.children[0].className === 'bk-root')) {\n",
       "\t  const root_el = id_el.children[0]\n",
       "\t  root_el.id = root_el.id + '-rendered'\n",
       "\t}\n",
       "      }\n",
       "    }\n",
       "  }\n",
       "  function get_bokeh(root) {\n",
       "    if (root.Bokeh === undefined) {\n",
       "      return null\n",
       "    } else if (root.Bokeh.version !== py_version) {\n",
       "      if (root.Bokeh.versions === undefined || !root.Bokeh.versions.has(py_version)) {\n",
       "\treturn null\n",
       "      }\n",
       "      return root.Bokeh.versions.get(py_version);\n",
       "    } else if (root.Bokeh.version === py_version) {\n",
       "      return root.Bokeh\n",
       "    }\n",
       "    return null\n",
       "  }\n",
       "  function is_loaded(root) {\n",
       "    var Bokeh = get_bokeh(root)\n",
       "    return (Bokeh != null && Bokeh.Panel !== undefined)\n",
       "  }\n",
       "  if (is_loaded(root)) {\n",
       "    embed_document(root);\n",
       "  } else {\n",
       "    var attempts = 0;\n",
       "    var timer = setInterval(function(root) {\n",
       "      if (is_loaded(root)) {\n",
       "        clearInterval(timer);\n",
       "        embed_document(root);\n",
       "      } else if (document.readyState == \"complete\") {\n",
       "        attempts++;\n",
       "        if (attempts > 200) {\n",
       "          clearInterval(timer);\n",
       "\t  var Bokeh = get_bokeh(root)\n",
       "\t  if (Bokeh == null || Bokeh.Panel == null) {\n",
       "            console.warn(\"Panel: ERROR: Unable to run Panel code because Bokeh or Panel library is missing\");\n",
       "\t  } else {\n",
       "\t    console.warn(\"Panel: WARNING: Attempting to render but not all required libraries could be resolved.\")\n",
       "\t    embed_document(root)\n",
       "\t  }\n",
       "        }\n",
       "      }\n",
       "    }, 25, root)\n",
       "  }\n",
       "})(window);</script>"
      ],
      "text/plain": [
       ":NdOverlay   [Variable]\n",
       "   :Curve   [date]   (value)"
      ]
     },
     "execution_count": 44,
     "metadata": {
      "application/vnd.holoviews_exec.v0+json": {
       "id": "p2002"
      }
     },
     "output_type": "execute_result"
    }
   ],
   "source": [
    "# Visualize the df_spotlight DataFrame\n",
    "awesome.hvplot(kind='line')"
   ]
  },
  {
   "cell_type": "markdown",
   "metadata": {},
   "source": [
    "### Step 4: Before seeking any correlations between these time series, add columns to the `df_apple` DataFrame to analyze the impact of the Google Trends data on the weekly returns and stock volatility, as follows:\n",
    "\n",
    "1. Use the Pandas `shift` function to add a new column that lags the Google Trends data by one period.\n",
    "\n",
    "    > **Hint** Google Trends data is reported every week on Sunday, so you have a weekly period in this time series.\n",
    "\n",
    "2. Use the Pandas `pct_change` function to add a new column that has the weekly price returns.\n",
    "\n",
    "3. Compute the rolling stock volatility for Apple by using the following Pandas method:\n",
    "\n",
    "    `df_apple[\"weekly_volatility\"] = df_apple[\"close\"].pct_change().rolling(window=4).std()`\n"
   ]
  },
  {
   "cell_type": "code",
   "execution_count": 48,
   "metadata": {},
   "outputs": [],
   "source": [
    "# Create a column which lags Google trends by one week\n",
    "# Use the shift function, and move the data down by one row\n",
    "df_apple['lagged_trends'] = df_apple['trend-worldwide'].shift(1)"
   ]
  },
  {
   "cell_type": "code",
   "execution_count": 49,
   "metadata": {},
   "outputs": [],
   "source": [
    "# Create a column that contains the Apple weekly return data\n",
    "# Use the pct_change function to calculate the weekly return values\n",
    "df_apple[\"weekly_returns\"] = df_apple[\"close\"].pct_change()"
   ]
  },
  {
   "cell_type": "code",
   "execution_count": 50,
   "metadata": {},
   "outputs": [],
   "source": [
    "# Create a column of Apple weekly rolling stock volatility \n",
    "# Chain the pct_function, the rolling function and a 4 period window, and the std function \n",
    "df_apple[\"weekly_volatility\"] = df_apple[\"close\"].pct_change().rolling(window=4).std()"
   ]
  },
  {
   "cell_type": "code",
   "execution_count": 51,
   "metadata": {},
   "outputs": [
    {
     "data": {
      "text/html": [
       "<div>\n",
       "<style scoped>\n",
       "    .dataframe tbody tr th:only-of-type {\n",
       "        vertical-align: middle;\n",
       "    }\n",
       "\n",
       "    .dataframe tbody tr th {\n",
       "        vertical-align: top;\n",
       "    }\n",
       "\n",
       "    .dataframe thead th {\n",
       "        text-align: right;\n",
       "    }\n",
       "</style>\n",
       "<table border=\"1\" class=\"dataframe\">\n",
       "  <thead>\n",
       "    <tr style=\"text-align: right;\">\n",
       "      <th></th>\n",
       "      <th>close</th>\n",
       "      <th>trend-worldwide</th>\n",
       "      <th>lagged_trends</th>\n",
       "      <th>weekly_returns</th>\n",
       "      <th>weekly_volatility</th>\n",
       "    </tr>\n",
       "    <tr>\n",
       "      <th>date</th>\n",
       "      <th></th>\n",
       "      <th></th>\n",
       "      <th></th>\n",
       "      <th></th>\n",
       "      <th></th>\n",
       "    </tr>\n",
       "  </thead>\n",
       "  <tbody>\n",
       "    <tr>\n",
       "      <th>2015-10-23</th>\n",
       "      <td>29.77</td>\n",
       "      <td>32.0</td>\n",
       "      <td>NaN</td>\n",
       "      <td>NaN</td>\n",
       "      <td>NaN</td>\n",
       "    </tr>\n",
       "    <tr>\n",
       "      <th>2015-10-30</th>\n",
       "      <td>29.88</td>\n",
       "      <td>33.0</td>\n",
       "      <td>32.0</td>\n",
       "      <td>0.003695</td>\n",
       "      <td>NaN</td>\n",
       "    </tr>\n",
       "    <tr>\n",
       "      <th>2015-11-06</th>\n",
       "      <td>30.27</td>\n",
       "      <td>32.0</td>\n",
       "      <td>33.0</td>\n",
       "      <td>0.013052</td>\n",
       "      <td>NaN</td>\n",
       "    </tr>\n",
       "    <tr>\n",
       "      <th>2015-11-13</th>\n",
       "      <td>28.09</td>\n",
       "      <td>32.0</td>\n",
       "      <td>32.0</td>\n",
       "      <td>-0.072019</td>\n",
       "      <td>NaN</td>\n",
       "    </tr>\n",
       "    <tr>\n",
       "      <th>2015-11-20</th>\n",
       "      <td>29.83</td>\n",
       "      <td>31.0</td>\n",
       "      <td>32.0</td>\n",
       "      <td>0.061944</td>\n",
       "      <td>0.055367</td>\n",
       "    </tr>\n",
       "    <tr>\n",
       "      <th>2015-11-27</th>\n",
       "      <td>29.45</td>\n",
       "      <td>35.0</td>\n",
       "      <td>31.0</td>\n",
       "      <td>-0.012739</td>\n",
       "      <td>0.055775</td>\n",
       "    </tr>\n",
       "  </tbody>\n",
       "</table>\n",
       "</div>"
      ],
      "text/plain": [
       "            close  trend-worldwide  lagged_trends  weekly_returns  \\\n",
       "date                                                                \n",
       "2015-10-23  29.77             32.0            NaN             NaN   \n",
       "2015-10-30  29.88             33.0           32.0        0.003695   \n",
       "2015-11-06  30.27             32.0           33.0        0.013052   \n",
       "2015-11-13  28.09             32.0           32.0       -0.072019   \n",
       "2015-11-20  29.83             31.0           32.0        0.061944   \n",
       "2015-11-27  29.45             35.0           31.0       -0.012739   \n",
       "\n",
       "            weekly_volatility  \n",
       "date                           \n",
       "2015-10-23                NaN  \n",
       "2015-10-30                NaN  \n",
       "2015-11-06                NaN  \n",
       "2015-11-13                NaN  \n",
       "2015-11-20           0.055367  \n",
       "2015-11-27           0.055775  "
      ]
     },
     "execution_count": 51,
     "metadata": {},
     "output_type": "execute_result"
    }
   ],
   "source": [
    "# Display the df_apple DataFrame to confirm all columns are present\n",
    "df_apple.head(6)"
   ]
  },
  {
   "cell_type": "markdown",
   "metadata": {},
   "source": [
    "### Step 5: Use the Pandas `corr` function to compute the correlations among the lagged Google Trends data, the price returns, and the stock volatility. Does any predictable relationship exist?"
   ]
  },
  {
   "cell_type": "code",
   "execution_count": 55,
   "metadata": {},
   "outputs": [
    {
     "data": {
      "text/html": [
       "<div>\n",
       "<style scoped>\n",
       "    .dataframe tbody tr th:only-of-type {\n",
       "        vertical-align: middle;\n",
       "    }\n",
       "\n",
       "    .dataframe tbody tr th {\n",
       "        vertical-align: top;\n",
       "    }\n",
       "\n",
       "    .dataframe thead th {\n",
       "        text-align: right;\n",
       "    }\n",
       "</style>\n",
       "<table border=\"1\" class=\"dataframe\">\n",
       "  <thead>\n",
       "    <tr style=\"text-align: right;\">\n",
       "      <th></th>\n",
       "      <th>lagged_trends</th>\n",
       "      <th>weekly_returns</th>\n",
       "      <th>weekly_volatility</th>\n",
       "      <th>trend-worldwide</th>\n",
       "    </tr>\n",
       "  </thead>\n",
       "  <tbody>\n",
       "    <tr>\n",
       "      <th>lagged_trends</th>\n",
       "      <td>1.000000</td>\n",
       "      <td>0.026701</td>\n",
       "      <td>0.004911</td>\n",
       "      <td>0.735369</td>\n",
       "    </tr>\n",
       "    <tr>\n",
       "      <th>weekly_returns</th>\n",
       "      <td>0.026701</td>\n",
       "      <td>1.000000</td>\n",
       "      <td>0.086676</td>\n",
       "      <td>0.019526</td>\n",
       "    </tr>\n",
       "    <tr>\n",
       "      <th>weekly_volatility</th>\n",
       "      <td>0.004911</td>\n",
       "      <td>0.086676</td>\n",
       "      <td>1.000000</td>\n",
       "      <td>-0.014795</td>\n",
       "    </tr>\n",
       "    <tr>\n",
       "      <th>trend-worldwide</th>\n",
       "      <td>0.735369</td>\n",
       "      <td>0.019526</td>\n",
       "      <td>-0.014795</td>\n",
       "      <td>1.000000</td>\n",
       "    </tr>\n",
       "  </tbody>\n",
       "</table>\n",
       "</div>"
      ],
      "text/plain": [
       "                   lagged_trends  weekly_returns  weekly_volatility  \\\n",
       "lagged_trends           1.000000        0.026701           0.004911   \n",
       "weekly_returns          0.026701        1.000000           0.086676   \n",
       "weekly_volatility       0.004911        0.086676           1.000000   \n",
       "trend-worldwide         0.735369        0.019526          -0.014795   \n",
       "\n",
       "                   trend-worldwide  \n",
       "lagged_trends             0.735369  \n",
       "weekly_returns            0.019526  \n",
       "weekly_volatility        -0.014795  \n",
       "trend-worldwide           1.000000  "
      ]
     },
     "execution_count": 55,
     "metadata": {},
     "output_type": "execute_result"
    }
   ],
   "source": [
    "# Use the corr function to compute the correlation between the lagged Google Trends data, price returns, and stock volatility\n",
    "df_apple[[\"lagged_trends\", \"weekly_returns\", \"weekly_volatility\", 'trend-worldwide']].corr()"
   ]
  },
  {
   "cell_type": "code",
   "execution_count": 23,
   "metadata": {},
   "outputs": [
    {
     "data": {
      "text/html": [
       "<div>\n",
       "<style scoped>\n",
       "    .dataframe tbody tr th:only-of-type {\n",
       "        vertical-align: middle;\n",
       "    }\n",
       "\n",
       "    .dataframe tbody tr th {\n",
       "        vertical-align: top;\n",
       "    }\n",
       "\n",
       "    .dataframe thead th {\n",
       "        text-align: right;\n",
       "    }\n",
       "</style>\n",
       "<table border=\"1\" class=\"dataframe\">\n",
       "  <thead>\n",
       "    <tr style=\"text-align: right;\">\n",
       "      <th></th>\n",
       "      <th>lagged_trends</th>\n",
       "      <th>trend-worldwide</th>\n",
       "    </tr>\n",
       "    <tr>\n",
       "      <th>date</th>\n",
       "      <th></th>\n",
       "      <th></th>\n",
       "    </tr>\n",
       "  </thead>\n",
       "  <tbody>\n",
       "    <tr>\n",
       "      <th>2015-10-23</th>\n",
       "      <td>NaN</td>\n",
       "      <td>32.0</td>\n",
       "    </tr>\n",
       "    <tr>\n",
       "      <th>2015-10-30</th>\n",
       "      <td>32.0</td>\n",
       "      <td>33.0</td>\n",
       "    </tr>\n",
       "    <tr>\n",
       "      <th>2015-11-06</th>\n",
       "      <td>33.0</td>\n",
       "      <td>32.0</td>\n",
       "    </tr>\n",
       "    <tr>\n",
       "      <th>2015-11-13</th>\n",
       "      <td>32.0</td>\n",
       "      <td>32.0</td>\n",
       "    </tr>\n",
       "    <tr>\n",
       "      <th>2015-11-20</th>\n",
       "      <td>32.0</td>\n",
       "      <td>31.0</td>\n",
       "    </tr>\n",
       "    <tr>\n",
       "      <th>...</th>\n",
       "      <td>...</td>\n",
       "      <td>...</td>\n",
       "    </tr>\n",
       "    <tr>\n",
       "      <th>2020-09-11</th>\n",
       "      <td>39.0</td>\n",
       "      <td>37.0</td>\n",
       "    </tr>\n",
       "    <tr>\n",
       "      <th>2020-09-18</th>\n",
       "      <td>37.0</td>\n",
       "      <td>52.0</td>\n",
       "    </tr>\n",
       "    <tr>\n",
       "      <th>2020-09-25</th>\n",
       "      <td>52.0</td>\n",
       "      <td>42.0</td>\n",
       "    </tr>\n",
       "    <tr>\n",
       "      <th>2020-10-02</th>\n",
       "      <td>42.0</td>\n",
       "      <td>38.0</td>\n",
       "    </tr>\n",
       "    <tr>\n",
       "      <th>2020-10-09</th>\n",
       "      <td>38.0</td>\n",
       "      <td>36.0</td>\n",
       "    </tr>\n",
       "  </tbody>\n",
       "</table>\n",
       "<p>252 rows × 2 columns</p>\n",
       "</div>"
      ],
      "text/plain": [
       "            lagged_trends  trend-worldwide\n",
       "date                                      \n",
       "2015-10-23            NaN             32.0\n",
       "2015-10-30           32.0             33.0\n",
       "2015-11-06           33.0             32.0\n",
       "2015-11-13           32.0             32.0\n",
       "2015-11-20           32.0             31.0\n",
       "...                   ...              ...\n",
       "2020-09-11           39.0             37.0\n",
       "2020-09-18           37.0             52.0\n",
       "2020-09-25           52.0             42.0\n",
       "2020-10-02           42.0             38.0\n",
       "2020-10-09           38.0             36.0\n",
       "\n",
       "[252 rows x 2 columns]"
      ]
     },
     "execution_count": 23,
     "metadata": {},
     "output_type": "execute_result"
    }
   ],
   "source": [
    "df_apple[[\"lagged_trends\", \"trend-worldwide\"]]"
   ]
  },
  {
   "cell_type": "code",
   "execution_count": 46,
   "metadata": {},
   "outputs": [
    {
     "data": {},
     "metadata": {},
     "output_type": "display_data"
    },
    {
     "data": {
      "application/vnd.holoviews_exec.v0+json": "",
      "text/html": [
       "<div id='p2098'>\n",
       "  <div id=\"fe3e4ea9-d8b5-413c-b7ce-5ffbf9900679\" data-root-id=\"p2098\" style=\"display: contents;\"></div>\n",
       "</div>\n",
       "<script type=\"application/javascript\">(function(root) {\n",
       "  var docs_json = {\"914ffada-8999-4801-ba63-cee4a4218357\":{\"version\":\"3.3.4\",\"title\":\"Bokeh Application\",\"roots\":[{\"type\":\"object\",\"name\":\"Row\",\"id\":\"p2098\",\"attributes\":{\"name\":\"Row02857\",\"tags\":[\"embedded\"],\"stylesheets\":[\"\\n:host(.pn-loading.pn-arc):before, .pn-loading.pn-arc:before {\\n  background-image: url(\\\"data:image/svg+xml;base64,PHN2ZyB4bWxucz0iaHR0cDovL3d3dy53My5vcmcvMjAwMC9zdmciIHN0eWxlPSJtYXJnaW46IGF1dG87IGJhY2tncm91bmQ6IG5vbmU7IGRpc3BsYXk6IGJsb2NrOyBzaGFwZS1yZW5kZXJpbmc6IGF1dG87IiB2aWV3Qm94PSIwIDAgMTAwIDEwMCIgcHJlc2VydmVBc3BlY3RSYXRpbz0ieE1pZFlNaWQiPiAgPGNpcmNsZSBjeD0iNTAiIGN5PSI1MCIgZmlsbD0ibm9uZSIgc3Ryb2tlPSIjYzNjM2MzIiBzdHJva2Utd2lkdGg9IjEwIiByPSIzNSIgc3Ryb2tlLWRhc2hhcnJheT0iMTY0LjkzMzYxNDMxMzQ2NDE1IDU2Ljk3Nzg3MTQzNzgyMTM4Ij4gICAgPGFuaW1hdGVUcmFuc2Zvcm0gYXR0cmlidXRlTmFtZT0idHJhbnNmb3JtIiB0eXBlPSJyb3RhdGUiIHJlcGVhdENvdW50PSJpbmRlZmluaXRlIiBkdXI9IjFzIiB2YWx1ZXM9IjAgNTAgNTA7MzYwIDUwIDUwIiBrZXlUaW1lcz0iMDsxIj48L2FuaW1hdGVUcmFuc2Zvcm0+ICA8L2NpcmNsZT48L3N2Zz4=\\\");\\n  background-size: auto calc(min(50%, 400px));\\n}\",{\"type\":\"object\",\"name\":\"ImportedStyleSheet\",\"id\":\"p2101\",\"attributes\":{\"url\":\"https://cdn.holoviz.org/panel/1.3.8/dist/css/loading.css\"}},{\"type\":\"object\",\"name\":\"ImportedStyleSheet\",\"id\":\"p2188\",\"attributes\":{\"url\":\"https://cdn.holoviz.org/panel/1.3.8/dist/css/listpanel.css\"}},{\"type\":\"object\",\"name\":\"ImportedStyleSheet\",\"id\":\"p2099\",\"attributes\":{\"url\":\"https://cdn.holoviz.org/panel/1.3.8/dist/bundled/theme/default.css\"}},{\"type\":\"object\",\"name\":\"ImportedStyleSheet\",\"id\":\"p2100\",\"attributes\":{\"url\":\"https://cdn.holoviz.org/panel/1.3.8/dist/bundled/theme/native.css\"}}],\"min_width\":700,\"margin\":0,\"sizing_mode\":\"stretch_width\",\"align\":\"start\",\"children\":[{\"type\":\"object\",\"name\":\"Spacer\",\"id\":\"p2102\",\"attributes\":{\"name\":\"HSpacer02864\",\"stylesheets\":[\"\\n:host(.pn-loading.pn-arc):before, .pn-loading.pn-arc:before {\\n  background-image: url(\\\"data:image/svg+xml;base64,PHN2ZyB4bWxucz0iaHR0cDovL3d3dy53My5vcmcvMjAwMC9zdmciIHN0eWxlPSJtYXJnaW46IGF1dG87IGJhY2tncm91bmQ6IG5vbmU7IGRpc3BsYXk6IGJsb2NrOyBzaGFwZS1yZW5kZXJpbmc6IGF1dG87IiB2aWV3Qm94PSIwIDAgMTAwIDEwMCIgcHJlc2VydmVBc3BlY3RSYXRpbz0ieE1pZFlNaWQiPiAgPGNpcmNsZSBjeD0iNTAiIGN5PSI1MCIgZmlsbD0ibm9uZSIgc3Ryb2tlPSIjYzNjM2MzIiBzdHJva2Utd2lkdGg9IjEwIiByPSIzNSIgc3Ryb2tlLWRhc2hhcnJheT0iMTY0LjkzMzYxNDMxMzQ2NDE1IDU2Ljk3Nzg3MTQzNzgyMTM4Ij4gICAgPGFuaW1hdGVUcmFuc2Zvcm0gYXR0cmlidXRlTmFtZT0idHJhbnNmb3JtIiB0eXBlPSJyb3RhdGUiIHJlcGVhdENvdW50PSJpbmRlZmluaXRlIiBkdXI9IjFzIiB2YWx1ZXM9IjAgNTAgNTA7MzYwIDUwIDUwIiBrZXlUaW1lcz0iMDsxIj48L2FuaW1hdGVUcmFuc2Zvcm0+ICA8L2NpcmNsZT48L3N2Zz4=\\\");\\n  background-size: auto calc(min(50%, 400px));\\n}\",{\"id\":\"p2101\"},{\"id\":\"p2099\"},{\"id\":\"p2100\"}],\"margin\":0,\"sizing_mode\":\"stretch_width\",\"align\":\"start\"}},{\"type\":\"object\",\"name\":\"Figure\",\"id\":\"p2113\",\"attributes\":{\"width\":700,\"height\":300,\"margin\":[5,10],\"sizing_mode\":\"fixed\",\"align\":\"start\",\"x_range\":{\"type\":\"object\",\"name\":\"Range1d\",\"id\":\"p2103\",\"attributes\":{\"tags\":[[[\"date\",\"date\",null]],[]],\"start\":1445558400000.0,\"end\":1602201600000.0,\"reset_start\":1445558400000.0,\"reset_end\":1602201600000.0}},\"y_range\":{\"type\":\"object\",\"name\":\"Range1d\",\"id\":\"p2104\",\"attributes\":{\"tags\":[[[\"value\",\"value\",null]],{\"type\":\"map\",\"entries\":[[\"invert_yaxis\",false],[\"autorange\",false]]}],\"start\":16.4,\"end\":107.6,\"reset_start\":16.4,\"reset_end\":107.6}},\"x_scale\":{\"type\":\"object\",\"name\":\"LinearScale\",\"id\":\"p2123\"},\"y_scale\":{\"type\":\"object\",\"name\":\"LinearScale\",\"id\":\"p2124\"},\"title\":{\"type\":\"object\",\"name\":\"Title\",\"id\":\"p2116\",\"attributes\":{\"text_color\":\"black\",\"text_font_size\":\"12pt\"}},\"renderers\":[{\"type\":\"object\",\"name\":\"GlyphRenderer\",\"id\":\"p2165\",\"attributes\":{\"name\":\"lagged_trends\",\"data_source\":{\"type\":\"object\",\"name\":\"ColumnDataSource\",\"id\":\"p2156\",\"attributes\":{\"selected\":{\"type\":\"object\",\"name\":\"Selection\",\"id\":\"p2157\",\"attributes\":{\"indices\":[],\"line_indices\":[]}},\"selection_policy\":{\"type\":\"object\",\"name\":\"UnionRenderers\",\"id\":\"p2158\"},\"data\":{\"type\":\"map\",\"entries\":[[\"date\",{\"type\":\"ndarray\",\"array\":{\"type\":\"bytes\",\"data\":\"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\"},\"shape\":[252],\"dtype\":\"float64\",\"order\":\"little\"}],[\"value\",{\"type\":\"ndarray\",\"array\":{\"type\":\"bytes\",\"data\":\"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\"},\"shape\":[252],\"dtype\":\"float64\",\"order\":\"little\"}],[\"Variable\",[\"lagged_trends\",\"lagged_trends\",\"lagged_trends\",\"lagged_trends\",\"lagged_trends\",\"lagged_trends\",\"lagged_trends\",\"lagged_trends\",\"lagged_trends\",\"lagged_trends\",\"lagged_trends\",\"lagged_trends\",\"lagged_trends\",\"lagged_trends\",\"lagged_trends\",\"lagged_trends\",\"lagged_trends\",\"lagged_trends\",\"lagged_trends\",\"lagged_trends\",\"lagged_trends\",\"lagged_trends\",\"lagged_trends\",\"lagged_trends\",\"lagged_trends\",\"lagged_trends\",\"lagged_trends\",\"lagged_trends\",\"lagged_trends\",\"lagged_trends\",\"lagged_trends\",\"lagged_trends\",\"lagged_trends\",\"lagged_trends\",\"lagged_trends\",\"lagged_trends\",\"lagged_trends\",\"lagged_trends\",\"lagged_trends\",\"lagged_trends\",\"lagged_trends\",\"lagged_trends\",\"lagged_trends\",\"lagged_trends\",\"lagged_trends\",\"lagged_trends\",\"lagged_trends\",\"lagged_trends\",\"lagged_trends\",\"lagged_trends\",\"lagged_trends\",\"lagged_trends\",\"lagged_trends\",\"lagged_trends\",\"lagged_trends\",\"lagged_trends\",\"lagged_trends\",\"lagged_trends\",\"lagged_trends\",\"lagged_trends\",\"lagged_trends\",\"lagged_trends\",\"lagged_trends\",\"lagged_trends\",\"lagged_trends\",\"lagged_trends\",\"lagged_trends\",\"lagged_trends\",\"lagged_trends\",\"lagged_trends\",\"lagged_trends\",\"lagged_trends\",\"lagged_trends\",\"lagged_trends\",\"lagged_trends\",\"lagged_trends\",\"lagged_trends\",\"lagged_trends\",\"lagged_trends\",\"lagged_trends\",\"lagged_trends\",\"lagged_trends\",\"lagged_trends\",\"lagged_trends\",\"lagged_trends\",\"lagged_trends\",\"lagged_trends\",\"lagged_trends\",\"lagged_trends\",\"lagged_trends\",\"lagged_trends\",\"lagged_trends\",\"lagged_trends\",\"lagged_trends\",\"lagged_trends\",\"lagged_trends\",\"lagged_trends\",\"lagged_trends\",\"lagged_trends\",\"lagged_trends\",\"lagged_trends\",\"lagged_trends\",\"lagged_trends\",\"lagged_trends\",\"lagged_trends\",\"lagged_trends\",\"lagged_trends\",\"lagged_trends\",\"lagged_trends\",\"lagged_trends\",\"lagged_trends\",\"lagged_trends\",\"lagged_trends\",\"lagged_trends\",\"lagged_trends\",\"lagged_trends\",\"lagged_trends\",\"lagged_trends\",\"lagged_trends\",\"lagged_trends\",\"lagged_trends\",\"lagged_trends\",\"lagged_trends\",\"lagged_trends\",\"lagged_trends\",\"lagged_trends\",\"lagged_trends\",\"lagged_trends\",\"lagged_trends\",\"lagged_trends\",\"lagged_trends\",\"lagged_trends\",\"lagged_trends\",\"lagged_trends\",\"lagged_trends\",\"lagged_trends\",\"lagged_trends\",\"lagged_trends\",\"lagged_trends\",\"lagged_trends\",\"lagged_trends\",\"lagged_trends\",\"lagged_trends\",\"lagged_trends\",\"lagged_trends\",\"lagged_trends\",\"lagged_trends\",\"lagged_trends\",\"lagged_trends\",\"lagged_trends\",\"lagged_trends\",\"lagged_trends\",\"lagged_trends\",\"lagged_trends\",\"lagged_trends\",\"lagged_trends\",\"lagged_trends\",\"lagged_trends\",\"lagged_trends\",\"lagged_trends\",\"lagged_trends\",\"lagged_trends\",\"lagged_trends\",\"lagged_trends\",\"lagged_trends\",\"lagged_trends\",\"lagged_trends\",\"lagged_trends\",\"lagged_trends\",\"lagged_trends\",\"lagged_trends\",\"lagged_trends\",\"lagged_trends\",\"lagged_trends\",\"lagged_trends\",\"lagged_trends\",\"lagged_trends\",\"lagged_trends\",\"lagged_trends\",\"lagged_trends\",\"lagged_trends\",\"lagged_trends\",\"lagged_trends\",\"lagged_trends\",\"lagged_trends\",\"lagged_trends\",\"lagged_trends\",\"lagged_trends\",\"lagged_trends\",\"lagged_trends\",\"lagged_trends\",\"lagged_trends\",\"lagged_trends\",\"lagged_trends\",\"lagged_trends\",\"lagged_trends\",\"lagged_trends\",\"lagged_trends\",\"lagged_trends\",\"lagged_trends\",\"lagged_trends\",\"lagged_trends\",\"lagged_trends\",\"lagged_trends\",\"lagged_trends\",\"lagged_trends\",\"lagged_trends\",\"lagged_trends\",\"lagged_trends\",\"lagged_trends\",\"lagged_trends\",\"lagged_trends\",\"lagged_trends\",\"lagged_trends\",\"lagged_trends\",\"lagged_trends\",\"lagged_trends\",\"lagged_trends\",\"lagged_trends\",\"lagged_trends\",\"lagged_trends\",\"lagged_trends\",\"lagged_trends\",\"lagged_trends\",\"lagged_trends\",\"lagged_trends\",\"lagged_trends\",\"lagged_trends\",\"lagged_trends\",\"lagged_trends\",\"lagged_trends\",\"lagged_trends\",\"lagged_trends\",\"lagged_trends\",\"lagged_trends\",\"lagged_trends\",\"lagged_trends\",\"lagged_trends\",\"lagged_trends\",\"lagged_trends\",\"lagged_trends\",\"lagged_trends\",\"lagged_trends\",\"lagged_trends\",\"lagged_trends\",\"lagged_trends\",\"lagged_trends\",\"lagged_trends\",\"lagged_trends\",\"lagged_trends\",\"lagged_trends\",\"lagged_trends\"]]]}}},\"view\":{\"type\":\"object\",\"name\":\"CDSView\",\"id\":\"p2166\",\"attributes\":{\"filter\":{\"type\":\"object\",\"name\":\"AllIndices\",\"id\":\"p2167\"}}},\"glyph\":{\"type\":\"object\",\"name\":\"Line\",\"id\":\"p2162\",\"attributes\":{\"tags\":[\"apply_ranges\"],\"x\":{\"type\":\"field\",\"field\":\"date\"},\"y\":{\"type\":\"field\",\"field\":\"value\"},\"line_color\":\"#30a2da\",\"line_width\":2}},\"selection_glyph\":{\"type\":\"object\",\"name\":\"Line\",\"id\":\"p2170\",\"attributes\":{\"tags\":[\"apply_ranges\"],\"x\":{\"type\":\"field\",\"field\":\"date\"},\"y\":{\"type\":\"field\",\"field\":\"value\"},\"line_color\":\"#30a2da\",\"line_width\":2}},\"nonselection_glyph\":{\"type\":\"object\",\"name\":\"Line\",\"id\":\"p2163\",\"attributes\":{\"tags\":[\"apply_ranges\"],\"x\":{\"type\":\"field\",\"field\":\"date\"},\"y\":{\"type\":\"field\",\"field\":\"value\"},\"line_color\":\"#30a2da\",\"line_alpha\":0.1,\"line_width\":2}},\"muted_glyph\":{\"type\":\"object\",\"name\":\"Line\",\"id\":\"p2164\",\"attributes\":{\"tags\":[\"apply_ranges\"],\"x\":{\"type\":\"field\",\"field\":\"date\"},\"y\":{\"type\":\"field\",\"field\":\"value\"},\"line_color\":\"#30a2da\",\"line_alpha\":0.2,\"line_width\":2}}}},{\"type\":\"object\",\"name\":\"GlyphRenderer\",\"id\":\"p2180\",\"attributes\":{\"name\":\"trend-worldwide\",\"data_source\":{\"type\":\"object\",\"name\":\"ColumnDataSource\",\"id\":\"p2171\",\"attributes\":{\"selected\":{\"type\":\"object\",\"name\":\"Selection\",\"id\":\"p2172\",\"attributes\":{\"indices\":[],\"line_indices\":[]}},\"selection_policy\":{\"type\":\"object\",\"name\":\"UnionRenderers\",\"id\":\"p2173\"},\"data\":{\"type\":\"map\",\"entries\":[[\"date\",{\"type\":\"ndarray\",\"array\":{\"type\":\"bytes\",\"data\":\"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\"},\"shape\":[252],\"dtype\":\"float64\",\"order\":\"little\"}],[\"value\",{\"type\":\"ndarray\",\"array\":{\"type\":\"bytes\",\"data\":\"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\"},\"shape\":[252],\"dtype\":\"float64\",\"order\":\"little\"}],[\"Variable\",[\"trend-worldwide\",\"trend-worldwide\",\"trend-worldwide\",\"trend-worldwide\",\"trend-worldwide\",\"trend-worldwide\",\"trend-worldwide\",\"trend-worldwide\",\"trend-worldwide\",\"trend-worldwide\",\"trend-worldwide\",\"trend-worldwide\",\"trend-worldwide\",\"trend-worldwide\",\"trend-worldwide\",\"trend-worldwide\",\"trend-worldwide\",\"trend-worldwide\",\"trend-worldwide\",\"trend-worldwide\",\"trend-worldwide\",\"trend-worldwide\",\"trend-worldwide\",\"trend-worldwide\",\"trend-worldwide\",\"trend-worldwide\",\"trend-worldwide\",\"trend-worldwide\",\"trend-worldwide\",\"trend-worldwide\",\"trend-worldwide\",\"trend-worldwide\",\"trend-worldwide\",\"trend-worldwide\",\"trend-worldwide\",\"trend-worldwide\",\"trend-worldwide\",\"trend-worldwide\",\"trend-worldwide\",\"trend-worldwide\",\"trend-worldwide\",\"trend-worldwide\",\"trend-worldwide\",\"trend-worldwide\",\"trend-worldwide\",\"trend-worldwide\",\"trend-worldwide\",\"trend-worldwide\",\"trend-worldwide\",\"trend-worldwide\",\"trend-worldwide\",\"trend-worldwide\",\"trend-worldwide\",\"trend-worldwide\",\"trend-worldwide\",\"trend-worldwide\",\"trend-worldwide\",\"trend-worldwide\",\"trend-worldwide\",\"trend-worldwide\",\"trend-worldwide\",\"trend-worldwide\",\"trend-worldwide\",\"trend-worldwide\",\"trend-worldwide\",\"trend-worldwide\",\"trend-worldwide\",\"trend-worldwide\",\"trend-worldwide\",\"trend-worldwide\",\"trend-worldwide\",\"trend-worldwide\",\"trend-worldwide\",\"trend-worldwide\",\"trend-worldwide\",\"trend-worldwide\",\"trend-worldwide\",\"trend-worldwide\",\"trend-worldwide\",\"trend-worldwide\",\"trend-worldwide\",\"trend-worldwide\",\"trend-worldwide\",\"trend-worldwide\",\"trend-worldwide\",\"trend-worldwide\",\"trend-worldwide\",\"trend-worldwide\",\"trend-worldwide\",\"trend-worldwide\",\"trend-worldwide\",\"trend-worldwide\",\"trend-worldwide\",\"trend-worldwide\",\"trend-worldwide\",\"trend-worldwide\",\"trend-worldwide\",\"trend-worldwide\",\"trend-worldwide\",\"trend-worldwide\",\"trend-worldwide\",\"trend-worldwide\",\"trend-worldwide\",\"trend-worldwide\",\"trend-worldwide\",\"trend-worldwide\",\"trend-worldwide\",\"trend-worldwide\",\"trend-worldwide\",\"trend-worldwide\",\"trend-worldwide\",\"trend-worldwide\",\"trend-worldwide\",\"trend-worldwide\",\"trend-worldwide\",\"trend-worldwide\",\"trend-worldwide\",\"trend-worldwide\",\"trend-worldwide\",\"trend-worldwide\",\"trend-worldwide\",\"trend-worldwide\",\"trend-worldwide\",\"trend-worldwide\",\"trend-worldwide\",\"trend-worldwide\",\"trend-worldwide\",\"trend-worldwide\",\"trend-worldwide\",\"trend-worldwide\",\"trend-worldwide\",\"trend-worldwide\",\"trend-worldwide\",\"trend-worldwide\",\"trend-worldwide\",\"trend-worldwide\",\"trend-worldwide\",\"trend-worldwide\",\"trend-worldwide\",\"trend-worldwide\",\"trend-worldwide\",\"trend-worldwide\",\"trend-worldwide\",\"trend-worldwide\",\"trend-worldwide\",\"trend-worldwide\",\"trend-worldwide\",\"trend-worldwide\",\"trend-worldwide\",\"trend-worldwide\",\"trend-worldwide\",\"trend-worldwide\",\"trend-worldwide\",\"trend-worldwide\",\"trend-worldwide\",\"trend-worldwide\",\"trend-worldwide\",\"trend-worldwide\",\"trend-worldwide\",\"trend-worldwide\",\"trend-worldwide\",\"trend-worldwide\",\"trend-worldwide\",\"trend-worldwide\",\"trend-worldwide\",\"trend-worldwide\",\"trend-worldwide\",\"trend-worldwide\",\"trend-worldwide\",\"trend-worldwide\",\"trend-worldwide\",\"trend-worldwide\",\"trend-worldwide\",\"trend-worldwide\",\"trend-worldwide\",\"trend-worldwide\",\"trend-worldwide\",\"trend-worldwide\",\"trend-worldwide\",\"trend-worldwide\",\"trend-worldwide\",\"trend-worldwide\",\"trend-worldwide\",\"trend-worldwide\",\"trend-worldwide\",\"trend-worldwide\",\"trend-worldwide\",\"trend-worldwide\",\"trend-worldwide\",\"trend-worldwide\",\"trend-worldwide\",\"trend-worldwide\",\"trend-worldwide\",\"trend-worldwide\",\"trend-worldwide\",\"trend-worldwide\",\"trend-worldwide\",\"trend-worldwide\",\"trend-worldwide\",\"trend-worldwide\",\"trend-worldwide\",\"trend-worldwide\",\"trend-worldwide\",\"trend-worldwide\",\"trend-worldwide\",\"trend-worldwide\",\"trend-worldwide\",\"trend-worldwide\",\"trend-worldwide\",\"trend-worldwide\",\"trend-worldwide\",\"trend-worldwide\",\"trend-worldwide\",\"trend-worldwide\",\"trend-worldwide\",\"trend-worldwide\",\"trend-worldwide\",\"trend-worldwide\",\"trend-worldwide\",\"trend-worldwide\",\"trend-worldwide\",\"trend-worldwide\",\"trend-worldwide\",\"trend-worldwide\",\"trend-worldwide\",\"trend-worldwide\",\"trend-worldwide\",\"trend-worldwide\",\"trend-worldwide\",\"trend-worldwide\",\"trend-worldwide\",\"trend-worldwide\",\"trend-worldwide\",\"trend-worldwide\",\"trend-worldwide\",\"trend-worldwide\",\"trend-worldwide\",\"trend-worldwide\",\"trend-worldwide\",\"trend-worldwide\",\"trend-worldwide\",\"trend-worldwide\",\"trend-worldwide\",\"trend-worldwide\",\"trend-worldwide\",\"trend-worldwide\",\"trend-worldwide\",\"trend-worldwide\",\"trend-worldwide\",\"trend-worldwide\",\"trend-worldwide\",\"trend-worldwide\"]]]}}},\"view\":{\"type\":\"object\",\"name\":\"CDSView\",\"id\":\"p2181\",\"attributes\":{\"filter\":{\"type\":\"object\",\"name\":\"AllIndices\",\"id\":\"p2182\"}}},\"glyph\":{\"type\":\"object\",\"name\":\"Line\",\"id\":\"p2177\",\"attributes\":{\"tags\":[\"apply_ranges\"],\"x\":{\"type\":\"field\",\"field\":\"date\"},\"y\":{\"type\":\"field\",\"field\":\"value\"},\"line_color\":\"#fc4f30\",\"line_width\":2}},\"selection_glyph\":{\"type\":\"object\",\"name\":\"Line\",\"id\":\"p2184\",\"attributes\":{\"tags\":[\"apply_ranges\"],\"x\":{\"type\":\"field\",\"field\":\"date\"},\"y\":{\"type\":\"field\",\"field\":\"value\"},\"line_color\":\"#fc4f30\",\"line_width\":2}},\"nonselection_glyph\":{\"type\":\"object\",\"name\":\"Line\",\"id\":\"p2178\",\"attributes\":{\"tags\":[\"apply_ranges\"],\"x\":{\"type\":\"field\",\"field\":\"date\"},\"y\":{\"type\":\"field\",\"field\":\"value\"},\"line_color\":\"#fc4f30\",\"line_alpha\":0.1,\"line_width\":2}},\"muted_glyph\":{\"type\":\"object\",\"name\":\"Line\",\"id\":\"p2179\",\"attributes\":{\"tags\":[\"apply_ranges\"],\"x\":{\"type\":\"field\",\"field\":\"date\"},\"y\":{\"type\":\"field\",\"field\":\"value\"},\"line_color\":\"#fc4f30\",\"line_alpha\":0.2,\"line_width\":2}}}}],\"toolbar\":{\"type\":\"object\",\"name\":\"Toolbar\",\"id\":\"p2122\",\"attributes\":{\"tools\":[{\"type\":\"object\",\"name\":\"WheelZoomTool\",\"id\":\"p2108\",\"attributes\":{\"tags\":[\"hv_created\"],\"renderers\":\"auto\",\"zoom_together\":\"none\"}},{\"type\":\"object\",\"name\":\"HoverTool\",\"id\":\"p2109\",\"attributes\":{\"tags\":[\"hv_created\"],\"renderers\":[{\"id\":\"p2165\"},{\"id\":\"p2180\"}],\"tooltips\":[[\"Variable\",\"@{Variable}\"],[\"date\",\"@{date}{%F %T}\"],[\"value\",\"@{value}\"]],\"formatters\":{\"type\":\"map\",\"entries\":[[\"@{date}\",\"datetime\"]]}}},{\"type\":\"object\",\"name\":\"SaveTool\",\"id\":\"p2147\"},{\"type\":\"object\",\"name\":\"PanTool\",\"id\":\"p2148\"},{\"type\":\"object\",\"name\":\"BoxZoomTool\",\"id\":\"p2149\",\"attributes\":{\"overlay\":{\"type\":\"object\",\"name\":\"BoxAnnotation\",\"id\":\"p2150\",\"attributes\":{\"syncable\":false,\"level\":\"overlay\",\"visible\":false,\"left\":{\"type\":\"number\",\"value\":\"nan\"},\"right\":{\"type\":\"number\",\"value\":\"nan\"},\"top\":{\"type\":\"number\",\"value\":\"nan\"},\"bottom\":{\"type\":\"number\",\"value\":\"nan\"},\"left_units\":\"canvas\",\"right_units\":\"canvas\",\"top_units\":\"canvas\",\"bottom_units\":\"canvas\",\"line_color\":\"black\",\"line_alpha\":1.0,\"line_width\":2,\"line_dash\":[4,4],\"fill_color\":\"lightgrey\",\"fill_alpha\":0.5}}}},{\"type\":\"object\",\"name\":\"ResetTool\",\"id\":\"p2155\"}],\"active_drag\":{\"id\":\"p2148\"},\"active_scroll\":{\"id\":\"p2108\"}}},\"left\":[{\"type\":\"object\",\"name\":\"LinearAxis\",\"id\":\"p2142\",\"attributes\":{\"ticker\":{\"type\":\"object\",\"name\":\"BasicTicker\",\"id\":\"p2143\",\"attributes\":{\"mantissas\":[1,2,5]}},\"formatter\":{\"type\":\"object\",\"name\":\"BasicTickFormatter\",\"id\":\"p2144\"},\"axis_label\":\"\",\"major_label_policy\":{\"type\":\"object\",\"name\":\"AllLabels\",\"id\":\"p2145\"}}}],\"right\":[{\"type\":\"object\",\"name\":\"Legend\",\"id\":\"p2168\",\"attributes\":{\"location\":[0,0],\"title\":\"Variable\",\"click_policy\":\"mute\",\"items\":[{\"type\":\"object\",\"name\":\"LegendItem\",\"id\":\"p2169\",\"attributes\":{\"label\":{\"type\":\"value\",\"value\":\"lagged_trends\"},\"renderers\":[{\"id\":\"p2165\"}]}},{\"type\":\"object\",\"name\":\"LegendItem\",\"id\":\"p2183\",\"attributes\":{\"label\":{\"type\":\"value\",\"value\":\"trend-worldwide\"},\"renderers\":[{\"id\":\"p2180\"}]}}]}}],\"below\":[{\"type\":\"object\",\"name\":\"DatetimeAxis\",\"id\":\"p2125\",\"attributes\":{\"ticker\":{\"type\":\"object\",\"name\":\"DatetimeTicker\",\"id\":\"p2126\",\"attributes\":{\"num_minor_ticks\":5,\"tickers\":[{\"type\":\"object\",\"name\":\"AdaptiveTicker\",\"id\":\"p2127\",\"attributes\":{\"num_minor_ticks\":0,\"mantissas\":[1,2,5],\"max_interval\":500.0}},{\"type\":\"object\",\"name\":\"AdaptiveTicker\",\"id\":\"p2128\",\"attributes\":{\"num_minor_ticks\":0,\"base\":60,\"mantissas\":[1,2,5,10,15,20,30],\"min_interval\":1000.0,\"max_interval\":1800000.0}},{\"type\":\"object\",\"name\":\"AdaptiveTicker\",\"id\":\"p2129\",\"attributes\":{\"num_minor_ticks\":0,\"base\":24,\"mantissas\":[1,2,4,6,8,12],\"min_interval\":3600000.0,\"max_interval\":43200000.0}},{\"type\":\"object\",\"name\":\"DaysTicker\",\"id\":\"p2130\",\"attributes\":{\"days\":[1,2,3,4,5,6,7,8,9,10,11,12,13,14,15,16,17,18,19,20,21,22,23,24,25,26,27,28,29,30,31]}},{\"type\":\"object\",\"name\":\"DaysTicker\",\"id\":\"p2131\",\"attributes\":{\"days\":[1,4,7,10,13,16,19,22,25,28]}},{\"type\":\"object\",\"name\":\"DaysTicker\",\"id\":\"p2132\",\"attributes\":{\"days\":[1,8,15,22]}},{\"type\":\"object\",\"name\":\"DaysTicker\",\"id\":\"p2133\",\"attributes\":{\"days\":[1,15]}},{\"type\":\"object\",\"name\":\"MonthsTicker\",\"id\":\"p2134\",\"attributes\":{\"months\":[0,1,2,3,4,5,6,7,8,9,10,11]}},{\"type\":\"object\",\"name\":\"MonthsTicker\",\"id\":\"p2135\",\"attributes\":{\"months\":[0,2,4,6,8,10]}},{\"type\":\"object\",\"name\":\"MonthsTicker\",\"id\":\"p2136\",\"attributes\":{\"months\":[0,4,8]}},{\"type\":\"object\",\"name\":\"MonthsTicker\",\"id\":\"p2137\",\"attributes\":{\"months\":[0,6]}},{\"type\":\"object\",\"name\":\"YearsTicker\",\"id\":\"p2138\"}]}},\"formatter\":{\"type\":\"object\",\"name\":\"DatetimeTickFormatter\",\"id\":\"p2139\"},\"axis_label\":\"date\",\"major_label_policy\":{\"type\":\"object\",\"name\":\"AllLabels\",\"id\":\"p2140\"}}}],\"center\":[{\"type\":\"object\",\"name\":\"Grid\",\"id\":\"p2141\",\"attributes\":{\"axis\":{\"id\":\"p2125\"},\"grid_line_color\":null}},{\"type\":\"object\",\"name\":\"Grid\",\"id\":\"p2146\",\"attributes\":{\"dimension\":1,\"axis\":{\"id\":\"p2142\"},\"grid_line_color\":null}}],\"min_border_top\":10,\"min_border_bottom\":10,\"min_border_left\":10,\"min_border_right\":10,\"output_backend\":\"webgl\"}},{\"type\":\"object\",\"name\":\"Spacer\",\"id\":\"p2186\",\"attributes\":{\"name\":\"HSpacer02865\",\"stylesheets\":[\"\\n:host(.pn-loading.pn-arc):before, .pn-loading.pn-arc:before {\\n  background-image: url(\\\"data:image/svg+xml;base64,PHN2ZyB4bWxucz0iaHR0cDovL3d3dy53My5vcmcvMjAwMC9zdmciIHN0eWxlPSJtYXJnaW46IGF1dG87IGJhY2tncm91bmQ6IG5vbmU7IGRpc3BsYXk6IGJsb2NrOyBzaGFwZS1yZW5kZXJpbmc6IGF1dG87IiB2aWV3Qm94PSIwIDAgMTAwIDEwMCIgcHJlc2VydmVBc3BlY3RSYXRpbz0ieE1pZFlNaWQiPiAgPGNpcmNsZSBjeD0iNTAiIGN5PSI1MCIgZmlsbD0ibm9uZSIgc3Ryb2tlPSIjYzNjM2MzIiBzdHJva2Utd2lkdGg9IjEwIiByPSIzNSIgc3Ryb2tlLWRhc2hhcnJheT0iMTY0LjkzMzYxNDMxMzQ2NDE1IDU2Ljk3Nzg3MTQzNzgyMTM4Ij4gICAgPGFuaW1hdGVUcmFuc2Zvcm0gYXR0cmlidXRlTmFtZT0idHJhbnNmb3JtIiB0eXBlPSJyb3RhdGUiIHJlcGVhdENvdW50PSJpbmRlZmluaXRlIiBkdXI9IjFzIiB2YWx1ZXM9IjAgNTAgNTA7MzYwIDUwIDUwIiBrZXlUaW1lcz0iMDsxIj48L2FuaW1hdGVUcmFuc2Zvcm0+ICA8L2NpcmNsZT48L3N2Zz4=\\\");\\n  background-size: auto calc(min(50%, 400px));\\n}\",{\"id\":\"p2101\"},{\"id\":\"p2099\"},{\"id\":\"p2100\"}],\"margin\":0,\"sizing_mode\":\"stretch_width\",\"align\":\"start\"}}]}}],\"defs\":[{\"type\":\"model\",\"name\":\"ReactiveHTML1\"},{\"type\":\"model\",\"name\":\"FlexBox1\",\"properties\":[{\"name\":\"align_content\",\"kind\":\"Any\",\"default\":\"flex-start\"},{\"name\":\"align_items\",\"kind\":\"Any\",\"default\":\"flex-start\"},{\"name\":\"flex_direction\",\"kind\":\"Any\",\"default\":\"row\"},{\"name\":\"flex_wrap\",\"kind\":\"Any\",\"default\":\"wrap\"},{\"name\":\"justify_content\",\"kind\":\"Any\",\"default\":\"flex-start\"}]},{\"type\":\"model\",\"name\":\"FloatPanel1\",\"properties\":[{\"name\":\"config\",\"kind\":\"Any\",\"default\":{\"type\":\"map\"}},{\"name\":\"contained\",\"kind\":\"Any\",\"default\":true},{\"name\":\"position\",\"kind\":\"Any\",\"default\":\"right-top\"},{\"name\":\"offsetx\",\"kind\":\"Any\",\"default\":null},{\"name\":\"offsety\",\"kind\":\"Any\",\"default\":null},{\"name\":\"theme\",\"kind\":\"Any\",\"default\":\"primary\"},{\"name\":\"status\",\"kind\":\"Any\",\"default\":\"normalized\"}]},{\"type\":\"model\",\"name\":\"GridStack1\",\"properties\":[{\"name\":\"mode\",\"kind\":\"Any\",\"default\":\"warn\"},{\"name\":\"ncols\",\"kind\":\"Any\",\"default\":null},{\"name\":\"nrows\",\"kind\":\"Any\",\"default\":null},{\"name\":\"allow_resize\",\"kind\":\"Any\",\"default\":true},{\"name\":\"allow_drag\",\"kind\":\"Any\",\"default\":true},{\"name\":\"state\",\"kind\":\"Any\",\"default\":[]}]},{\"type\":\"model\",\"name\":\"drag1\",\"properties\":[{\"name\":\"slider_width\",\"kind\":\"Any\",\"default\":5},{\"name\":\"slider_color\",\"kind\":\"Any\",\"default\":\"black\"},{\"name\":\"value\",\"kind\":\"Any\",\"default\":50}]},{\"type\":\"model\",\"name\":\"click1\",\"properties\":[{\"name\":\"terminal_output\",\"kind\":\"Any\",\"default\":\"\"},{\"name\":\"debug_name\",\"kind\":\"Any\",\"default\":\"\"},{\"name\":\"clears\",\"kind\":\"Any\",\"default\":0}]},{\"type\":\"model\",\"name\":\"copy_to_clipboard1\",\"properties\":[{\"name\":\"fill\",\"kind\":\"Any\",\"default\":\"none\"},{\"name\":\"value\",\"kind\":\"Any\",\"default\":null}]},{\"type\":\"model\",\"name\":\"FastWrapper1\",\"properties\":[{\"name\":\"object\",\"kind\":\"Any\",\"default\":null},{\"name\":\"style\",\"kind\":\"Any\",\"default\":null}]},{\"type\":\"model\",\"name\":\"NotificationAreaBase1\",\"properties\":[{\"name\":\"js_events\",\"kind\":\"Any\",\"default\":{\"type\":\"map\"}},{\"name\":\"position\",\"kind\":\"Any\",\"default\":\"bottom-right\"},{\"name\":\"_clear\",\"kind\":\"Any\",\"default\":0}]},{\"type\":\"model\",\"name\":\"NotificationArea1\",\"properties\":[{\"name\":\"js_events\",\"kind\":\"Any\",\"default\":{\"type\":\"map\"}},{\"name\":\"notifications\",\"kind\":\"Any\",\"default\":[]},{\"name\":\"position\",\"kind\":\"Any\",\"default\":\"bottom-right\"},{\"name\":\"_clear\",\"kind\":\"Any\",\"default\":0},{\"name\":\"types\",\"kind\":\"Any\",\"default\":[{\"type\":\"map\",\"entries\":[[\"type\",\"warning\"],[\"background\",\"#ffc107\"],[\"icon\",{\"type\":\"map\",\"entries\":[[\"className\",\"fas fa-exclamation-triangle\"],[\"tagName\",\"i\"],[\"color\",\"white\"]]}]]},{\"type\":\"map\",\"entries\":[[\"type\",\"info\"],[\"background\",\"#007bff\"],[\"icon\",{\"type\":\"map\",\"entries\":[[\"className\",\"fas fa-info-circle\"],[\"tagName\",\"i\"],[\"color\",\"white\"]]}]]}]}]},{\"type\":\"model\",\"name\":\"Notification\",\"properties\":[{\"name\":\"background\",\"kind\":\"Any\",\"default\":null},{\"name\":\"duration\",\"kind\":\"Any\",\"default\":3000},{\"name\":\"icon\",\"kind\":\"Any\",\"default\":null},{\"name\":\"message\",\"kind\":\"Any\",\"default\":\"\"},{\"name\":\"notification_type\",\"kind\":\"Any\",\"default\":null},{\"name\":\"_destroyed\",\"kind\":\"Any\",\"default\":false}]},{\"type\":\"model\",\"name\":\"TemplateActions1\",\"properties\":[{\"name\":\"open_modal\",\"kind\":\"Any\",\"default\":0},{\"name\":\"close_modal\",\"kind\":\"Any\",\"default\":0}]},{\"type\":\"model\",\"name\":\"BootstrapTemplateActions1\",\"properties\":[{\"name\":\"open_modal\",\"kind\":\"Any\",\"default\":0},{\"name\":\"close_modal\",\"kind\":\"Any\",\"default\":0}]},{\"type\":\"model\",\"name\":\"MaterialTemplateActions1\",\"properties\":[{\"name\":\"open_modal\",\"kind\":\"Any\",\"default\":0},{\"name\":\"close_modal\",\"kind\":\"Any\",\"default\":0}]}]}};\n",
       "  var render_items = [{\"docid\":\"914ffada-8999-4801-ba63-cee4a4218357\",\"roots\":{\"p2098\":\"fe3e4ea9-d8b5-413c-b7ce-5ffbf9900679\"},\"root_ids\":[\"p2098\"]}];\n",
       "  var docs = Object.values(docs_json)\n",
       "  if (!docs) {\n",
       "    return\n",
       "  }\n",
       "  const py_version = docs[0].version.replace('rc', '-rc.').replace('.dev', '-dev.')\n",
       "  function embed_document(root) {\n",
       "    var Bokeh = get_bokeh(root)\n",
       "    Bokeh.embed.embed_items_notebook(docs_json, render_items);\n",
       "    for (const render_item of render_items) {\n",
       "      for (const root_id of render_item.root_ids) {\n",
       "\tconst id_el = document.getElementById(root_id)\n",
       "\tif (id_el.children.length && (id_el.children[0].className === 'bk-root')) {\n",
       "\t  const root_el = id_el.children[0]\n",
       "\t  root_el.id = root_el.id + '-rendered'\n",
       "\t}\n",
       "      }\n",
       "    }\n",
       "  }\n",
       "  function get_bokeh(root) {\n",
       "    if (root.Bokeh === undefined) {\n",
       "      return null\n",
       "    } else if (root.Bokeh.version !== py_version) {\n",
       "      if (root.Bokeh.versions === undefined || !root.Bokeh.versions.has(py_version)) {\n",
       "\treturn null\n",
       "      }\n",
       "      return root.Bokeh.versions.get(py_version);\n",
       "    } else if (root.Bokeh.version === py_version) {\n",
       "      return root.Bokeh\n",
       "    }\n",
       "    return null\n",
       "  }\n",
       "  function is_loaded(root) {\n",
       "    var Bokeh = get_bokeh(root)\n",
       "    return (Bokeh != null && Bokeh.Panel !== undefined)\n",
       "  }\n",
       "  if (is_loaded(root)) {\n",
       "    embed_document(root);\n",
       "  } else {\n",
       "    var attempts = 0;\n",
       "    var timer = setInterval(function(root) {\n",
       "      if (is_loaded(root)) {\n",
       "        clearInterval(timer);\n",
       "        embed_document(root);\n",
       "      } else if (document.readyState == \"complete\") {\n",
       "        attempts++;\n",
       "        if (attempts > 200) {\n",
       "          clearInterval(timer);\n",
       "\t  var Bokeh = get_bokeh(root)\n",
       "\t  if (Bokeh == null || Bokeh.Panel == null) {\n",
       "            console.warn(\"Panel: ERROR: Unable to run Panel code because Bokeh or Panel library is missing\");\n",
       "\t  } else {\n",
       "\t    console.warn(\"Panel: WARNING: Attempting to render but not all required libraries could be resolved.\")\n",
       "\t    embed_document(root)\n",
       "\t  }\n",
       "        }\n",
       "      }\n",
       "    }, 25, root)\n",
       "  }\n",
       "})(window);</script>"
      ],
      "text/plain": [
       ":NdOverlay   [Variable]\n",
       "   :Curve   [date]   (value)"
      ]
     },
     "execution_count": 46,
     "metadata": {
      "application/vnd.holoviews_exec.v0+json": {
       "id": "p2098"
      }
     },
     "output_type": "execute_result"
    }
   ],
   "source": [
    "df_apple[['lagged_trends', 'trend-worldwide']].hvplot()"
   ]
  },
  {
   "cell_type": "code",
   "execution_count": 56,
   "metadata": {},
   "outputs": [
    {
     "data": {},
     "metadata": {},
     "output_type": "display_data"
    },
    {
     "data": {
      "application/vnd.holoviews_exec.v0+json": "",
      "text/html": [
       "<div id='p2194'>\n",
       "  <div id=\"df4f1d83-6d8e-403b-bc06-957d66641c44\" data-root-id=\"p2194\" style=\"display: contents;\"></div>\n",
       "</div>\n",
       "<script type=\"application/javascript\">(function(root) {\n",
       "  var docs_json = {\"e41c677f-99b0-440b-ae92-d05f469f8202\":{\"version\":\"3.3.4\",\"title\":\"Bokeh Application\",\"roots\":[{\"type\":\"object\",\"name\":\"Row\",\"id\":\"p2194\",\"attributes\":{\"name\":\"Row03021\",\"tags\":[\"embedded\"],\"stylesheets\":[\"\\n:host(.pn-loading.pn-arc):before, .pn-loading.pn-arc:before {\\n  background-image: url(\\\"data:image/svg+xml;base64,PHN2ZyB4bWxucz0iaHR0cDovL3d3dy53My5vcmcvMjAwMC9zdmciIHN0eWxlPSJtYXJnaW46IGF1dG87IGJhY2tncm91bmQ6IG5vbmU7IGRpc3BsYXk6IGJsb2NrOyBzaGFwZS1yZW5kZXJpbmc6IGF1dG87IiB2aWV3Qm94PSIwIDAgMTAwIDEwMCIgcHJlc2VydmVBc3BlY3RSYXRpbz0ieE1pZFlNaWQiPiAgPGNpcmNsZSBjeD0iNTAiIGN5PSI1MCIgZmlsbD0ibm9uZSIgc3Ryb2tlPSIjYzNjM2MzIiBzdHJva2Utd2lkdGg9IjEwIiByPSIzNSIgc3Ryb2tlLWRhc2hhcnJheT0iMTY0LjkzMzYxNDMxMzQ2NDE1IDU2Ljk3Nzg3MTQzNzgyMTM4Ij4gICAgPGFuaW1hdGVUcmFuc2Zvcm0gYXR0cmlidXRlTmFtZT0idHJhbnNmb3JtIiB0eXBlPSJyb3RhdGUiIHJlcGVhdENvdW50PSJpbmRlZmluaXRlIiBkdXI9IjFzIiB2YWx1ZXM9IjAgNTAgNTA7MzYwIDUwIDUwIiBrZXlUaW1lcz0iMDsxIj48L2FuaW1hdGVUcmFuc2Zvcm0+ICA8L2NpcmNsZT48L3N2Zz4=\\\");\\n  background-size: auto calc(min(50%, 400px));\\n}\",{\"type\":\"object\",\"name\":\"ImportedStyleSheet\",\"id\":\"p2197\",\"attributes\":{\"url\":\"https://cdn.holoviz.org/panel/1.3.8/dist/css/loading.css\"}},{\"type\":\"object\",\"name\":\"ImportedStyleSheet\",\"id\":\"p2284\",\"attributes\":{\"url\":\"https://cdn.holoviz.org/panel/1.3.8/dist/css/listpanel.css\"}},{\"type\":\"object\",\"name\":\"ImportedStyleSheet\",\"id\":\"p2195\",\"attributes\":{\"url\":\"https://cdn.holoviz.org/panel/1.3.8/dist/bundled/theme/default.css\"}},{\"type\":\"object\",\"name\":\"ImportedStyleSheet\",\"id\":\"p2196\",\"attributes\":{\"url\":\"https://cdn.holoviz.org/panel/1.3.8/dist/bundled/theme/native.css\"}}],\"min_width\":700,\"margin\":0,\"sizing_mode\":\"stretch_width\",\"align\":\"start\",\"children\":[{\"type\":\"object\",\"name\":\"Spacer\",\"id\":\"p2198\",\"attributes\":{\"name\":\"HSpacer03028\",\"stylesheets\":[\"\\n:host(.pn-loading.pn-arc):before, .pn-loading.pn-arc:before {\\n  background-image: url(\\\"data:image/svg+xml;base64,PHN2ZyB4bWxucz0iaHR0cDovL3d3dy53My5vcmcvMjAwMC9zdmciIHN0eWxlPSJtYXJnaW46IGF1dG87IGJhY2tncm91bmQ6IG5vbmU7IGRpc3BsYXk6IGJsb2NrOyBzaGFwZS1yZW5kZXJpbmc6IGF1dG87IiB2aWV3Qm94PSIwIDAgMTAwIDEwMCIgcHJlc2VydmVBc3BlY3RSYXRpbz0ieE1pZFlNaWQiPiAgPGNpcmNsZSBjeD0iNTAiIGN5PSI1MCIgZmlsbD0ibm9uZSIgc3Ryb2tlPSIjYzNjM2MzIiBzdHJva2Utd2lkdGg9IjEwIiByPSIzNSIgc3Ryb2tlLWRhc2hhcnJheT0iMTY0LjkzMzYxNDMxMzQ2NDE1IDU2Ljk3Nzg3MTQzNzgyMTM4Ij4gICAgPGFuaW1hdGVUcmFuc2Zvcm0gYXR0cmlidXRlTmFtZT0idHJhbnNmb3JtIiB0eXBlPSJyb3RhdGUiIHJlcGVhdENvdW50PSJpbmRlZmluaXRlIiBkdXI9IjFzIiB2YWx1ZXM9IjAgNTAgNTA7MzYwIDUwIDUwIiBrZXlUaW1lcz0iMDsxIj48L2FuaW1hdGVUcmFuc2Zvcm0+ICA8L2NpcmNsZT48L3N2Zz4=\\\");\\n  background-size: auto calc(min(50%, 400px));\\n}\",{\"id\":\"p2197\"},{\"id\":\"p2195\"},{\"id\":\"p2196\"}],\"margin\":0,\"sizing_mode\":\"stretch_width\",\"align\":\"start\"}},{\"type\":\"object\",\"name\":\"Figure\",\"id\":\"p2209\",\"attributes\":{\"width\":700,\"height\":300,\"margin\":[5,10],\"sizing_mode\":\"fixed\",\"align\":\"start\",\"x_range\":{\"type\":\"object\",\"name\":\"Range1d\",\"id\":\"p2199\",\"attributes\":{\"tags\":[[[\"date\",\"date\",null]],[]],\"start\":1445558400000.0,\"end\":1602201600000.0,\"reset_start\":1445558400000.0,\"reset_end\":1602201600000.0}},\"y_range\":{\"type\":\"object\",\"name\":\"Range1d\",\"id\":\"p2200\",\"attributes\":{\"tags\":[[[\"value\",\"value\",null]],{\"type\":\"map\",\"entries\":[[\"invert_yaxis\",false],[\"autorange\",false]]}],\"start\":-0.20995467867859122,\"end\":0.20617724615237334,\"reset_start\":-0.20995467867859122,\"reset_end\":0.20617724615237334}},\"x_scale\":{\"type\":\"object\",\"name\":\"LinearScale\",\"id\":\"p2219\"},\"y_scale\":{\"type\":\"object\",\"name\":\"LinearScale\",\"id\":\"p2220\"},\"title\":{\"type\":\"object\",\"name\":\"Title\",\"id\":\"p2212\",\"attributes\":{\"text_color\":\"black\",\"text_font_size\":\"12pt\"}},\"renderers\":[{\"type\":\"object\",\"name\":\"GlyphRenderer\",\"id\":\"p2261\",\"attributes\":{\"name\":\"weekly_returns\",\"data_source\":{\"type\":\"object\",\"name\":\"ColumnDataSource\",\"id\":\"p2252\",\"attributes\":{\"selected\":{\"type\":\"object\",\"name\":\"Selection\",\"id\":\"p2253\",\"attributes\":{\"indices\":[],\"line_indices\":[]}},\"selection_policy\":{\"type\":\"object\",\"name\":\"UnionRenderers\",\"id\":\"p2254\"},\"data\":{\"type\":\"map\",\"entries\":[[\"date\",{\"type\":\"ndarray\",\"array\":{\"type\":\"bytes\",\"data\":\"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\"},\"shape\":[252],\"dtype\":\"float64\",\"order\":\"little\"}],[\"value\",{\"type\":\"ndarray\",\"array\":{\"type\":\"bytes\",\"data\":\"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\"},\"shape\":[252],\"dtype\":\"float64\",\"order\":\"little\"}],[\"Variable\",[\"weekly_returns\",\"weekly_returns\",\"weekly_returns\",\"weekly_returns\",\"weekly_returns\",\"weekly_returns\",\"weekly_returns\",\"weekly_returns\",\"weekly_returns\",\"weekly_returns\",\"weekly_returns\",\"weekly_returns\",\"weekly_returns\",\"weekly_returns\",\"weekly_returns\",\"weekly_returns\",\"weekly_returns\",\"weekly_returns\",\"weekly_returns\",\"weekly_returns\",\"weekly_returns\",\"weekly_returns\",\"weekly_returns\",\"weekly_returns\",\"weekly_returns\",\"weekly_returns\",\"weekly_returns\",\"weekly_returns\",\"weekly_returns\",\"weekly_returns\",\"weekly_returns\",\"weekly_returns\",\"weekly_returns\",\"weekly_returns\",\"weekly_returns\",\"weekly_returns\",\"weekly_returns\",\"weekly_returns\",\"weekly_returns\",\"weekly_returns\",\"weekly_returns\",\"weekly_returns\",\"weekly_returns\",\"weekly_returns\",\"weekly_returns\",\"weekly_returns\",\"weekly_returns\",\"weekly_returns\",\"weekly_returns\",\"weekly_returns\",\"weekly_returns\",\"weekly_returns\",\"weekly_returns\",\"weekly_returns\",\"weekly_returns\",\"weekly_returns\",\"weekly_returns\",\"weekly_returns\",\"weekly_returns\",\"weekly_returns\",\"weekly_returns\",\"weekly_returns\",\"weekly_returns\",\"weekly_returns\",\"weekly_returns\",\"weekly_returns\",\"weekly_returns\",\"weekly_returns\",\"weekly_returns\",\"weekly_returns\",\"weekly_returns\",\"weekly_returns\",\"weekly_returns\",\"weekly_returns\",\"weekly_returns\",\"weekly_returns\",\"weekly_returns\",\"weekly_returns\",\"weekly_returns\",\"weekly_returns\",\"weekly_returns\",\"weekly_returns\",\"weekly_returns\",\"weekly_returns\",\"weekly_returns\",\"weekly_returns\",\"weekly_returns\",\"weekly_returns\",\"weekly_returns\",\"weekly_returns\",\"weekly_returns\",\"weekly_returns\",\"weekly_returns\",\"weekly_returns\",\"weekly_returns\",\"weekly_returns\",\"weekly_returns\",\"weekly_returns\",\"weekly_returns\",\"weekly_returns\",\"weekly_returns\",\"weekly_returns\",\"weekly_returns\",\"weekly_returns\",\"weekly_returns\",\"weekly_returns\",\"weekly_returns\",\"weekly_returns\",\"weekly_returns\",\"weekly_returns\",\"weekly_returns\",\"weekly_returns\",\"weekly_returns\",\"weekly_returns\",\"weekly_returns\",\"weekly_returns\",\"weekly_returns\",\"weekly_returns\",\"weekly_returns\",\"weekly_returns\",\"weekly_returns\",\"weekly_returns\",\"weekly_returns\",\"weekly_returns\",\"weekly_returns\",\"weekly_returns\",\"weekly_returns\",\"weekly_returns\",\"weekly_returns\",\"weekly_returns\",\"weekly_returns\",\"weekly_returns\",\"weekly_returns\",\"weekly_returns\",\"weekly_returns\",\"weekly_returns\",\"weekly_returns\",\"weekly_returns\",\"weekly_returns\",\"weekly_returns\",\"weekly_returns\",\"weekly_returns\",\"weekly_returns\",\"weekly_returns\",\"weekly_returns\",\"weekly_returns\",\"weekly_returns\",\"weekly_returns\",\"weekly_returns\",\"weekly_returns\",\"weekly_returns\",\"weekly_returns\",\"weekly_returns\",\"weekly_returns\",\"weekly_returns\",\"weekly_returns\",\"weekly_returns\",\"weekly_returns\",\"weekly_returns\",\"weekly_returns\",\"weekly_returns\",\"weekly_returns\",\"weekly_returns\",\"weekly_returns\",\"weekly_returns\",\"weekly_returns\",\"weekly_returns\",\"weekly_returns\",\"weekly_returns\",\"weekly_returns\",\"weekly_returns\",\"weekly_returns\",\"weekly_returns\",\"weekly_returns\",\"weekly_returns\",\"weekly_returns\",\"weekly_returns\",\"weekly_returns\",\"weekly_returns\",\"weekly_returns\",\"weekly_returns\",\"weekly_returns\",\"weekly_returns\",\"weekly_returns\",\"weekly_returns\",\"weekly_returns\",\"weekly_returns\",\"weekly_returns\",\"weekly_returns\",\"weekly_returns\",\"weekly_returns\",\"weekly_returns\",\"weekly_returns\",\"weekly_returns\",\"weekly_returns\",\"weekly_returns\",\"weekly_returns\",\"weekly_returns\",\"weekly_returns\",\"weekly_returns\",\"weekly_returns\",\"weekly_returns\",\"weekly_returns\",\"weekly_returns\",\"weekly_returns\",\"weekly_returns\",\"weekly_returns\",\"weekly_returns\",\"weekly_returns\",\"weekly_returns\",\"weekly_returns\",\"weekly_returns\",\"weekly_returns\",\"weekly_returns\",\"weekly_returns\",\"weekly_returns\",\"weekly_returns\",\"weekly_returns\",\"weekly_returns\",\"weekly_returns\",\"weekly_returns\",\"weekly_returns\",\"weekly_returns\",\"weekly_returns\",\"weekly_returns\",\"weekly_returns\",\"weekly_returns\",\"weekly_returns\",\"weekly_returns\",\"weekly_returns\",\"weekly_returns\",\"weekly_returns\",\"weekly_returns\",\"weekly_returns\",\"weekly_returns\",\"weekly_returns\",\"weekly_returns\",\"weekly_returns\",\"weekly_returns\",\"weekly_returns\",\"weekly_returns\",\"weekly_returns\",\"weekly_returns\",\"weekly_returns\",\"weekly_returns\",\"weekly_returns\",\"weekly_returns\",\"weekly_returns\",\"weekly_returns\",\"weekly_returns\",\"weekly_returns\",\"weekly_returns\"]]]}}},\"view\":{\"type\":\"object\",\"name\":\"CDSView\",\"id\":\"p2262\",\"attributes\":{\"filter\":{\"type\":\"object\",\"name\":\"AllIndices\",\"id\":\"p2263\"}}},\"glyph\":{\"type\":\"object\",\"name\":\"Line\",\"id\":\"p2258\",\"attributes\":{\"tags\":[\"apply_ranges\"],\"x\":{\"type\":\"field\",\"field\":\"date\"},\"y\":{\"type\":\"field\",\"field\":\"value\"},\"line_color\":\"#30a2da\",\"line_width\":2}},\"selection_glyph\":{\"type\":\"object\",\"name\":\"Line\",\"id\":\"p2266\",\"attributes\":{\"tags\":[\"apply_ranges\"],\"x\":{\"type\":\"field\",\"field\":\"date\"},\"y\":{\"type\":\"field\",\"field\":\"value\"},\"line_color\":\"#30a2da\",\"line_width\":2}},\"nonselection_glyph\":{\"type\":\"object\",\"name\":\"Line\",\"id\":\"p2259\",\"attributes\":{\"tags\":[\"apply_ranges\"],\"x\":{\"type\":\"field\",\"field\":\"date\"},\"y\":{\"type\":\"field\",\"field\":\"value\"},\"line_color\":\"#30a2da\",\"line_alpha\":0.1,\"line_width\":2}},\"muted_glyph\":{\"type\":\"object\",\"name\":\"Line\",\"id\":\"p2260\",\"attributes\":{\"tags\":[\"apply_ranges\"],\"x\":{\"type\":\"field\",\"field\":\"date\"},\"y\":{\"type\":\"field\",\"field\":\"value\"},\"line_color\":\"#30a2da\",\"line_alpha\":0.2,\"line_width\":2}}}},{\"type\":\"object\",\"name\":\"GlyphRenderer\",\"id\":\"p2276\",\"attributes\":{\"name\":\"weekly_volatility\",\"data_source\":{\"type\":\"object\",\"name\":\"ColumnDataSource\",\"id\":\"p2267\",\"attributes\":{\"selected\":{\"type\":\"object\",\"name\":\"Selection\",\"id\":\"p2268\",\"attributes\":{\"indices\":[],\"line_indices\":[]}},\"selection_policy\":{\"type\":\"object\",\"name\":\"UnionRenderers\",\"id\":\"p2269\"},\"data\":{\"type\":\"map\",\"entries\":[[\"date\",{\"type\":\"ndarray\",\"array\":{\"type\":\"bytes\",\"data\":\"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\"},\"shape\":[252],\"dtype\":\"float64\",\"order\":\"little\"}],[\"value\",{\"type\":\"ndarray\",\"array\":{\"type\":\"bytes\",\"data\":\"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\"},\"shape\":[252],\"dtype\":\"float64\",\"order\":\"little\"}],[\"Variable\",[\"weekly_volatility\",\"weekly_volatility\",\"weekly_volatility\",\"weekly_volatility\",\"weekly_volatility\",\"weekly_volatility\",\"weekly_volatility\",\"weekly_volatility\",\"weekly_volatility\",\"weekly_volatility\",\"weekly_volatility\",\"weekly_volatility\",\"weekly_volatility\",\"weekly_volatility\",\"weekly_volatility\",\"weekly_volatility\",\"weekly_volatility\",\"weekly_volatility\",\"weekly_volatility\",\"weekly_volatility\",\"weekly_volatility\",\"weekly_volatility\",\"weekly_volatility\",\"weekly_volatility\",\"weekly_volatility\",\"weekly_volatility\",\"weekly_volatility\",\"weekly_volatility\",\"weekly_volatility\",\"weekly_volatility\",\"weekly_volatility\",\"weekly_volatility\",\"weekly_volatility\",\"weekly_volatility\",\"weekly_volatility\",\"weekly_volatility\",\"weekly_volatility\",\"weekly_volatility\",\"weekly_volatility\",\"weekly_volatility\",\"weekly_volatility\",\"weekly_volatility\",\"weekly_volatility\",\"weekly_volatility\",\"weekly_volatility\",\"weekly_volatility\",\"weekly_volatility\",\"weekly_volatility\",\"weekly_volatility\",\"weekly_volatility\",\"weekly_volatility\",\"weekly_volatility\",\"weekly_volatility\",\"weekly_volatility\",\"weekly_volatility\",\"weekly_volatility\",\"weekly_volatility\",\"weekly_volatility\",\"weekly_volatility\",\"weekly_volatility\",\"weekly_volatility\",\"weekly_volatility\",\"weekly_volatility\",\"weekly_volatility\",\"weekly_volatility\",\"weekly_volatility\",\"weekly_volatility\",\"weekly_volatility\",\"weekly_volatility\",\"weekly_volatility\",\"weekly_volatility\",\"weekly_volatility\",\"weekly_volatility\",\"weekly_volatility\",\"weekly_volatility\",\"weekly_volatility\",\"weekly_volatility\",\"weekly_volatility\",\"weekly_volatility\",\"weekly_volatility\",\"weekly_volatility\",\"weekly_volatility\",\"weekly_volatility\",\"weekly_volatility\",\"weekly_volatility\",\"weekly_volatility\",\"weekly_volatility\",\"weekly_volatility\",\"weekly_volatility\",\"weekly_volatility\",\"weekly_volatility\",\"weekly_volatility\",\"weekly_volatility\",\"weekly_volatility\",\"weekly_volatility\",\"weekly_volatility\",\"weekly_volatility\",\"weekly_volatility\",\"weekly_volatility\",\"weekly_volatility\",\"weekly_volatility\",\"weekly_volatility\",\"weekly_volatility\",\"weekly_volatility\",\"weekly_volatility\",\"weekly_volatility\",\"weekly_volatility\",\"weekly_volatility\",\"weekly_volatility\",\"weekly_volatility\",\"weekly_volatility\",\"weekly_volatility\",\"weekly_volatility\",\"weekly_volatility\",\"weekly_volatility\",\"weekly_volatility\",\"weekly_volatility\",\"weekly_volatility\",\"weekly_volatility\",\"weekly_volatility\",\"weekly_volatility\",\"weekly_volatility\",\"weekly_volatility\",\"weekly_volatility\",\"weekly_volatility\",\"weekly_volatility\",\"weekly_volatility\",\"weekly_volatility\",\"weekly_volatility\",\"weekly_volatility\",\"weekly_volatility\",\"weekly_volatility\",\"weekly_volatility\",\"weekly_volatility\",\"weekly_volatility\",\"weekly_volatility\",\"weekly_volatility\",\"weekly_volatility\",\"weekly_volatility\",\"weekly_volatility\",\"weekly_volatility\",\"weekly_volatility\",\"weekly_volatility\",\"weekly_volatility\",\"weekly_volatility\",\"weekly_volatility\",\"weekly_volatility\",\"weekly_volatility\",\"weekly_volatility\",\"weekly_volatility\",\"weekly_volatility\",\"weekly_volatility\",\"weekly_volatility\",\"weekly_volatility\",\"weekly_volatility\",\"weekly_volatility\",\"weekly_volatility\",\"weekly_volatility\",\"weekly_volatility\",\"weekly_volatility\",\"weekly_volatility\",\"weekly_volatility\",\"weekly_volatility\",\"weekly_volatility\",\"weekly_volatility\",\"weekly_volatility\",\"weekly_volatility\",\"weekly_volatility\",\"weekly_volatility\",\"weekly_volatility\",\"weekly_volatility\",\"weekly_volatility\",\"weekly_volatility\",\"weekly_volatility\",\"weekly_volatility\",\"weekly_volatility\",\"weekly_volatility\",\"weekly_volatility\",\"weekly_volatility\",\"weekly_volatility\",\"weekly_volatility\",\"weekly_volatility\",\"weekly_volatility\",\"weekly_volatility\",\"weekly_volatility\",\"weekly_volatility\",\"weekly_volatility\",\"weekly_volatility\",\"weekly_volatility\",\"weekly_volatility\",\"weekly_volatility\",\"weekly_volatility\",\"weekly_volatility\",\"weekly_volatility\",\"weekly_volatility\",\"weekly_volatility\",\"weekly_volatility\",\"weekly_volatility\",\"weekly_volatility\",\"weekly_volatility\",\"weekly_volatility\",\"weekly_volatility\",\"weekly_volatility\",\"weekly_volatility\",\"weekly_volatility\",\"weekly_volatility\",\"weekly_volatility\",\"weekly_volatility\",\"weekly_volatility\",\"weekly_volatility\",\"weekly_volatility\",\"weekly_volatility\",\"weekly_volatility\",\"weekly_volatility\",\"weekly_volatility\",\"weekly_volatility\",\"weekly_volatility\",\"weekly_volatility\",\"weekly_volatility\",\"weekly_volatility\",\"weekly_volatility\",\"weekly_volatility\",\"weekly_volatility\",\"weekly_volatility\",\"weekly_volatility\",\"weekly_volatility\",\"weekly_volatility\",\"weekly_volatility\",\"weekly_volatility\",\"weekly_volatility\",\"weekly_volatility\",\"weekly_volatility\",\"weekly_volatility\",\"weekly_volatility\",\"weekly_volatility\",\"weekly_volatility\",\"weekly_volatility\",\"weekly_volatility\",\"weekly_volatility\",\"weekly_volatility\",\"weekly_volatility\",\"weekly_volatility\",\"weekly_volatility\",\"weekly_volatility\",\"weekly_volatility\",\"weekly_volatility\",\"weekly_volatility\",\"weekly_volatility\",\"weekly_volatility\",\"weekly_volatility\",\"weekly_volatility\",\"weekly_volatility\"]]]}}},\"view\":{\"type\":\"object\",\"name\":\"CDSView\",\"id\":\"p2277\",\"attributes\":{\"filter\":{\"type\":\"object\",\"name\":\"AllIndices\",\"id\":\"p2278\"}}},\"glyph\":{\"type\":\"object\",\"name\":\"Line\",\"id\":\"p2273\",\"attributes\":{\"tags\":[\"apply_ranges\"],\"x\":{\"type\":\"field\",\"field\":\"date\"},\"y\":{\"type\":\"field\",\"field\":\"value\"},\"line_color\":\"#fc4f30\",\"line_width\":2}},\"selection_glyph\":{\"type\":\"object\",\"name\":\"Line\",\"id\":\"p2280\",\"attributes\":{\"tags\":[\"apply_ranges\"],\"x\":{\"type\":\"field\",\"field\":\"date\"},\"y\":{\"type\":\"field\",\"field\":\"value\"},\"line_color\":\"#fc4f30\",\"line_width\":2}},\"nonselection_glyph\":{\"type\":\"object\",\"name\":\"Line\",\"id\":\"p2274\",\"attributes\":{\"tags\":[\"apply_ranges\"],\"x\":{\"type\":\"field\",\"field\":\"date\"},\"y\":{\"type\":\"field\",\"field\":\"value\"},\"line_color\":\"#fc4f30\",\"line_alpha\":0.1,\"line_width\":2}},\"muted_glyph\":{\"type\":\"object\",\"name\":\"Line\",\"id\":\"p2275\",\"attributes\":{\"tags\":[\"apply_ranges\"],\"x\":{\"type\":\"field\",\"field\":\"date\"},\"y\":{\"type\":\"field\",\"field\":\"value\"},\"line_color\":\"#fc4f30\",\"line_alpha\":0.2,\"line_width\":2}}}}],\"toolbar\":{\"type\":\"object\",\"name\":\"Toolbar\",\"id\":\"p2218\",\"attributes\":{\"tools\":[{\"type\":\"object\",\"name\":\"WheelZoomTool\",\"id\":\"p2204\",\"attributes\":{\"tags\":[\"hv_created\"],\"renderers\":\"auto\",\"zoom_together\":\"none\"}},{\"type\":\"object\",\"name\":\"HoverTool\",\"id\":\"p2205\",\"attributes\":{\"tags\":[\"hv_created\"],\"renderers\":[{\"id\":\"p2261\"},{\"id\":\"p2276\"}],\"tooltips\":[[\"Variable\",\"@{Variable}\"],[\"date\",\"@{date}{%F %T}\"],[\"value\",\"@{value}\"]],\"formatters\":{\"type\":\"map\",\"entries\":[[\"@{date}\",\"datetime\"]]}}},{\"type\":\"object\",\"name\":\"SaveTool\",\"id\":\"p2243\"},{\"type\":\"object\",\"name\":\"PanTool\",\"id\":\"p2244\"},{\"type\":\"object\",\"name\":\"BoxZoomTool\",\"id\":\"p2245\",\"attributes\":{\"overlay\":{\"type\":\"object\",\"name\":\"BoxAnnotation\",\"id\":\"p2246\",\"attributes\":{\"syncable\":false,\"level\":\"overlay\",\"visible\":false,\"left\":{\"type\":\"number\",\"value\":\"nan\"},\"right\":{\"type\":\"number\",\"value\":\"nan\"},\"top\":{\"type\":\"number\",\"value\":\"nan\"},\"bottom\":{\"type\":\"number\",\"value\":\"nan\"},\"left_units\":\"canvas\",\"right_units\":\"canvas\",\"top_units\":\"canvas\",\"bottom_units\":\"canvas\",\"line_color\":\"black\",\"line_alpha\":1.0,\"line_width\":2,\"line_dash\":[4,4],\"fill_color\":\"lightgrey\",\"fill_alpha\":0.5}}}},{\"type\":\"object\",\"name\":\"ResetTool\",\"id\":\"p2251\"}],\"active_drag\":{\"id\":\"p2244\"},\"active_scroll\":{\"id\":\"p2204\"}}},\"left\":[{\"type\":\"object\",\"name\":\"LinearAxis\",\"id\":\"p2238\",\"attributes\":{\"ticker\":{\"type\":\"object\",\"name\":\"BasicTicker\",\"id\":\"p2239\",\"attributes\":{\"mantissas\":[1,2,5]}},\"formatter\":{\"type\":\"object\",\"name\":\"BasicTickFormatter\",\"id\":\"p2240\"},\"axis_label\":\"\",\"major_label_policy\":{\"type\":\"object\",\"name\":\"AllLabels\",\"id\":\"p2241\"}}}],\"right\":[{\"type\":\"object\",\"name\":\"Legend\",\"id\":\"p2264\",\"attributes\":{\"location\":[0,0],\"title\":\"Variable\",\"click_policy\":\"mute\",\"items\":[{\"type\":\"object\",\"name\":\"LegendItem\",\"id\":\"p2265\",\"attributes\":{\"label\":{\"type\":\"value\",\"value\":\"weekly_returns\"},\"renderers\":[{\"id\":\"p2261\"}]}},{\"type\":\"object\",\"name\":\"LegendItem\",\"id\":\"p2279\",\"attributes\":{\"label\":{\"type\":\"value\",\"value\":\"weekly_volatility\"},\"renderers\":[{\"id\":\"p2276\"}]}}]}}],\"below\":[{\"type\":\"object\",\"name\":\"DatetimeAxis\",\"id\":\"p2221\",\"attributes\":{\"ticker\":{\"type\":\"object\",\"name\":\"DatetimeTicker\",\"id\":\"p2222\",\"attributes\":{\"num_minor_ticks\":5,\"tickers\":[{\"type\":\"object\",\"name\":\"AdaptiveTicker\",\"id\":\"p2223\",\"attributes\":{\"num_minor_ticks\":0,\"mantissas\":[1,2,5],\"max_interval\":500.0}},{\"type\":\"object\",\"name\":\"AdaptiveTicker\",\"id\":\"p2224\",\"attributes\":{\"num_minor_ticks\":0,\"base\":60,\"mantissas\":[1,2,5,10,15,20,30],\"min_interval\":1000.0,\"max_interval\":1800000.0}},{\"type\":\"object\",\"name\":\"AdaptiveTicker\",\"id\":\"p2225\",\"attributes\":{\"num_minor_ticks\":0,\"base\":24,\"mantissas\":[1,2,4,6,8,12],\"min_interval\":3600000.0,\"max_interval\":43200000.0}},{\"type\":\"object\",\"name\":\"DaysTicker\",\"id\":\"p2226\",\"attributes\":{\"days\":[1,2,3,4,5,6,7,8,9,10,11,12,13,14,15,16,17,18,19,20,21,22,23,24,25,26,27,28,29,30,31]}},{\"type\":\"object\",\"name\":\"DaysTicker\",\"id\":\"p2227\",\"attributes\":{\"days\":[1,4,7,10,13,16,19,22,25,28]}},{\"type\":\"object\",\"name\":\"DaysTicker\",\"id\":\"p2228\",\"attributes\":{\"days\":[1,8,15,22]}},{\"type\":\"object\",\"name\":\"DaysTicker\",\"id\":\"p2229\",\"attributes\":{\"days\":[1,15]}},{\"type\":\"object\",\"name\":\"MonthsTicker\",\"id\":\"p2230\",\"attributes\":{\"months\":[0,1,2,3,4,5,6,7,8,9,10,11]}},{\"type\":\"object\",\"name\":\"MonthsTicker\",\"id\":\"p2231\",\"attributes\":{\"months\":[0,2,4,6,8,10]}},{\"type\":\"object\",\"name\":\"MonthsTicker\",\"id\":\"p2232\",\"attributes\":{\"months\":[0,4,8]}},{\"type\":\"object\",\"name\":\"MonthsTicker\",\"id\":\"p2233\",\"attributes\":{\"months\":[0,6]}},{\"type\":\"object\",\"name\":\"YearsTicker\",\"id\":\"p2234\"}]}},\"formatter\":{\"type\":\"object\",\"name\":\"DatetimeTickFormatter\",\"id\":\"p2235\"},\"axis_label\":\"date\",\"major_label_policy\":{\"type\":\"object\",\"name\":\"AllLabels\",\"id\":\"p2236\"}}}],\"center\":[{\"type\":\"object\",\"name\":\"Grid\",\"id\":\"p2237\",\"attributes\":{\"axis\":{\"id\":\"p2221\"},\"grid_line_color\":null}},{\"type\":\"object\",\"name\":\"Grid\",\"id\":\"p2242\",\"attributes\":{\"dimension\":1,\"axis\":{\"id\":\"p2238\"},\"grid_line_color\":null}}],\"min_border_top\":10,\"min_border_bottom\":10,\"min_border_left\":10,\"min_border_right\":10,\"output_backend\":\"webgl\"}},{\"type\":\"object\",\"name\":\"Spacer\",\"id\":\"p2282\",\"attributes\":{\"name\":\"HSpacer03029\",\"stylesheets\":[\"\\n:host(.pn-loading.pn-arc):before, .pn-loading.pn-arc:before {\\n  background-image: url(\\\"data:image/svg+xml;base64,PHN2ZyB4bWxucz0iaHR0cDovL3d3dy53My5vcmcvMjAwMC9zdmciIHN0eWxlPSJtYXJnaW46IGF1dG87IGJhY2tncm91bmQ6IG5vbmU7IGRpc3BsYXk6IGJsb2NrOyBzaGFwZS1yZW5kZXJpbmc6IGF1dG87IiB2aWV3Qm94PSIwIDAgMTAwIDEwMCIgcHJlc2VydmVBc3BlY3RSYXRpbz0ieE1pZFlNaWQiPiAgPGNpcmNsZSBjeD0iNTAiIGN5PSI1MCIgZmlsbD0ibm9uZSIgc3Ryb2tlPSIjYzNjM2MzIiBzdHJva2Utd2lkdGg9IjEwIiByPSIzNSIgc3Ryb2tlLWRhc2hhcnJheT0iMTY0LjkzMzYxNDMxMzQ2NDE1IDU2Ljk3Nzg3MTQzNzgyMTM4Ij4gICAgPGFuaW1hdGVUcmFuc2Zvcm0gYXR0cmlidXRlTmFtZT0idHJhbnNmb3JtIiB0eXBlPSJyb3RhdGUiIHJlcGVhdENvdW50PSJpbmRlZmluaXRlIiBkdXI9IjFzIiB2YWx1ZXM9IjAgNTAgNTA7MzYwIDUwIDUwIiBrZXlUaW1lcz0iMDsxIj48L2FuaW1hdGVUcmFuc2Zvcm0+ICA8L2NpcmNsZT48L3N2Zz4=\\\");\\n  background-size: auto calc(min(50%, 400px));\\n}\",{\"id\":\"p2197\"},{\"id\":\"p2195\"},{\"id\":\"p2196\"}],\"margin\":0,\"sizing_mode\":\"stretch_width\",\"align\":\"start\"}}]}}],\"defs\":[{\"type\":\"model\",\"name\":\"ReactiveHTML1\"},{\"type\":\"model\",\"name\":\"FlexBox1\",\"properties\":[{\"name\":\"align_content\",\"kind\":\"Any\",\"default\":\"flex-start\"},{\"name\":\"align_items\",\"kind\":\"Any\",\"default\":\"flex-start\"},{\"name\":\"flex_direction\",\"kind\":\"Any\",\"default\":\"row\"},{\"name\":\"flex_wrap\",\"kind\":\"Any\",\"default\":\"wrap\"},{\"name\":\"justify_content\",\"kind\":\"Any\",\"default\":\"flex-start\"}]},{\"type\":\"model\",\"name\":\"FloatPanel1\",\"properties\":[{\"name\":\"config\",\"kind\":\"Any\",\"default\":{\"type\":\"map\"}},{\"name\":\"contained\",\"kind\":\"Any\",\"default\":true},{\"name\":\"position\",\"kind\":\"Any\",\"default\":\"right-top\"},{\"name\":\"offsetx\",\"kind\":\"Any\",\"default\":null},{\"name\":\"offsety\",\"kind\":\"Any\",\"default\":null},{\"name\":\"theme\",\"kind\":\"Any\",\"default\":\"primary\"},{\"name\":\"status\",\"kind\":\"Any\",\"default\":\"normalized\"}]},{\"type\":\"model\",\"name\":\"GridStack1\",\"properties\":[{\"name\":\"mode\",\"kind\":\"Any\",\"default\":\"warn\"},{\"name\":\"ncols\",\"kind\":\"Any\",\"default\":null},{\"name\":\"nrows\",\"kind\":\"Any\",\"default\":null},{\"name\":\"allow_resize\",\"kind\":\"Any\",\"default\":true},{\"name\":\"allow_drag\",\"kind\":\"Any\",\"default\":true},{\"name\":\"state\",\"kind\":\"Any\",\"default\":[]}]},{\"type\":\"model\",\"name\":\"drag1\",\"properties\":[{\"name\":\"slider_width\",\"kind\":\"Any\",\"default\":5},{\"name\":\"slider_color\",\"kind\":\"Any\",\"default\":\"black\"},{\"name\":\"value\",\"kind\":\"Any\",\"default\":50}]},{\"type\":\"model\",\"name\":\"click1\",\"properties\":[{\"name\":\"terminal_output\",\"kind\":\"Any\",\"default\":\"\"},{\"name\":\"debug_name\",\"kind\":\"Any\",\"default\":\"\"},{\"name\":\"clears\",\"kind\":\"Any\",\"default\":0}]},{\"type\":\"model\",\"name\":\"copy_to_clipboard1\",\"properties\":[{\"name\":\"fill\",\"kind\":\"Any\",\"default\":\"none\"},{\"name\":\"value\",\"kind\":\"Any\",\"default\":null}]},{\"type\":\"model\",\"name\":\"FastWrapper1\",\"properties\":[{\"name\":\"object\",\"kind\":\"Any\",\"default\":null},{\"name\":\"style\",\"kind\":\"Any\",\"default\":null}]},{\"type\":\"model\",\"name\":\"NotificationAreaBase1\",\"properties\":[{\"name\":\"js_events\",\"kind\":\"Any\",\"default\":{\"type\":\"map\"}},{\"name\":\"position\",\"kind\":\"Any\",\"default\":\"bottom-right\"},{\"name\":\"_clear\",\"kind\":\"Any\",\"default\":0}]},{\"type\":\"model\",\"name\":\"NotificationArea1\",\"properties\":[{\"name\":\"js_events\",\"kind\":\"Any\",\"default\":{\"type\":\"map\"}},{\"name\":\"notifications\",\"kind\":\"Any\",\"default\":[]},{\"name\":\"position\",\"kind\":\"Any\",\"default\":\"bottom-right\"},{\"name\":\"_clear\",\"kind\":\"Any\",\"default\":0},{\"name\":\"types\",\"kind\":\"Any\",\"default\":[{\"type\":\"map\",\"entries\":[[\"type\",\"warning\"],[\"background\",\"#ffc107\"],[\"icon\",{\"type\":\"map\",\"entries\":[[\"className\",\"fas fa-exclamation-triangle\"],[\"tagName\",\"i\"],[\"color\",\"white\"]]}]]},{\"type\":\"map\",\"entries\":[[\"type\",\"info\"],[\"background\",\"#007bff\"],[\"icon\",{\"type\":\"map\",\"entries\":[[\"className\",\"fas fa-info-circle\"],[\"tagName\",\"i\"],[\"color\",\"white\"]]}]]}]}]},{\"type\":\"model\",\"name\":\"Notification\",\"properties\":[{\"name\":\"background\",\"kind\":\"Any\",\"default\":null},{\"name\":\"duration\",\"kind\":\"Any\",\"default\":3000},{\"name\":\"icon\",\"kind\":\"Any\",\"default\":null},{\"name\":\"message\",\"kind\":\"Any\",\"default\":\"\"},{\"name\":\"notification_type\",\"kind\":\"Any\",\"default\":null},{\"name\":\"_destroyed\",\"kind\":\"Any\",\"default\":false}]},{\"type\":\"model\",\"name\":\"TemplateActions1\",\"properties\":[{\"name\":\"open_modal\",\"kind\":\"Any\",\"default\":0},{\"name\":\"close_modal\",\"kind\":\"Any\",\"default\":0}]},{\"type\":\"model\",\"name\":\"BootstrapTemplateActions1\",\"properties\":[{\"name\":\"open_modal\",\"kind\":\"Any\",\"default\":0},{\"name\":\"close_modal\",\"kind\":\"Any\",\"default\":0}]},{\"type\":\"model\",\"name\":\"MaterialTemplateActions1\",\"properties\":[{\"name\":\"open_modal\",\"kind\":\"Any\",\"default\":0},{\"name\":\"close_modal\",\"kind\":\"Any\",\"default\":0}]}]}};\n",
       "  var render_items = [{\"docid\":\"e41c677f-99b0-440b-ae92-d05f469f8202\",\"roots\":{\"p2194\":\"df4f1d83-6d8e-403b-bc06-957d66641c44\"},\"root_ids\":[\"p2194\"]}];\n",
       "  var docs = Object.values(docs_json)\n",
       "  if (!docs) {\n",
       "    return\n",
       "  }\n",
       "  const py_version = docs[0].version.replace('rc', '-rc.').replace('.dev', '-dev.')\n",
       "  function embed_document(root) {\n",
       "    var Bokeh = get_bokeh(root)\n",
       "    Bokeh.embed.embed_items_notebook(docs_json, render_items);\n",
       "    for (const render_item of render_items) {\n",
       "      for (const root_id of render_item.root_ids) {\n",
       "\tconst id_el = document.getElementById(root_id)\n",
       "\tif (id_el.children.length && (id_el.children[0].className === 'bk-root')) {\n",
       "\t  const root_el = id_el.children[0]\n",
       "\t  root_el.id = root_el.id + '-rendered'\n",
       "\t}\n",
       "      }\n",
       "    }\n",
       "  }\n",
       "  function get_bokeh(root) {\n",
       "    if (root.Bokeh === undefined) {\n",
       "      return null\n",
       "    } else if (root.Bokeh.version !== py_version) {\n",
       "      if (root.Bokeh.versions === undefined || !root.Bokeh.versions.has(py_version)) {\n",
       "\treturn null\n",
       "      }\n",
       "      return root.Bokeh.versions.get(py_version);\n",
       "    } else if (root.Bokeh.version === py_version) {\n",
       "      return root.Bokeh\n",
       "    }\n",
       "    return null\n",
       "  }\n",
       "  function is_loaded(root) {\n",
       "    var Bokeh = get_bokeh(root)\n",
       "    return (Bokeh != null && Bokeh.Panel !== undefined)\n",
       "  }\n",
       "  if (is_loaded(root)) {\n",
       "    embed_document(root);\n",
       "  } else {\n",
       "    var attempts = 0;\n",
       "    var timer = setInterval(function(root) {\n",
       "      if (is_loaded(root)) {\n",
       "        clearInterval(timer);\n",
       "        embed_document(root);\n",
       "      } else if (document.readyState == \"complete\") {\n",
       "        attempts++;\n",
       "        if (attempts > 200) {\n",
       "          clearInterval(timer);\n",
       "\t  var Bokeh = get_bokeh(root)\n",
       "\t  if (Bokeh == null || Bokeh.Panel == null) {\n",
       "            console.warn(\"Panel: ERROR: Unable to run Panel code because Bokeh or Panel library is missing\");\n",
       "\t  } else {\n",
       "\t    console.warn(\"Panel: WARNING: Attempting to render but not all required libraries could be resolved.\")\n",
       "\t    embed_document(root)\n",
       "\t  }\n",
       "        }\n",
       "      }\n",
       "    }, 25, root)\n",
       "  }\n",
       "})(window);</script>"
      ],
      "text/plain": [
       ":NdOverlay   [Variable]\n",
       "   :Curve   [date]   (value)"
      ]
     },
     "execution_count": 56,
     "metadata": {
      "application/vnd.holoviews_exec.v0+json": {
       "id": "p2194"
      }
     },
     "output_type": "execute_result"
    }
   ],
   "source": [
    "df_apple[[\"weekly_returns\", \"weekly_volatility\"]].hvplot()"
   ]
  },
  {
   "cell_type": "code",
   "execution_count": 33,
   "metadata": {},
   "outputs": [
    {
     "data": {
      "text/html": [
       "<div>\n",
       "<style scoped>\n",
       "    .dataframe tbody tr th:only-of-type {\n",
       "        vertical-align: middle;\n",
       "    }\n",
       "\n",
       "    .dataframe tbody tr th {\n",
       "        vertical-align: top;\n",
       "    }\n",
       "\n",
       "    .dataframe thead th {\n",
       "        text-align: right;\n",
       "    }\n",
       "</style>\n",
       "<table border=\"1\" class=\"dataframe\">\n",
       "  <thead>\n",
       "    <tr style=\"text-align: right;\">\n",
       "      <th></th>\n",
       "      <th>close</th>\n",
       "      <th>trend-worldwide</th>\n",
       "      <th>lagged_trends</th>\n",
       "      <th>weekly_volatility</th>\n",
       "      <th>weekly_returns</th>\n",
       "      <th>mean_volatility</th>\n",
       "    </tr>\n",
       "  </thead>\n",
       "  <tbody>\n",
       "    <tr>\n",
       "      <th>close</th>\n",
       "      <td>1.000000</td>\n",
       "      <td>0.249017</td>\n",
       "      <td>0.249998</td>\n",
       "      <td>0.197668</td>\n",
       "      <td>0.157472</td>\n",
       "      <td>0.296549</td>\n",
       "    </tr>\n",
       "    <tr>\n",
       "      <th>trend-worldwide</th>\n",
       "      <td>0.249017</td>\n",
       "      <td>1.000000</td>\n",
       "      <td>0.735369</td>\n",
       "      <td>-0.014795</td>\n",
       "      <td>0.019526</td>\n",
       "      <td>0.011548</td>\n",
       "    </tr>\n",
       "    <tr>\n",
       "      <th>lagged_trends</th>\n",
       "      <td>0.249998</td>\n",
       "      <td>0.735369</td>\n",
       "      <td>1.000000</td>\n",
       "      <td>0.004911</td>\n",
       "      <td>0.026701</td>\n",
       "      <td>0.027371</td>\n",
       "    </tr>\n",
       "    <tr>\n",
       "      <th>weekly_volatility</th>\n",
       "      <td>0.197668</td>\n",
       "      <td>-0.014795</td>\n",
       "      <td>0.004911</td>\n",
       "      <td>1.000000</td>\n",
       "      <td>0.086676</td>\n",
       "      <td>-0.145848</td>\n",
       "    </tr>\n",
       "    <tr>\n",
       "      <th>weekly_returns</th>\n",
       "      <td>0.157472</td>\n",
       "      <td>0.019526</td>\n",
       "      <td>0.026701</td>\n",
       "      <td>0.086676</td>\n",
       "      <td>1.000000</td>\n",
       "      <td>0.539641</td>\n",
       "    </tr>\n",
       "    <tr>\n",
       "      <th>mean_volatility</th>\n",
       "      <td>0.296549</td>\n",
       "      <td>0.011548</td>\n",
       "      <td>0.027371</td>\n",
       "      <td>-0.145848</td>\n",
       "      <td>0.539641</td>\n",
       "      <td>1.000000</td>\n",
       "    </tr>\n",
       "  </tbody>\n",
       "</table>\n",
       "</div>"
      ],
      "text/plain": [
       "                      close  trend-worldwide  lagged_trends  \\\n",
       "close              1.000000         0.249017       0.249998   \n",
       "trend-worldwide    0.249017         1.000000       0.735369   \n",
       "lagged_trends      0.249998         0.735369       1.000000   \n",
       "weekly_volatility  0.197668        -0.014795       0.004911   \n",
       "weekly_returns     0.157472         0.019526       0.026701   \n",
       "mean_volatility    0.296549         0.011548       0.027371   \n",
       "\n",
       "                   weekly_volatility  weekly_returns  mean_volatility  \n",
       "close                       0.197668        0.157472         0.296549  \n",
       "trend-worldwide            -0.014795        0.019526         0.011548  \n",
       "lagged_trends               0.004911        0.026701         0.027371  \n",
       "weekly_volatility           1.000000        0.086676        -0.145848  \n",
       "weekly_returns              0.086676        1.000000         0.539641  \n",
       "mean_volatility            -0.145848        0.539641         1.000000  "
      ]
     },
     "execution_count": 33,
     "metadata": {},
     "output_type": "execute_result"
    }
   ],
   "source": [
    "df_apple.corr()"
   ]
  },
  {
   "cell_type": "code",
   "execution_count": null,
   "metadata": {},
   "outputs": [],
   "source": []
  }
 ],
 "metadata": {
  "kernelspec": {
   "display_name": "Python 3",
   "language": "python",
   "name": "python3"
  },
  "language_info": {
   "codemirror_mode": {
    "name": "ipython",
    "version": 3
   },
   "file_extension": ".py",
   "mimetype": "text/x-python",
   "name": "python",
   "nbconvert_exporter": "python",
   "pygments_lexer": "ipython3",
   "version": "3.11.7"
  }
 },
 "nbformat": 4,
 "nbformat_minor": 4
}
