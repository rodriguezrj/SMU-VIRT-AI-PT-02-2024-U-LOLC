{
 "cells": [
  {
   "cell_type": "code",
   "execution_count": 13,
   "metadata": {},
   "outputs": [],
   "source": [
    "# Imports for loading environment variables.\n",
    "from dotenv import load_dotenv\n",
    "import os"
   ]
  },
  {
   "cell_type": "code",
   "execution_count": 14,
   "metadata": {},
   "outputs": [],
   "source": [
    "# Load environment variables.\n",
    "load_dotenv()\n",
    "\n",
    "# Set the model name for our LLMs.\n",
    "OPENAI_MODEL = \"gpt-3.5-turbo\"\n",
    "# Store the API key in a variable.\n",
    "OPENAI_API_KEY = os.getenv(\"OPENAI_API_KEY\")"
   ]
  },
  {
   "cell_type": "code",
   "execution_count": 15,
   "metadata": {},
   "outputs": [],
   "source": [
    "# Additional imports for entity-based memory.\n",
    "from langchain_openai import ChatOpenAI\n",
    "from langchain.chains import ConversationChain\n",
    "from langchain.memory import ConversationEntityMemory\n",
    "from langchain.memory.prompt import ENTITY_MEMORY_CONVERSATION_TEMPLATE"
   ]
  },
  {
   "cell_type": "code",
   "execution_count": 16,
   "metadata": {},
   "outputs": [],
   "source": [
    "# Initialize the model.\n",
    "llm = ChatOpenAI(openai_api_key=OPENAI_API_KEY, model_name=OPENAI_MODEL, temperature=0.0)"
   ]
  },
  {
   "cell_type": "code",
   "execution_count": 17,
   "metadata": {},
   "outputs": [],
   "source": [
    "# Initialize an object for conversational memory.\n",
    "buffer = ConversationEntityMemory(llm=llm)"
   ]
  },
  {
   "cell_type": "code",
   "execution_count": 18,
   "metadata": {},
   "outputs": [],
   "source": [
    "# Create the chain for conversation, using a ConversationBufferMemory object.\n",
    "conversation = ConversationChain(\n",
    "    llm=llm, \n",
    "    memory=buffer, \n",
    "    #verbose=True, \n",
    "    prompt=ENTITY_MEMORY_CONVERSATION_TEMPLATE\n",
    ")"
   ]
  },
  {
   "cell_type": "code",
   "execution_count": 19,
   "metadata": {},
   "outputs": [
    {
     "name": "stdout",
     "output_type": "stream",
     "text": [
      "What is your name?Bradley\n",
      "Please describe your likes and dislikes.I love dogs, I hate cats\n"
     ]
    }
   ],
   "source": [
    "# Prompt the user for their name.\n",
    "name = input(\"What is your name?\")\n",
    "# Prompt the user for a description of their likes and dislikes.\n",
    "description = input(\"Please describe your likes and dislikes.\")"
   ]
  },
  {
   "cell_type": "code",
   "execution_count": 20,
   "metadata": {},
   "outputs": [
    {
     "data": {
      "text/plain": [
       "{'input': 'My name is Bradley and I will be organizing an activity and attending. I love dogs, I hate cats',\n",
       " 'history': '',\n",
       " 'entities': {'Bradley': ''},\n",
       " 'response': \"That's great to know, Bradley! Organizing an activity sounds like a fun and rewarding task. It's also nice to hear that you love dogs, they truly are wonderful companions. As for cats, it's understandable that not everyone is a fan of them. Do you have any specific plans for the activity you're organizing, or any particular dog-related activities in mind?\"}"
      ]
     },
     "execution_count": 20,
     "metadata": {},
     "output_type": "execute_result"
    }
   ],
   "source": [
    "# Create the query and run the chain with it.\n",
    "query = f\"My name is {name} and I will be organizing an activity and attending. {description}\"\n",
    "conversation.invoke(input=query)"
   ]
  },
  {
   "cell_type": "code",
   "execution_count": 21,
   "metadata": {},
   "outputs": [
    {
     "name": "stdout",
     "output_type": "stream",
     "text": [
      "How many other people do you want to plan the activity for?1\n"
     ]
    }
   ],
   "source": [
    "# Prompt the user for the number of other people.\n",
    "n_people = int(input(\"How many other people do you want to plan the activity for?\"))"
   ]
  },
  {
   "cell_type": "code",
   "execution_count": 22,
   "metadata": {},
   "outputs": [
    {
     "name": "stdout",
     "output_type": "stream",
     "text": [
      "What is this attendee's name?Jim\n",
      "Please describe Jim's likes and dislikes.Loves cats, hates dogs\n"
     ]
    }
   ],
   "source": [
    "# Loop for each other person.\n",
    "for i in range(n_people):\n",
    "    # Prompt the user for the attendee's name.\n",
    "    name = input(\"What is this attendee's name?\")\n",
    "    # Prompt the user for the attendee's likes and dislikes.\n",
    "    description = input(f\"Please describe {name}'s likes and dislikes.\")\n",
    "\n",
    "    # Construct a query for this attendee and run the chain.\n",
    "    query = f\"{name} will be attending. {description}\"\n",
    "    conversation.run(input=query)"
   ]
  },
  {
   "cell_type": "code",
   "execution_count": 23,
   "metadata": {},
   "outputs": [],
   "source": [
    "# Define a final query as a string.\n",
    "query = \"What would be a good activity to plan for all the people mentioned?\""
   ]
  },
  {
   "cell_type": "code",
   "execution_count": 24,
   "metadata": {},
   "outputs": [
    {
     "name": "stdout",
     "output_type": "stream",
     "text": [
      "Since you have a mix of people who love dogs and hate cats, as well as those who love cats and hate dogs, it might be a good idea to plan an activity that can accommodate both preferences. One idea could be to organize a pet-friendly event where both dogs and cats are welcome, such as a pet-friendly picnic or a visit to an animal shelter where participants can interact with both dogs and cats. This way, everyone can enjoy the company of animals they love, and it can also be a great opportunity for everyone to bond over their shared interests in pets. Do you think this could be a good activity to plan for all the people mentioned?\n"
     ]
    }
   ],
   "source": [
    "# Pass the query to the predict method which will make a prediction based on the query, and print the result.\n",
    "result = conversation.predict(input=query)\n",
    "print(result, end='\\n')"
   ]
  },
  {
   "cell_type": "markdown",
   "metadata": {},
   "source": [
    "# New heading"
   ]
  },
  {
   "cell_type": "code",
   "execution_count": null,
   "metadata": {},
   "outputs": [],
   "source": []
  }
 ],
 "metadata": {
  "kernelspec": {
   "display_name": "dev",
   "language": "python",
   "name": "dev"
  },
  "language_info": {
   "codemirror_mode": {
    "name": "ipython",
    "version": 3
   },
   "file_extension": ".py",
   "mimetype": "text/x-python",
   "name": "python",
   "nbconvert_exporter": "python",
   "pygments_lexer": "ipython3",
   "version": "3.10.13"
  }
 },
 "nbformat": 4,
 "nbformat_minor": 2
}
