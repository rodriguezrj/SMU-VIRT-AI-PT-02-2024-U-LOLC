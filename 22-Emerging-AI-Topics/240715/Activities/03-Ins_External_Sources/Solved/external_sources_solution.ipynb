{
 "cells": [
  {
   "cell_type": "code",
   "execution_count": 4,
   "metadata": {},
   "outputs": [],
   "source": [
    "from langchain_openai import ChatOpenAI\n",
    "from dotenv import load_dotenv\n",
    "import os"
   ]
  },
  {
   "cell_type": "markdown",
   "metadata": {},
   "source": [
    "# Model and API Key"
   ]
  },
  {
   "cell_type": "code",
   "execution_count": 5,
   "metadata": {},
   "outputs": [],
   "source": [
    "# Load environment variables.\n",
    "load_dotenv()\n",
    "\n",
    "# Set the model name for our LLMs.\n",
    "OPENAI_MODEL = \"gpt-3.5-turbo\"\n",
    "# Store the API key in a variable.\n",
    "OPENAI_API_KEY = os.getenv(\"OPENAI_API_KEY\")"
   ]
  },
  {
   "cell_type": "markdown",
   "metadata": {},
   "source": [
    "# Documents"
   ]
  },
  {
   "cell_type": "code",
   "execution_count": 7,
   "metadata": {},
   "outputs": [],
   "source": [
    "# Additional imports for loading PDF documents and QA chain.\n",
    "from langchain.document_loaders import PyPDFLoader\n",
    "from langchain.chains.question_answering import load_qa_chain"
   ]
  },
  {
   "cell_type": "code",
   "execution_count": 14,
   "metadata": {},
   "outputs": [],
   "source": [
    "# documents[0].page_content"
   ]
  },
  {
   "cell_type": "code",
   "execution_count": 8,
   "metadata": {},
   "outputs": [
    {
     "name": "stdout",
     "output_type": "stream",
     "text": [
      "Yes, Jane Doe mentions in her resume that she has conversational proficiency in Spanish, so you could write to her in Spanish and expect her to understand.\n"
     ]
    }
   ],
   "source": [
    "# Create the PDF loader and load the document.\n",
    "pdf_loader = PyPDFLoader('https://static.bc-edx.com/ai/ail-v-1-0/m22/lesson_1/datasets/Resume.pdf')\n",
    "documents = pdf_loader.load()\n",
    "\n",
    "# Initialize the model.\n",
    "llm = ChatOpenAI(openai_api_key=OPENAI_API_KEY, model_name=OPENAI_MODEL, temperature=0.0)\n",
    "\n",
    "# Create the QA chain using the LLM.\n",
    "chain = load_qa_chain(llm)\n",
    "\n",
    "# Define a query as a string.\n",
    "query = 'Could I write to Jane Doe in Spanish and expect her to understand?'\n",
    "\n",
    "# Pass the documents and the query to the chain, and print the result.\n",
    "result = chain.invoke({\"input_documents\": documents, \"question\": query})\n",
    "print(result[\"output_text\"])"
   ]
  },
  {
   "cell_type": "markdown",
   "metadata": {},
   "source": [
    "# Built-in Integrations"
   ]
  },
  {
   "cell_type": "code",
   "execution_count": 15,
   "metadata": {},
   "outputs": [],
   "source": [
    "# Additional imports for loading Wikipedia content and QA chain.\n",
    "from langchain_community.document_loaders import WikipediaLoader\n",
    "from langchain.chains.question_answering import load_qa_chain"
   ]
  },
  {
   "cell_type": "code",
   "execution_count": 21,
   "metadata": {},
   "outputs": [
    {
     "name": "stdout",
     "output_type": "stream",
     "text": [
      "Leonard Cohen released a total of fifteen studio albums during his music career.\n"
     ]
    }
   ],
   "source": [
    "# Initialize the model.\n",
    "llm = ChatOpenAI(openai_api_key=OPENAI_API_KEY, model_name=OPENAI_MODEL, temperature=0.0)\n",
    "\n",
    "# Define the wikipedia topic as a string.\n",
    "wiki_topic = \"Leonard Cohen\"\n",
    "\n",
    "# Load the wikipedia results as documents, using a max of 2.\n",
    "documents = WikipediaLoader(query=wiki_topic, load_max_docs=2, load_all_available_meta=True).load()\n",
    "\n",
    "# Create the QA chain using the LLM.\n",
    "chain = load_qa_chain(llm)\n",
    "\n",
    "# Define a query as a string.\n",
    "query = 'How many albums has Leonard Cohen released?'\n",
    "\n",
    "# Pass the documents and the query to the chain, and print the result.\n",
    "result = chain.invoke({\"input_documents\": documents, \"question\": query})\n",
    "print(result[\"output_text\"])"
   ]
  },
  {
   "cell_type": "code",
   "execution_count": 30,
   "metadata": {
    "scrolled": false
   },
   "outputs": [],
   "source": [
    "# documents[0].metadata"
   ]
  },
  {
   "cell_type": "markdown",
   "metadata": {},
   "source": [
    "# External APIs"
   ]
  },
  {
   "cell_type": "code",
   "execution_count": 17,
   "metadata": {},
   "outputs": [],
   "source": [
    "# Additional imports for API chain.\n",
    "from langchain.chains import APIChain"
   ]
  },
  {
   "cell_type": "code",
   "execution_count": 32,
   "metadata": {},
   "outputs": [
    {
     "name": "stdout",
     "output_type": "stream",
     "text": [
      "\n",
      "\n",
      "\u001b[1m> Entering new APIChain chain...\u001b[0m\n",
      "\u001b[32;1m\u001b[1;3mhttp://numbersapi.com/2/02/date\u001b[0m\n",
      "\u001b[33;1m\u001b[1;3mFebruary 2nd is the day in 1957 that Iskander Mirza of Pakistan lays the foundation-stone of the Guddu Barrage.\u001b[0m\n",
      "\n",
      "\u001b[1m> Finished chain.\u001b[0m\n",
      "On February 2nd, 1957, Iskander Mirza of Pakistan laid the foundation-stone of the Guddu Barrage.\n"
     ]
    }
   ],
   "source": [
    "# Text description of API spec.\n",
    "spec = \"\"\"URL STRUCTURE\n",
    "        Just hit http://numbersapi.com/number/type to get a plain text response, where\n",
    "        type is one of trivia, math, date, or year. Defaults to trivia if omitted.\n",
    "        number is an integer, or the keyword random, for which we will try to return\n",
    "        a random available fact, or a day of year in the form month/day \n",
    "        (eg. 2/29, 1/09, 04/1), if type is date ranges of numbers\"\"\"\n",
    "\n",
    "# Initialize the model.\n",
    "llm = ChatOpenAI(openai_api_key=OPENAI_API_KEY, model_name=OPENAI_MODEL, temperature=0.0)\n",
    "\n",
    "# Create the API chain from the spec, using the LLM.\n",
    "chain = APIChain.from_llm_and_api_docs(\n",
    "    llm,\n",
    "    api_docs=spec,\n",
    "    verbose=True, # Caution: for APIs that require a key, this setting can display the API key in the output.\n",
    "    limit_to_domains=[\"http://numbersapi.com\"],\n",
    ")\n",
    "\n",
    "# Define a query as a dictionary.\n",
    "query = {\"question\": \"What is a fun fact about the number 2/02?\"}\n",
    "\n",
    "# Run the chain using the query, and print the response.\n",
    "result = chain.invoke(query)\n",
    "print(result[\"output\"])"
   ]
  },
  {
   "cell_type": "code",
   "execution_count": 31,
   "metadata": {},
   "outputs": [],
   "source": [
    "# Additional imports for API chain and processing json.\n",
    "from langchain.chains import APIChain\n",
    "import json\n",
    "import requests"
   ]
  },
  {
   "cell_type": "code",
   "execution_count": 33,
   "metadata": {},
   "outputs": [],
   "source": [
    "# Store the API key in a variable.\n",
    "api_key = os.getenv(\"NYT_API_KEY\")\n",
    "\n",
    "# Load the spec from json file and store the API key.\n",
    "spec = requests.get(\"https://raw.githubusercontent.com/nytimes/public_api_specs/master/article_search/article_search_v2.json\").json()\n",
    "spec[\"api_key\"] = api_key"
   ]
  },
  {
   "cell_type": "code",
   "execution_count": 35,
   "metadata": {},
   "outputs": [
    {
     "data": {
      "text/plain": [
       "dict_keys(['swagger', 'info', 'host', 'schemes', 'basePath', 'produces', 'security', 'paths', 'definitions', 'securityDefinitions', 'api_key'])"
      ]
     },
     "execution_count": 35,
     "metadata": {},
     "output_type": "execute_result"
    }
   ],
   "source": [
    "spec.keys()"
   ]
  },
  {
   "cell_type": "code",
   "execution_count": 39,
   "metadata": {},
   "outputs": [],
   "source": [
    "# spec['definitions']"
   ]
  },
  {
   "cell_type": "code",
   "execution_count": 20,
   "metadata": {},
   "outputs": [
    {
     "name": "stdout",
     "output_type": "stream",
     "text": [
      "The headlines of three articles about Tracy Chapman since 2020 are:\n",
      "1. \"Tracy Chapman, Stephen King and Chloë Sevigny on Their Debuts\"\n",
      "2. \"Covering the Rise of Tracy Chapman\"\n",
      "3. \"Where Has Tracy Chapman Been?\"\n"
     ]
    }
   ],
   "source": [
    "# Initialize the model.\n",
    "llm = ChatOpenAI(openai_api_key=OPENAI_API_KEY, model_name=OPENAI_MODEL, temperature=0.0)\n",
    "\n",
    "# Create the API chain from the spec, using the LLM.\n",
    "chain = APIChain.from_llm_and_api_docs(\n",
    "    llm,\n",
    "    api_docs=json.dumps(spec),\n",
    "    verbose=False,  # Changing to True will expose user's NYT API key.\n",
    "    limit_to_domains=[\"https://api.nytimes.com/\"],\n",
    ")\n",
    "\n",
    "# Define a query as a string.\n",
    "query = {\"question\": 'What are the headlines of three articles about Tracy Chapman since 2020?'}\n",
    "\n",
    "# Run the chain using the query, and print the response.\n",
    "result = chain.invoke(query)\n",
    "print(result[\"output\"])"
   ]
  },
  {
   "cell_type": "code",
   "execution_count": null,
   "metadata": {},
   "outputs": [],
   "source": []
  }
 ],
 "metadata": {
  "kernelspec": {
   "display_name": "dev",
   "language": "python",
   "name": "dev"
  },
  "language_info": {
   "codemirror_mode": {
    "name": "ipython",
    "version": 3
   },
   "file_extension": ".py",
   "mimetype": "text/x-python",
   "name": "python",
   "nbconvert_exporter": "python",
   "pygments_lexer": "ipython3",
   "version": "3.10.13"
  }
 },
 "nbformat": 4,
 "nbformat_minor": 2
}
