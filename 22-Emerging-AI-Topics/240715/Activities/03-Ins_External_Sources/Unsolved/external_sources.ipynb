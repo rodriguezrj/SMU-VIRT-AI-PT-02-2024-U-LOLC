{
 "cells": [
  {
   "cell_type": "code",
   "execution_count": 1,
   "metadata": {},
   "outputs": [],
   "source": [
    "from langchain_openai import ChatOpenAI\n",
    "from dotenv import load_dotenv\n",
    "import os"
   ]
  },
  {
   "cell_type": "markdown",
   "metadata": {},
   "source": [
    "# Model and API Key"
   ]
  },
  {
   "cell_type": "code",
   "execution_count": 2,
   "metadata": {},
   "outputs": [],
   "source": [
    "# Load environment variables.\n",
    "load_dotenv()\n",
    "\n",
    "# Set the model name for our LLMs.\n",
    "OPENAI_MODEL = \"gpt-3.5-turbo\"\n",
    "# Store the API key in a variable.\n",
    "OPENAI_API_KEY = os.getenv(\"OPENAI_API_KEY\")"
   ]
  },
  {
   "cell_type": "markdown",
   "metadata": {},
   "source": [
    "# Documents"
   ]
  },
  {
   "cell_type": "code",
   "execution_count": 4,
   "metadata": {},
   "outputs": [],
   "source": [
    "# Additional imports for loading PDF documents and QA chain.\n",
    "from langchain.document_loaders import PyPDFLoader\n",
    "from langchain.chains.question_answering import load_qa_chain"
   ]
  },
  {
   "cell_type": "code",
   "execution_count": 5,
   "metadata": {},
   "outputs": [],
   "source": [
    "# Create the PDF loader and load the document.\n",
    "pdf_loader = PyPDFLoader(\"../Resources/Resume.pdf\")"
   ]
  },
  {
   "cell_type": "code",
   "execution_count": 8,
   "metadata": {},
   "outputs": [],
   "source": [
    "documents = pdf_loader.load()"
   ]
  },
  {
   "cell_type": "code",
   "execution_count": 9,
   "metadata": {},
   "outputs": [],
   "source": [
    "# Initialize the model.\n",
    "llm = ChatOpenAI(openai_api_key=OPENAI_API_KEY, model_name=OPENAI_MODEL, temperature=0.0)\n",
    "\n",
    "# Create the QA chain using the LLM.\n",
    "chain = load_qa_chain(llm)\n",
    "\n",
    "# Define a query as a string.\n",
    "# query = \"Could I write to Jane Doe in Spanish and expect her to understand?\"\n",
    "query = \"What kinds of fields can I apply to?\"\n",
    "\n",
    "# Pass the documents and the query to the chain, and print the result.\n",
    "result = chain.invoke({\"input_documents\" : documents, \"question\" : query})"
   ]
  },
  {
   "cell_type": "code",
   "execution_count": 10,
   "metadata": {},
   "outputs": [
    {
     "data": {
      "text/plain": [
       "{'input_documents': [Document(metadata={'source': '../Resources/Resume.pdf', 'page': 0}, page_content='Jane\\nDoe\\n123\\nMaple\\nAvenue\\nAnytown,\\nUSA\\n(555)\\n123-4567\\njanedoe@email.com\\nObjective:\\nA\\ndedicated\\nprofessional\\nseeking\\na\\nchallenging\\nrole\\nin\\n\\x00nance\\nto\\napply\\nanalytical\\nskills\\nand\\ndrive\\nresults\\nin\\na\\ndynamic\\nenvironment.\\nEducation:\\nMaster\\nof\\nBusiness\\nAdministration\\n(MBA)\\nUniversity\\nof\\nCityville,\\nAnytown,\\nUSA\\n●\\nGraduated\\nwith\\nhonors\\nBachelor\\nof\\nScience\\nin\\nFinance\\nState\\nCollege,\\nAnytown,\\nUSA\\n●\\nGPA:\\n3.8\\nExperience:\\nSenior\\nFinancial\\nAnalyst\\nAlpha\\nFinance\\nSolutions,\\nAnytown,\\nUSA\\n|\\nJanuary\\n2021\\n-\\nPresent\\n●\\nConducted\\ncomprehensive\\n\\x00nancial\\nanalysis,\\nresulting\\nin\\na\\n15%\\nincrease\\nin\\ncost-eﬃciency\\nwithin\\nthe\\n\\x00rst\\n\\x00scal\\nquarter.\\n●\\nDeveloped\\ncomplex\\n\\x00nancial\\nmodels\\nand\\nforecasts,\\naiding\\nstrategic\\ndecision-making\\nprocesses.\\n●\\nCollaborated\\ncross-functionally\\nto\\noptimize\\nbudget\\nallocation,\\nleading\\nto\\na\\n20%\\nreduction\\nin\\nunnecessary\\nexpenditures.\\nFinancial\\nIntern\\nBeta\\nInvestments\\nInc.,\\nAnytown,\\nUSA\\n|\\nMay\\n2019\\n-\\nDecember\\n2020\\n●\\nAssisted\\nin\\nanalyzing\\ninvestment\\nportfolios,\\ncontributing\\nto\\na\\n10%\\nimprovement\\nin\\nportfolio\\nperformance.\\n●\\nConducted\\nmarket\\nresearch\\nand\\nprepared\\nreports,\\nproviding\\nvaluable\\ninsights\\nfor\\ninvestment\\ndecision-making.\\nSkills:\\n●\\nFinancial\\nAnalysis\\n●\\nBudgeting\\nand\\nForecasting\\n●\\nData\\nAnalysis\\nand\\nModeling\\n(Excel,\\nPython)\\n●\\nMarket\\nResearch\\n●\\nTeam\\nCollaboration\\nand\\nCommunication\\n●\\nProblem-solving\\nand\\nStrategic\\nPlanning\\nCerti\\x00cations:\\n●\\nChartered\\nFinancial\\nAnalyst\\n(CFA)\\nLevel\\n2\\nCandidate\\n●\\nFinancial\\nModeling\\nCerti\\x00cation\\nLanguages:\\n●\\nEnglish\\n(Native)\\n●\\nSpanish\\n(Conversational)\\nInterests:\\nOutside\\nof\\nwork,\\nI\\nenjoy\\nhiking,\\nvolunteering\\nat\\nlocal\\nshelters,\\nand\\nattending\\n\\x00nance-related\\nseminars\\nto\\nfurther\\nexpand\\nmy\\nknowledge\\nbase.')],\n",
       " 'question': 'What kinds of fields can I apply to?',\n",
       " 'output_text': 'Based on your experience and skills in finance, you can apply to various fields such as investment banking, corporate finance, financial planning and analysis, asset management, consulting, risk management, and more. Your background in financial analysis, budgeting, forecasting, and data modeling can be valuable in a wide range of industries and roles within the finance sector.'}"
      ]
     },
     "execution_count": 10,
     "metadata": {},
     "output_type": "execute_result"
    }
   ],
   "source": [
    "result"
   ]
  },
  {
   "cell_type": "code",
   "execution_count": 11,
   "metadata": {},
   "outputs": [
    {
     "data": {
      "text/plain": [
       "'Based on your experience and skills in finance, you can apply to various fields such as investment banking, corporate finance, financial planning and analysis, asset management, consulting, risk management, and more. Your background in financial analysis, budgeting, forecasting, and data modeling can be valuable in a wide range of industries and roles within the finance sector.'"
      ]
     },
     "execution_count": 11,
     "metadata": {},
     "output_type": "execute_result"
    }
   ],
   "source": [
    "result['output_text']"
   ]
  },
  {
   "cell_type": "markdown",
   "metadata": {},
   "source": [
    "# Built-in Integrations"
   ]
  },
  {
   "cell_type": "code",
   "execution_count": 12,
   "metadata": {},
   "outputs": [],
   "source": [
    "# Additional imports for loading Wikipedia content and QA chain.\n",
    "from langchain_community.document_loaders import WikipediaLoader\n",
    "from langchain.chains.question_answering import load_qa_chain"
   ]
  },
  {
   "cell_type": "code",
   "execution_count": 28,
   "metadata": {},
   "outputs": [],
   "source": [
    "# Initialize the model.\n",
    "llm = ChatOpenAI(openai_api_key=OPENAI_API_KEY, model_name=OPENAI_MODEL, temperature=1.2)\n",
    "\n",
    "# Define the wikipedia topic as a string.\n",
    "wiki_topic = \"climate change\"\n",
    "\n",
    "# Load the wikipedia results as documents, using a max of 2.\n",
    "documents = WikipediaLoader(query=wiki_topic, load_max_docs=2, load_all_available_meta=True).load()\n",
    "\n",
    "# Create the QA chain using the LLM.\n",
    "chain = load_qa_chain(llm)\n",
    "\n",
    "# Define a query as a string.\n",
    "query = \"How many more years will the earth last?\"\n",
    "\n",
    "# Pass the documents and the query to the chain, and print the result.\n",
    "result = chain.invoke({\"input_documents\" : documents, \"question\" : query})"
   ]
  },
  {
   "cell_type": "code",
   "execution_count": 29,
   "metadata": {},
   "outputs": [
    {
     "data": {
      "text/plain": [
       "2"
      ]
     },
     "execution_count": 29,
     "metadata": {},
     "output_type": "execute_result"
    }
   ],
   "source": [
    "len(documents)"
   ]
  },
  {
   "cell_type": "code",
   "execution_count": 33,
   "metadata": {},
   "outputs": [],
   "source": [
    "# documents[1].page_content"
   ]
  },
  {
   "cell_type": "code",
   "execution_count": 31,
   "metadata": {},
   "outputs": [
    {
     "data": {
      "text/plain": [
       "\"I don't know. The Earth's lifespan is not something that can be accurately predicted in terms of a specific number of years. Earth will likely continue to exist for billions of years, but the changes happening due to climate change affect life on Earth rather than the planet's existence itself.\""
      ]
     },
     "execution_count": 31,
     "metadata": {},
     "output_type": "execute_result"
    }
   ],
   "source": [
    "result['output_text']"
   ]
  },
  {
   "cell_type": "markdown",
   "metadata": {},
   "source": [
    "# External APIs"
   ]
  },
  {
   "cell_type": "code",
   "execution_count": 27,
   "metadata": {},
   "outputs": [],
   "source": [
    "# Additional imports for API chain.\n",
    "from langchain.chains import APIChain"
   ]
  },
  {
   "cell_type": "code",
   "execution_count": 35,
   "metadata": {},
   "outputs": [
    {
     "name": "stdout",
     "output_type": "stream",
     "text": [
      "\n",
      "\n",
      "\u001b[1m> Entering new APIChain chain...\u001b[0m\n",
      "\u001b[32;1m\u001b[1;3mhttp://numbersapi.com/7/15/date\u001b[0m\n",
      "\u001b[33;1m\u001b[1;3mJuly 15th is the day in 1985 that the Nintendo Entertainment System, the best-selling game console of its time, is released in Japan.\u001b[0m\n",
      "\n",
      "\u001b[1m> Finished chain.\u001b[0m\n",
      "On July 15th, 1985, the Nintendo Entertainment System was released in Japan.\n"
     ]
    }
   ],
   "source": [
    "# Text description of API spec.\n",
    "spec = \"\"\"URL STRUCTURE\n",
    "        Just hit http://numbersapi.com/number/type to get a plain text response, where\n",
    "        type is one of trivia, math, date, or year. Defaults to trivia if omitted.\n",
    "        number is an integer, or the keyword random, for which we will try to return\n",
    "        a random available fact, or a day of year in the form month/day \n",
    "        (eg. 2/29, 1/09, 04/1), if type is date ranges of numbers\"\"\"\n",
    "\n",
    "# Initialize the model.\n",
    "llm = ChatOpenAI(openai_api_key=OPENAI_API_KEY, model_name=OPENAI_MODEL, temperature=0.0)\n",
    "\n",
    "# Create the API chain from the spec, using the LLM.\n",
    "chain = APIChain.from_llm_and_api_docs(\n",
    "    llm = llm,\n",
    "    api_docs=spec,\n",
    "    verbose=True,\n",
    "    limit_to_domains=['http://numbersapi.com']\n",
    ")\n",
    "\n",
    "# Define a query as a dictionary.\n",
    "query = {\"question\" : \"Give me a funny fact about 07/15\"}\n",
    "\n",
    "# Run the chain using the query, and print the response.\n",
    "result = chain.invoke(query)\n",
    "print(result['output'])"
   ]
  },
  {
   "cell_type": "code",
   "execution_count": 36,
   "metadata": {},
   "outputs": [],
   "source": [
    "# Additional imports for API chain and processing json.\n",
    "from langchain.chains import APIChain\n",
    "import json\n",
    "import requests"
   ]
  },
  {
   "cell_type": "code",
   "execution_count": 37,
   "metadata": {},
   "outputs": [],
   "source": [
    "# Store the API key in a variable.\n",
    "api_key = os.getenv(\"NYT_API_KEY\")"
   ]
  },
  {
   "cell_type": "code",
   "execution_count": 38,
   "metadata": {},
   "outputs": [],
   "source": [
    "# Load the spec from json file and store the API key.\n",
    "spec = requests.get(\"https://raw.githubusercontent.com/nytimes/public_api_specs/master/article_search/article_search_v2.json\").json()\n",
    "spec[\"api_key\"] = api_key"
   ]
  },
  {
   "cell_type": "code",
   "execution_count": 40,
   "metadata": {},
   "outputs": [
    {
     "data": {
      "text/plain": [
       "dict"
      ]
     },
     "execution_count": 40,
     "metadata": {},
     "output_type": "execute_result"
    }
   ],
   "source": [
    "type(spec)"
   ]
  },
  {
   "cell_type": "code",
   "execution_count": 54,
   "metadata": {},
   "outputs": [
    {
     "name": "stdout",
     "output_type": "stream",
     "text": [
      "\n",
      "\n",
      "\u001b[1m> Entering new APIChain chain...\u001b[0m\n",
      "\u001b[32;1m\u001b[1;3mhttps://api.nytimes.com/svc/search/v2/articlesearch.json?q=Tracy%20Chapman%20best%20songs&fl=web_url,snippet,lead_paragraph,abstract,headline,pub_date,document_type,news_desk,byline,type_of_material&_id&api-key=eQjAU8uHfkI54uu1LzfhIGa2JH1MbYNe\u001b[0m\n",
      "\u001b[33;1m\u001b[1;3m{\"status\":\"OK\",\"copyright\":\"Copyright (c) 2024 The New York Times Company. All Rights Reserved.\",\"response\":{\"docs\":[{\"abstract\":\"She is the first Black songwriter to receive the honor from the Country Music Awards. Her 1988 hit reached a new generation of fans as a cover by Luke Combs.\",\"web_url\":\"https://www.nytimes.com/2023/11/09/arts/music/tracy-chapman-cma-awards-fast-car.html\",\"snippet\":\"She is the first Black songwriter to receive the honor from the Country Music Awards. Her 1988 hit reached a new generation of fans as a cover by Luke Combs.\",\"lead_paragraph\":\"Tracy Chapman won song of the year at the Country Music Awards on Wednesday for “Fast Car,” a folk ballad that topped the country charts more than three decades after it was first released thanks to a cover by the singer Luke Combs.\",\"headline\":{\"main\":\"35 Years After Its Debut, Tracy Chapman’s ‘Fast Car’ Wins a Song of the Year Award\",\"kicker\":null,\"content_kicker\":null,\"print_headline\":null,\"name\":null,\"seo\":null,\"sub\":null},\"pub_date\":\"2023-11-09T06:04:11+0000\",\"document_type\":\"article\",\"news_desk\":\"Express\",\"byline\":{\"original\":\"By Mike Ives\",\"person\":[{\"firstname\":\"Mike\",\"middlename\":null,\"lastname\":\"Ives\",\"qualifier\":null,\"title\":null,\"role\":\"reported\",\"organization\":\"\",\"rank\":1}],\"organization\":null},\"type_of_material\":\"News\"},{\"abstract\":\"Profile of folk-pop singer Tracy Chapman in light of her fourth album, New Beginning, which has become platinum-plus top 10 hit; photo (M)\",\"web_url\":\"https://www.nytimes.com/1996/08/04/arts/is-that-really-tracy-chapman-smiling.html\",\"snippet\":\"Profile of folk-pop singer Tracy Chapman in light of her fourth album, New Beginning, which has become platinum-plus top 10 hit; photo (M)\",\"lead_paragraph\":\"FROM TINA TURNER TO KISS, pop music loves a second coming. And none has been more sudden or surprising than the re-emergence of the once dour Tracy Chapman, whose aptly titled fourth album, ''New Beginning,'' has become a platinum-plus top 10 hit. It's success is driven by a song called ''Give Me One Reason,'' a sultry blues shuffle that she wrote 10 years ago but that sounds nothing like the protest folk that made her famous in the late 80's.\",\"headline\":{\"main\":\"Is That Really Tracy Chapman Smiling?\",\"kicker\":null,\"content_kicker\":null,\"print_headline\":\"Is That Really Tracy Chapman Smiling?\",\"name\":null,\"seo\":null,\"sub\":null},\"pub_date\":\"1996-08-04T05:00:00+0000\",\"document_type\":\"article\",\"news_desk\":\"Arts and Leisure Desk\",\"byline\":{\"original\":\"By David A. Keeps\",\"person\":[{\"firstname\":\"David\",\"middlename\":\"A.\",\"lastname\":\"Keeps\",\"qualifier\":null,\"title\":null,\"role\":\"reported\",\"organization\":\"\",\"rank\":1}],\"organization\":null},\"type_of_material\":\"News\"},{\"abstract\":\"Her duet with Luke Combs was one of her few public performances in recent years.\",\"web_url\":\"https://www.nytimes.com/2024/02/04/arts/music/tracy-chapman-grammys-fast-car-combs.html\",\"snippet\":\"Her duet with Luke Combs was one of her few public performances in recent years.\",\"lead_paragraph\":\"In a major coup for the Grammys, an influential artist who walked away from the spotlight made a grand return to the awards stage on Sunday night: Tracy Chapman.\",\"headline\":{\"main\":\"Tracy Chapman Returns to the Grammy Stage for ‘Fast Car’ Duet\",\"kicker\":null,\"content_kicker\":null,\"print_headline\":null,\"name\":null,\"seo\":null,\"sub\":null},\"pub_date\":\"2024-02-05T01:30:47+0000\",\"document_type\":\"article\",\"news_desk\":\"Culture\",\"byline\":{\"original\":\"By Marc Hogan\",\"person\":[{\"firstname\":\"Marc\",\"middlename\":null,\"lastname\":\"Hogan\",\"qualifier\":null,\"title\":null,\"role\":\"reported\",\"organization\":\"\",\"rank\":1}],\"organization\":null},\"type_of_material\":\"News\"},{\"abstract\":\"LEAD: Bobby McFerrin's blithe ''Don't Worry, Be Happy'' took two of the top four awards, for song and record of the year, at the 31st annual Grammy Awards ceremony last night.\",\"web_url\":\"https://www.nytimes.com/1989/02/23/arts/grammys-to-mcferrin-and-chapman.html\",\"snippet\":\"\",\"lead_paragraph\":\"Bobby McFerrin's blithe ''Don't Worry, Be Happy'' took two of the top four awards, for song and record of the year, at the 31st annual Grammy Awards ceremony last night.\",\"headline\":{\"main\":\"Grammys to McFerrin and Chapman\",\"kicker\":null,\"content_kicker\":null,\"print_headline\":\"Grammys to McFerrin and Chapman\",\"name\":null,\"seo\":null,\"sub\":null},\"pub_date\":\"1989-02-23T05:00:00+0000\",\"document_type\":\"article\",\"news_desk\":\"Cultural Desk\",\"byline\":{\"original\":\"By Jon Pareles\",\"person\":[{\"firstname\":\"Jon\",\"middlename\":null,\"lastname\":\"Pareles\",\"qualifier\":null,\"title\":null,\"role\":\"reported\",\"organization\":\"\",\"rank\":1}],\"organization\":null},\"type_of_material\":\"News\"},{\"abstract\":\"LEAD: Here is a complete list of winners at Wednesday night's 31st annual Grammy Awards.  Record of the Year: ''Don't Worry, Be Happy,'' Bobby McFerrin.  Album of the Year: ''Faith,'' George Michael.  Song of the Year: ''Don't Worry, Be Happy,''\",\"web_url\":\"https://www.nytimes.com/1989/02/24/arts/mcferrin-and-chapman-top-grammys.html\",\"snippet\":\"\",\"lead_paragraph\":\"Here is a complete list of winners at Wednesday night's 31st annual Grammy Awards. Record of the Year: ''Don't Worry, Be Happy,'' Bobby McFerrin. Album of the Year: ''Faith,'' George Michael. Song of the Year: ''Don't Worry, Be Happy,''\",\"headline\":{\"main\":\"McFerrin and Chapman Top Grammys\",\"kicker\":null,\"content_kicker\":null,\"print_headline\":\"McFerrin and Chapman Top Grammys\",\"name\":null,\"seo\":null,\"sub\":null},\"pub_date\":\"1989-02-24T05:00:00+0000\",\"document_type\":\"article\",\"news_desk\":\"Weekend Desk\",\"byline\":{\"original\":\"AP\",\"person\":[],\"organization\":\"AP\"},\"type_of_material\":\"List\"},{\"abstract\":\"Musicians, writers and others revisit the work that started it all for them, and what (if anything) they might have done differently.\",\"web_url\":\"https://www.nytimes.com/interactive/2024/04/18/t-magazine/stephen-king-tracy-chapman-chloe-sevigny-debut.html\",\"snippet\":\"Musicians, writers and others revisit the work that started it all for them, and what (if anything) they might have done differently.\",\"lead_paragraph\":\"Musicians, writers and others revisit the work that started it all for them, and what (if anything) they might have done differently.\",\"headline\":{\"main\":\"Tracy Chapman, Stephen King and Chloë Sevigny on Their Debuts\",\"kicker\":null,\"content_kicker\":null,\"print_headline\":null,\"name\":null,\"seo\":null,\"sub\":null},\"pub_date\":\"2024-04-18T09:03:58+0000\",\"document_type\":\"multimedia\",\"news_desk\":\"T Magazine\",\"byline\":{\"original\":\"Interviews by Lovia Gyarkye and Nicole Acheampong\",\"person\":[{\"firstname\":\"Interviews\",\"middlename\":\"Lovia\",\"lastname\":\"Gyarkye\",\"qualifier\":null,\"title\":null,\"role\":\"reported\",\"organization\":\"\",\"rank\":1},{\"firstname\":\"Nicole\",\"middlename\":null,\"lastname\":\"Acheampong\",\"qualifier\":null,\"title\":null,\"role\":\"reported\",\"organization\":\"\",\"rank\":2}],\"organization\":null},\"type_of_material\":\"Interactive Feature\"},{\"abstract\":\"Big Night for Love Songs at the Garden** Annual Grammy Awards ceremony held at Madison Square Garden and telecast by CBS; Kenneth (Babyface) Edmonds, songwriter and producer, and singer Eric Clapton win major awards; other winners noted; photo (M)\",\"web_url\":\"https://www.nytimes.com/1997/02/27/arts/big-night-for-love-songs-at-the-garden.html\",\"snippet\":\"Big Night for Love Songs at the Garden** Annual Grammy Awards ceremony held at Madison Square Garden and telecast by CBS; Kenneth (Babyface) Edmonds, songwriter and producer, and singer Eric Clapton win major awards; other winners noted; photo (M)\",\"lead_paragraph\":\"Love songs reigned at the 39th annual Grammy Awards ceremony, held last night at Madison Square Garden and telecast by CBS.\",\"headline\":{\"main\":\"Big Night for Love Songs at the Garden\",\"kicker\":null,\"content_kicker\":null,\"print_headline\":\"Big Night for Love Songs at the Garden\",\"name\":null,\"seo\":null,\"sub\":null},\"pub_date\":\"1997-02-27T05:00:00+0000\",\"document_type\":\"article\",\"news_desk\":\"Cultural Desk\",\"byline\":{\"original\":\"By Jon Pareles\",\"person\":[{\"firstname\":\"Jon\",\"middlename\":null,\"lastname\":\"Pareles\",\"qualifier\":null,\"title\":null,\"role\":\"reported\",\"organization\":\"\",\"rank\":1}],\"organization\":null},\"type_of_material\":\"News\"},{\"abstract\":\"What musicians would you include on your “best ever” playlist?\",\"web_url\":\"https://www.nytimes.com/2020/12/23/learning/what-are-the-greatest-songs-of-all-time.html\",\"snippet\":\"What musicians would you include on your “best ever” playlist?\",\"lead_paragraph\":\"What songs do you consider to be among the greatest of all time? Why?\",\"headline\":{\"main\":\"What Are the Greatest Songs of All Time?\",\"kicker\":\"student opinion\",\"content_kicker\":null,\"print_headline\":null,\"name\":null,\"seo\":null,\"sub\":null},\"pub_date\":\"2020-12-23T10:00:11+0000\",\"document_type\":\"article\",\"news_desk\":\"Learning\",\"byline\":{\"original\":\"By John Otis\",\"person\":[{\"firstname\":\"John\",\"middlename\":null,\"lastname\":\"Otis\",\"qualifier\":null,\"title\":null,\"role\":\"reported\",\"organization\":\"\",\"rank\":1}],\"organization\":null},\"type_of_material\":\"News\"},{\"abstract\":\"Young women brought the drama, Jay-Z surprised with a barbed speech and heroes long absent from the show’s stage made welcome returns at the 66th annual awards.\",\"web_url\":\"https://www.nytimes.com/2024/02/05/arts/music/grammys-2024-best-worst-moments.html\",\"snippet\":\"Young women brought the drama, Jay-Z surprised with a barbed speech and heroes long absent from the show’s stage made welcome returns at the 66th annual awards.\",\"lead_paragraph\":\"The most awards at the 66th annual Grammys went to Phoebe Bridgers, who picked up three with her band boygenius and one for a feature on a SZA song. SZA, who came into the night with the most nominations, was shut out of the biggest honors — for album (which went to Taylor Swift’s “Midnights”), record (Miley Cyrus’s “Flowers”) and song (Billie Eilish’s “What Was I Made For?”) — but took home three trophies. Victoria Monét was named best new artist, and Swift’s album win broke a Grammy record for the category. The show was particularly joyous, slick and thoughtful, featuring several striking performances and a few raw acceptance speeches. All in all, it captured pop music as it actually is — centerless, and subject to change at any moment.\",\"headline\":{\"main\":\"Best and Worst Moments From the 2024 Grammys\",\"kicker\":null,\"content_kicker\":null,\"print_headline\":\"Memories Made, Along With a Few Missteps\",\"name\":null,\"seo\":null,\"sub\":null},\"pub_date\":\"2024-02-05T10:03:02+0000\",\"document_type\":\"article\",\"news_desk\":\"Culture\",\"byline\":{\"original\":\"By Elena Bergeron, Jon Pareles, Ben Sisario and Lindsay Zoladz\",\"person\":[{\"firstname\":\"Elena\",\"middlename\":null,\"lastname\":\"Bergeron\",\"qualifier\":null,\"title\":null,\"role\":\"reported\",\"organization\":\"\",\"rank\":1},{\"firstname\":\"Jon\",\"middlename\":null,\"lastname\":\"Pareles\",\"qualifier\":null,\"title\":null,\"role\":\"reported\",\"organization\":\"\",\"rank\":2},{\"firstname\":\"Ben\",\"middlename\":null,\"lastname\":\"Sisario\",\"qualifier\":null,\"title\":null,\"role\":\"reported\",\"organization\":\"\",\"rank\":3},{\"firstname\":\"Lindsay\",\"middlename\":null,\"lastname\":\"Zoladz\",\"qualifier\":null,\"title\":null,\"role\":\"reported\",\"organization\":\"\",\"rank\":4}],\"organization\":null},\"type_of_material\":\"News\"},{\"abstract\":\"LEAD: Although the past year produced more than the usual number of fine pop albums, none found the kind of critical and commercial consensus that ''Tracy Chapman,'' Paul Simon's ''Graceland'' and U2's ''Joshua Tree'' won in the three previous years. The following is a personal Top 10 in rough order of preference, plus an alphabetical listing of runners-up.\",\"web_url\":\"https://www.nytimes.com/1989/12/24/arts/the-year-s-best-more-on-pop-records.html\",\"snippet\":\"\",\"lead_paragraph\":\"Although the past year produced more than the usual number of fine pop albums, none found the kind of critical and commercial consensus that ''Tracy Chapman,'' Paul Simon's ''Graceland'' and U2's ''Joshua Tree'' won in the three previous years. The following is a personal Top 10 in rough order of preference, plus an alphabetical listing of runners-up.\",\"headline\":{\"main\":\"MORE/On Pop Records\",\"kicker\":\"THE YEAR'S BEST\",\"content_kicker\":null,\"print_headline\":\"THE YEAR'S BEST; MORE/On Pop Records\",\"name\":null,\"seo\":null,\"sub\":null},\"pub_date\":\"1989-12-24T05:00:00+0000\",\"document_type\":\"article\",\"news_desk\":\"Arts and Leisure Desk\",\"byline\":{\"original\":\"By Stephen Holden\",\"person\":[{\"firstname\":\"Stephen\",\"middlename\":null,\"lastname\":\"Holden\",\"qualifier\":null,\"title\":null,\"role\":\"reported\",\"organization\":\"\",\"rank\":1}],\"organization\":null},\"type_of_material\":\"Review; List\"}],\"meta\":{\"hits\":223,\"offset\":0,\"time\":116}}}\u001b[0m\n"
     ]
    },
    {
     "name": "stdout",
     "output_type": "stream",
     "text": [
      "\n",
      "\u001b[1m> Finished chain.\u001b[0m\n"
     ]
    }
   ],
   "source": [
    "# Initialize the model.\n",
    "model=ChatOpenAI(openai_api_key=OPENAI_API_KEY, model_name=OPENAI_MODEL, temperature=0.0)\n",
    "\n",
    "# Create the API chain from the spec, using the LLM.\n",
    "chain = APIChain.from_llm_and_api_docs(\n",
    "    llm=model,\n",
    "    api_docs=json.dumps(spec),\n",
    "    verbose=False,\n",
    "    limit_to_domains=[\"https://api.nytimes.com/\"]\n",
    ")\n",
    "# Define a query as a string.\n",
    "query = {\"question\" : \"What are articles about Tracy Chapman's best songs?\"}\n",
    "\n",
    "# Run the chain using the query, and print the response.\n",
    "result = chain.invoke(query)"
   ]
  },
  {
   "cell_type": "code",
   "execution_count": 55,
   "metadata": {},
   "outputs": [
    {
     "data": {
      "text/plain": [
       "{'question': \"What are articles about Tracy Chapman's best songs?\",\n",
       " 'output': 'The response includes articles about Tracy Chapman\\'s songs, such as her winning the Country Music Awards for \"Fast Car,\" her return to the Grammy stage for a duet, and a profile of her in light of her album \"New Beginning.\" It also mentions her past achievements at the Grammy Awards and her impact on pop music.'}"
      ]
     },
     "execution_count": 55,
     "metadata": {},
     "output_type": "execute_result"
    }
   ],
   "source": [
    "result"
   ]
  },
  {
   "cell_type": "code",
   "execution_count": 56,
   "metadata": {},
   "outputs": [
    {
     "name": "stdout",
     "output_type": "stream",
     "text": [
      "The response includes articles about Tracy Chapman's songs, such as her winning the Country Music Awards for \"Fast Car,\" her return to the Grammy stage for a duet, and a profile of her in light of her album \"New Beginning.\" It also mentions her past achievements at the Grammy Awards and her impact on pop music.\n"
     ]
    }
   ],
   "source": [
    "print(result['output'])"
   ]
  },
  {
   "cell_type": "code",
   "execution_count": null,
   "metadata": {},
   "outputs": [],
   "source": []
  }
 ],
 "metadata": {
  "kernelspec": {
   "display_name": "dev",
   "language": "python",
   "name": "dev"
  },
  "language_info": {
   "codemirror_mode": {
    "name": "ipython",
    "version": 3
   },
   "file_extension": ".py",
   "mimetype": "text/x-python",
   "name": "python",
   "nbconvert_exporter": "python",
   "pygments_lexer": "ipython3",
   "version": "3.10.13"
  }
 },
 "nbformat": 4,
 "nbformat_minor": 2
}
