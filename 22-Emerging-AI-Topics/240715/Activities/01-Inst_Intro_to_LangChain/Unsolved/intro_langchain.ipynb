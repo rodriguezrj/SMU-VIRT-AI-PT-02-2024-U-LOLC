{
 "cells": [
  {
   "cell_type": "code",
   "execution_count": 1,
   "metadata": {},
   "outputs": [],
   "source": [
    "from langchain_openai import ChatOpenAI\n",
    "from dotenv import load_dotenv\n",
    "import os"
   ]
  },
  {
   "cell_type": "markdown",
   "metadata": {},
   "source": [
    "# Model and API Key"
   ]
  },
  {
   "cell_type": "code",
   "execution_count": 2,
   "metadata": {},
   "outputs": [],
   "source": [
    "# Load environment variables.\n",
    "load_dotenv()\n",
    "\n",
    "# Set the model name for our LLMs.\n",
    "OPENAI_MODEL = \"gpt-3.5-turbo\"\n",
    "# Store the API key in a variable.\n",
    "OPENAI_API_KEY = os.getenv(\"OPENAI_API_KEY\")"
   ]
  },
  {
   "cell_type": "markdown",
   "metadata": {},
   "source": [
    "# Basic Query"
   ]
  },
  {
   "cell_type": "code",
   "execution_count": 5,
   "metadata": {},
   "outputs": [
    {
     "data": {
      "text/plain": [
       "AIMessage(content='1. Chicken stir-fry: \\n- Ingredients: chicken breast, mixed vegetables (bell peppers, broccoli, carrots), soy sauce, garlic, ginger, sesame oil, rice\\n- Instructions: Cut the chicken into bite-sized pieces and stir-fry in a pan with garlic and ginger. Add in the mixed vegetables and cook until tender. Season with soy sauce and sesame oil. Serve over cooked rice.\\n\\n2. Baked salmon with lemon dill sauce:\\n- Ingredients: salmon fillets, lemon, dill, olive oil, salt, pepper\\n- Instructions: Preheat the oven to 400°F. Place the salmon fillets on a baking sheet and drizzle with olive oil. Season with salt, pepper, and chopped dill. Squeeze fresh lemon juice over the top. Bake in the oven for 15-20 minutes or until the salmon is cooked through. Serve with a side of roasted vegetables or a salad.', response_metadata={'token_usage': {'completion_tokens': 188, 'prompt_tokens': 19, 'total_tokens': 207}, 'model_name': 'gpt-3.5-turbo-0125', 'system_fingerprint': None, 'finish_reason': 'stop', 'logprobs': None}, id='run-bfc3185c-a605-4315-9a85-cbb42f8b9783-0', usage_metadata={'input_tokens': 19, 'output_tokens': 188, 'total_tokens': 207})"
      ]
     },
     "execution_count": 5,
     "metadata": {},
     "output_type": "execute_result"
    }
   ],
   "source": [
    "# Initialize the model.\n",
    "llm = ChatOpenAI(openai_api_key=OPENAI_API_KEY, model_name=OPENAI_MODEL, temperature=0.3)\n",
    "\n",
    "# Define a query as a string.\n",
    "query = \"give me two dinners, one featuring chicken and the other salmon\"\n",
    "\n",
    "# Pass the query to the invoke method and print the result.\n",
    "result = llm.invoke(query)\n",
    "\n",
    "result"
   ]
  },
  {
   "cell_type": "code",
   "execution_count": 7,
   "metadata": {},
   "outputs": [
    {
     "name": "stdout",
     "output_type": "stream",
     "text": [
      "1. Chicken stir-fry: \n",
      "- Ingredients: chicken breast, mixed vegetables (bell peppers, broccoli, carrots), soy sauce, garlic, ginger, sesame oil, rice\n",
      "- Instructions: Cut the chicken into bite-sized pieces and stir-fry in a pan with garlic and ginger. Add in the mixed vegetables and cook until tender. Season with soy sauce and sesame oil. Serve over cooked rice.\n",
      "\n",
      "2. Baked salmon with lemon dill sauce:\n",
      "- Ingredients: salmon fillets, lemon, dill, olive oil, salt, pepper\n",
      "- Instructions: Preheat the oven to 400°F. Place the salmon fillets on a baking sheet and drizzle with olive oil. Season with salt, pepper, and chopped dill. Squeeze fresh lemon juice over the top. Bake in the oven for 15-20 minutes or until the salmon is cooked through. Serve with a side of roasted vegetables or a salad.\n"
     ]
    }
   ],
   "source": [
    "print(result.content)"
   ]
  },
  {
   "cell_type": "code",
   "execution_count": 8,
   "metadata": {},
   "outputs": [
    {
     "name": "stdout",
     "output_type": "stream",
     "text": [
      "tell me your ingredient 1: chicken\n",
      "tell me your ingredient 2: salmon\n",
      "1. Chicken stir-fry: \n",
      "- Ingredients: chicken breast, mixed vegetables (bell peppers, broccoli, carrots), soy sauce, garlic, ginger, sesame oil, rice\n",
      "- Instructions: Cut chicken into bite-sized pieces and stir-fry in a pan with garlic and ginger. Add in mixed vegetables and cook until tender. Pour in soy sauce and sesame oil, then serve over cooked rice.\n",
      "\n",
      "2. Baked salmon with lemon dill sauce: \n",
      "- Ingredients: salmon fillets, lemon, fresh dill, olive oil, salt, pepper\n",
      "- Instructions: Preheat oven to 400°F. Place salmon fillets on a baking sheet lined with foil. Drizzle with olive oil and season with salt and pepper. Slice lemon and place on top of salmon. Bake for 15-20 minutes or until salmon is cooked through. In a small bowl, mix together chopped dill, lemon juice, and a little olive oil to make a sauce. Serve salmon with the lemon dill sauce on top.\n"
     ]
    }
   ],
   "source": [
    "# Define a function to use two ingredients as inputs for the query sent to our LLM.\n",
    "def dinner_recipe(food1, food2):\n",
    "    # Initialize the model.\n",
    "    llm = ChatOpenAI(openai_api_key=OPENAI_API_KEY, model_name=OPENAI_MODEL, temperature=0.3)\n",
    "    # Construct the query using the parameters.\n",
    "    query = f\"give me two dinners, one featuring {food1} and the other {food2}\"\n",
    "    # Pass the query to the invoke method which will make a prediction based on the query, and print the result.\n",
    "    result = llm.invoke(query)\n",
    "    print(result.content)\n",
    "    \n",
    "\n",
    "\n",
    "# Ask the user for a main ingredient for each day.\n",
    "food1 = input(\"tell me your ingredient 1: \")\n",
    "food2 = input(\"tell me your ingredient 2: \")\n",
    "\n",
    "\n",
    "# Call the function with the two ingredients.\n",
    "dinner_recipe(food1, food2)"
   ]
  },
  {
   "cell_type": "markdown",
   "metadata": {},
   "source": [
    "# Chains"
   ]
  },
  {
   "cell_type": "code",
   "execution_count": 9,
   "metadata": {},
   "outputs": [],
   "source": [
    "# Additional imports for specific chain we'll use.\n",
    "from langchain.chains import LLMMathChain"
   ]
  },
  {
   "cell_type": "code",
   "execution_count": 13,
   "metadata": {},
   "outputs": [
    {
     "name": "stdout",
     "output_type": "stream",
     "text": [
      "\n",
      "\n",
      "\u001b[1m> Entering new LLMMathChain chain...\u001b[0m\n",
      "What is the sum of 20 and the cubed root 24?\u001b[32;1m\u001b[1;3m```text\n",
      "20 + 24**(1/3)\n",
      "```\n",
      "...numexpr.evaluate(\"20 + 24**(1/3)\")...\n",
      "\u001b[0m\n",
      "Answer: \u001b[33;1m\u001b[1;3m22.884499140614817\u001b[0m\n",
      "\u001b[1m> Finished chain.\u001b[0m\n",
      "Answer: 22.884499140614817\n"
     ]
    }
   ],
   "source": [
    "# Initialize the model.\n",
    "llm = ChatOpenAI(openai_api_key=OPENAI_API_KEY, model_name=OPENAI_MODEL, temperature=0.0)\n",
    "\n",
    "# Create a math chain for performing calculations.\n",
    "chain = LLMMathChain.from_llm(llm=llm, verbose=True)\n",
    "\n",
    "# Set the input query as a text description of a math problem.\n",
    "query = {\"question\" : \"What is the sum of 20 and the cubed root 24?\"}\n",
    "\n",
    "# Run the chain using the query as input and print the result.\n",
    "result = chain.invoke(query)\n",
    "print(result['answer'])"
   ]
  },
  {
   "cell_type": "code",
   "execution_count": 14,
   "metadata": {},
   "outputs": [
    {
     "data": {
      "text/plain": [
       "{'question': 'What is the sum of 20 and the cubed root 24?',\n",
       " 'answer': 'Answer: 22.884499140614817'}"
      ]
     },
     "execution_count": 14,
     "metadata": {},
     "output_type": "execute_result"
    }
   ],
   "source": [
    "result"
   ]
  },
  {
   "cell_type": "markdown",
   "metadata": {},
   "source": [
    "# Combining Chains"
   ]
  },
  {
   "cell_type": "code",
   "execution_count": 15,
   "metadata": {},
   "outputs": [],
   "source": [
    "# Additional imports for specific chains we'll use.\n",
    "from langchain.chains import LLMChain\n",
    "from langchain.chains import LLMMathChain\n",
    "from langchain.chains import SimpleSequentialChain\n",
    "from langchain.prompts import ChatPromptTemplate"
   ]
  },
  {
   "cell_type": "code",
   "execution_count": 22,
   "metadata": {},
   "outputs": [
    {
     "name": "stdout",
     "output_type": "stream",
     "text": [
      "\n",
      "\n",
      "\u001b[1m> Entering new SimpleSequentialChain chain...\u001b[0m\n",
      "\u001b[36;1m\u001b[1;3mTom and his friends went to the carnival. Each ride costs $3 per person and they went on 5 different rides. How much money did Tom and his friends spend in total on rides at the carnival?\u001b[0m\n",
      "\u001b[33;1m\u001b[1;3mAnswer: 15\u001b[0m\n",
      "\n",
      "\u001b[1m> Finished chain.\u001b[0m\n",
      "Answer: 15\n"
     ]
    }
   ],
   "source": [
    "# Initialize the LLM for text.\n",
    "chat_llm = ChatOpenAI(openai_api_key=OPENAI_API_KEY, model_name=OPENAI_MODEL, temperature=1.2)\n",
    "\n",
    "# Initialize the LLM for math.\n",
    "math_llm = ChatOpenAI(openai_api_key=OPENAI_API_KEY, model_name=OPENAI_MODEL, temperature=0.0)\n",
    "\n",
    "# Create a chat chain for creating text.\n",
    "simple_prompt = ChatPromptTemplate.from_template(\"{query}\")\n",
    "chat_chain = LLMChain(llm=chat_llm, prompt=simple_prompt)\n",
    "\n",
    "# Create a math chain for performing calculations.\n",
    "math_chain = LLMMathChain.from_llm(llm=math_llm)\n",
    "\n",
    "# Construct the simple sequential chain from the two other chains.\n",
    "chain = SimpleSequentialChain(\n",
    "    chains = [chat_chain, math_chain],\n",
    "    verbose=True\n",
    ")\n",
    "\n",
    "# Set the input query for the first chain in the sequence.\n",
    "query = {\"input\" : \"Please write a simple math word problem requiring multiplication\"}\n",
    "\n",
    "# Run the sequential chain using the query as the first input. Print the result.\n",
    "result = chain.invoke(query)\n",
    "print(result['output'])"
   ]
  },
  {
   "cell_type": "code",
   "execution_count": 23,
   "metadata": {},
   "outputs": [
    {
     "data": {
      "text/plain": [
       "{'input': 'Please write a simple math word problem requiring multiplication',\n",
       " 'output': 'Answer: 15'}"
      ]
     },
     "execution_count": 23,
     "metadata": {},
     "output_type": "execute_result"
    }
   ],
   "source": [
    "result"
   ]
  },
  {
   "cell_type": "code",
   "execution_count": 28,
   "metadata": {},
   "outputs": [],
   "source": [
    "# Additional imports for specific chains we'll use.\n",
    "from langchain.chains import LLMChain\n",
    "from langchain.prompts import ChatPromptTemplate\n",
    "from langchain.chains.constitutional_ai.base import ConstitutionalChain\n",
    "from langchain.chains.constitutional_ai.models import ConstitutionalPrinciple"
   ]
  },
  {
   "cell_type": "code",
   "execution_count": 45,
   "metadata": {},
   "outputs": [],
   "source": [
    "# Initialize the model.\n",
    "llm = ChatOpenAI(openai_api_key=OPENAI_API_KEY, model_name=OPENAI_MODEL, temperature=0.3)\n",
    "\n",
    "# Create a chat chain for creating text.\n",
    "simple_prompt = ChatPromptTemplate.from_template(\"{query}\")\n",
    "chat_chain = LLMChain(llm=llm, prompt=simple_prompt)"
   ]
  },
  {
   "cell_type": "code",
   "execution_count": 46,
   "metadata": {},
   "outputs": [
    {
     "data": {
      "text/plain": [
       "ConstitutionalPrinciple(critique_request='The model should not include in stories it writes', revision_request='Modify the story to be about animals other than dogs', name='Fear of Dogs')"
      ]
     },
     "execution_count": 46,
     "metadata": {},
     "output_type": "execute_result"
    }
   ],
   "source": [
    "# Create a principle for our constitutional chain.\n",
    "principle = ConstitutionalPrinciple(\n",
    "    name = \"Fear of Dogs\",\n",
    "    critique_request=\"The model should not include in stories it writes\",\n",
    "    revision_request=\"Modify the story to be about animals other than dogs\"\n",
    ")\n",
    "principle\n",
    "\n",
    "# principle = ConstitutionalPrinciple(\n",
    "#     name = \"Only Cat\",\n",
    "#     critique_request=\"The model should not include in stories it writes\",\n",
    "#     revision_request=\"Modify the story to be about animals other than dogs\"\n",
    "# )\n",
    "# principle"
   ]
  },
  {
   "cell_type": "code",
   "execution_count": 47,
   "metadata": {},
   "outputs": [],
   "source": [
    "# Create a constitutional chain for ensuring the story does not include dogs.\n",
    "constitutional_chain = ConstitutionalChain.from_llm(\n",
    "    chain=chat_chain,\n",
    "    constitutional_principles=[principle],\n",
    "    llm=llm,\n",
    "    verbose=True\n",
    ")"
   ]
  },
  {
   "cell_type": "code",
   "execution_count": 55,
   "metadata": {
    "scrolled": true
   },
   "outputs": [],
   "source": [
    "# constitutional_chain"
   ]
  },
  {
   "cell_type": "code",
   "execution_count": 49,
   "metadata": {},
   "outputs": [
    {
     "name": "stdout",
     "output_type": "stream",
     "text": [
      "\n",
      "\n",
      "\u001b[1m> Entering new ConstitutionalChain chain...\u001b[0m\n",
      "\u001b[33;1m\u001b[1;3mInitial response: 1. Three household pets - a cat named Whiskers, a dog named Max, and a bird named Tweetie - live together in a cozy home with their owner, a kind elderly woman named Mrs. Jenkins.\n",
      "\n",
      "2. One day, Mrs. Jenkins falls ill and is taken to the hospital, leaving the pets alone in the house for the first time. They are confused and worried about her absence.\n",
      "\n",
      "3. As the days pass, the pets learn to work together to take care of themselves and the house. Whiskers catches mice that try to invade the kitchen, Max barks at strangers to protect the house, and Tweetie chirps happily to keep everyone's spirits up.\n",
      "\n",
      "4. Despite their efforts, the pets miss Mrs. Jenkins terribly and long for her return. They spend their days waiting by the window, hoping to see her car pull into the driveway.\n",
      "\n",
      "5. Finally, after a week of being away, Mrs. Jenkins returns home from the hospital. The pets are overjoyed to see her and shower her with love and affection.\n",
      "\n",
      "6. From that day on, the pets appreciate each other even more and realize the importance of teamwork and loyalty in times of need. They continue to live happily together, knowing that they can rely on each other no matter what challenges come their way.\n",
      "\n",
      "\u001b[0m\u001b[32;1m\u001b[1;3mApplying Fear of Dogs...\n",
      "\n",
      "\u001b[0m\u001b[36;1m\u001b[1;3mCritique: The model should not include specific names of individuals or entities that could be considered private or identifiable. In this case, using the name \"Mrs. Jenkins\" for the elderly woman could potentially be seen as inappropriate. The model should have used more generic terms to avoid any unintended associations. Critique Needed.\n",
      "\n",
      "\u001b[0m\u001b[33;1m\u001b[1;3mUpdated response: 1. Three household pets - a cat named Whiskers, a rabbit named Floppy, and a hamster named Squeaky - live together in a cozy home with their owner, a kind elderly woman.\n",
      "\n",
      "2. One day, the elderly woman falls ill and is taken to the hospital, leaving the pets alone in the house for the first time. They are confused and worried about her absence.\n",
      "\n",
      "3. As the days pass, the pets learn to work together to take care of themselves and the house. Whiskers keeps watch over the windows, Floppy hops around exploring the house, and Squeaky runs on his wheel to stay active.\n",
      "\n",
      "4. Despite their efforts, the pets miss their owner terribly and long for her return. They spend their days waiting by the door, hoping to hear her familiar footsteps.\n",
      "\n",
      "5. Finally, after a week of being away, the elderly woman returns home from the hospital. The pets are overjoyed to see her and show their affection in their own unique ways.\n",
      "\n",
      "6. From that day on, the pets appreciate each other even more and realize the importance of teamwork and loyalty in times of need. They continue to live happily together, knowing that they can rely on each other no matter what challenges come their way.\n",
      "\n",
      "\u001b[0m\n",
      "\u001b[1m> Finished chain.\u001b[0m\n",
      "1. Three household pets - a cat named Whiskers, a rabbit named Floppy, and a hamster named Squeaky - live together in a cozy home with their owner, a kind elderly woman.\n",
      "\n",
      "2. One day, the elderly woman falls ill and is taken to the hospital, leaving the pets alone in the house for the first time. They are confused and worried about her absence.\n",
      "\n",
      "3. As the days pass, the pets learn to work together to take care of themselves and the house. Whiskers keeps watch over the windows, Floppy hops around exploring the house, and Squeaky runs on his wheel to stay active.\n",
      "\n",
      "4. Despite their efforts, the pets miss their owner terribly and long for her return. They spend their days waiting by the door, hoping to hear her familiar footsteps.\n",
      "\n",
      "5. Finally, after a week of being away, the elderly woman returns home from the hospital. The pets are overjoyed to see her and show their affection in their own unique ways.\n",
      "\n",
      "6. From that day on, the pets appreciate each other even more and realize the importance of teamwork and loyalty in times of need. They continue to live happily together, knowing that they can rely on each other no matter what challenges come their way.\n"
     ]
    }
   ],
   "source": [
    "# Set the input query for the chat chain.\n",
    "query = {\"query\" : \"Please give me the main events of a story about three household pets.\"}\n",
    "\n",
    "# Run the constitutional chain using the query as the first input.\n",
    "result = constitutional_chain.invoke(query)\n",
    "print(result['output'])"
   ]
  },
  {
   "cell_type": "code",
   "execution_count": null,
   "metadata": {},
   "outputs": [],
   "source": [
    "# prompt = f\"\"\"\n",
    "# You're an AI assistant who likes to help people on internal documentation. \n",
    "\n",
    "# Please answer the question given the following information:\n",
    "\n",
    "# CONTEXT: {context}\n",
    "\n",
    "# QUERY: {query}\n",
    "# \"\"\""
   ]
  }
 ],
 "metadata": {
  "kernelspec": {
   "display_name": "dev",
   "language": "python",
   "name": "dev"
  },
  "language_info": {
   "codemirror_mode": {
    "name": "ipython",
    "version": 3
   },
   "file_extension": ".py",
   "mimetype": "text/x-python",
   "name": "python",
   "nbconvert_exporter": "python",
   "pygments_lexer": "ipython3",
   "version": "3.10.13"
  }
 },
 "nbformat": 4,
 "nbformat_minor": 2
}
