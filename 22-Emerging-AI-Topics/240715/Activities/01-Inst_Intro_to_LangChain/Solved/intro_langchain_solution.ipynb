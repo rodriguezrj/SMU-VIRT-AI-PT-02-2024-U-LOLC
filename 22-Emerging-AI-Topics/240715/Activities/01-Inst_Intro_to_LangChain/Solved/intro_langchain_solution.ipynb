{
 "cells": [
  {
   "cell_type": "code",
   "execution_count": 1,
   "metadata": {},
   "outputs": [],
   "source": [
    "from langchain_openai import ChatOpenAI\n",
    "from dotenv import load_dotenv\n",
    "import os"
   ]
  },
  {
   "cell_type": "markdown",
   "metadata": {},
   "source": [
    "# Model and API Key"
   ]
  },
  {
   "cell_type": "code",
   "execution_count": 2,
   "metadata": {},
   "outputs": [],
   "source": [
    "# Load environment variables.\n",
    "load_dotenv()\n",
    "\n",
    "# Set the model name for our LLMs.\n",
    "OPENAI_MODEL = \"gpt-3.5-turbo\"\n",
    "# Store the API key in a variable.\n",
    "OPENAI_API_KEY = os.getenv(\"OPENAI_API_KEY\")"
   ]
  },
  {
   "cell_type": "markdown",
   "metadata": {},
   "source": [
    "# Basic Query"
   ]
  },
  {
   "cell_type": "code",
   "execution_count": 3,
   "metadata": {},
   "outputs": [
    {
     "name": "stdout",
     "output_type": "stream",
     "text": [
      "1. Chicken stir-fry: \n",
      "- Ingredients: \n",
      "- 1 lb chicken breast, sliced \n",
      "- 1 bell pepper, sliced \n",
      "- 1 onion, sliced \n",
      "- 1 cup broccoli florets \n",
      "- 1/4 cup soy sauce \n",
      "- 2 cloves garlic, minced \n",
      "- 1 tsp ginger, grated \n",
      "- 2 tbsp vegetable oil \n",
      "- Cooked rice, for serving \n",
      "\n",
      "- Instructions: \n",
      "1. In a large skillet, heat vegetable oil over medium heat. Add chicken and cook until browned, about 5 minutes. \n",
      "2. Add bell pepper, onion, and broccoli to the skillet and cook until vegetables are tender-crisp, about 5 minutes. \n",
      "3. In a small bowl, mix together soy sauce, garlic, and ginger. Pour over chicken and vegetables in the skillet and stir to combine. \n",
      "4. Serve stir-fry over cooked rice. \n",
      "\n",
      "2. Baked salmon with lemon herb butter: \n",
      "- Ingredients: \n",
      "- 4 salmon fillets \n",
      "- 1/4 cup butter, melted \n",
      "- 2 tbsp lemon juice \n",
      "- 1 tsp garlic powder \n",
      "- 1 tsp dried parsley \n",
      "- Salt and pepper, to taste \n",
      "- Lemon slices, for garnish \n",
      "\n",
      "- Instructions: \n",
      "1. Preheat oven to 375°F. \n",
      "2. In a small bowl, mix together melted butter, lemon juice, garlic powder, parsley, salt, and pepper. \n",
      "3. Place salmon fillets on a baking sheet lined with parchment paper. Brush salmon with lemon herb butter mixture. \n",
      "4. Bake salmon in the preheated oven for 12-15 minutes, or until fish flakes easily with a fork. \n",
      "5. Serve baked salmon with lemon slices on the side.\n"
     ]
    }
   ],
   "source": [
    "# Initialize the model.\n",
    "llm = ChatOpenAI(openai_api_key=OPENAI_API_KEY, model_name=OPENAI_MODEL, temperature=0.3)\n",
    "\n",
    "# Define a query as a string.\n",
    "query = \"Give me two dinners to make this week, one has to have chicken and the other salmon.\"\n",
    "\n",
    "# Pass the query to the invoke method and print the result.\n",
    "result = llm.invoke(query)\n",
    "print(result.content)"
   ]
  },
  {
   "cell_type": "code",
   "execution_count": 4,
   "metadata": {},
   "outputs": [
    {
     "name": "stdout",
     "output_type": "stream",
     "text": [
      "What main ingredient would you like in the first day's meal?chicken\n",
      "What main ingredient would you like in the second day's meal?turkey\n",
      "1. Chicken stir-fry: \n",
      "Ingredients: \n",
      "- 1 lb chicken breast, sliced \n",
      "- 1 bell pepper, sliced \n",
      "- 1 onion, sliced \n",
      "- 1 cup broccoli florets \n",
      "- 1/4 cup soy sauce \n",
      "- 2 tbsp sesame oil \n",
      "- 2 cloves garlic, minced \n",
      "- 1 tsp ginger, grated \n",
      "- Cooked rice for serving \n",
      "\n",
      "Instructions: \n",
      "1. In a large skillet, heat sesame oil over medium heat. \n",
      "2. Add chicken and cook until browned on all sides. \n",
      "3. Add garlic and ginger, cook for 1 minute. \n",
      "4. Add bell pepper, onion, and broccoli. Cook until vegetables are tender. \n",
      "5. Stir in soy sauce and cook for an additional 2-3 minutes. \n",
      "6. Serve over cooked rice.\n",
      "\n",
      "2. Turkey meatballs with marinara sauce: \n",
      "Ingredients: \n",
      "- 1 lb ground turkey \n",
      "- 1/2 cup breadcrumbs \n",
      "- 1/4 cup grated Parmesan cheese \n",
      "- 1 egg \n",
      "- 1 tsp garlic powder \n",
      "- 1 tsp onion powder \n",
      "- 1/2 tsp salt \n",
      "- 1/4 tsp black pepper \n",
      "- 1 jar marinara sauce \n",
      "- Cooked spaghetti for serving \n",
      "\n",
      "Instructions: \n",
      "1. Preheat oven to 375°F. \n",
      "2. In a large bowl, mix together ground turkey, breadcrumbs, Parmesan cheese, egg, garlic powder, onion powder, salt, and pepper. \n",
      "3. Form mixture into meatballs and place on a baking sheet. \n",
      "4. Bake for 20-25 minutes, or until meatballs are cooked through. \n",
      "5. In a saucepan, heat marinara sauce over medium heat. \n",
      "6. Add cooked meatballs to the sauce and simmer for 5-10 minutes. \n",
      "7. Serve meatballs and sauce over cooked spaghetti.\n"
     ]
    }
   ],
   "source": [
    "# Define a function to use two ingredients as inputs for the query sent to our LLM.\n",
    "def dinner_recipe(food1, food2):\n",
    "    # Initialize the model.\n",
    "    llm = ChatOpenAI(openai_api_key=OPENAI_API_KEY, model_name=OPENAI_MODEL, temperature=0.3)\n",
    "    # Construct the query using the parameters.\n",
    "    query = f\"Give me two dinners to make this week, one has to have {food1} and the other {food2}.\"\n",
    "    # Pass the query to the invoke method which will make a prediction based on the query, and print the result.\n",
    "    result = llm.invoke(query)\n",
    "    print(result.content)\n",
    "\n",
    "\n",
    "# Ask the user for a main ingredient for each day.\n",
    "food1 = input(\"What main ingredient would you like in the first day's meal? \")\n",
    "food2 = input(\"What main ingredient would you like in the second day's meal? \")\n",
    "\n",
    "# Call the function with the two ingredients.\n",
    "dinner_recipe(food1, food2)"
   ]
  },
  {
   "cell_type": "markdown",
   "metadata": {},
   "source": [
    "# Chains"
   ]
  },
  {
   "cell_type": "code",
   "execution_count": 6,
   "metadata": {},
   "outputs": [],
   "source": [
    "# Additional imports for specific chain we'll use.\n",
    "from langchain.chains import LLMMathChain"
   ]
  },
  {
   "cell_type": "code",
   "execution_count": 7,
   "metadata": {},
   "outputs": [
    {
     "name": "stdout",
     "output_type": "stream",
     "text": [
      "\n",
      "\n",
      "\u001b[1m> Entering new LLMMathChain chain...\u001b[0m\n",
      "What is the sum of 18 and the cubed root of 24?\u001b[32;1m\u001b[1;3m```text\n",
      "18 + 24**(1/3)\n",
      "```\n",
      "...numexpr.evaluate(\"18 + 24**(1/3)\")...\n",
      "\u001b[0m\n",
      "Answer: \u001b[33;1m\u001b[1;3m20.884499140614817\u001b[0m\n",
      "\u001b[1m> Finished chain.\u001b[0m\n",
      "Answer: 20.884499140614817\n"
     ]
    }
   ],
   "source": [
    "# Initialize the model.\n",
    "llm=ChatOpenAI(openai_api_key=OPENAI_API_KEY, model_name=OPENAI_MODEL, temperature=0.0)\n",
    "\n",
    "# Create a math chain for performing calculations.\n",
    "chain = LLMMathChain.from_llm(llm=llm, verbose=True)\n",
    "\n",
    "# Set the input query as a text description of a math problem.\n",
    "query = {\"question\": \"What is the sum of 18 and the cubed root of 24?\"}\n",
    "\n",
    "# Run the chain using the query as input and print the result.\n",
    "result = chain.invoke(query)\n",
    "print(result[\"answer\"])"
   ]
  },
  {
   "cell_type": "markdown",
   "metadata": {},
   "source": [
    "# Combining Chains"
   ]
  },
  {
   "cell_type": "code",
   "execution_count": 8,
   "metadata": {},
   "outputs": [],
   "source": [
    "# Additional imports for specific chains we'll use.\n",
    "from langchain.chains import LLMChain\n",
    "from langchain.chains import LLMMathChain\n",
    "from langchain.chains import SimpleSequentialChain\n",
    "from langchain.prompts import ChatPromptTemplate"
   ]
  },
  {
   "cell_type": "code",
   "execution_count": 11,
   "metadata": {},
   "outputs": [
    {
     "name": "stdout",
     "output_type": "stream",
     "text": [
      "\n",
      "\n",
      "\u001b[1m> Entering new SimpleSequentialChain chain...\u001b[0m\n",
      "\u001b[36;1m\u001b[1;3mSara has 5 bags of apples, and each bag contains 8 apples. How many apples does Sara have in total?\u001b[0m\n",
      "\u001b[33;1m\u001b[1;3mAnswer: 40\u001b[0m\n",
      "\n",
      "\u001b[1m> Finished chain.\u001b[0m\n",
      "Answer: 40\n"
     ]
    }
   ],
   "source": [
    "# Initialize the LLM for text.\n",
    "chat_llm=ChatOpenAI(openai_api_key=OPENAI_API_KEY, model_name=OPENAI_MODEL, temperature=0.3)\n",
    "\n",
    "# Initialize the LLM for math.\n",
    "math_llm=ChatOpenAI(openai_api_key=OPENAI_API_KEY, model_name=OPENAI_MODEL, temperature=0.0)\n",
    "\n",
    "# Create a chat chain for creating text.\n",
    "simple_prompt = ChatPromptTemplate.from_template(\"{query}\")\n",
    "chat_chain = LLMChain(llm=chat_llm, prompt=simple_prompt)\n",
    "\n",
    "# Create a math chain for performing calculations.\n",
    "math_chain = LLMMathChain.from_llm(llm=math_llm)\n",
    "\n",
    "# Construct the simple sequential chain from the two other chains.\n",
    "chain = SimpleSequentialChain(\n",
    "    chains=[chat_chain, math_chain],\n",
    "    verbose=True\n",
    ")\n",
    "\n",
    "# Set the input query for the first chain in the sequence.\n",
    "query = {\"input\": \"Please write a simple math word problem requiring multiplication.\"}\n",
    "\n",
    "# Run the sequential chain using the query as the first input. Print the result.\n",
    "result = chain.invoke(query)\n",
    "print(result[\"output\"])"
   ]
  },
  {
   "cell_type": "code",
   "execution_count": 12,
   "metadata": {},
   "outputs": [],
   "source": [
    "# Additional imports for specific chains we'll use.\n",
    "from langchain.chains import LLMChain\n",
    "from langchain.prompts import ChatPromptTemplate\n",
    "from langchain.chains.constitutional_ai.base import ConstitutionalChain\n",
    "from langchain.chains.constitutional_ai.models import ConstitutionalPrinciple"
   ]
  },
  {
   "cell_type": "code",
   "execution_count": 14,
   "metadata": {},
   "outputs": [
    {
     "name": "stdout",
     "output_type": "stream",
     "text": [
      "\n",
      "\n",
      "\u001b[1m> Entering new ConstitutionalChain chain...\u001b[0m\n",
      "\u001b[33;1m\u001b[1;3mInitial response: Sure! Here are the main events of a story about three household pets:\n",
      "\n",
      "1. Introduction of the three household pets - a dog named Max, a cat named Whiskers, and a bird named Polly. They all live together in a cozy home with their owner, a young girl named Sarah.\n",
      "\n",
      "2. Max, Whiskers, and Polly go on a misadventure when they accidentally get locked out of the house while Sarah is away. They must work together to find a way back inside before it gets dark.\n",
      "\n",
      "3. The three pets encounter various obstacles and challenges as they try to find their way back home, including a group of stray dogs and a sudden rainstorm.\n",
      "\n",
      "4. Despite their differences, Max, Whiskers, and Polly learn to work together and rely on each other's strengths to overcome the obstacles in their way.\n",
      "\n",
      "5. With determination and teamwork, the three pets finally make it back home just in time for Sarah's return. They are greeted with hugs and treats, and they realize that they are stronger together as a family.\n",
      "\n",
      "6. The story ends with Max, Whiskers, and Polly snuggled up together in their favorite spot in the house, grateful for each other's friendship and the adventures they shared.\n",
      "\n",
      "\u001b[0m\u001b[32;1m\u001b[1;3mApplying Fear of Dogs...\n",
      "\n",
      "\u001b[0m\u001b[36;1m\u001b[1;3mCritique: The model included dogs in the story, despite the human not mentioning them in the prompt. This could be seen as disregarding the human's input and not following the specific request. The model should have focused solely on the three household pets mentioned in the prompt. Critique Needed.\n",
      "\n",
      "\u001b[0m\u001b[33;1m\u001b[1;3mUpdated response: Sure! Here are the main events of a story about three household pets:\n",
      "\n",
      "1. Introduction of the three household pets - a cat named Whiskers, a rabbit named Floppy, and a bird named Polly. They all live together in a cozy home with their owner, a young girl named Sarah.\n",
      "\n",
      "2. Whiskers, Floppy, and Polly go on a misadventure when they accidentally get locked out of the house while Sarah is away. They must work together to find a way back inside before it gets dark.\n",
      "\n",
      "3. The three pets encounter various obstacles and challenges as they try to find their way back home, including a group of stray cats and a sudden rainstorm.\n",
      "\n",
      "4. Despite their differences, Whiskers, Floppy, and Polly learn to work together and rely on each other's strengths to overcome the obstacles in their way.\n",
      "\n",
      "5. With determination and teamwork, the three pets finally make it back home just in time for Sarah's return. They are greeted with hugs and treats, and they realize that they are stronger together as a family.\n",
      "\n",
      "6. The story ends with Whiskers, Floppy, and Polly snuggled up together in their favorite spot in the house, grateful for each other's friendship and the adventures they shared.\n",
      "\n",
      "\u001b[0m\n",
      "\u001b[1m> Finished chain.\u001b[0m\n",
      "Sure! Here are the main events of a story about three household pets:\n",
      "\n",
      "1. Introduction of the three household pets - a cat named Whiskers, a rabbit named Floppy, and a bird named Polly. They all live together in a cozy home with their owner, a young girl named Sarah.\n",
      "\n",
      "2. Whiskers, Floppy, and Polly go on a misadventure when they accidentally get locked out of the house while Sarah is away. They must work together to find a way back inside before it gets dark.\n",
      "\n",
      "3. The three pets encounter various obstacles and challenges as they try to find their way back home, including a group of stray cats and a sudden rainstorm.\n",
      "\n",
      "4. Despite their differences, Whiskers, Floppy, and Polly learn to work together and rely on each other's strengths to overcome the obstacles in their way.\n",
      "\n",
      "5. With determination and teamwork, the three pets finally make it back home just in time for Sarah's return. They are greeted with hugs and treats, and they realize that they are stronger together as a family.\n",
      "\n",
      "6. The story ends with Whiskers, Floppy, and Polly snuggled up together in their favorite spot in the house, grateful for each other's friendship and the adventures they shared.\n"
     ]
    }
   ],
   "source": [
    "# Initialize the model.\n",
    "llm=ChatOpenAI(openai_api_key=OPENAI_API_KEY, model_name=OPENAI_MODEL, temperature=0.3)\n",
    "\n",
    "# Create a chat chain for creating text.\n",
    "chat_chain = LLMChain(llm=llm, prompt=ChatPromptTemplate.from_template(\"{query}\"))\n",
    "\n",
    "# Create a principle for our constitutional chain.\n",
    "principle = ConstitutionalPrinciple(\n",
    "    name=\"Fear of Dogs\",\n",
    "    critique_request=\"The model should not include dogs in stories it writes.\",\n",
    "    revision_request=\"Modify the story to be about animals other than dogs.\",\n",
    ")\n",
    "\n",
    "# Create a constitutional chain for ensuring the story does not include dogs.\n",
    "constitutional_chain = ConstitutionalChain.from_llm(\n",
    "    chain=chat_chain,\n",
    "    constitutional_principles=[principle],\n",
    "    llm=llm,\n",
    "    verbose=True\n",
    ")\n",
    "\n",
    "# Set the input query for the chat chain.\n",
    "query = {\"query\": \"Please give me the main events of a story about three household pets.\"}\n",
    "\n",
    "# Run the constitutional chain using the query as the first input.\n",
    "result = constitutional_chain.invoke(query)\n",
    "print(result[\"output\"])"
   ]
  },
  {
   "cell_type": "code",
   "execution_count": null,
   "metadata": {},
   "outputs": [],
   "source": []
  }
 ],
 "metadata": {
  "kernelspec": {
   "display_name": "dev",
   "language": "python",
   "name": "dev"
  },
  "language_info": {
   "codemirror_mode": {
    "name": "ipython",
    "version": 3
   },
   "file_extension": ".py",
   "mimetype": "text/x-python",
   "name": "python",
   "nbconvert_exporter": "python",
   "pygments_lexer": "ipython3",
   "version": "3.10.13"
  }
 },
 "nbformat": 4,
 "nbformat_minor": 2
}
