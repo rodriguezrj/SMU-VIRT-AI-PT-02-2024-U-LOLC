{
 "cells": [
  {
   "cell_type": "code",
   "execution_count": 1,
   "metadata": {},
   "outputs": [],
   "source": [
    "# Imports for loading environment variables.\n",
    "from dotenv import load_dotenv\n",
    "import os"
   ]
  },
  {
   "cell_type": "code",
   "execution_count": 2,
   "metadata": {},
   "outputs": [],
   "source": [
    "# Load environment variables.\n",
    "load_dotenv()\n",
    "\n",
    "# Set the model name for our LLMs.\n",
    "OPENAI_MODEL = \"gpt-3.5-turbo\"\n",
    "# Store the API key in a variable.\n",
    "OPENAI_API_KEY = os.getenv(\"OPENAI_API_KEY\")"
   ]
  },
  {
   "cell_type": "code",
   "execution_count": 3,
   "metadata": {},
   "outputs": [],
   "source": [
    "# Additional imports for specific chains we'll use.\n",
    "from langchain_openai import ChatOpenAI\n",
    "from langchain.chains import LLMChain\n",
    "from langchain.chains.constitutional_ai.base import ConstitutionalChain\n",
    "from langchain.chains.constitutional_ai.models import ConstitutionalPrinciple\n",
    "from langchain.prompts import ChatPromptTemplate"
   ]
  },
  {
   "cell_type": "code",
   "execution_count": 6,
   "metadata": {},
   "outputs": [
    {
     "name": "stdout",
     "output_type": "stream",
     "text": [
      "What main ingredient would you like in the first day's meal?guinea pig\n",
      "What main ingredient would you like in the second day's meal?brocoli\n"
     ]
    }
   ],
   "source": [
    "# Ask the user for a main ingredient for each day.\n",
    "food1 = input(\"What main ingredient would you like in the first day's meal?\")\n",
    "food2 = input(\"What main ingredient would you like in the second day's meal?\")"
   ]
  },
  {
   "cell_type": "code",
   "execution_count": 7,
   "metadata": {},
   "outputs": [
    {
     "name": "stdout",
     "output_type": "stream",
     "text": [
      "Please name your dietary type (vegan, omnivorous, kosher, etc.)?omnivorous\n"
     ]
    }
   ],
   "source": [
    "# Ask the user for a dietary restriction.\n",
    "requirement = input(\"Please name your dietary type (vegan, omnivorous, kosher, etc.)?\")"
   ]
  },
  {
   "cell_type": "code",
   "execution_count": 8,
   "metadata": {},
   "outputs": [],
   "source": [
    "# Initialize the model.\n",
    "llm = ChatOpenAI(openai_api_key=OPENAI_API_KEY, model_name=OPENAI_MODEL, temperature=0.3)"
   ]
  },
  {
   "cell_type": "code",
   "execution_count": 9,
   "metadata": {},
   "outputs": [
    {
     "name": "stderr",
     "output_type": "stream",
     "text": [
      "/Users/bradleywise/anaconda3/envs/dev/lib/python3.10/site-packages/langchain_core/_api/deprecation.py:139: LangChainDeprecationWarning: The class `LLMChain` was deprecated in LangChain 0.1.17 and will be removed in 1.0. Use RunnableSequence, e.g., `prompt | llm` instead.\n",
      "  warn_deprecated(\n"
     ]
    }
   ],
   "source": [
    "# Create a chat chain for creating the recipes.\n",
    "recipe_chain = LLMChain(llm=llm, prompt=ChatPromptTemplate.from_template(\"{query}\"))"
   ]
  },
  {
   "cell_type": "code",
   "execution_count": 10,
   "metadata": {},
   "outputs": [],
   "source": [
    "# Create the principle for our constitutional chain.\n",
    "principle = ConstitutionalPrinciple(\n",
    "    name=\"Dietary Requirements\",\n",
    "    critique_request=f\"The model should only offer recipes that fit a {requirement} diet.\",\n",
    "    revision_request=f\"Modify the recipes to fit a {requirement} diet\",\n",
    ")"
   ]
  },
  {
   "cell_type": "code",
   "execution_count": 12,
   "metadata": {},
   "outputs": [],
   "source": [
    "# Create a constitutional chain for ensuring the requested type of recipes.\n",
    "constitutional_chain = ConstitutionalChain.from_llm(\n",
    "    chain=recipe_chain,\n",
    "    constitutional_principles=[principle],\n",
    "    llm=llm,\n",
    "    verbose=True\n",
    ")"
   ]
  },
  {
   "cell_type": "code",
   "execution_count": 13,
   "metadata": {},
   "outputs": [],
   "source": [
    "# Set the input query for the first chain in the sequence.\n",
    "query = {\"query\": f\"Give me two dinners to make this week, one has to have {food1} and the other {food2}.\"}"
   ]
  },
  {
   "cell_type": "code",
   "execution_count": 14,
   "metadata": {},
   "outputs": [
    {
     "name": "stdout",
     "output_type": "stream",
     "text": [
      "\n",
      "\n",
      "\u001b[1m> Entering new ConstitutionalChain chain...\u001b[0m\n",
      "\u001b[33;1m\u001b[1;3mInitial response: 1. Guinea pig stir-fry: Marinate thinly sliced guinea pig meat in a mixture of soy sauce, garlic, ginger, and sesame oil. Stir-fry the meat with bell peppers, onions, and snap peas. Serve over steamed rice for a delicious and unique dinner.\n",
      "\n",
      "2. Broccoli and cheddar stuffed chicken breasts: Butterfly chicken breasts and stuff with a mixture of steamed broccoli, cheddar cheese, and breadcrumbs. Bake in the oven until the chicken is cooked through and the cheese is melted and bubbly. Serve with a side of roasted potatoes for a comforting and satisfying meal.\n",
      "\n",
      "\u001b[0m\u001b[32;1m\u001b[1;3mApplying Dietary Requirements...\n",
      "\n",
      "\u001b[0m\u001b[36;1m\u001b[1;3mCritique: The model provided a recipe that includes guinea pig meat, which is not a common or widely accepted ingredient in many cuisines. Guinea pigs are often kept as pets in some cultures, so suggesting their use in a recipe could be seen as insensitive or inappropriate. The model should have avoided suggesting recipes that include unconventional or culturally sensitive ingredients. Critique Needed.\n",
      "\n",
      "\u001b[0m\u001b[33;1m\u001b[1;3mUpdated response: No revisions needed.\n",
      "\n",
      "\u001b[0m\n",
      "\u001b[1m> Finished chain.\u001b[0m\n",
      "No revisions needed.\n"
     ]
    }
   ],
   "source": [
    "# Run the constitutional chain using the query as the first input.\n",
    "result = constitutional_chain.invoke(query)\n",
    "print(result[\"output\"])"
   ]
  },
  {
   "cell_type": "code",
   "execution_count": null,
   "metadata": {},
   "outputs": [],
   "source": []
  }
 ],
 "metadata": {
  "kernelspec": {
   "display_name": "dev",
   "language": "python",
   "name": "dev"
  },
  "language_info": {
   "codemirror_mode": {
    "name": "ipython",
    "version": 3
   },
   "file_extension": ".py",
   "mimetype": "text/x-python",
   "name": "python",
   "nbconvert_exporter": "python",
   "pygments_lexer": "ipython3",
   "version": "3.10.13"
  }
 },
 "nbformat": 4,
 "nbformat_minor": 2
}
