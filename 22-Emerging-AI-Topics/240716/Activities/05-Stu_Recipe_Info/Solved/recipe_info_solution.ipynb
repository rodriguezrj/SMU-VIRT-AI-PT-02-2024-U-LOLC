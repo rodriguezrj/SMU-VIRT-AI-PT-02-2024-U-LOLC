{
 "cells": [
  {
   "cell_type": "code",
   "execution_count": 1,
   "metadata": {},
   "outputs": [],
   "source": [
    "# Imports for loading environment variables.\n",
    "from dotenv import load_dotenv\n",
    "import os"
   ]
  },
  {
   "cell_type": "code",
   "execution_count": 2,
   "metadata": {},
   "outputs": [],
   "source": [
    "# Load environment variables.\n",
    "load_dotenv()\n",
    "\n",
    "# Set the model name for our LLMs.\n",
    "OPENAI_MODEL = \"gpt-3.5-turbo\"\n",
    "# Store the API key in a variable.\n",
    "OPENAI_API_KEY = os.getenv(\"OPENAI_API_KEY\")"
   ]
  },
  {
   "cell_type": "code",
   "execution_count": 3,
   "metadata": {},
   "outputs": [],
   "source": [
    "# Additional imports for list parser.\n",
    "from langchain_openai import ChatOpenAI\n",
    "from langchain.output_parsers import CommaSeparatedListOutputParser"
   ]
  },
  {
   "cell_type": "code",
   "execution_count": 22,
   "metadata": {},
   "outputs": [],
   "source": [
    "# Initialize the model.\n",
    "llm=ChatOpenAI(openai_api_key=OPENAI_API_KEY, model_name=OPENAI_MODEL, temperature=0.3)"
   ]
  },
  {
   "cell_type": "code",
   "execution_count": 23,
   "metadata": {},
   "outputs": [],
   "source": [
    "# Initialize the output parser.\n",
    "parser = CommaSeparatedListOutputParser()"
   ]
  },
  {
   "cell_type": "code",
   "execution_count": 24,
   "metadata": {},
   "outputs": [],
   "source": [
    "# Get the output format instructions.\n",
    "instructions = parser.get_format_instructions()"
   ]
  },
  {
   "cell_type": "code",
   "execution_count": 41,
   "metadata": {},
   "outputs": [],
   "source": [
    "# Define a query as a string, combining with the instructions.\n",
    "query = \"Please give me the names of three different dinner options using a variety of main ingredients.\" + \\\n",
    "\"\\n\\n\" + instructions"
   ]
  },
  {
   "cell_type": "code",
   "execution_count": 26,
   "metadata": {},
   "outputs": [],
   "source": [
    "# Pass the query to the invoke method.\n",
    "result = llm.invoke(query)"
   ]
  },
  {
   "cell_type": "code",
   "execution_count": 28,
   "metadata": {},
   "outputs": [
    {
     "name": "stdout",
     "output_type": "stream",
     "text": [
      "1. Grilled salmon, quinoa salad, roasted vegetables\n",
      "2. Spaghetti carbonara, garlic bread, Caesar salad\n",
      "3. BBQ chicken, corn on the cob, coleslaw\n"
     ]
    }
   ],
   "source": [
    "print(result.content)"
   ]
  },
  {
   "cell_type": "code",
   "execution_count": 29,
   "metadata": {},
   "outputs": [],
   "source": [
    "# Parse the result.\n",
    "data = parser.parse(result.content)"
   ]
  },
  {
   "cell_type": "code",
   "execution_count": 31,
   "metadata": {},
   "outputs": [
    {
     "data": {
      "text/plain": [
       "CommaSeparatedListOutputParser()"
      ]
     },
     "execution_count": 31,
     "metadata": {},
     "output_type": "execute_result"
    }
   ],
   "source": [
    "parser"
   ]
  },
  {
   "cell_type": "code",
   "execution_count": 30,
   "metadata": {},
   "outputs": [
    {
     "name": "stdout",
     "output_type": "stream",
     "text": [
      "1: 1. Grilled salmon\n",
      "2: quinoa salad\n",
      "3: roasted vegetables\n",
      "2. Spaghetti carbonara\n",
      "4: garlic bread\n",
      "5: Caesar salad\n",
      "3. BBQ chicken\n",
      "6: corn on the cob\n",
      "7: coleslaw\n"
     ]
    }
   ],
   "source": [
    "# Display the recipe names for the user.\n",
    "for i in range(len(data)):\n",
    "    print(str(i+1) + \": \" + data[i])"
   ]
  },
  {
   "cell_type": "code",
   "execution_count": 32,
   "metadata": {},
   "outputs": [
    {
     "name": "stdout",
     "output_type": "stream",
     "text": [
      "Please enter the number next to the dish you'd like a recipe for. 2\n",
      "\n"
     ]
    }
   ],
   "source": [
    "# Prompt the user for a recipe number.\n",
    "num = int(input(\"Please enter the number next to the dish you'd like a recipe for. \"))\n",
    "\n",
    "print()"
   ]
  },
  {
   "cell_type": "code",
   "execution_count": 33,
   "metadata": {},
   "outputs": [],
   "source": [
    "# Get the matching recipe name.\n",
    "name = data[num-1]"
   ]
  },
  {
   "cell_type": "code",
   "execution_count": 34,
   "metadata": {},
   "outputs": [
    {
     "data": {
      "text/plain": [
       "'quinoa salad'"
      ]
     },
     "execution_count": 34,
     "metadata": {},
     "output_type": "execute_result"
    }
   ],
   "source": [
    "name"
   ]
  },
  {
   "cell_type": "code",
   "execution_count": 37,
   "metadata": {},
   "outputs": [],
   "source": [
    "# Define a query as a string, combining with the recipe name.\n",
    "query = f\"Please give me a full recipe for Grilled salmon, quinoa salad, roasted vegetables including ingredients and steps.\""
   ]
  },
  {
   "cell_type": "code",
   "execution_count": 38,
   "metadata": {},
   "outputs": [
    {
     "name": "stdout",
     "output_type": "stream",
     "text": [
      "Grilled Salmon, Quinoa Salad, Roasted Vegetables Recipe\n",
      "\n",
      "Ingredients:\n",
      "\n",
      "For Grilled Salmon:\n",
      "- 4 salmon fillets\n",
      "- 2 tablespoons olive oil\n",
      "- 2 cloves garlic, minced\n",
      "- 1 teaspoon lemon zest\n",
      "- 1 tablespoon lemon juice\n",
      "- Salt and pepper to taste\n",
      "\n",
      "For Quinoa Salad:\n",
      "- 1 cup quinoa\n",
      "- 2 cups water or vegetable broth\n",
      "- 1 cucumber, diced\n",
      "- 1 red bell pepper, diced\n",
      "- 1/4 cup red onion, finely chopped\n",
      "- 1/4 cup fresh parsley, chopped\n",
      "- 1/4 cup feta cheese, crumbled\n",
      "- 2 tablespoons olive oil\n",
      "- 1 tablespoon red wine vinegar\n",
      "- Salt and pepper to taste\n",
      "\n",
      "For Roasted Vegetables:\n",
      "- 2 cups mixed vegetables (such as bell peppers, zucchini, cherry tomatoes, and red onion)\n",
      "- 2 tablespoons olive oil\n",
      "- 1 teaspoon garlic powder\n",
      "- 1 teaspoon dried thyme\n",
      "- Salt and pepper to taste\n",
      "\n",
      "Instructions:\n",
      "\n",
      "1. Preheat the grill to medium-high heat.\n",
      "\n",
      "2. In a small bowl, mix together the olive oil, garlic, lemon zest, lemon juice, salt, and pepper. Brush the mixture onto the salmon fillets.\n",
      "\n",
      "3. Place the salmon fillets on the grill and cook for 4-5 minutes per side, or until the salmon is cooked through and flakes easily with a fork.\n",
      "\n",
      "4. In a medium saucepan, bring the water or vegetable broth to a boil. Add the quinoa, reduce heat to low, cover, and simmer for 15-20 minutes, or until the quinoa is cooked and the liquid is absorbed. Fluff with a fork and let cool.\n",
      "\n",
      "5. In a large bowl, combine the cooked quinoa, cucumber, red bell pepper, red onion, parsley, and feta cheese. In a small bowl, whisk together the olive oil, red wine vinegar, salt, and pepper. Pour the dressing over the quinoa salad and toss to combine.\n",
      "\n",
      "6. Preheat the oven to 400°F (200°C).\n",
      "\n",
      "7. In a large baking dish, toss the mixed vegetables with olive oil, garlic powder, thyme, salt, and pepper. Roast in the oven for 20-25 minutes, or until the vegetables are tender and slightly caramelized.\n",
      "\n",
      "8. Serve the grilled salmon with the quinoa salad and roasted vegetables. Enjoy!\n"
     ]
    }
   ],
   "source": [
    "# Pass the query to the invoke method, and print the result.\n",
    "result = llm.invoke(query)\n",
    "print(result.content)"
   ]
  },
  {
   "cell_type": "code",
   "execution_count": null,
   "metadata": {},
   "outputs": [],
   "source": []
  }
 ],
 "metadata": {
  "kernelspec": {
   "display_name": "dev",
   "language": "python",
   "name": "dev"
  },
  "language_info": {
   "codemirror_mode": {
    "name": "ipython",
    "version": 3
   },
   "file_extension": ".py",
   "mimetype": "text/x-python",
   "name": "python",
   "nbconvert_exporter": "python",
   "pygments_lexer": "ipython3",
   "version": "3.10.13"
  }
 },
 "nbformat": 4,
 "nbformat_minor": 2
}
