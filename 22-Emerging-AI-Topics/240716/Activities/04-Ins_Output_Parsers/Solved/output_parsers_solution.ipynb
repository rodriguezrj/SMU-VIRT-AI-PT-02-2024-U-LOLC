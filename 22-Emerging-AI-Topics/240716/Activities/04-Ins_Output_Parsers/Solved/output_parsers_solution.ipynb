{
 "cells": [
  {
   "cell_type": "code",
   "execution_count": 1,
   "metadata": {},
   "outputs": [],
   "source": [
    "from langchain_openai import ChatOpenAI\n",
    "from dotenv import load_dotenv\n",
    "import os"
   ]
  },
  {
   "cell_type": "markdown",
   "metadata": {},
   "source": [
    "# Model and API Key"
   ]
  },
  {
   "cell_type": "code",
   "execution_count": 2,
   "metadata": {},
   "outputs": [],
   "source": [
    "# Load environment variables.\n",
    "load_dotenv()\n",
    "\n",
    "# Set the model name for our LLMs.\n",
    "OPENAI_MODEL = \"gpt-3.5-turbo\"\n",
    "# Store the API key in a variable.\n",
    "OPENAI_API_KEY = os.getenv(\"OPENAI_API_KEY\")"
   ]
  },
  {
   "cell_type": "markdown",
   "metadata": {},
   "source": [
    "# List Parser"
   ]
  },
  {
   "cell_type": "code",
   "execution_count": 3,
   "metadata": {},
   "outputs": [],
   "source": [
    "# Additional imports for list parser.\n",
    "from langchain.output_parsers import CommaSeparatedListOutputParser"
   ]
  },
  {
   "cell_type": "code",
   "execution_count": 5,
   "metadata": {},
   "outputs": [
    {
     "name": "stdout",
     "output_type": "stream",
     "text": [
      "Your response should be a list of comma separated values, eg: `foo, bar, baz` or `foo,bar,baz`\n",
      "\n"
     ]
    }
   ],
   "source": [
    "# Initialize the model.\n",
    "llm=ChatOpenAI(openai_api_key=OPENAI_API_KEY, model_name=OPENAI_MODEL, temperature=0.9)\n",
    "\n",
    "# Initialize the output parser.\n",
    "parser = CommaSeparatedListOutputParser()\n",
    "\n",
    "# Get the output format instructions.\n",
    "instructions = parser.get_format_instructions()\n",
    "print(instructions)\n",
    "\n",
    "print()"
   ]
  },
  {
   "cell_type": "code",
   "execution_count": 6,
   "metadata": {},
   "outputs": [
    {
     "name": "stdout",
     "output_type": "stream",
     "text": [
      "Siamese, Maine Coon, Bengal\n"
     ]
    }
   ],
   "source": [
    "# Define a query as a string, combining with the instructions.\n",
    "query = \"List 3 cat breeds.\" + \"\\n\\n\" + instructions\n",
    "\n",
    "# Pass the query to the invoke method, and print the result.\n",
    "result = llm.invoke(query)\n",
    "print(result.content)"
   ]
  },
  {
   "cell_type": "code",
   "execution_count": 7,
   "metadata": {},
   "outputs": [
    {
     "name": "stdout",
     "output_type": "stream",
     "text": [
      "['Siamese', 'Maine Coon', 'Bengal']\n"
     ]
    }
   ],
   "source": [
    "# Parse the result, store it, and print it.\n",
    "data = parser.parse(result.content)\n",
    "print(data)"
   ]
  },
  {
   "cell_type": "markdown",
   "metadata": {},
   "source": [
    "# Structured Parser"
   ]
  },
  {
   "cell_type": "code",
   "execution_count": 8,
   "metadata": {},
   "outputs": [],
   "source": [
    "# Additional imports for structured parser.\n",
    "from langchain.output_parsers import StructuredOutputParser, ResponseSchema"
   ]
  },
  {
   "cell_type": "code",
   "execution_count": 9,
   "metadata": {},
   "outputs": [
    {
     "name": "stdout",
     "output_type": "stream",
     "text": [
      "The output should be a markdown code snippet formatted in the following schema, including the leading and trailing \"```json\" and \"```\":\n",
      "\n",
      "```json\n",
      "{\n",
      "\t\"country\": string  // the country\n",
      "\t\"capital\": string  // the capital\n",
      "}\n",
      "```\n",
      "\n"
     ]
    }
   ],
   "source": [
    "# Initialize the model.\n",
    "llm=ChatOpenAI(openai_api_key=OPENAI_API_KEY, model_name=OPENAI_MODEL, temperature=0.9)\n",
    "\n",
    "# Define the schemas for our parser.\n",
    "schemas = [\n",
    "    ResponseSchema(name=\"country\", description=\"the country\"),\n",
    "    ResponseSchema(name=\"capital\", description=\"the capital\")\n",
    "]\n",
    "\n",
    "# Initialize the output parser using the schema.\n",
    "parser = StructuredOutputParser.from_response_schemas(schemas)\n",
    "\n",
    "# Get the output format instructions and print them.\n",
    "instructions = parser.get_format_instructions()\n",
    "print(instructions)\n",
    "\n",
    "print()"
   ]
  },
  {
   "cell_type": "code",
   "execution_count": 10,
   "metadata": {},
   "outputs": [
    {
     "name": "stdout",
     "output_type": "stream",
     "text": [
      "```json\n",
      "{\n",
      "\t\"country\": \"France\",\n",
      "\t\"capital\": \"Paris\"\n",
      "}\n",
      "```\n",
      "\n"
     ]
    }
   ],
   "source": [
    "# Define a query as a string, combining with the instructions.\n",
    "query = \"Name a country and its capital.\" + \"\\n\\n\" + instructions\n",
    "\n",
    "# Pass the query to the invoke method, and print the result.\n",
    "result = llm.invoke(query)\n",
    "print(result.content)\n",
    "\n",
    "print()"
   ]
  },
  {
   "cell_type": "code",
   "execution_count": 11,
   "metadata": {},
   "outputs": [
    {
     "name": "stdout",
     "output_type": "stream",
     "text": [
      "{'country': 'France', 'capital': 'Paris'}\n",
      "France\n",
      "Paris\n",
      "\n"
     ]
    }
   ],
   "source": [
    "# Parse the result, store it, and print it.\n",
    "data = parser.parse(result.content)\n",
    "print(data)\n",
    "print(data[\"country\"])\n",
    "print(data[\"capital\"])\n",
    "\n",
    "print()"
   ]
  },
  {
   "cell_type": "code",
   "execution_count": 12,
   "metadata": {},
   "outputs": [
    {
     "name": "stdout",
     "output_type": "stream",
     "text": [
      "1. Eiffel Tower\n",
      "2. Louvre Museum\n",
      "3. Notre-Dame Cathedral\n"
     ]
    }
   ],
   "source": [
    "# Define a new query using the parsed output.\n",
    "query = f\"What are three tourist attractions in {data['capital']}?\"\n",
    "\n",
    "# Pass the query to the invoke method, and print the result.\n",
    "result = llm.invoke(query)\n",
    "print(result.content)"
   ]
  },
  {
   "cell_type": "markdown",
   "metadata": {},
   "source": [
    "# Class-based Parser"
   ]
  },
  {
   "cell_type": "code",
   "execution_count": 13,
   "metadata": {},
   "outputs": [],
   "source": [
    "# Additional imports for Pydantic parser.\n",
    "from langchain.output_parsers import PydanticOutputParser\n",
    "from langchain_core.pydantic_v1 import Field, BaseModel"
   ]
  },
  {
   "cell_type": "code",
   "execution_count": 14,
   "metadata": {},
   "outputs": [
    {
     "name": "stdout",
     "output_type": "stream",
     "text": [
      "The output should be formatted as a JSON instance that conforms to the JSON schema below.\n",
      "\n",
      "As an example, for the schema {\"properties\": {\"foo\": {\"title\": \"Foo\", \"description\": \"a list of strings\", \"type\": \"array\", \"items\": {\"type\": \"string\"}}}, \"required\": [\"foo\"]}\n",
      "the object {\"foo\": [\"bar\", \"baz\"]} is a well-formatted instance of the schema. The object {\"properties\": {\"foo\": [\"bar\", \"baz\"]}} is not well-formatted.\n",
      "\n",
      "Here is the output schema:\n",
      "```\n",
      "{\"properties\": {\"name\": {\"title\": \"Name\", \"description\": \"the country name\", \"type\": \"string\"}, \"capital\": {\"title\": \"Capital\", \"description\": \"the capital\", \"type\": \"string\"}, \"population\": {\"title\": \"Population\", \"description\": \"the country's population\", \"type\": \"integer\"}}, \"required\": [\"name\", \"capital\", \"population\"]}\n",
      "```\n",
      "\n"
     ]
    }
   ],
   "source": [
    "# Initialize the model.\n",
    "llm=ChatOpenAI(openai_api_key=OPENAI_API_KEY, model_name=OPENAI_MODEL, temperature=0.9)\n",
    "\n",
    "# Define the class for our parsed responses.\n",
    "class Country(BaseModel):\n",
    "    name: str = Field(description=\"the country name\")\n",
    "    capital: str = Field(description=\"the capital\")\n",
    "    population: int = Field(description=\"the country's population\")\n",
    "\n",
    "# Initialize the output parser using the schema.\n",
    "parser = PydanticOutputParser(pydantic_object=Country)\n",
    "\n",
    "# Get the output format instructions and print them.\n",
    "instructions = parser.get_format_instructions()\n",
    "print(instructions)\n",
    "\n",
    "print()"
   ]
  },
  {
   "cell_type": "code",
   "execution_count": 15,
   "metadata": {},
   "outputs": [
    {
     "name": "stdout",
     "output_type": "stream",
     "text": [
      "{\n",
      "  \"name\": \"India\",\n",
      "  \"capital\": \"New Delhi\",\n",
      "  \"population\": 1380004385\n",
      "}\n",
      "\n"
     ]
    }
   ],
   "source": [
    "# Define a query as a string, combining with the instructions.\n",
    "query = \"Name any country, its capital, and the country's population.\" + \"\\n\\n\" + instructions\n",
    "\n",
    "# Pass the query to the invoke method, and print the result.\n",
    "result = llm.invoke(query)\n",
    "print(result.content)\n",
    "\n",
    "print()"
   ]
  },
  {
   "cell_type": "code",
   "execution_count": 16,
   "metadata": {},
   "outputs": [
    {
     "name": "stdout",
     "output_type": "stream",
     "text": [
      "name='India' capital='New Delhi' population=1380004385\n",
      "India\n",
      "New Delhi\n",
      "1380004385\n",
      "\n"
     ]
    }
   ],
   "source": [
    "# Parse the result, store it, and print it.\n",
    "data = parser.parse(result.content)\n",
    "print(data)\n",
    "print(data.name)\n",
    "print(data.capital)\n",
    "print(data.population)\n",
    "\n",
    "print()\n"
   ]
  },
  {
   "cell_type": "code",
   "execution_count": 17,
   "metadata": {},
   "outputs": [
    {
     "name": "stdout",
     "output_type": "stream",
     "text": [
      "1. The Red Fort - A historic fort complex located in the heart of old Delhi, built in the 17th century by Mughal Emperor Shah Jahan.\n",
      "\n",
      "2. India Gate - A war memorial located in the center of New Delhi, dedicated to the soldiers who died in World War I. It is one of the most famous landmarks in the city.\n",
      "\n",
      "3. Qutub Minar - A UNESCO World Heritage Site, Qutub Minar is a 73-meter-tall minaret built in the 12th century. It is famous for its intricate carvings and Islamic architecture.\n"
     ]
    }
   ],
   "source": [
    "# Define a new query using the parsed output.\n",
    "query = f\"What are three tourist attractions in {data.capital}?\"\n",
    "\n",
    "# Pass the query to the invoke method, and print the result.\n",
    "result = llm.invoke(query)\n",
    "print(result.content)"
   ]
  },
  {
   "cell_type": "code",
   "execution_count": null,
   "metadata": {},
   "outputs": [],
   "source": []
  }
 ],
 "metadata": {
  "kernelspec": {
   "display_name": "dev",
   "language": "python",
   "name": "dev"
  },
  "language_info": {
   "codemirror_mode": {
    "name": "ipython",
    "version": 3
   },
   "file_extension": ".py",
   "mimetype": "text/x-python",
   "name": "python",
   "nbconvert_exporter": "python",
   "pygments_lexer": "ipython3",
   "version": "3.10.13"
  }
 },
 "nbformat": 4,
 "nbformat_minor": 2
}
