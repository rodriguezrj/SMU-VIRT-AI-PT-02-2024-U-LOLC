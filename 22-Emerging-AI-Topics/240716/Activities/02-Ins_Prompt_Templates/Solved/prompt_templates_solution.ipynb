{
 "cells": [
  {
   "cell_type": "code",
   "execution_count": 1,
   "metadata": {},
   "outputs": [],
   "source": [
    "from langchain_openai import ChatOpenAI\n",
    "from dotenv import load_dotenv\n",
    "import os"
   ]
  },
  {
   "cell_type": "markdown",
   "metadata": {},
   "source": [
    "# Model and API Key"
   ]
  },
  {
   "cell_type": "code",
   "execution_count": 2,
   "metadata": {},
   "outputs": [],
   "source": [
    "# Load environment variables.\n",
    "load_dotenv()\n",
    "\n",
    "# Set the model name for our LLMs.\n",
    "OPENAI_MODEL = \"gpt-3.5-turbo\"\n",
    "# Store the API key in a variable.\n",
    "OPENAI_API_KEY = os.getenv(\"OPENAI_API_KEY\")"
   ]
  },
  {
   "cell_type": "markdown",
   "metadata": {},
   "source": [
    "# Roles"
   ]
  },
  {
   "cell_type": "code",
   "execution_count": 3,
   "metadata": {},
   "outputs": [],
   "source": [
    "# Additional imports for human and system messages.\n",
    "from langchain.schema import HumanMessage, SystemMessage"
   ]
  },
  {
   "cell_type": "code",
   "execution_count": 4,
   "metadata": {},
   "outputs": [],
   "source": [
    "# Initialize the model.\n",
    "llm=ChatOpenAI(openai_api_key=OPENAI_API_KEY, model_name=OPENAI_MODEL, temperature=0.3)\n",
    "\n",
    "# Create a list containing a system message and a human message.\n",
    "messages = [\n",
    "    SystemMessage(content=\"You are an athletic trainer.\"),\n",
    "    HumanMessage(content=\"Provide me with a summary of what to do this week for my workouts.\")\n",
    "]"
   ]
  },
  {
   "cell_type": "code",
   "execution_count": 5,
   "metadata": {},
   "outputs": [
    {
     "data": {
      "text/plain": [
       "[SystemMessage(content='You are an athletic trainer.'),\n",
       " HumanMessage(content='Provide me with a summary of what to do this week for my workouts.')]"
      ]
     },
     "execution_count": 5,
     "metadata": {},
     "output_type": "execute_result"
    }
   ],
   "source": [
    "messages"
   ]
  },
  {
   "cell_type": "code",
   "execution_count": 6,
   "metadata": {},
   "outputs": [
    {
     "name": "stdout",
     "output_type": "stream",
     "text": [
      "This week, focus on incorporating a mix of cardiovascular, strength, and flexibility exercises into your workouts. Aim for at least 150 minutes of moderate-intensity cardio, such as running, cycling, or swimming, spread out over the week. Include strength training exercises targeting major muscle groups on 2-3 days, using a variety of equipment or bodyweight exercises. Don't forget to include stretching and mobility work to improve flexibility and prevent injury. Make sure to stay hydrated, eat a balanced diet, and get adequate rest to support your workouts. Listen to your body and adjust the intensity or duration of your workouts as needed.\n"
     ]
    }
   ],
   "source": [
    "# Provide the messages to the LLM and print the result.\n",
    "result = llm.invoke(messages)\n",
    "print(result.content)"
   ]
  },
  {
   "cell_type": "markdown",
   "metadata": {},
   "source": [
    "# Templates for Instructions"
   ]
  },
  {
   "cell_type": "code",
   "execution_count": 7,
   "metadata": {},
   "outputs": [],
   "source": [
    "# Additional imports for prompt template and LLM chain.\n",
    "from langchain import PromptTemplate\n",
    "from langchain.chains import LLMChain"
   ]
  },
  {
   "cell_type": "code",
   "execution_count": 13,
   "metadata": {},
   "outputs": [],
   "source": [
    "# Initialize the model.\n",
    "llm=ChatOpenAI(openai_api_key=OPENAI_API_KEY, model_name=OPENAI_MODEL, temperature=0.3)\n",
    "\n",
    "# Define the format for the template.\n",
    "formatt = \"\"\"\n",
    "You are a history tutor. Answer only questions that would be covered in a history course.\n",
    "If the human asks questions not related to history, remind them that your job is to help\n",
    "them learn history, and ask them for a question on that topic. If they ask a question which\n",
    "there is not enough information to answer, tell them you don't know and don't make up an \n",
    "answer.\n",
    "\n",
    "Question: {query}\n",
    "\n",
    "Answer: \n",
    "\"\"\""
   ]
  },
  {
   "cell_type": "code",
   "execution_count": 14,
   "metadata": {},
   "outputs": [],
   "source": [
    "# Construct the prompt template.\n",
    "prompt_template = PromptTemplate(\n",
    "    input_variables=[\"query\"],\n",
    "    template=formatt\n",
    ")"
   ]
  },
  {
   "cell_type": "code",
   "execution_count": 15,
   "metadata": {},
   "outputs": [
    {
     "name": "stdout",
     "output_type": "stream",
     "text": [
      "The 1980 Summer Olympics were boycotted by several countries, primarily in response to the Soviet Union's invasion of Afghanistan in December 1979. The United States led a boycott of the games, with around 65 countries joining in protest of the Soviet Union's actions. This boycott was a significant event in the context of the Cold War and international relations at the time.\n",
      "\n",
      "I'm sorry, that question is not related to history. Do you have a question about a historical event or time period instead?\n"
     ]
    }
   ],
   "source": [
    "# Construct a chain using this template.\n",
    "chain = LLMChain(llm=llm, prompt=prompt_template)\n",
    "\n",
    "query = {\"query\": \"Why were the 1980 summer Olympics boycotted?\"}\n",
    "\n",
    "# Run the chain using the query as input and print the result.\n",
    "result = chain.invoke(query)\n",
    "print(result[\"text\"])\n",
    "\n",
    "print()\n",
    "\n",
    "# Define the query as a string.\n",
    "query = {\"query\": \"Why is the sky blue?\"}\n",
    "\n",
    "# Run the chain using the query as input and print the result.\n",
    "result = chain.invoke(query)\n",
    "print(result[\"text\"])"
   ]
  },
  {
   "cell_type": "markdown",
   "metadata": {},
   "source": [
    "# Templates for Examples"
   ]
  },
  {
   "cell_type": "code",
   "execution_count": 11,
   "metadata": {},
   "outputs": [],
   "source": [
    "# Additional import for the template.\n",
    "from langchain import PromptTemplate, FewShotPromptTemplate\n",
    "from langchain.chains import LLMChain"
   ]
  },
  {
   "cell_type": "code",
   "execution_count": 16,
   "metadata": {},
   "outputs": [],
   "source": [
    "# Initialize the model.\n",
    "llm=ChatOpenAI(openai_api_key=OPENAI_API_KEY, model_name=OPENAI_MODEL, temperature=0.3)\n",
    "\n",
    "# Define a prefix that explains the prompt.\n",
    "prefix = \"\"\"\n",
    "Here are examples between a human and AI. The human provides a word, and\n",
    "the AI provides a single sentence with easy to read words that mostly rhyme\n",
    "with the word the human provided. The sentence does not have to include the \n",
    "original word. For example:\n",
    "\"\"\""
   ]
  },
  {
   "cell_type": "code",
   "execution_count": 18,
   "metadata": {},
   "outputs": [],
   "source": [
    "# Create examples.\n",
    "examples = [\n",
    "    {\n",
    "        \"query\": \"rat\",\n",
    "        \"answer\": \"The cat sat next to the bat.\"\n",
    "    }, {\n",
    "        \"query\": \"frog\",\n",
    "        \"answer\": \"A dog hops a log in the bog.\"\n",
    "    }, {\n",
    "        \"query\": \"ten\",\n",
    "        \"answer\": \"Ben sent ten hens to the glen.\"\n",
    "    }\n",
    "]"
   ]
  },
  {
   "cell_type": "code",
   "execution_count": 19,
   "metadata": {},
   "outputs": [],
   "source": [
    "# Define a format for the examples.\n",
    "example_format = \"\"\"\n",
    "Human: {query}\n",
    "AI: {answer}\n",
    "\"\"\""
   ]
  },
  {
   "cell_type": "code",
   "execution_count": 20,
   "metadata": {},
   "outputs": [],
   "source": [
    "# Create a prompt template for the examples.\n",
    "example_template = PromptTemplate(\n",
    "    input_variables=[\"query\", \"answer\"],\n",
    "    template=example_format\n",
    ")\n",
    "\n",
    "# Provide a suffix that includes the query.\n",
    "suffix = \"\"\"\n",
    "Human: {query}\n",
    "AI: \n",
    "\"\"\""
   ]
  },
  {
   "cell_type": "code",
   "execution_count": 22,
   "metadata": {},
   "outputs": [],
   "source": [
    "# Construct the few shot prompt template.\n",
    "prompt_template = FewShotPromptTemplate(\n",
    "    examples=examples,\n",
    "    example_prompt=example_template,\n",
    "    input_variables=[\"query\"],\n",
    "    prefix=prefix,\n",
    "    suffix=suffix,\n",
    "    example_separator=\"\\n\\n\"\n",
    ")"
   ]
  },
  {
   "cell_type": "code",
   "execution_count": 23,
   "metadata": {},
   "outputs": [
    {
     "data": {
      "text/plain": [
       "FewShotPromptTemplate(input_variables=['query'], examples=[{'query': 'rat', 'answer': 'The cat sat next to the bat.'}, {'query': 'frog', 'answer': 'A dog hops a log in the bog.'}, {'query': 'ten', 'answer': 'Ben sent ten hens to the glen.'}], example_prompt=PromptTemplate(input_variables=['answer', 'query'], template='\\nHuman: {query}\\nAI: {answer}\\n'), suffix='\\nHuman: {query}\\nAI: \\n', prefix='\\nHere are examples between a human and AI. The human provides a word, and\\nthe AI provides a single sentence with easy to read words that mostly rhyme\\nwith the word the human provided. The sentence does not have to include the \\noriginal word. For example:\\n')"
      ]
     },
     "execution_count": 23,
     "metadata": {},
     "output_type": "execute_result"
    }
   ],
   "source": [
    "prompt_template"
   ]
  },
  {
   "cell_type": "code",
   "execution_count": 34,
   "metadata": {},
   "outputs": [
    {
     "name": "stdout",
     "output_type": "stream",
     "text": [
      "In the slime, a mime does a rhyme.\n"
     ]
    }
   ],
   "source": [
    "# Construct a chain using this template.\n",
    "chain = LLMChain(llm=llm, prompt=prompt_template)\n",
    "\n",
    "# Define the query as a string.\n",
    "query = \"grime\"\n",
    "\n",
    "# Run the chain using the query as input and print the result.\n",
    "result = chain.run(query)\n",
    "print(result)"
   ]
  },
  {
   "cell_type": "code",
   "execution_count": 35,
   "metadata": {},
   "outputs": [
    {
     "data": {
      "text/plain": [
       "'In the crime, they found some lime.'"
      ]
     },
     "execution_count": 35,
     "metadata": {},
     "output_type": "execute_result"
    }
   ],
   "source": [
    "prompt = f'''\n",
    "Here are examples between a human and AI. The human provides a word, and\n",
    "the AI provides a single sentence with easy to read words that mostly rhyme\n",
    "with the word the human provided. The sentence does not have to include the \n",
    "original word. For example:\n",
    "\n",
    "\"Human\": \"rat\",\n",
    "\"AI\": \"The cat sat next to the bat.\"\n",
    "\"Human\": \"frog\",\n",
    "\"AI\": \"A dog hops a log in the bog.\"\n",
    "\"Human\": \"ten\",\n",
    "\"AI\": \"Ben sent ten hens to the glen.\"\n",
    "\n",
    "Human: {query}\n",
    "AI: \n",
    "'''\n",
    "query = 'mime'\n",
    "\n",
    "llm.predict(prompt)"
   ]
  },
  {
   "cell_type": "code",
   "execution_count": null,
   "metadata": {},
   "outputs": [],
   "source": []
  }
 ],
 "metadata": {
  "kernelspec": {
   "display_name": "dev",
   "language": "python",
   "name": "dev"
  },
  "language_info": {
   "codemirror_mode": {
    "name": "ipython",
    "version": 3
   },
   "file_extension": ".py",
   "mimetype": "text/x-python",
   "name": "python",
   "nbconvert_exporter": "python",
   "pygments_lexer": "ipython3",
   "version": "3.10.13"
  }
 },
 "nbformat": 4,
 "nbformat_minor": 2
}
