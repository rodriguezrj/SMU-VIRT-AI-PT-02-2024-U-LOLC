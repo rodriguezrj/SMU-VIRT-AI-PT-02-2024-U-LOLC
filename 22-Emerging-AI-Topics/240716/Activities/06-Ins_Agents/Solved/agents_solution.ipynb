{
 "cells": [
  {
   "cell_type": "code",
   "execution_count": 1,
   "metadata": {},
   "outputs": [],
   "source": [
    "from langchain_openai import ChatOpenAI\n",
    "from dotenv import load_dotenv\n",
    "import os"
   ]
  },
  {
   "cell_type": "markdown",
   "metadata": {},
   "source": [
    "# Model and API Key"
   ]
  },
  {
   "cell_type": "code",
   "execution_count": 2,
   "metadata": {},
   "outputs": [],
   "source": [
    "# Load environment variables.\n",
    "load_dotenv()\n",
    "\n",
    "# Set the model name for our \"LLMs.\n",
    "OPENAI_MODEL = \"gpt-3.5-turbo\"\n",
    "# Store the API key in a variable.\n",
    "OPENAI_API_KEY = os.getenv(\"OPENAI_API_KEY\")"
   ]
  },
  {
   "cell_type": "markdown",
   "metadata": {},
   "source": [
    "# Agents & Tools"
   ]
  },
  {
   "cell_type": "code",
   "execution_count": 3,
   "metadata": {},
   "outputs": [],
   "source": [
    "# Additional imports for agent with built-in tools.\n",
    "from langchain.agents import initialize_agent, load_tools"
   ]
  },
  {
   "cell_type": "code",
   "execution_count": 4,
   "metadata": {},
   "outputs": [
    {
     "name": "stderr",
     "output_type": "stream",
     "text": [
      "/Users/bradleywise/anaconda3/envs/dev/lib/python3.10/site-packages/langchain_core/_api/deprecation.py:139: LangChainDeprecationWarning: The function `initialize_agent` was deprecated in LangChain 0.1.0 and will be removed in 0.3.0. Use Use new agent constructor methods like create_react_agent, create_json_agent, create_structured_chat_agent, etc. instead.\n",
      "  warn_deprecated(\n"
     ]
    }
   ],
   "source": [
    "# Initialize the model.\n",
    "llm=ChatOpenAI(openai_api_key=OPENAI_API_KEY, model_name=OPENAI_MODEL, temperature=0.3)\n",
    "\n",
    "# Set up the built-in wikipedia tool.\n",
    "tools = load_tools(['wikipedia'], llm=llm)\n",
    "\n",
    "# Initialize the agent.\n",
    "agent = initialize_agent(tools, agent=\"chat-zero-shot-react-description\", verbose=True, llm=llm)"
   ]
  },
  {
   "cell_type": "code",
   "execution_count": 5,
   "metadata": {},
   "outputs": [
    {
     "data": {
      "text/plain": [
       "AgentExecutor(verbose=True, tags=['chat-zero-shot-react-description'], agent=ChatAgent(llm_chain=LLMChain(prompt=ChatPromptTemplate(input_variables=['agent_scratchpad', 'input'], messages=[SystemMessagePromptTemplate(prompt=PromptTemplate(input_variables=[], template='Answer the following questions as best you can. You have access to the following tools:\\n\\nwikipedia: A wrapper around Wikipedia. Useful for when you need to answer general questions about people, places, companies, facts, historical events, or other subjects. Input should be a search query.\\n\\nThe way you use the tools is by specifying a json blob.\\nSpecifically, this json should have a `action` key (with the name of the tool to use) and a `action_input` key (with the input to the tool going here).\\n\\nThe only values that should be in the \"action\" field are: wikipedia\\n\\nThe $JSON_BLOB should only contain a SINGLE action, do NOT return a list of multiple actions. Here is an example of a valid $JSON_BLOB:\\n\\n```\\n{{\\n  \"action\": $TOOL_NAME,\\n  \"action_input\": $INPUT\\n}}\\n```\\n\\nALWAYS use the following format:\\n\\nQuestion: the input question you must answer\\nThought: you should always think about what to do\\nAction:\\n```\\n$JSON_BLOB\\n```\\nObservation: the result of the action\\n... (this Thought/Action/Observation can repeat N times)\\nThought: I now know the final answer\\nFinal Answer: the final answer to the original input question\\n\\nBegin! Reminder to always use the exact characters `Final Answer` when responding.')), HumanMessagePromptTemplate(prompt=PromptTemplate(input_variables=['agent_scratchpad', 'input'], template='{input}\\n\\n{agent_scratchpad}'))]), llm=ChatOpenAI(client=<openai.resources.chat.completions.Completions object at 0x1134b9510>, async_client=<openai.resources.chat.completions.AsyncCompletions object at 0x1134babf0>, temperature=0.3, openai_api_key=SecretStr('**********'), openai_proxy='')), output_parser=ChatOutputParser(), allowed_tools=['wikipedia']), tools=[WikipediaQueryRun(api_wrapper=WikipediaAPIWrapper(wiki_client=<module 'wikipedia' from '/Users/bradleywise/anaconda3/envs/dev/lib/python3.10/site-packages/wikipedia/__init__.py'>, top_k_results=3, lang='en', load_all_available_meta=False, doc_content_chars_max=4000))])"
      ]
     },
     "execution_count": 5,
     "metadata": {},
     "output_type": "execute_result"
    }
   ],
   "source": [
    "agent"
   ]
  },
  {
   "cell_type": "code",
   "execution_count": 6,
   "metadata": {
    "scrolled": true
   },
   "outputs": [
    {
     "name": "stderr",
     "output_type": "stream",
     "text": [
      "/Users/bradleywise/anaconda3/envs/dev/lib/python3.10/site-packages/langchain_core/_api/deprecation.py:139: LangChainDeprecationWarning: The method `Chain.run` was deprecated in langchain 0.1.0 and will be removed in 0.3.0. Use invoke instead.\n",
      "  warn_deprecated(\n"
     ]
    },
    {
     "name": "stdout",
     "output_type": "stream",
     "text": [
      "\n",
      "\n",
      "\u001b[1m> Entering new AgentExecutor chain...\u001b[0m\n",
      "\u001b[32;1m\u001b[1;3mThought: The capital of Canada is Ottawa. Let's use Wikipedia to find out the current mayor of Ottawa and then determine their age. \n",
      "\n",
      "Action:\n",
      "```\n",
      "{\n",
      "  \"action\": \"wikipedia\",\n",
      "  \"action_input\": \"List of mayors of Ottawa\"\n",
      "}\n",
      "```\u001b[0m\n",
      "Observation: \u001b[36;1m\u001b[1;3mPage: List of mayors of Ottawa\n",
      "Summary: The following is a list of mayors of Ottawa. Until 1854, Ottawa was known as Bytown. Over the course of Ottawa's history, the borders of the municipality have greatly expanded through annexations. This most recently occurred in 2001 when a number of neighbouring communities were amalgamated with Ottawa.\n",
      "\n",
      "Page: Mayor of Ottawa\n",
      "Summary: The mayor of Ottawa (French: maire d'Ottawa) is head of the executive branch of the Ottawa City Council. The mayor is elected alongside the city council every four years on the fourth Monday of October; there are no term limits. While in office, mayors are styled His/Her Worship. \n",
      "Mark Sutcliffe has served as the 59th and current mayor of Ottawa since taking office on November 15, 2022, following the 2022 municipal election.\n",
      "\n",
      "Page: Ottawa\n",
      "Summary: Ottawa ( , ; Canadian French: [ɔtawɑ]) is the capital city of Canada. It is located in the southern portion  of the province of Ontario, at the confluence of the Ottawa River and the Rideau River. Ottawa borders Gatineau, Quebec, and forms the core of the Ottawa–Gatineau census metropolitan area (CMA) and the National Capital Region (NCR). As of 2021, Ottawa had a city population of 1,017,449 and a metropolitan population of 1,488,307, making it the fourth-largest city and fourth-largest metropolitan area in Canada.\n",
      "Ottawa is the political centre of Canada and the headquarters of the federal government. The city houses numerous foreign embassies, key buildings, organizations, and institutions of Canada's government; these include the Parliament of Canada, the Supreme Court, the residence of Canada's viceroy, and Office of the Prime Minister.\n",
      "Founded in 1826 as Bytown, and incorporated as Ottawa in 1855, its original boundaries were expanded through numerous annexations and were ultimately replaced by a new city incorporation and amalgamation in 2001. The municipal government of Ottawa is established and governed by the City of Ottawa Act of the Government of Ontario. It has an elected city council across 24 wards and a mayor elected city-wide.\n",
      "Ottawa has the highest proportion of university-educated residents among Canadian cities and is home to several colleges and universities, research and cultural institutions, including the University of Ottawa, Carleton University, Algonquin College, Collège La Cité, the National Arts Centre, the National Gallery of Canada; and numerous national museums, monuments, and historic sites. It is one of the most visited cities in Canada, with over 11 million visitors annually contributing more than $2.2B to the city's economy.\u001b[0m\n",
      "Thought:\u001b[32;1m\u001b[1;3mI have found that Mark Sutcliffe is the current mayor of Ottawa. Now, let's find out his age.\n",
      "\n",
      "Action:\n",
      "```\n",
      "{\n",
      "  \"action\": \"wikipedia\",\n",
      "  \"action_input\": \"Mark Sutcliffe\"\n",
      "}\n",
      "``` \n",
      "\n",
      "\u001b[0m"
     ]
    },
    {
     "name": "stderr",
     "output_type": "stream",
     "text": [
      "/Users/bradleywise/anaconda3/envs/dev/lib/python3.10/site-packages/wikipedia/wikipedia.py:389: GuessedAtParserWarning: No parser was explicitly specified, so I'm using the best available HTML parser for this system (\"lxml\"). This usually isn't a problem, but if you run this code on another system, or in a different virtual environment, it may use a different parser and behave differently.\n",
      "\n",
      "The code that caused this warning is on line 389 of the file /Users/bradleywise/anaconda3/envs/dev/lib/python3.10/site-packages/wikipedia/wikipedia.py. To get rid of this warning, pass the additional argument 'features=\"lxml\"' to the BeautifulSoup constructor.\n",
      "\n",
      "  lis = BeautifulSoup(html).find_all('li')\n"
     ]
    },
    {
     "name": "stdout",
     "output_type": "stream",
     "text": [
      "\n",
      "Observation: \u001b[36;1m\u001b[1;3mPage: Mark Sutcliffe\n",
      "Summary: Mark Sutcliffe (born July 14, 1968) is a Canadian politician who has been the 59th mayor of Ottawa since 2022. Before entering politics, he hosted Ottawa Today on 1310News radio. Sutcliffe is the first Chinese Canadian and person from a visible minority group to serve as mayor of Ottawa.\n",
      "\n",
      "Page: Peter Sutcliffe\n",
      "Summary: Peter William Sutcliffe (2 June 1946 – 13 November 2020), also known as Peter Coonan, was an English serial killer who was convicted of murdering thirteen women and attempting to murder seven others between 1975 and 1980.: 144  He was dubbed in press reports as the Yorkshire Ripper, an allusion to the Victorian serial killer Jack the Ripper. He was sentenced to twenty concurrent sentences of life imprisonment, which were converted to a whole life order in 2010. Two of Sutcliffe's murders took place in Manchester; all the others were in West Yorkshire. Criminal psychologist David Holmes characterised Sutcliffe as being an \"extremely callous, sexually sadistic serial killer.\"\n",
      "Sutcliffe initially attacked women and girls in residential areas, but appears to have shifted his focus to red-light districts because he was attracted by the vulnerability of prostitutes and the perceived ambivalent attitude of police to prostitutes' safety. After his arrest in Sheffield by South Yorkshire Police for driving with false number plates in January 1981, he was transferred to the custody of West Yorkshire Police, who questioned him about the killings. Sutcliffe confessed to being the perpetrator, saying that the voice of God had sent him on a mission to kill prostitutes. At his trial he pleaded not guilty to murder on grounds of diminished responsibility, but he was convicted of murder on a majority verdict. Following his conviction, Sutcliffe began using his mother's maiden name of Coonan.\n",
      "The search for Sutcliffe was one of the largest and most expensive manhunts in British history. West Yorkshire Police faced heavy and sustained criticism for their failure to catch him despite having interviewed him nine times in the course of their five-year investigation. Owing to the sensational nature of the case, the police handled an exceptional amount of information, some of it misleading including hoax correspondence purporting to be from the \"Ripper\". Following Sutcliffe's conviction, the government ordered a review of the investigation, conducted by the Inspector of Constabulary Lawrence Byford, known as the \"Byford Report\". The findings were made fully public in 2006, and confirmed the validity of the criticism of the force. The report led to changes to investigative procedures that were adopted across UK police forces. Since his conviction, Sutcliffe has been linked to a number of other unsolved murders and attacks.\n",
      "Peter Sutcliffe was transferred from prison to Broadmoor Hospital in March 1984 after being diagnosed with paranoid schizophrenia. The High Court dismissed an appeal by Sutcliffe in 2010, confirming that he would serve a whole life order and never be released from custody. In August 2016, it was ruled that he was mentally fit to be returned to prison, and he was transferred that month to HM Prison Frankland in County Durham. Sutcliffe died in the hospital from COVID-19, in addition to diabetes-related complications, while in prison custody in 2020, aged 74.\u001b[0m\n",
      "Thought:\u001b[32;1m\u001b[1;3mI have found that Mark Sutcliffe, born on July 14, 1968, is the current mayor of Ottawa. Now, let's calculate his age to determine how old he is currently.\n",
      "\n",
      "Action:\n",
      "```\n",
      "{\n",
      "  \"action\": \"wikipedia\",\n",
      "  \"action_input\": \"Age calculation\"\n",
      "}\n",
      "``` \n",
      "\n",
      "\u001b[0m\n",
      "Observation: \u001b[36;1m\u001b[1;3mPage: Stellar age estimation\n",
      "Summary: Various methods and tools are involved in stellar age estimation, an attempt to identify within reasonable degrees of confidence what the age of a star is. These methods include stellar evolutionary models, membership in a given star cluster or system, fitting the star with the standard spectral and luminosity classification system, and the presence of a protoplanetary disk, among others. Nearly all of the methods of determining age require knowledge of the mass of the star, which can be known through various methods. No individual method can provide accurate results for all types of stars.\n",
      "\n",
      "Page: East Asian age reckoning\n",
      "Summary: Traditional East Asian age reckoning covers a group of related methods for reckoning human ages practiced in the East Asian cultural sphere, where age is the number of calendar years in which a person has been alive; it starts at 1 at birth and increases at each New Year. Ages calculated this way are always 1 or 2 years greater than ages that start with 0 at birth and increase at each birthday. Historical records from China, Japan, Korea, and Vietnam have usually been based on these methods, whose specific details have varied over time and by place. South Korea officially stopped using the older system on June 28, 2023. Informal use is still widespread in the Republic and People's Republic of China, North and South Korea, Singapore, and the overseas Chinese and Korean diasporas.\n",
      "Chinese age reckoning, the first of these methods, originated from the belief in ancient Chinese astrology that one's fate is bound to the stars imagined to be in opposition to the planet Jupiter at the time of one's birth. The importance of this duodecennial cycle is also essential to fengshui geomancy but only survives in popular culture as the 12 animals of the Chinese zodiac, which—like the stars—change each Chinese New Year. In this system, one's age is not a calculation of the number of calendar years (年, nián) since birth but a count of the number of these Jovian stars (simplified Chinese: 岁; traditional Chinese: 歲; pinyin: suì) whose influence one has lived through. By the Song dynasty, this system—and the extra importance of the sixtieth birthday produced by its combination with the sexagenary cycle—had spread throughout the Sinosphere. Japan eliminated their version of this system as part of the Meiji Reforms. The Republic of China partially modernized the system during their own reforms, which were continued by the Communists after the Chinese Civil War. Modern Taiwan now has a mixed system, with very widespread use of traditional ages sometimes accommodated by the government. On the mainland, despite calculating age solely by birthdays for all official purposes, Standard Mandarin continues to exclusively use the word suì for talking about years of age; Japanese similarly uses its equivalent, sai.\n",
      "Korean age reckoning began by using the Chinese system but changed to calculating ages using January 1st as the New Year with their adoption of the Gregorian calendar in 1896. In North Korea, the old system was eliminated entirely in the 1980s. In South Korea, the international \"actual ages\" have gradually supplanted \"Korean ages\" in many contexts such as eligibility for driving or access to alcohol and tobacco. A third intermediate system is also used by some South Korean laws. This \"year age\" is difference between one's birth year and the current year, equivalent to calculating ages using January 1 but starting at 0 instead of 1. This mixed system produced difficulties scheduling vaccination for COVID-19 effectively, and the government has announced that it will fully convert to calculating ages only by birthdays beginning in June 2023.\n",
      "\n",
      "Page: Age of Aquarius\n",
      "Summary: The Age of Aquarius, in astrology, is either the current or forthcoming astrological age, depending on the method of calculation. Astrologers maintain that an astrological age is a product of the Earth's slow precessio\u001b[0m\n",
      "Thought:\u001b[32;1m\u001b[1;3mI have found that Mark Sutcliffe was born on July 14, 1968. To calculate his current age, we need to consider the current date. Let's calculate his age based on the current date.\n",
      "\n",
      "Action:\n",
      "```\n",
      "{\n",
      "  \"action\": \"wikipedia\",\n",
      "  \"action_input\": \"Age calculation for Mark Sutcliffe born on July 14, 1968\"\n",
      "}\n",
      "``` \n",
      "\n",
      "\u001b[0m\n",
      "Observation: \u001b[36;1m\u001b[1;3mPage: 1984–1985 United Kingdom miners' strike\n",
      "Summary: The 1984–1985 United Kingdom miners' strike was a major industrial action within the British coal industry in an attempt to prevent closures of pits that the government deemed \"uneconomic\" in the coal industry, which had been nationalised in 1947. It was led by Arthur Scargill of the National Union of Mineworkers (NUM) against the National Coal Board (NCB), a government agency. Opposition to the strike was led by the Conservative government of Prime Minister Margaret Thatcher, who wanted to reduce the power of the trade unions.\n",
      "The NUM was divided over the action, which began in Yorkshire, and some mineworkers, especially in the Midlands, worked through the dispute. Few major trade unions supported the NUM, primarily using the argument of the absence of a vote at national level. Violent confrontations between flying pickets and police characterised the year-long strike, which ended in a decisive victory for the Conservative government and allowed the closure of most of Britain's collieries. Many observers regard the strike as \"the most bitter industrial dispute in British history\".  The number of person-days of work lost to the strike was over 26 million, making it the largest since the 1926 General Strike. The journalist Seumas Milne said of the strike that \"it has no real parallel – in size, duration and impact – anywhere in the world\".: ix \n",
      "The NCB was encouraged to gear itself towards reduced subsidies in the early 1980s. After a strike was narrowly averted in February 1981, pit closures and pay restraint led to unofficial strikes. The main strike started on 6 March 1984 with a walkout at Cortonwood Colliery, which led to the NUM's Yorkshire Area's sanctioning of a strike on the grounds of a ballot result from 1981 in the Yorkshire Area, which was later challenged in court. The NUM President, Arthur Scargill, made the strike official across Britain on 12 March 1984, but the lack of a national ballot beforehand caused controversy. The NUM strategy was to cause a severe energy shortage of the sort that had won victory in the 1972 strike. The government strategy, designed by Margaret Thatcher, was threefold: to build up ample coal stocks, to keep as many miners at work as possible, and to use police to break up attacks by pickets on working miners. The critical element was the NUM's failure to hold a national strike ballot.: 71–95 \n",
      "The strike was ruled illegal in September 1984, as no national ballot of NUM members had been held. It ended on 3 March 1985. It was a defining moment in British industrial relations, the NUM's defeat significantly weakening the trade union movement. It was a major victory for Thatcher and the Conservative Party, with the Thatcher government able to consolidate their economic programme. The number of strikes fell sharply in 1985 as a result of the \"demonstration effect\" and trade union power in general diminished. Three deaths resulted from events related to the strike.\n",
      "The much-reduced coal industry was privatised in December 1994, ultimately becoming UK Coal. In 1983, Britain had 175 working pits, all of which had closed by the end of 2015. Poverty increased in former coal mining areas, and in 1994 Grimethorpe in South Yorkshire was the poorest settlement in the country.\n",
      "\n",
      "\n",
      "\n",
      "Page: John C. Slater\n",
      "Summary: John Clarke Slater (December 22, 1900 – July 25, 1976) was an American physicist who advanced the theory of the electronic structure of atoms, molecules and solids. He also made major contributions to microwave electronics. He received a B.S. in physics from the University of Rochester in 1920 and a Ph.D. in physics from Harvard in 1923, then did post-doctoral work at the universities of Cambridge (briefly) and Copenhagen. On his return to the U.S. he joined the physics department at Harvard.\n",
      "In 1930, Karl Compton, the president of MIT, appointed Slater as chairman of MIT's department of physics. He recast the undergraduate physics curriculum,\u001b[0m\n"
     ]
    },
    {
     "name": "stdout",
     "output_type": "stream",
     "text": [
      "Thought:\u001b[32;1m\u001b[1;3mFinal Answer: Mark Sutcliffe, the current mayor of Ottawa, was born on July 14, 1968. As of today, his age would be 54 years old.\u001b[0m\n",
      "\n",
      "\u001b[1m> Finished chain.\u001b[0m\n",
      "Mark Sutcliffe, the current mayor of Ottawa, was born on July 14, 1968. As of today, his age would be 54 years old.\n"
     ]
    }
   ],
   "source": [
    "# Define a query as a string inside a dictionary.\n",
    "query = {\"input\": \"What is the age of the mayor of the capital of Canada?\"}\n",
    "\n",
    "result = agent.run(query)\n",
    "print(result)"
   ]
  },
  {
   "cell_type": "markdown",
   "metadata": {},
   "source": [
    "# Agent with Multiple Tools"
   ]
  },
  {
   "cell_type": "code",
   "execution_count": 8,
   "metadata": {},
   "outputs": [],
   "source": [
    "# Additional imports for agent with built-in tools.\n",
    "from langchain.agents import initialize_agent, load_tools"
   ]
  },
  {
   "cell_type": "code",
   "execution_count": 9,
   "metadata": {},
   "outputs": [],
   "source": [
    "# Initialize the model.\n",
    "llm=ChatOpenAI(openai_api_key=OPENAI_API_KEY, model_name=OPENAI_MODEL, temperature=0.3)\n",
    "\n",
    "# Set up the built-in wikipedia and open weather tools.\n",
    "tools = load_tools(['wikipedia', \"openweathermap-api\"], llm=llm)"
   ]
  },
  {
   "cell_type": "code",
   "execution_count": 12,
   "metadata": {},
   "outputs": [
    {
     "name": "stdout",
     "output_type": "stream",
     "text": [
      "\n",
      "\n",
      "\u001b[1m> Entering new AgentExecutor chain...\u001b[0m\n",
      "\u001b[32;1m\u001b[1;3mI need to find out where penicillin was first isolated in order to determine the city for the weather information.\n",
      "Action: wikipedia\n",
      "Action Input: Penicillin\u001b[0m\n",
      "Observation: \u001b[36;1m\u001b[1;3mPage: Penicillin\n",
      "Summary: Penicillins (P, PCN or PEN) are a group of β-lactam antibiotics originally obtained from Penicillium moulds, principally P. chrysogenum and P. rubens. Most penicillins in clinical use are synthesised by P. chrysogenum using deep tank fermentation and then purified. A number of natural penicillins have been discovered, but only two purified compounds are in clinical use: penicillin G (intramuscular or intravenous use) and penicillin V (given by mouth). Penicillins were among the first medications to be effective against many bacterial infections caused by staphylococci and streptococci. They are still widely used today for various bacterial infections, though many types of bacteria have developed resistance following extensive use.\n",
      "Ten percent of the population claims penicillin allergies, but because the frequency of positive skin test results decreases by 10% with each year of avoidance, 90% of these patients can eventually tolerate penicillin. Additionally, those with penicillin allergies can usually tolerate cephalosporins (another group of β-lactam) because the immunoglobulin E (IgE) cross-reactivity is only 3%.\n",
      "Penicillin was discovered in 1928 by Scottish scientist Alexander Fleming as a crude extract of P. rubens. Fleming's student Cecil George Paine was the first to successfully use penicillin to treat eye infection (neonatal conjunctivitis) in 1930. The purified compound (penicillin F) was isolated in 1940 by a research team led by Howard Florey and Ernst Boris Chain at the University of Oxford. Fleming first used the purified penicillin to treat streptococcal meningitis in 1942. The 1945 Nobel Prize in Physiology or Medicine was shared by Chain, Fleming, and Florey.\n",
      "Several semisynthetic penicillins are effective against a broader spectrum of bacteria: these include the antistaphylococcal penicillins, aminopenicillins, and antipseudomonal penicillins.\n",
      "\n",
      "Page: History of penicillin\n",
      "Summary: The history of penicillin follows observations and discoveries of evidence of antibiotic activity of the mould Penicillium that led to the development of penicillins that became the first widely used antibiotics. Following the production of a relatively pure compound in 1942, penicillin was the first naturally-derived antibiotic.\n",
      "Ancient societies used moulds to treat infections, and in the following centuries many people observed the inhibition of bacterial growth by moulds. While working at St Mary's Hospital in London in 1928, Scottish physician Alexander Fleming was the first to experimentally determine that a Penicillium mould secretes an antibacterial substance, which he named \"penicillin\". The mould was found to be a variant of Penicillium notatum (now called Penicillium rubens), a contaminant of a bacterial culture in his laboratory. The work on penicillin at St Mary's ended in 1929.\n",
      "In 1939, a team of scientists at the Sir William Dunn School of Pathology at the University of Oxford, led by Howard Florey that included Edward Abraham, Ernst Chain,  Mary Ethel Florey, Norman Heatley and Margaret Jennings, began researching penicillin. They developed a method for cultivating the mould and extracting, purifying and storing penicillin from it, together with an assay for measuring its purity. They carried out experiments with animals to determine penicillin's safety and effectiveness before conducting clinical trials and field tests. They derived its chemical structure and determined how it works. The private sector and the United States Department of Agriculture located and produced new strains and developed mass production techniques. During the Second World War penicillin became an important part of the Allied war effort, saving thousands of lives. Alexander Fleming, Howard Florey and Ernst Chain shared the 1945 Nobel Prize in Physiology or Medicine for the discovery and development of penicillin.\n",
      "After the end of the war in 1945, penicillin became widely available. Dorothy Hodgkin determined its chem\u001b[0m\n",
      "Thought:\u001b[32;1m\u001b[1;3mI need to look for the specific city where penicillin was first isolated.\n",
      "Action: wikipedia\n",
      "Action Input: Discovery of penicillin\u001b[0m\n",
      "Observation: \u001b[36;1m\u001b[1;3mPage: Discovery of penicillin\n",
      "Summary: The discovery of penicillin was  one of the most important scientific discoveries in the history of medicine. Ancient societies used moulds to treat infections and in the following centuries many people observed the inhibition of bacterial growth by moulds. While working at St Mary's Hospital in London in 1928, Scottish physician Alexander Fleming was the first to experimentally demonstrate that a Penicillium mould secretes an antibacterial substance, which he named \"penicillin\". The mould was found to be a variant of Penicillium notatum (now called Penicillium rubens), a contaminant of a bacterial culture in his laboratory. The work on penicillin at St Mary's ended in 1929.\n",
      "In 1939, a team of scientists at the Sir William Dunn School of Pathology at the University of Oxford, led by Howard Florey that included Edward Abraham, Ernst Chain, Norman Heatley and Margaret Jennings, began researching penicillin. They devised a method for cultivating the mould, as well as extracting, purifying and storing penicillin from it.  They created an assay for measuring its purity. They carried out experiments with animals to determine penicillin's safety and effectiveness before conducting clinical trials and field tests. They derived its chemical formula and determined how it works. The private sector and the United States Department of Agriculture located and produced new strains and developed mass production techniques. Penicillin became an important part of the Allied war effort in the Second World War, saving the lives of thousands of soldiers. Fleming, Florey and Chain shared the 1945 Nobel Prize in Physiology or Medicine for its discovery and development.\n",
      "\n",
      "\n",
      "\n",
      "Page: History of penicillin\n",
      "Summary: The history of penicillin follows observations and discoveries of evidence of antibiotic activity of the mould Penicillium that led to the development of penicillins that became the first widely used antibiotics. Following the production of a relatively pure compound in 1942, penicillin was the first naturally-derived antibiotic.\n",
      "Ancient societies used moulds to treat infections, and in the following centuries many people observed the inhibition of bacterial growth by moulds. While working at St Mary's Hospital in London in 1928, Scottish physician Alexander Fleming was the first to experimentally determine that a Penicillium mould secretes an antibacterial substance, which he named \"penicillin\". The mould was found to be a variant of Penicillium notatum (now called Penicillium rubens), a contaminant of a bacterial culture in his laboratory. The work on penicillin at St Mary's ended in 1929.\n",
      "In 1939, a team of scientists at the Sir William Dunn School of Pathology at the University of Oxford, led by Howard Florey that included Edward Abraham, Ernst Chain,  Mary Ethel Florey, Norman Heatley and Margaret Jennings, began researching penicillin. They developed a method for cultivating the mould and extracting, purifying and storing penicillin from it, together with an assay for measuring its purity. They carried out experiments with animals to determine penicillin's safety and effectiveness before conducting clinical trials and field tests. They derived its chemical structure and determined how it works. The private sector and the United States Department of Agriculture located and produced new strains and developed mass production techniques. During the Second World War penicillin became an important part of the Allied war effort, saving thousands of lives. Alexander Fleming, Howard Florey and Ernst Chain shared the 1945 Nobel Prize in Physiology or Medicine for the discovery and development of penicillin.\n",
      "After the end of the war in 1945, penicillin became widely available. Dorothy Hodgkin determined its chemical structure, for which she received the Nobel Prize in Chemistry in 1964. This led to the development of semisynthetic penicillins that were more potent and effective against a wider range of bacteria.\u001b[0m\n"
     ]
    },
    {
     "name": "stdout",
     "output_type": "stream",
     "text": [
      "Thought:\u001b[32;1m\u001b[1;3mI now know that penicillin was first isolated in London.\n",
      "Action: open_weather_map\n",
      "Action Input: London,GB\u001b[0m\n",
      "Observation: \u001b[33;1m\u001b[1;3mIn London,GB, the current weather is as follows:\n",
      "Detailed status: broken clouds\n",
      "Wind speed: 3.09 m/s, direction: 220°\n",
      "Humidity: 88%\n",
      "Temperature: \n",
      "  - Current: 16.78°C\n",
      "  - High: 17.86°C\n",
      "  - Low: 15.49°C\n",
      "  - Feels like: 16.81°C\n",
      "Rain: {}\n",
      "Heat index: None\n",
      "Cloud cover: 57%\u001b[0m\n",
      "Thought:\u001b[32;1m\u001b[1;3mThe current weather in London, GB, where penicillin was first isolated, is broken clouds with a temperature of 16.78°C.\n",
      "Final Answer: The current weather in London, GB, where penicillin was first isolated, is broken clouds with a temperature of 16.78°C.\u001b[0m\n",
      "\n",
      "\u001b[1m> Finished chain.\u001b[0m\n",
      "The current weather in London, GB, where penicillin was first isolated, is broken clouds with a temperature of 16.78°C.\n"
     ]
    }
   ],
   "source": [
    "# Initialize the agent.\n",
    "agent = initialize_agent(tools,\n",
    "                         verbose=True,\n",
    "                         handle_parsing_errors = True,\n",
    "                         max_iterations=10,\n",
    "                         llm=llm)\n",
    "\n",
    "# Define a query as a string inside a dictionary.\n",
    "query = {\"input\": \"What is the current weather in the city where penicillin was first isolated, and what is the city called?\"}\n",
    "\n",
    "# Run the agent using the query.\n",
    "result = agent.run(query)\n",
    "print(result)"
   ]
  },
  {
   "cell_type": "markdown",
   "metadata": {},
   "source": [
    "# Creating Custom Tools"
   ]
  },
  {
   "cell_type": "code",
   "execution_count": 6,
   "metadata": {},
   "outputs": [],
   "source": [
    "# Additional imports for creating tools.\n",
    "from langchain.tools import tool\n",
    "from langchain.agents import initialize_agent\n",
    "from langchain.chains import APIChain, LLMMathChain"
   ]
  },
  {
   "cell_type": "code",
   "execution_count": 7,
   "metadata": {},
   "outputs": [
    {
     "name": "stdout",
     "output_type": "stream",
     "text": [
      "\n",
      "\n",
      "\u001b[1m> Entering new AgentExecutor chain...\u001b[0m\n",
      "\u001b[32;1m\u001b[1;3mI should use the numbers_API to look up a fun fact about the sum of 22 and 35.\n",
      "Action: numbers_API\n",
      "Action Input: sum of 22 and 35\u001b[0m\n",
      "\n",
      "\u001b[1m> Entering new APIChain chain...\u001b[0m\n",
      "\u001b[32;1m\u001b[1;3mhttp://numbersapi.com/57/math\u001b[0m\n",
      "\u001b[33;1m\u001b[1;3m57 is a repdigit in base 7 (111).\u001b[0m\n",
      "\n",
      "\u001b[1m> Finished chain.\u001b[0m\n",
      "\n",
      "Observation: \u001b[33;1m\u001b[1;3mThe sum of 22 and 35 is 57, which is a repdigit in base 7 (111).\u001b[0m\n",
      "Thought:\u001b[32;1m\u001b[1;3mThat's an interesting fact!\n",
      "Final Answer: The sum of 22 and 35 is 57, which is a repdigit in base 7 (111).\u001b[0m\n",
      "\n",
      "\u001b[1m> Finished chain.\u001b[0m\n",
      "The sum of 22 and 35 is 57, which is a repdigit in base 7 (111).\n"
     ]
    }
   ],
   "source": [
    "# Initialize the model.\n",
    "llm = ChatOpenAI(openai_api_key=OPENAI_API_KEY, model_name=OPENAI_MODEL, temperature=0.0)\n",
    "\n",
    "# Text description of API spec.\n",
    "spec = \"\"\"URL STRUCTURE\n",
    "        Just hit http://numbersapi.com/number/type to get a plain text response, where\n",
    "        type is one of trivia, math, date, or year. Defaults to trivia if omitted.\n",
    "        number is an integer, or the keyword random, for which we will try to return\n",
    "        a random available fact, or a day of year in the form month/day \n",
    "        (eg. 2/29, 1/09, 04/1), if type is date ranges of numbers\"\"\"\n",
    "\n",
    "# Create the API chain from the spec, using the LLM.\n",
    "api_chain = APIChain.from_llm_and_api_docs(\n",
    "    llm,\n",
    "    api_docs=spec,\n",
    "    verbose=True,\n",
    "    limit_to_domains=[\"https://numbersapi.com\", \"http://numbersapi.com\"],\n",
    ")\n",
    "\n",
    "# Define a tool for querying the Numbers API.\n",
    "@tool(\"numbers_API\")\n",
    "def numbers_tool(query: str) -> str:\n",
    "    \"\"\"Look up fun facts about numbers or dates.\"\"\"\n",
    "    result = api_chain.run(query)\n",
    "    return result\n",
    "\n",
    "# Initialize the math chain using the LLM.\n",
    "math_chain = LLMMathChain.from_llm(llm=llm, verbose=True)\n",
    "\n",
    "# Define a tool for doing math.\n",
    "@tool(\"math_tool\")\n",
    "def math_tool(query: str) -> str:\n",
    "    \"\"\"Perform math calculations.\"\"\"\n",
    "    result = math_chain.run(query)\n",
    "    return result\n",
    "\n",
    "# Store the tools in a list.\n",
    "tools = [math_tool, numbers_tool]\n",
    "\n",
    "# Initialize the agent.\n",
    "agent = initialize_agent(tools, agent=\"zero-shot-react-description\", verbose=True, llm=llm)\n",
    "\n",
    "# Define a query as a string inside a dictionary.\n",
    "query = {\"input\": 'What is a fun fact about the sum of 22 and 35?'}\n",
    "\n",
    "result = agent.run(query)\n",
    "print(result)"
   ]
  }
 ],
 "metadata": {
  "kernelspec": {
   "display_name": "dev",
   "language": "python",
   "name": "dev"
  },
  "language_info": {
   "codemirror_mode": {
    "name": "ipython",
    "version": 3
   },
   "file_extension": ".py",
   "mimetype": "text/x-python",
   "name": "python",
   "nbconvert_exporter": "python",
   "pygments_lexer": "ipython3",
   "version": "3.10.13"
  }
 },
 "nbformat": 4,
 "nbformat_minor": 2
}
