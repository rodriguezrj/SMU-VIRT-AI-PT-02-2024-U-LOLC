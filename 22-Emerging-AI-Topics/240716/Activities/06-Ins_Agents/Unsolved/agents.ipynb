{
 "cells": [
  {
   "cell_type": "code",
   "execution_count": 1,
   "metadata": {},
   "outputs": [],
   "source": [
    "from langchain_openai import ChatOpenAI\n",
    "from dotenv import load_dotenv\n",
    "import os"
   ]
  },
  {
   "cell_type": "markdown",
   "metadata": {},
   "source": [
    "# Model and API Key"
   ]
  },
  {
   "cell_type": "code",
   "execution_count": 2,
   "metadata": {},
   "outputs": [],
   "source": [
    "# Load environment variables.\n",
    "load_dotenv()\n",
    "\n",
    "# Set the model name for our LLMs.\n",
    "OPENAI_MODEL = \"gpt-3.5-turbo\"\n",
    "# Store the API key in a variable.\n",
    "OPENAI_API_KEY = os.getenv(\"OPENAI_API_KEY\")"
   ]
  },
  {
   "cell_type": "markdown",
   "metadata": {},
   "source": [
    "# Agents & Tools"
   ]
  },
  {
   "cell_type": "code",
   "execution_count": 3,
   "metadata": {},
   "outputs": [],
   "source": [
    "# Additional imports for agent with built-in tools.\n",
    "from langchain.agents import initialize_agent, load_tools"
   ]
  },
  {
   "cell_type": "code",
   "execution_count": 5,
   "metadata": {},
   "outputs": [
    {
     "name": "stderr",
     "output_type": "stream",
     "text": [
      "/Users/bradleywise/anaconda3/envs/dev/lib/python3.10/site-packages/langchain_core/_api/deprecation.py:139: LangChainDeprecationWarning: The function `initialize_agent` was deprecated in LangChain 0.1.0 and will be removed in 0.3.0. Use Use new agent constructor methods like create_react_agent, create_json_agent, create_structured_chat_agent, etc. instead.\n",
      "  warn_deprecated(\n"
     ]
    }
   ],
   "source": [
    "# Initialize the model.\n",
    "llm=ChatOpenAI(openai_api_key=OPENAI_API_KEY, model_name=OPENAI_MODEL, temperature=0.3)\n",
    "\n",
    "# Set up the built-in wikipedia tool.\n",
    "tools = load_tools(['wikipedia'], llm=llm)\n",
    "\n",
    "# Initialize the agent.\n",
    "agent = initialize_agent(tools, agent=\"chat-zero-shot-react-description\", verbose=True, llm=llm)"
   ]
  },
  {
   "cell_type": "code",
   "execution_count": 6,
   "metadata": {},
   "outputs": [
    {
     "data": {
      "text/plain": [
       "AgentExecutor(verbose=True, tags=['chat-zero-shot-react-description'], agent=ChatAgent(llm_chain=LLMChain(prompt=ChatPromptTemplate(input_variables=['agent_scratchpad', 'input'], messages=[SystemMessagePromptTemplate(prompt=PromptTemplate(input_variables=[], template='Answer the following questions as best you can. You have access to the following tools:\\n\\nwikipedia: A wrapper around Wikipedia. Useful for when you need to answer general questions about people, places, companies, facts, historical events, or other subjects. Input should be a search query.\\n\\nThe way you use the tools is by specifying a json blob.\\nSpecifically, this json should have a `action` key (with the name of the tool to use) and a `action_input` key (with the input to the tool going here).\\n\\nThe only values that should be in the \"action\" field are: wikipedia\\n\\nThe $JSON_BLOB should only contain a SINGLE action, do NOT return a list of multiple actions. Here is an example of a valid $JSON_BLOB:\\n\\n```\\n{{\\n  \"action\": $TOOL_NAME,\\n  \"action_input\": $INPUT\\n}}\\n```\\n\\nALWAYS use the following format:\\n\\nQuestion: the input question you must answer\\nThought: you should always think about what to do\\nAction:\\n```\\n$JSON_BLOB\\n```\\nObservation: the result of the action\\n... (this Thought/Action/Observation can repeat N times)\\nThought: I now know the final answer\\nFinal Answer: the final answer to the original input question\\n\\nBegin! Reminder to always use the exact characters `Final Answer` when responding.')), HumanMessagePromptTemplate(prompt=PromptTemplate(input_variables=['agent_scratchpad', 'input'], template='{input}\\n\\n{agent_scratchpad}'))]), llm=ChatOpenAI(client=<openai.resources.chat.completions.Completions object at 0x11a23c6a0>, async_client=<openai.resources.chat.completions.AsyncCompletions object at 0x11a23fe50>, temperature=0.3, openai_api_key=SecretStr('**********'), openai_proxy='')), output_parser=ChatOutputParser(), allowed_tools=['wikipedia']), tools=[WikipediaQueryRun(api_wrapper=WikipediaAPIWrapper(wiki_client=<module 'wikipedia' from '/Users/bradleywise/anaconda3/envs/dev/lib/python3.10/site-packages/wikipedia/__init__.py'>, top_k_results=3, lang='en', load_all_available_meta=False, doc_content_chars_max=4000))])"
      ]
     },
     "execution_count": 6,
     "metadata": {},
     "output_type": "execute_result"
    }
   ],
   "source": [
    "agent"
   ]
  },
  {
   "cell_type": "code",
   "execution_count": 7,
   "metadata": {
    "scrolled": true
   },
   "outputs": [
    {
     "name": "stderr",
     "output_type": "stream",
     "text": [
      "/Users/bradleywise/anaconda3/envs/dev/lib/python3.10/site-packages/langchain_core/_api/deprecation.py:139: LangChainDeprecationWarning: The method `Chain.run` was deprecated in langchain 0.1.0 and will be removed in 0.3.0. Use invoke instead.\n",
      "  warn_deprecated(\n"
     ]
    },
    {
     "name": "stdout",
     "output_type": "stream",
     "text": [
      "\n",
      "\n",
      "\u001b[1m> Entering new AgentExecutor chain...\u001b[0m\n",
      "\u001b[32;1m\u001b[1;3mThought: I will need to find out who the current mayor of the capital of Canada is before determining their age.  \n",
      "Action:\n",
      "```\n",
      "{\n",
      "  \"action\": \"wikipedia\",\n",
      "  \"action_input\": \"Mayor of Ottawa\"\n",
      "}\n",
      "```\u001b[0m\n",
      "Observation: \u001b[36;1m\u001b[1;3mPage: Mayor of Ottawa\n",
      "Summary: The mayor of Ottawa (French: maire d'Ottawa) is head of the executive branch of the Ottawa City Council. The mayor is elected alongside the city council every four years on the fourth Monday of October; there are no term limits. While in office, mayors are styled His/Her Worship. \n",
      "Mark Sutcliffe has served as the 59th and current mayor of Ottawa since taking office on November 15, 2022, following the 2022 municipal election.\n",
      "\n",
      "Page: Ottawa\n",
      "Summary: Ottawa ( , ; Canadian French: [ɔtawɑ]) is the capital city of Canada. It is located in the southern portion  of the province of Ontario, at the confluence of the Ottawa River and the Rideau River. Ottawa borders Gatineau, Quebec, and forms the core of the Ottawa–Gatineau census metropolitan area (CMA) and the National Capital Region (NCR). As of 2021, Ottawa had a city population of 1,017,449 and a metropolitan population of 1,488,307, making it the fourth-largest city and fourth-largest metropolitan area in Canada.\n",
      "Ottawa is the political centre of Canada and the headquarters of the federal government. The city houses numerous foreign embassies, key buildings, organizations, and institutions of Canada's government; these include the Parliament of Canada, the Supreme Court, the residence of Canada's viceroy, and Office of the Prime Minister.\n",
      "Founded in 1826 as Bytown, and incorporated as Ottawa in 1855, its original boundaries were expanded through numerous annexations and were ultimately replaced by a new city incorporation and amalgamation in 2001. The municipal government of Ottawa is established and governed by the City of Ottawa Act of the Government of Ontario. It has an elected city council across 24 wards and a mayor elected city-wide.\n",
      "Ottawa has the highest proportion of university-educated residents among Canadian cities and is home to several colleges and universities, research and cultural institutions, including the University of Ottawa, Carleton University, Algonquin College, Collège La Cité, the National Arts Centre, the National Gallery of Canada; and numerous national museums, monuments, and historic sites. It is one of the most visited cities in Canada, with over 11 million visitors annually contributing more than $2.2B to the city's economy.\n",
      "\n",
      "Page: List of mayors of Ottawa\n",
      "Summary: The following is a list of mayors of Ottawa. Until 1854, Ottawa was known as Bytown. Over the course of Ottawa's history, the borders of the municipality have greatly expanded through annexations. This most recently occurred in 2001 when a number of neighbouring communities were amalgamated with Ottawa.\u001b[0m\n",
      "Thought:\u001b[32;1m\u001b[1;3mI have found that Mark Sutcliffe is the current mayor of Ottawa. Now, I will find out his age.\n",
      "\n",
      "Action:\n",
      "```\n",
      "{\n",
      "  \"action\": \"wikipedia\",\n",
      "  \"action_input\": \"Mark Sutcliffe\"\n",
      "}\n",
      "``` \n",
      "\n",
      "\u001b[0m"
     ]
    },
    {
     "name": "stderr",
     "output_type": "stream",
     "text": [
      "/Users/bradleywise/anaconda3/envs/dev/lib/python3.10/site-packages/wikipedia/wikipedia.py:389: GuessedAtParserWarning: No parser was explicitly specified, so I'm using the best available HTML parser for this system (\"lxml\"). This usually isn't a problem, but if you run this code on another system, or in a different virtual environment, it may use a different parser and behave differently.\n",
      "\n",
      "The code that caused this warning is on line 389 of the file /Users/bradleywise/anaconda3/envs/dev/lib/python3.10/site-packages/wikipedia/wikipedia.py. To get rid of this warning, pass the additional argument 'features=\"lxml\"' to the BeautifulSoup constructor.\n",
      "\n",
      "  lis = BeautifulSoup(html).find_all('li')\n"
     ]
    },
    {
     "name": "stdout",
     "output_type": "stream",
     "text": [
      "\n",
      "Observation: \u001b[36;1m\u001b[1;3mPage: Mark Sutcliffe\n",
      "Summary: Mark Sutcliffe (born July 14, 1968) is a Canadian politician who has been the 59th mayor of Ottawa since 2022. Before entering politics, he hosted Ottawa Today on 1310News radio. Sutcliffe is the first Chinese Canadian and person from a visible minority group to serve as mayor of Ottawa.\n",
      "\n",
      "Page: Peter Sutcliffe\n",
      "Summary: Peter William Sutcliffe (2 June 1946 – 13 November 2020), also known as Peter Coonan, was an English serial killer who was convicted of murdering thirteen women and attempting to murder seven others between 1975 and 1980.: 144  He was dubbed in press reports as the Yorkshire Ripper, an allusion to the Victorian serial killer Jack the Ripper. He was sentenced to twenty concurrent sentences of life imprisonment, which were converted to a whole life order in 2010. Two of Sutcliffe's murders took place in Manchester; all the others were in West Yorkshire. Criminal psychologist David Holmes characterised Sutcliffe as being an \"extremely callous, sexually sadistic serial killer.\"\n",
      "Sutcliffe initially attacked women and girls in residential areas, but appears to have shifted his focus to red-light districts because he was attracted by the vulnerability of prostitutes and the perceived ambivalent attitude of police to prostitutes' safety. After his arrest in Sheffield by South Yorkshire Police for driving with false number plates in January 1981, he was transferred to the custody of West Yorkshire Police, who questioned him about the killings. Sutcliffe confessed to being the perpetrator, saying that the voice of God had sent him on a mission to kill prostitutes. At his trial he pleaded not guilty to murder on grounds of diminished responsibility, but he was convicted of murder on a majority verdict. Following his conviction, Sutcliffe began using his mother's maiden name of Coonan.\n",
      "The search for Sutcliffe was one of the largest and most expensive manhunts in British history. West Yorkshire Police faced heavy and sustained criticism for their failure to catch him despite having interviewed him nine times in the course of their five-year investigation. Owing to the sensational nature of the case, the police handled an exceptional amount of information, some of it misleading including hoax correspondence purporting to be from the \"Ripper\". Following Sutcliffe's conviction, the government ordered a review of the investigation, conducted by the Inspector of Constabulary Lawrence Byford, known as the \"Byford Report\". The findings were made fully public in 2006, and confirmed the validity of the criticism of the force. The report led to changes to investigative procedures that were adopted across UK police forces. Since his conviction, Sutcliffe has been linked to a number of other unsolved murders and attacks.\n",
      "Peter Sutcliffe was transferred from prison to Broadmoor Hospital in March 1984 after being diagnosed with paranoid schizophrenia. The High Court dismissed an appeal by Sutcliffe in 2010, confirming that he would serve a whole life order and never be released from custody. In August 2016, it was ruled that he was mentally fit to be returned to prison, and he was transferred that month to HM Prison Frankland in County Durham. Sutcliffe died in the hospital from COVID-19, in addition to diabetes-related complications, while in prison custody in 2020, aged 74.\u001b[0m\n",
      "Thought:\u001b[32;1m\u001b[1;3mI have found that Mark Sutcliffe, born on July 14, 1968, is the current mayor of Ottawa. Now, I will calculate his age to answer the original question.\n",
      "\n",
      "Final Answer: The age of the mayor of the capital of Canada is 54 years old.\u001b[0m\n",
      "\n",
      "\u001b[1m> Finished chain.\u001b[0m\n"
     ]
    }
   ],
   "source": [
    "# Define a query as a string inside a dictionary.\n",
    "query = {\"input\" : \"What is the age of the mayor of the capital of Canada\"}\n",
    "\n",
    "# Run the agent using the query.\n",
    "result = agent.run(query)"
   ]
  },
  {
   "cell_type": "markdown",
   "metadata": {},
   "source": [
    "# Agent with Multiple Tools"
   ]
  },
  {
   "cell_type": "code",
   "execution_count": 8,
   "metadata": {},
   "outputs": [],
   "source": [
    "# Additional imports for agent with built-in tools.\n",
    "from langchain.agents import initialize_agent, load_tools"
   ]
  },
  {
   "cell_type": "code",
   "execution_count": 9,
   "metadata": {},
   "outputs": [],
   "source": [
    "# Initialize the model.\n",
    "llm=ChatOpenAI(openai_api_key=OPENAI_API_KEY, model_name=OPENAI_MODEL, temperature=0.3)\n",
    "\n",
    "# Set up the built-in wikipedia tool.\n",
    "tools = load_tools(['wikipedia', 'openweathermap-api'], llm=llm)"
   ]
  },
  {
   "cell_type": "code",
   "execution_count": 10,
   "metadata": {},
   "outputs": [
    {
     "data": {
      "text/plain": [
       "[WikipediaQueryRun(api_wrapper=WikipediaAPIWrapper(wiki_client=<module 'wikipedia' from '/Users/bradleywise/anaconda3/envs/dev/lib/python3.10/site-packages/wikipedia/__init__.py'>, top_k_results=3, lang='en', load_all_available_meta=False, doc_content_chars_max=4000)),\n",
       " OpenWeatherMapQueryRun(api_wrapper=OpenWeatherMapAPIWrapper(owm=<pyowm.owm.OWM - API key=************************496f97f1, subscription type=free, PyOWM version=(3, 3, 0)>, openweathermap_api_key=None))]"
      ]
     },
     "execution_count": 10,
     "metadata": {},
     "output_type": "execute_result"
    }
   ],
   "source": [
    "tools"
   ]
  },
  {
   "cell_type": "code",
   "execution_count": 11,
   "metadata": {},
   "outputs": [],
   "source": [
    "# Initialize the agent.\n",
    "agent = initialize_agent(tools, verbose=True, \n",
    "                         handling_parsing_errors=True, \n",
    "                         max_iterations=10, llm=llm)"
   ]
  },
  {
   "cell_type": "code",
   "execution_count": 12,
   "metadata": {},
   "outputs": [
    {
     "name": "stdout",
     "output_type": "stream",
     "text": [
      "\n",
      "\n",
      "\u001b[1m> Entering new AgentExecutor chain...\u001b[0m\n",
      "\u001b[32;1m\u001b[1;3mI need to find out the city where penicillin was first isolated in order to get the current weather information.\n",
      "Action: wikipedia\n",
      "Action Input: Penicillin\u001b[0m\n",
      "Observation: \u001b[36;1m\u001b[1;3mPage: Penicillin\n",
      "Summary: Penicillins (P, PCN or PEN) are a group of β-lactam antibiotics originally obtained from Penicillium moulds, principally P. chrysogenum and P. rubens. Most penicillins in clinical use are synthesised by P. chrysogenum using deep tank fermentation and then purified. A number of natural penicillins have been discovered, but only two purified compounds are in clinical use: penicillin G (intramuscular or intravenous use) and penicillin V (given by mouth). Penicillins were among the first medications to be effective against many bacterial infections caused by staphylococci and streptococci. They are still widely used today for various bacterial infections, though many types of bacteria have developed resistance following extensive use.\n",
      "Ten percent of the population claims penicillin allergies, but because the frequency of positive skin test results decreases by 10% with each year of avoidance, 90% of these patients can eventually tolerate penicillin. Additionally, those with penicillin allergies can usually tolerate cephalosporins (another group of β-lactam) because the immunoglobulin E (IgE) cross-reactivity is only 3%.\n",
      "Penicillin was discovered in 1928 by Scottish scientist Alexander Fleming as a crude extract of P. rubens. Fleming's student Cecil George Paine was the first to successfully use penicillin to treat eye infection (neonatal conjunctivitis) in 1930. The purified compound (penicillin F) was isolated in 1940 by a research team led by Howard Florey and Ernst Boris Chain at the University of Oxford. Fleming first used the purified penicillin to treat streptococcal meningitis in 1942. The 1945 Nobel Prize in Physiology or Medicine was shared by Chain, Fleming, and Florey.\n",
      "Several semisynthetic penicillins are effective against a broader spectrum of bacteria: these include the antistaphylococcal penicillins, aminopenicillins, and antipseudomonal penicillins.\n",
      "\n",
      "Page: History of penicillin\n",
      "Summary: The history of penicillin follows observations and discoveries of evidence of antibiotic activity of the mould Penicillium that led to the development of penicillins that became the first widely used antibiotics. Following the production of a relatively pure compound in 1942, penicillin was the first naturally-derived antibiotic.\n",
      "Ancient societies used moulds to treat infections, and in the following centuries many people observed the inhibition of bacterial growth by moulds. While working at St Mary's Hospital in London in 1928, Scottish physician Alexander Fleming was the first to experimentally determine that a Penicillium mould secretes an antibacterial substance, which he named \"penicillin\". The mould was found to be a variant of Penicillium notatum (now called Penicillium rubens), a contaminant of a bacterial culture in his laboratory. The work on penicillin at St Mary's ended in 1929.\n",
      "In 1939, a team of scientists at the Sir William Dunn School of Pathology at the University of Oxford, led by Howard Florey that included Edward Abraham, Ernst Chain,  Mary Ethel Florey, Norman Heatley and Margaret Jennings, began researching penicillin. They developed a method for cultivating the mould and extracting, purifying and storing penicillin from it, together with an assay for measuring its purity. They carried out experiments with animals to determine penicillin's safety and effectiveness before conducting clinical trials and field tests. They derived its chemical structure and determined how it works. The private sector and the United States Department of Agriculture located and produced new strains and developed mass production techniques. During the Second World War penicillin became an important part of the Allied war effort, saving thousands of lives. Alexander Fleming, Howard Florey and Ernst Chain shared the 1945 Nobel Prize in Physiology or Medicine for the discovery and development of penicillin.\n",
      "After the end of the war in 1945, penicillin became widely available. Dorothy Hodgkin determined its chem\u001b[0m\n",
      "Thought:\u001b[32;1m\u001b[1;3mI need to look for the specific city where penicillin was first isolated in order to get the current weather information.\n",
      "Action: wikipedia\n",
      "Action Input: Alexander Fleming\u001b[0m\n",
      "Observation: \u001b[36;1m\u001b[1;3mPage: Alexander Fleming\n",
      "Summary: Sir Alexander Fleming  (6 August 1881 – 11 March 1955) was a Scottish physician and microbiologist, best known for discovering the world's first broadly effective antibiotic substance, which he named penicillin. His discovery in 1928 of what was later named benzylpenicillin (or penicillin G) from the mould Penicillium rubens has been described as the \"single greatest victory ever achieved over disease\". For this discovery, he shared the Nobel Prize in Physiology or Medicine in 1945 with Howard Florey and Ernst Boris Chain.\n",
      "He also discovered the enzyme lysozyme from his nasal discharge in 1922, and along with it a bacterium he named Micrococcus lysodeikticus, later renamed Micrococcus luteus.\n",
      "Fleming was knighted for his scientific achievements in 1944. In 1999, he was named in Time magazine's list of the 100 Most Important People of the 20th century. In 2002, he was chosen in the BBC's television poll for determining the 100 Greatest Britons, and in 2009, he was also voted third \"greatest Scot\" in an opinion poll conducted by STV, behind only Robert Burns and William Wallace.\n",
      "\n",
      "Page: St Mary's Hospital, London\n",
      "Summary: St Mary's Hospital is an NHS hospital in Paddington, in the City of Westminster, London, founded in 1845. Since the UK's first academic health science centre was created in 2008, it has been operated by Imperial College Healthcare NHS Trust, which also operates Charing Cross Hospital, Hammersmith Hospital, Queen Charlotte's and Chelsea Hospital and the Western Eye Hospital.\n",
      "Until 1988 the hospital ran St Mary's Hospital Medical School, part of the federal University of London. In 1988 it merged with Imperial College London, and then with Charing Cross and Westminster Medical School in 1997 to form Imperial College School of Medicine. In 2007 Imperial College became an independent institution when it withdrew from the University of London.\n",
      "\n",
      "\n",
      "\n",
      "Page: History of penicillin\n",
      "Summary: The history of penicillin follows observations and discoveries of evidence of antibiotic activity of the mould Penicillium that led to the development of penicillins that became the first widely used antibiotics. Following the production of a relatively pure compound in 1942, penicillin was the first naturally-derived antibiotic.\n",
      "Ancient societies used moulds to treat infections, and in the following centuries many people observed the inhibition of bacterial growth by moulds. While working at St Mary's Hospital in London in 1928, Scottish physician Alexander Fleming was the first to experimentally determine that a Penicillium mould secretes an antibacterial substance, which he named \"penicillin\". The mould was found to be a variant of Penicillium notatum (now called Penicillium rubens), a contaminant of a bacterial culture in his laboratory. The work on penicillin at St Mary's ended in 1929.\n",
      "In 1939, a team of scientists at the Sir William Dunn School of Pathology at the University of Oxford, led by Howard Florey that included Edward Abraham, Ernst Chain,  Mary Ethel Florey, Norman Heatley and Margaret Jennings, began researching penicillin. They developed a method for cultivating the mould and extracting, purifying and storing penicillin from it, together with an assay for measuring its purity. They carried out experiments with animals to determine penicillin's safety and effectiveness before conducting clinical trials and field tests. They derived its chemical structure and determined how it works. The private sector and the United States Department of Agriculture located and produced new strains and developed mass production techniques. During the Second World War penicillin became an important part of the Allied war effort, saving thousands of lives. Alexander Fleming, Howard Florey and Ernst Chain shared the 1945 Nobel Prize in Physiology or Medicine for the discovery and development of penicillin.\n",
      "After the end of the war in 1945, penicillin became widely available. Dorothy Hodgkin determined its che\u001b[0m\n"
     ]
    },
    {
     "name": "stdout",
     "output_type": "stream",
     "text": [
      "Thought:\u001b[32;1m\u001b[1;3mI need to look for the specific city where penicillin was first isolated in order to get the current weather information.\n",
      "Action: wikipedia\n",
      "Action Input: St Mary's Hospital, London\u001b[0m"
     ]
    },
    {
     "name": "stderr",
     "output_type": "stream",
     "text": [
      "/Users/bradleywise/anaconda3/envs/dev/lib/python3.10/site-packages/wikipedia/wikipedia.py:389: GuessedAtParserWarning: No parser was explicitly specified, so I'm using the best available HTML parser for this system (\"lxml\"). This usually isn't a problem, but if you run this code on another system, or in a different virtual environment, it may use a different parser and behave differently.\n",
      "\n",
      "The code that caused this warning is on line 389 of the file /Users/bradleywise/anaconda3/envs/dev/lib/python3.10/site-packages/wikipedia/wikipedia.py. To get rid of this warning, pass the additional argument 'features=\"lxml\"' to the BeautifulSoup constructor.\n",
      "\n",
      "  lis = BeautifulSoup(html).find_all('li')\n"
     ]
    },
    {
     "name": "stdout",
     "output_type": "stream",
     "text": [
      "\n",
      "Observation: \u001b[36;1m\u001b[1;3mPage: St Mary's Hospital, London\n",
      "Summary: St Mary's Hospital is an NHS hospital in Paddington, in the City of Westminster, London, founded in 1845. Since the UK's first academic health science centre was created in 2008, it has been operated by Imperial College Healthcare NHS Trust, which also operates Charing Cross Hospital, Hammersmith Hospital, Queen Charlotte's and Chelsea Hospital and the Western Eye Hospital.\n",
      "Until 1988 the hospital ran St Mary's Hospital Medical School, part of the federal University of London. In 1988 it merged with Imperial College London, and then with Charing Cross and Westminster Medical School in 1997 to form Imperial College School of Medicine. In 2007 Imperial College became an independent institution when it withdrew from the University of London.\n",
      "\n",
      "\u001b[0m\n",
      "Thought:\u001b[32;1m\u001b[1;3mI now know the city where penicillin was first isolated, which is London.\n",
      "Action: open_weather_map\n",
      "Action Input: London,GB\u001b[0m\n",
      "Observation: \u001b[33;1m\u001b[1;3mIn London,GB, the current weather is as follows:\n",
      "Detailed status: broken clouds\n",
      "Wind speed: 1.44 m/s, direction: 287°\n",
      "Humidity: 89%\n",
      "Temperature: \n",
      "  - Current: 14.15°C\n",
      "  - High: 15.48°C\n",
      "  - Low: 12.47°C\n",
      "  - Feels like: 13.94°C\n",
      "Rain: {}\n",
      "Heat index: None\n",
      "Cloud cover: 81%\u001b[0m\n",
      "Thought:\u001b[32;1m\u001b[1;3mI now know the final answer\n",
      "Final Answer: The city where penicillin was first isolated is London, and the current weather there is 14.15°C with broken clouds.\u001b[0m\n",
      "\n",
      "\u001b[1m> Finished chain.\u001b[0m\n",
      "The city where penicillin was first isolated is London, and the current weather there is 14.15°C with broken clouds.\n"
     ]
    }
   ],
   "source": [
    "# Define a query as a string inside a dictionary.\n",
    "query = {\"input\": \n",
    "         \"What is the current weather in the city where penicillin was first isolated, and what is the city called?\"}\n",
    "\n",
    "\n",
    "# Run the agent using the query.\n",
    "result = agent.run(query)\n",
    "print(result)"
   ]
  },
  {
   "cell_type": "markdown",
   "metadata": {},
   "source": [
    "# Creating Custom Tools"
   ]
  },
  {
   "cell_type": "code",
   "execution_count": 13,
   "metadata": {},
   "outputs": [],
   "source": [
    "# Additional imports for creating tools.\n",
    "from langchain.tools import tool\n",
    "from langchain.agents import initialize_agent\n",
    "from langchain.chains import APIChain, LLMMathChain"
   ]
  },
  {
   "cell_type": "code",
   "execution_count": 25,
   "metadata": {},
   "outputs": [],
   "source": [
    "# Initialize the model.\n",
    "llm = ChatOpenAI(openai_api_key=OPENAI_API_KEY, model_name=OPENAI_MODEL, temperature=1.2)\n",
    "\n",
    "\n",
    "# Text description of API spec.\n",
    "spec = \"\"\"URL STRUCTURE\n",
    "        Just hit http://numbersapi.com/number/type to get a plain text response, where\n",
    "        type is one of trivia, math, date, or year. Defaults to trivia if omitted.\n",
    "        number is an integer, or the keyword random, for which we will try to return\n",
    "        a random available fact, or a day of year in the form month/day \n",
    "        (eg. 2/29, 1/09, 04/1), if type is date ranges of numbers\"\"\""
   ]
  },
  {
   "cell_type": "code",
   "execution_count": 26,
   "metadata": {},
   "outputs": [],
   "source": [
    "# Create the API chain from the spec, using the LLM.\n",
    "api_chain = APIChain.from_llm_and_api_docs(\n",
    "    llm,\n",
    "    api_docs=spec,\n",
    "    verbose=True,\n",
    "    limit_to_domains=[\"https://numbersapi.com\", \"http://numbersapi.com\"],\n",
    ")"
   ]
  },
  {
   "cell_type": "code",
   "execution_count": 27,
   "metadata": {},
   "outputs": [],
   "source": [
    "# Define a tool for querying the Numbers API.\n",
    "@tool(\"numbers_API\")\n",
    "def numbers_tool(query: str) -> str:\n",
    "    \"\"\"\n",
    "    Look up fun facts about numbers or dates\n",
    "    \"\"\"\n",
    "    result = api_chain.run(query)\n",
    "    result"
   ]
  },
  {
   "cell_type": "code",
   "execution_count": 28,
   "metadata": {},
   "outputs": [],
   "source": [
    "# Initialize the math chain using the LLM.\n",
    "math_chain = LLMMathChain.from_llm(llm=llm, verbose=True)\n",
    "\n",
    "# Define a tool for doing math.\n",
    "@tool(\"math_tool\")\n",
    "def math_tool(query : str) -> str:\n",
    "    '''Perform math calculations'''\n",
    "    result = math_chain.run(query)\n",
    "    return result"
   ]
  },
  {
   "cell_type": "code",
   "execution_count": 29,
   "metadata": {},
   "outputs": [],
   "source": [
    "# Store the tools in a list.\n",
    "tools = [math_tool, numbers_tool]\n",
    "\n",
    "# Initialize the agent.\n",
    "agent = initialize_agent(tools, agent='zero-shot-react-description', verbose=True, llm=llm)"
   ]
  },
  {
   "cell_type": "code",
   "execution_count": 30,
   "metadata": {},
   "outputs": [
    {
     "name": "stdout",
     "output_type": "stream",
     "text": [
      "\n",
      "\n",
      "\u001b[1m> Entering new AgentExecutor chain...\u001b[0m\n",
      "\u001b[32;1m\u001b[1;3mI can use the numbers API to look up a fun fact about the sum of 22 and 35.\n",
      "Action: numbers_API\n",
      "Action Input: sum of 22 and 35\u001b[0m\n",
      "\n",
      "\u001b[1m> Entering new APIChain chain...\u001b[0m\n",
      "\u001b[32;1m\u001b[1;3mhttp://numbersapi.com/57/math\u001b[0m\n",
      "\u001b[33;1m\u001b[1;3m57 is the sixteenth discrete semiprime and the sixth in the (3.q) family.\u001b[0m\n",
      "\n",
      "\u001b[1m> Finished chain.\u001b[0m\n",
      "\n",
      "Observation: \u001b[33;1m\u001b[1;3mNone\u001b[0m\n",
      "Thought:\u001b[32;1m\u001b[1;3mI need to use the math_tool to calculate the sum of 22 and 35.\n",
      "Action: math_tool\n",
      "Action Input: 22 + 35\u001b[0m\n",
      "\n",
      "\u001b[1m> Entering new LLMMathChain chain...\u001b[0m\n",
      "22 + 35\u001b[32;1m\u001b[1;3m```text\n",
      "22 + 35\n",
      "```\n",
      "...numexpr.evaluate(\"22 + 35\")...\n",
      "\u001b[0m\n",
      "Answer: \u001b[33;1m\u001b[1;3m57\u001b[0m\n",
      "\u001b[1m> Finished chain.\u001b[0m\n",
      "\n",
      "Observation: \u001b[36;1m\u001b[1;3mAnswer: 57\u001b[0m\n",
      "Thought:\u001b[32;1m\u001b[1;3mI can now look up a fun fact about the number 57.\n",
      "Action: numbers_API\n",
      "Action Input: 57\u001b[0m\n",
      "\n",
      "\u001b[1m> Entering new APIChain chain...\u001b[0m\n",
      "\u001b[32;1m\u001b[1;3mhttp://numbersapi.com/57/trivia\u001b[0m\n",
      "\u001b[33;1m\u001b[1;3m57 is the number of cm that the smallest man measured, Gul Mohammed (1957-1997) of India.\u001b[0m\n",
      "\n",
      "\u001b[1m> Finished chain.\u001b[0m\n",
      "\n",
      "Observation: \u001b[33;1m\u001b[1;3mNone\u001b[0m\n",
      "Thought:\u001b[32;1m\u001b[1;3mI now know the final answer\n",
      "Final Answer: The sum of 22 and 35 is 57, which is the atomic number of Lanthanum in the periodic table.\u001b[0m\n",
      "\n",
      "\u001b[1m> Finished chain.\u001b[0m\n",
      "The sum of 22 and 35 is 57, which is the atomic number of Lanthanum in the periodic table.\n"
     ]
    }
   ],
   "source": [
    "# Define a query as a string inside a dictionary.\n",
    "query = {\"input\" : \"What is a fun fact about the sum of 22 and 35?\"}\n",
    "\n",
    "# Run the agent using the query.\n",
    "result = agent.run(query)\n",
    "print(result)"
   ]
  }
 ],
 "metadata": {
  "kernelspec": {
   "display_name": "dev",
   "language": "python",
   "name": "dev"
  },
  "language_info": {
   "codemirror_mode": {
    "name": "ipython",
    "version": 3
   },
   "file_extension": ".py",
   "mimetype": "text/x-python",
   "name": "python",
   "nbconvert_exporter": "python",
   "pygments_lexer": "ipython3",
   "version": "3.10.13"
  }
 },
 "nbformat": 4,
 "nbformat_minor": 2
}
