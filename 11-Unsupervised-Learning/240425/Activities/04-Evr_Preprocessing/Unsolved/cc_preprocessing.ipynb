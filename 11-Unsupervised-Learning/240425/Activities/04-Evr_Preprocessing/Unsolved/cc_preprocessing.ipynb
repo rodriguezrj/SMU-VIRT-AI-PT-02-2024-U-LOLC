{
 "cells": [
  {
   "cell_type": "code",
   "execution_count": 1,
   "metadata": {},
   "outputs": [],
   "source": [
    "# Import the required modules\n",
    "import pandas as pd\n",
    "from sklearn.preprocessing import StandardScaler\n",
    "from sklearn.cluster import KMeans"
   ]
  },
  {
   "cell_type": "markdown",
   "metadata": {},
   "source": [
    "## Load the Credit Card Data into a Pandas DataFrame"
   ]
  },
  {
   "cell_type": "code",
   "execution_count": 3,
   "metadata": {},
   "outputs": [
    {
     "data": {
      "text/html": [
       "<div>\n",
       "<style scoped>\n",
       "    .dataframe tbody tr th:only-of-type {\n",
       "        vertical-align: middle;\n",
       "    }\n",
       "\n",
       "    .dataframe tbody tr th {\n",
       "        vertical-align: top;\n",
       "    }\n",
       "\n",
       "    .dataframe thead th {\n",
       "        text-align: right;\n",
       "    }\n",
       "</style>\n",
       "<table border=\"1\" class=\"dataframe\">\n",
       "  <thead>\n",
       "    <tr style=\"text-align: right;\">\n",
       "      <th></th>\n",
       "      <th>limit_bal</th>\n",
       "      <th>education</th>\n",
       "      <th>marriage</th>\n",
       "      <th>age</th>\n",
       "      <th>bill_amt</th>\n",
       "      <th>pay_amt</th>\n",
       "      <th>default</th>\n",
       "    </tr>\n",
       "  </thead>\n",
       "  <tbody>\n",
       "    <tr>\n",
       "      <th>0</th>\n",
       "      <td>20000</td>\n",
       "      <td>secondary</td>\n",
       "      <td>yes</td>\n",
       "      <td>24</td>\n",
       "      <td>7704</td>\n",
       "      <td>689</td>\n",
       "      <td>1</td>\n",
       "    </tr>\n",
       "    <tr>\n",
       "      <th>1</th>\n",
       "      <td>120000</td>\n",
       "      <td>secondary</td>\n",
       "      <td>no</td>\n",
       "      <td>26</td>\n",
       "      <td>17077</td>\n",
       "      <td>5000</td>\n",
       "      <td>1</td>\n",
       "    </tr>\n",
       "    <tr>\n",
       "      <th>2</th>\n",
       "      <td>90000</td>\n",
       "      <td>secondary</td>\n",
       "      <td>no</td>\n",
       "      <td>34</td>\n",
       "      <td>101653</td>\n",
       "      <td>11018</td>\n",
       "      <td>0</td>\n",
       "    </tr>\n",
       "    <tr>\n",
       "      <th>3</th>\n",
       "      <td>50000</td>\n",
       "      <td>secondary</td>\n",
       "      <td>yes</td>\n",
       "      <td>37</td>\n",
       "      <td>231334</td>\n",
       "      <td>8388</td>\n",
       "      <td>0</td>\n",
       "    </tr>\n",
       "    <tr>\n",
       "      <th>4</th>\n",
       "      <td>50000</td>\n",
       "      <td>secondary</td>\n",
       "      <td>yes</td>\n",
       "      <td>57</td>\n",
       "      <td>109339</td>\n",
       "      <td>59049</td>\n",
       "      <td>0</td>\n",
       "    </tr>\n",
       "  </tbody>\n",
       "</table>\n",
       "</div>"
      ],
      "text/plain": [
       "   limit_bal  education marriage  age  bill_amt  pay_amt  default\n",
       "0      20000  secondary      yes   24      7704      689        1\n",
       "1     120000  secondary       no   26     17077     5000        1\n",
       "2      90000  secondary       no   34    101653    11018        0\n",
       "3      50000  secondary      yes   37    231334     8388        0\n",
       "4      50000  secondary      yes   57    109339    59049        0"
      ]
     },
     "metadata": {},
     "output_type": "display_data"
    },
    {
     "data": {
      "text/html": [
       "<div>\n",
       "<style scoped>\n",
       "    .dataframe tbody tr th:only-of-type {\n",
       "        vertical-align: middle;\n",
       "    }\n",
       "\n",
       "    .dataframe tbody tr th {\n",
       "        vertical-align: top;\n",
       "    }\n",
       "\n",
       "    .dataframe thead th {\n",
       "        text-align: right;\n",
       "    }\n",
       "</style>\n",
       "<table border=\"1\" class=\"dataframe\">\n",
       "  <thead>\n",
       "    <tr style=\"text-align: right;\">\n",
       "      <th></th>\n",
       "      <th>limit_bal</th>\n",
       "      <th>education</th>\n",
       "      <th>marriage</th>\n",
       "      <th>age</th>\n",
       "      <th>bill_amt</th>\n",
       "      <th>pay_amt</th>\n",
       "      <th>default</th>\n",
       "    </tr>\n",
       "  </thead>\n",
       "  <tbody>\n",
       "    <tr>\n",
       "      <th>4994</th>\n",
       "      <td>20000</td>\n",
       "      <td>secondary</td>\n",
       "      <td>yes</td>\n",
       "      <td>36</td>\n",
       "      <td>110994</td>\n",
       "      <td>7293</td>\n",
       "      <td>0</td>\n",
       "    </tr>\n",
       "    <tr>\n",
       "      <th>4995</th>\n",
       "      <td>180000</td>\n",
       "      <td>other</td>\n",
       "      <td>yes</td>\n",
       "      <td>34</td>\n",
       "      <td>35240</td>\n",
       "      <td>22066</td>\n",
       "      <td>0</td>\n",
       "    </tr>\n",
       "    <tr>\n",
       "      <th>4996</th>\n",
       "      <td>200000</td>\n",
       "      <td>secondary</td>\n",
       "      <td>yes</td>\n",
       "      <td>45</td>\n",
       "      <td>691806</td>\n",
       "      <td>21443</td>\n",
       "      <td>1</td>\n",
       "    </tr>\n",
       "    <tr>\n",
       "      <th>4997</th>\n",
       "      <td>310000</td>\n",
       "      <td>post-grad</td>\n",
       "      <td>yes</td>\n",
       "      <td>44</td>\n",
       "      <td>1548067</td>\n",
       "      <td>72000</td>\n",
       "      <td>0</td>\n",
       "    </tr>\n",
       "    <tr>\n",
       "      <th>4998</th>\n",
       "      <td>160000</td>\n",
       "      <td>primary</td>\n",
       "      <td>no</td>\n",
       "      <td>40</td>\n",
       "      <td>4440</td>\n",
       "      <td>3725</td>\n",
       "      <td>0</td>\n",
       "    </tr>\n",
       "  </tbody>\n",
       "</table>\n",
       "</div>"
      ],
      "text/plain": [
       "      limit_bal  education marriage  age  bill_amt  pay_amt  default\n",
       "4994      20000  secondary      yes   36    110994     7293        0\n",
       "4995     180000      other      yes   34     35240    22066        0\n",
       "4996     200000  secondary      yes   45    691806    21443        1\n",
       "4997     310000  post-grad      yes   44   1548067    72000        0\n",
       "4998     160000    primary       no   40      4440     3725        0"
      ]
     },
     "metadata": {},
     "output_type": "display_data"
    }
   ],
   "source": [
    "# Read in the CSV file as a pandas Dataframe\n",
    "ccinfo_df = pd.read_csv(\"./Resources/cc_info_default.csv\")\n",
    "\n",
    "# Review the first five rows of the DataFrame\n",
    "display(ccinfo_df.head())\n",
    "# Review the last five rows of the DataFrame\n",
    "display(ccinfo_df.tail())"
   ]
  },
  {
   "cell_type": "code",
   "execution_count": 4,
   "metadata": {},
   "outputs": [
    {
     "name": "stdout",
     "output_type": "stream",
     "text": [
      "<class 'pandas.core.frame.DataFrame'>\n",
      "RangeIndex: 4999 entries, 0 to 4998\n",
      "Data columns (total 7 columns):\n",
      " #   Column     Non-Null Count  Dtype \n",
      "---  ------     --------------  ----- \n",
      " 0   limit_bal  4999 non-null   int64 \n",
      " 1   education  4999 non-null   object\n",
      " 2   marriage   4999 non-null   object\n",
      " 3   age        4999 non-null   int64 \n",
      " 4   bill_amt   4999 non-null   int64 \n",
      " 5   pay_amt    4999 non-null   int64 \n",
      " 6   default    4999 non-null   int64 \n",
      "dtypes: int64(5), object(2)\n",
      "memory usage: 273.5+ KB\n"
     ]
    }
   ],
   "source": [
    "# Review the info of the DataFrame\n",
    "ccinfo_df.info()"
   ]
  },
  {
   "cell_type": "markdown",
   "metadata": {},
   "source": [
    "## Data Preprocessing\n",
    "---\n",
    "###  Transform \"education\" column with get_dummies"
   ]
  },
  {
   "cell_type": "code",
   "execution_count": 5,
   "metadata": {},
   "outputs": [
    {
     "data": {
      "text/plain": [
       "education\n",
       "secondary    2267\n",
       "primary      1862\n",
       "post-grad     822\n",
       "other          48\n",
       "Name: count, dtype: int64"
      ]
     },
     "execution_count": 5,
     "metadata": {},
     "output_type": "execute_result"
    }
   ],
   "source": [
    "# Verify the categories of the \"education\" column\n",
    "ccinfo_df['education'].value_counts()"
   ]
  },
  {
   "cell_type": "code",
   "execution_count": 8,
   "metadata": {},
   "outputs": [
    {
     "data": {
      "text/html": [
       "<div>\n",
       "<style scoped>\n",
       "    .dataframe tbody tr th:only-of-type {\n",
       "        vertical-align: middle;\n",
       "    }\n",
       "\n",
       "    .dataframe tbody tr th {\n",
       "        vertical-align: top;\n",
       "    }\n",
       "\n",
       "    .dataframe thead th {\n",
       "        text-align: right;\n",
       "    }\n",
       "</style>\n",
       "<table border=\"1\" class=\"dataframe\">\n",
       "  <thead>\n",
       "    <tr style=\"text-align: right;\">\n",
       "      <th></th>\n",
       "      <th>other</th>\n",
       "      <th>post-grad</th>\n",
       "      <th>primary</th>\n",
       "      <th>secondary</th>\n",
       "    </tr>\n",
       "  </thead>\n",
       "  <tbody>\n",
       "    <tr>\n",
       "      <th>0</th>\n",
       "      <td>0</td>\n",
       "      <td>0</td>\n",
       "      <td>0</td>\n",
       "      <td>1</td>\n",
       "    </tr>\n",
       "    <tr>\n",
       "      <th>1</th>\n",
       "      <td>0</td>\n",
       "      <td>0</td>\n",
       "      <td>0</td>\n",
       "      <td>1</td>\n",
       "    </tr>\n",
       "    <tr>\n",
       "      <th>2</th>\n",
       "      <td>0</td>\n",
       "      <td>0</td>\n",
       "      <td>0</td>\n",
       "      <td>1</td>\n",
       "    </tr>\n",
       "    <tr>\n",
       "      <th>3</th>\n",
       "      <td>0</td>\n",
       "      <td>0</td>\n",
       "      <td>0</td>\n",
       "      <td>1</td>\n",
       "    </tr>\n",
       "    <tr>\n",
       "      <th>4</th>\n",
       "      <td>0</td>\n",
       "      <td>0</td>\n",
       "      <td>0</td>\n",
       "      <td>1</td>\n",
       "    </tr>\n",
       "  </tbody>\n",
       "</table>\n",
       "</div>"
      ],
      "text/plain": [
       "   other  post-grad  primary  secondary\n",
       "0      0          0        0          1\n",
       "1      0          0        0          1\n",
       "2      0          0        0          1\n",
       "3      0          0        0          1\n",
       "4      0          0        0          1"
      ]
     },
     "execution_count": 8,
     "metadata": {},
     "output_type": "execute_result"
    }
   ],
   "source": [
    "# Transform the education column using get_dummies\n",
    "encoded_ed = pd.get_dummies(ccinfo_df['education'], dtype=int)\n",
    "\n",
    "# Display the last five rows of the transformed data\n",
    "encoded_ed.head()"
   ]
  },
  {
   "cell_type": "code",
   "execution_count": 9,
   "metadata": {},
   "outputs": [
    {
     "data": {
      "text/html": [
       "<div>\n",
       "<style scoped>\n",
       "    .dataframe tbody tr th:only-of-type {\n",
       "        vertical-align: middle;\n",
       "    }\n",
       "\n",
       "    .dataframe tbody tr th {\n",
       "        vertical-align: top;\n",
       "    }\n",
       "\n",
       "    .dataframe thead th {\n",
       "        text-align: right;\n",
       "    }\n",
       "</style>\n",
       "<table border=\"1\" class=\"dataframe\">\n",
       "  <thead>\n",
       "    <tr style=\"text-align: right;\">\n",
       "      <th></th>\n",
       "      <th>limit_bal</th>\n",
       "      <th>marriage</th>\n",
       "      <th>age</th>\n",
       "      <th>bill_amt</th>\n",
       "      <th>pay_amt</th>\n",
       "      <th>default</th>\n",
       "      <th>other</th>\n",
       "      <th>post-grad</th>\n",
       "      <th>primary</th>\n",
       "      <th>secondary</th>\n",
       "    </tr>\n",
       "  </thead>\n",
       "  <tbody>\n",
       "    <tr>\n",
       "      <th>0</th>\n",
       "      <td>20000</td>\n",
       "      <td>yes</td>\n",
       "      <td>24</td>\n",
       "      <td>7704</td>\n",
       "      <td>689</td>\n",
       "      <td>1</td>\n",
       "      <td>0</td>\n",
       "      <td>0</td>\n",
       "      <td>0</td>\n",
       "      <td>1</td>\n",
       "    </tr>\n",
       "    <tr>\n",
       "      <th>1</th>\n",
       "      <td>120000</td>\n",
       "      <td>no</td>\n",
       "      <td>26</td>\n",
       "      <td>17077</td>\n",
       "      <td>5000</td>\n",
       "      <td>1</td>\n",
       "      <td>0</td>\n",
       "      <td>0</td>\n",
       "      <td>0</td>\n",
       "      <td>1</td>\n",
       "    </tr>\n",
       "    <tr>\n",
       "      <th>2</th>\n",
       "      <td>90000</td>\n",
       "      <td>no</td>\n",
       "      <td>34</td>\n",
       "      <td>101653</td>\n",
       "      <td>11018</td>\n",
       "      <td>0</td>\n",
       "      <td>0</td>\n",
       "      <td>0</td>\n",
       "      <td>0</td>\n",
       "      <td>1</td>\n",
       "    </tr>\n",
       "    <tr>\n",
       "      <th>3</th>\n",
       "      <td>50000</td>\n",
       "      <td>yes</td>\n",
       "      <td>37</td>\n",
       "      <td>231334</td>\n",
       "      <td>8388</td>\n",
       "      <td>0</td>\n",
       "      <td>0</td>\n",
       "      <td>0</td>\n",
       "      <td>0</td>\n",
       "      <td>1</td>\n",
       "    </tr>\n",
       "    <tr>\n",
       "      <th>4</th>\n",
       "      <td>50000</td>\n",
       "      <td>yes</td>\n",
       "      <td>57</td>\n",
       "      <td>109339</td>\n",
       "      <td>59049</td>\n",
       "      <td>0</td>\n",
       "      <td>0</td>\n",
       "      <td>0</td>\n",
       "      <td>0</td>\n",
       "      <td>1</td>\n",
       "    </tr>\n",
       "  </tbody>\n",
       "</table>\n",
       "</div>"
      ],
      "text/plain": [
       "   limit_bal marriage  age  bill_amt  pay_amt  default  other  post-grad  \\\n",
       "0      20000      yes   24      7704      689        1      0          0   \n",
       "1     120000       no   26     17077     5000        1      0          0   \n",
       "2      90000       no   34    101653    11018        0      0          0   \n",
       "3      50000      yes   37    231334     8388        0      0          0   \n",
       "4      50000      yes   57    109339    59049        0      0          0   \n",
       "\n",
       "   primary  secondary  \n",
       "0        0          1  \n",
       "1        0          1  \n",
       "2        0          1  \n",
       "3        0          1  \n",
       "4        0          1  "
      ]
     },
     "execution_count": 9,
     "metadata": {},
     "output_type": "execute_result"
    }
   ],
   "source": [
    "# Concatenate the df_shopping_transformed and the card_dummies DataFrames\n",
    "ccinfo_df = pd.concat([ccinfo_df, encoded_ed], axis=1)\n",
    "\n",
    "# Drop the original education column\n",
    "ccinfo_df = ccinfo_df.drop(columns=['education'])\n",
    "\n",
    "# Display the DataFrame\n",
    "ccinfo_df.head()"
   ]
  },
  {
   "cell_type": "markdown",
   "metadata": {},
   "source": [
    "### Transform \"marriage\" column with encoding function"
   ]
  },
  {
   "cell_type": "code",
   "execution_count": 11,
   "metadata": {},
   "outputs": [
    {
     "data": {
      "text/html": [
       "<div>\n",
       "<style scoped>\n",
       "    .dataframe tbody tr th:only-of-type {\n",
       "        vertical-align: middle;\n",
       "    }\n",
       "\n",
       "    .dataframe tbody tr th {\n",
       "        vertical-align: top;\n",
       "    }\n",
       "\n",
       "    .dataframe thead th {\n",
       "        text-align: right;\n",
       "    }\n",
       "</style>\n",
       "<table border=\"1\" class=\"dataframe\">\n",
       "  <thead>\n",
       "    <tr style=\"text-align: right;\">\n",
       "      <th></th>\n",
       "      <th>limit_bal</th>\n",
       "      <th>marriage</th>\n",
       "      <th>age</th>\n",
       "      <th>bill_amt</th>\n",
       "      <th>pay_amt</th>\n",
       "      <th>default</th>\n",
       "      <th>other</th>\n",
       "      <th>post-grad</th>\n",
       "      <th>primary</th>\n",
       "      <th>secondary</th>\n",
       "    </tr>\n",
       "  </thead>\n",
       "  <tbody>\n",
       "    <tr>\n",
       "      <th>0</th>\n",
       "      <td>20000</td>\n",
       "      <td>1</td>\n",
       "      <td>24</td>\n",
       "      <td>7704</td>\n",
       "      <td>689</td>\n",
       "      <td>1</td>\n",
       "      <td>0</td>\n",
       "      <td>0</td>\n",
       "      <td>0</td>\n",
       "      <td>1</td>\n",
       "    </tr>\n",
       "    <tr>\n",
       "      <th>1</th>\n",
       "      <td>120000</td>\n",
       "      <td>0</td>\n",
       "      <td>26</td>\n",
       "      <td>17077</td>\n",
       "      <td>5000</td>\n",
       "      <td>1</td>\n",
       "      <td>0</td>\n",
       "      <td>0</td>\n",
       "      <td>0</td>\n",
       "      <td>1</td>\n",
       "    </tr>\n",
       "    <tr>\n",
       "      <th>2</th>\n",
       "      <td>90000</td>\n",
       "      <td>0</td>\n",
       "      <td>34</td>\n",
       "      <td>101653</td>\n",
       "      <td>11018</td>\n",
       "      <td>0</td>\n",
       "      <td>0</td>\n",
       "      <td>0</td>\n",
       "      <td>0</td>\n",
       "      <td>1</td>\n",
       "    </tr>\n",
       "    <tr>\n",
       "      <th>3</th>\n",
       "      <td>50000</td>\n",
       "      <td>1</td>\n",
       "      <td>37</td>\n",
       "      <td>231334</td>\n",
       "      <td>8388</td>\n",
       "      <td>0</td>\n",
       "      <td>0</td>\n",
       "      <td>0</td>\n",
       "      <td>0</td>\n",
       "      <td>1</td>\n",
       "    </tr>\n",
       "    <tr>\n",
       "      <th>4</th>\n",
       "      <td>50000</td>\n",
       "      <td>1</td>\n",
       "      <td>57</td>\n",
       "      <td>109339</td>\n",
       "      <td>59049</td>\n",
       "      <td>0</td>\n",
       "      <td>0</td>\n",
       "      <td>0</td>\n",
       "      <td>0</td>\n",
       "      <td>1</td>\n",
       "    </tr>\n",
       "  </tbody>\n",
       "</table>\n",
       "</div>"
      ],
      "text/plain": [
       "   limit_bal  marriage  age  bill_amt  pay_amt  default  other  post-grad  \\\n",
       "0      20000         1   24      7704      689        1      0          0   \n",
       "1     120000         0   26     17077     5000        1      0          0   \n",
       "2      90000         0   34    101653    11018        0      0          0   \n",
       "3      50000         1   37    231334     8388        0      0          0   \n",
       "4      50000         1   57    109339    59049        0      0          0   \n",
       "\n",
       "   primary  secondary  \n",
       "0        0          1  \n",
       "1        0          1  \n",
       "2        0          1  \n",
       "3        0          1  \n",
       "4        0          1  "
      ]
     },
     "execution_count": 11,
     "metadata": {},
     "output_type": "execute_result"
    }
   ],
   "source": [
    "# Encoding the marriage column using a custom function\n",
    "def encode_marriage(marriage):\n",
    "    if marriage == 'yes':\n",
    "        return 1\n",
    "    else:\n",
    "        return 0\n",
    "\n",
    "# Call the encode_marriage function on the marriage column\n",
    "ccinfo_df['marriage'] = ccinfo_df['marriage'].apply(encode_marriage)\n",
    "\n",
    "# Review the DataFrame \n",
    "ccinfo_df.head()"
   ]
  },
  {
   "cell_type": "markdown",
   "metadata": {},
   "source": [
    "## Data Scaling\n",
    "---\n",
    "\n",
    "### Apply the Standard Scaler to \"limit_bal\", \"bill_amt\", \"pay_amt\""
   ]
  },
  {
   "cell_type": "code",
   "execution_count": 12,
   "metadata": {},
   "outputs": [
    {
     "data": {
      "text/plain": [
       "array([[-1.1173411 , -0.66070266, -0.5427793 ],\n",
       "       [-0.3499424 , -0.63637003, -0.46399421],\n",
       "       [-0.58016201, -0.41680786, -0.35401308],\n",
       "       ...,\n",
       "       [ 0.26397655,  1.1152494 , -0.16349243],\n",
       "       [ 1.10811512,  3.33813208,  0.76045505],\n",
       "       [-0.04298292, -0.66917611, -0.4872953 ]])"
      ]
     },
     "execution_count": 12,
     "metadata": {},
     "output_type": "execute_result"
    }
   ],
   "source": [
    "# Scaling the numeric columns\n",
    "ccinfo_df_scale = StandardScaler().fit_transform(ccinfo_df[['limit_bal', 'bill_amt', 'pay_amt']])\n",
    "\n",
    "# Review the scaled data\n",
    "ccinfo_df_scale"
   ]
  },
  {
   "cell_type": "code",
   "execution_count": 13,
   "metadata": {},
   "outputs": [
    {
     "data": {
      "text/plain": [
       "numpy.ndarray"
      ]
     },
     "execution_count": 13,
     "metadata": {},
     "output_type": "execute_result"
    }
   ],
   "source": [
    "type(ccinfo_df_scale)"
   ]
  },
  {
   "cell_type": "code",
   "execution_count": null,
   "metadata": {},
   "outputs": [],
   "source": [
    "ccinfo_df_scale"
   ]
  },
  {
   "cell_type": "code",
   "execution_count": 30,
   "metadata": {},
   "outputs": [
    {
     "data": {
      "text/plain": [
       "(4999,)"
      ]
     },
     "execution_count": 30,
     "metadata": {},
     "output_type": "execute_result"
    }
   ],
   "source": [
    "ccinfo_df_scale[:, 0] #limit_bal\n",
    "ccinfo_df_scale[:, 1] # bill_amt\n",
    "ccinfo_df_scale[:, 2] # pay_amt"
   ]
  },
  {
   "cell_type": "code",
   "execution_count": 15,
   "metadata": {},
   "outputs": [
    {
     "data": {
      "text/html": [
       "<div>\n",
       "<style scoped>\n",
       "    .dataframe tbody tr th:only-of-type {\n",
       "        vertical-align: middle;\n",
       "    }\n",
       "\n",
       "    .dataframe tbody tr th {\n",
       "        vertical-align: top;\n",
       "    }\n",
       "\n",
       "    .dataframe thead th {\n",
       "        text-align: right;\n",
       "    }\n",
       "</style>\n",
       "<table border=\"1\" class=\"dataframe\">\n",
       "  <thead>\n",
       "    <tr style=\"text-align: right;\">\n",
       "      <th></th>\n",
       "      <th>limit_bal</th>\n",
       "      <th>marriage</th>\n",
       "      <th>age</th>\n",
       "      <th>bill_amt</th>\n",
       "      <th>pay_amt</th>\n",
       "      <th>default</th>\n",
       "      <th>other</th>\n",
       "      <th>post-grad</th>\n",
       "      <th>primary</th>\n",
       "      <th>secondary</th>\n",
       "    </tr>\n",
       "  </thead>\n",
       "  <tbody>\n",
       "    <tr>\n",
       "      <th>0</th>\n",
       "      <td>-1.117341</td>\n",
       "      <td>1</td>\n",
       "      <td>24</td>\n",
       "      <td>-0.660703</td>\n",
       "      <td>-0.542779</td>\n",
       "      <td>1</td>\n",
       "      <td>0</td>\n",
       "      <td>0</td>\n",
       "      <td>0</td>\n",
       "      <td>1</td>\n",
       "    </tr>\n",
       "    <tr>\n",
       "      <th>1</th>\n",
       "      <td>-0.349942</td>\n",
       "      <td>0</td>\n",
       "      <td>26</td>\n",
       "      <td>-0.636370</td>\n",
       "      <td>-0.463994</td>\n",
       "      <td>1</td>\n",
       "      <td>0</td>\n",
       "      <td>0</td>\n",
       "      <td>0</td>\n",
       "      <td>1</td>\n",
       "    </tr>\n",
       "    <tr>\n",
       "      <th>2</th>\n",
       "      <td>-0.580162</td>\n",
       "      <td>0</td>\n",
       "      <td>34</td>\n",
       "      <td>-0.416808</td>\n",
       "      <td>-0.354013</td>\n",
       "      <td>0</td>\n",
       "      <td>0</td>\n",
       "      <td>0</td>\n",
       "      <td>0</td>\n",
       "      <td>1</td>\n",
       "    </tr>\n",
       "    <tr>\n",
       "      <th>3</th>\n",
       "      <td>-0.887121</td>\n",
       "      <td>1</td>\n",
       "      <td>37</td>\n",
       "      <td>-0.080152</td>\n",
       "      <td>-0.402077</td>\n",
       "      <td>0</td>\n",
       "      <td>0</td>\n",
       "      <td>0</td>\n",
       "      <td>0</td>\n",
       "      <td>1</td>\n",
       "    </tr>\n",
       "    <tr>\n",
       "      <th>4</th>\n",
       "      <td>-0.887121</td>\n",
       "      <td>1</td>\n",
       "      <td>57</td>\n",
       "      <td>-0.396855</td>\n",
       "      <td>0.523771</td>\n",
       "      <td>0</td>\n",
       "      <td>0</td>\n",
       "      <td>0</td>\n",
       "      <td>0</td>\n",
       "      <td>1</td>\n",
       "    </tr>\n",
       "  </tbody>\n",
       "</table>\n",
       "</div>"
      ],
      "text/plain": [
       "   limit_bal  marriage  age  bill_amt   pay_amt  default  other  post-grad  \\\n",
       "0  -1.117341         1   24 -0.660703 -0.542779        1      0          0   \n",
       "1  -0.349942         0   26 -0.636370 -0.463994        1      0          0   \n",
       "2  -0.580162         0   34 -0.416808 -0.354013        0      0          0   \n",
       "3  -0.887121         1   37 -0.080152 -0.402077        0      0          0   \n",
       "4  -0.887121         1   57 -0.396855  0.523771        0      0          0   \n",
       "\n",
       "   primary  secondary  \n",
       "0        0          1  \n",
       "1        0          1  \n",
       "2        0          1  \n",
       "3        0          1  \n",
       "4        0          1  "
      ]
     },
     "execution_count": 15,
     "metadata": {},
     "output_type": "execute_result"
    }
   ],
   "source": [
    "# Create a DataFrame of the scaled data\n",
    "scaled_df = pd.DataFrame(ccinfo_df_scale, columns=['limit_bal', 'bill_amt', 'pay_amt'])\n",
    "\n",
    "# Replace the original data with the columns of information from the scaled Data\n",
    "ccinfo_df['limit_bal'] = scaled_df['limit_bal']\n",
    "ccinfo_df['bill_amt'] = scaled_df['bill_amt']\n",
    "ccinfo_df['pay_amt'] = scaled_df['pay_amt']\n",
    "\n",
    "# Review the DataFrame\n",
    "ccinfo_df.head()"
   ]
  },
  {
   "cell_type": "markdown",
   "metadata": {},
   "source": [
    "### Use the elbow method to find the best `k`."
   ]
  },
  {
   "cell_type": "code",
   "execution_count": 17,
   "metadata": {},
   "outputs": [],
   "source": [
    "# Create a a list to store inertia values and the values of k\n",
    "inertia = []\n",
    "k = list(range(1, 11))"
   ]
  },
  {
   "cell_type": "code",
   "execution_count": 19,
   "metadata": {},
   "outputs": [],
   "source": [
    "# Create a for loop where each value of k is evaluated using the K-means algorithm\n",
    "# Fit the model using the service_ratings DataFrame\n",
    "# Append the value of the computed inertia from the `inertia_` attribute of the KMeans model instance\n",
    "for i in k:\n",
    "    k_model = KMeans(n_clusters=i, n_init=\"auto\", random_state=0)\n",
    "    k_model.fit(ccinfo_df)\n",
    "    inertia.append(k_model.inertia_)"
   ]
  },
  {
   "cell_type": "code",
   "execution_count": 20,
   "metadata": {},
   "outputs": [
    {
     "data": {
      "text/html": [
       "<div>\n",
       "<style scoped>\n",
       "    .dataframe tbody tr th:only-of-type {\n",
       "        vertical-align: middle;\n",
       "    }\n",
       "\n",
       "    .dataframe tbody tr th {\n",
       "        vertical-align: top;\n",
       "    }\n",
       "\n",
       "    .dataframe thead th {\n",
       "        text-align: right;\n",
       "    }\n",
       "</style>\n",
       "<table border=\"1\" class=\"dataframe\">\n",
       "  <thead>\n",
       "    <tr style=\"text-align: right;\">\n",
       "      <th></th>\n",
       "      <th>k</th>\n",
       "      <th>inertia</th>\n",
       "    </tr>\n",
       "  </thead>\n",
       "  <tbody>\n",
       "    <tr>\n",
       "      <th>0</th>\n",
       "      <td>1</td>\n",
       "      <td>449413.376075</td>\n",
       "    </tr>\n",
       "    <tr>\n",
       "      <th>1</th>\n",
       "      <td>2</td>\n",
       "      <td>152036.470987</td>\n",
       "    </tr>\n",
       "    <tr>\n",
       "      <th>2</th>\n",
       "      <td>3</td>\n",
       "      <td>84344.359798</td>\n",
       "    </tr>\n",
       "    <tr>\n",
       "      <th>3</th>\n",
       "      <td>4</td>\n",
       "      <td>59876.367234</td>\n",
       "    </tr>\n",
       "    <tr>\n",
       "      <th>4</th>\n",
       "      <td>5</td>\n",
       "      <td>45643.230589</td>\n",
       "    </tr>\n",
       "    <tr>\n",
       "      <th>5</th>\n",
       "      <td>6</td>\n",
       "      <td>38542.573280</td>\n",
       "    </tr>\n",
       "    <tr>\n",
       "      <th>6</th>\n",
       "      <td>7</td>\n",
       "      <td>33824.979465</td>\n",
       "    </tr>\n",
       "    <tr>\n",
       "      <th>7</th>\n",
       "      <td>8</td>\n",
       "      <td>31505.119240</td>\n",
       "    </tr>\n",
       "    <tr>\n",
       "      <th>8</th>\n",
       "      <td>9</td>\n",
       "      <td>29334.466126</td>\n",
       "    </tr>\n",
       "    <tr>\n",
       "      <th>9</th>\n",
       "      <td>10</td>\n",
       "      <td>27325.850920</td>\n",
       "    </tr>\n",
       "  </tbody>\n",
       "</table>\n",
       "</div>"
      ],
      "text/plain": [
       "    k        inertia\n",
       "0   1  449413.376075\n",
       "1   2  152036.470987\n",
       "2   3   84344.359798\n",
       "3   4   59876.367234\n",
       "4   5   45643.230589\n",
       "5   6   38542.573280\n",
       "6   7   33824.979465\n",
       "7   8   31505.119240\n",
       "8   9   29334.466126\n",
       "9  10   27325.850920"
      ]
     },
     "execution_count": 20,
     "metadata": {},
     "output_type": "execute_result"
    }
   ],
   "source": [
    "# Define a DataFrame to hold the values for k and the corresponding inertia\n",
    "df_elbow = pd.DataFrame({\"k\" : k, 'inertia' : inertia})\n",
    "\n",
    "\n",
    "# Review the DataFrame\n",
    "df_elbow"
   ]
  },
  {
   "cell_type": "code",
   "execution_count": 21,
   "metadata": {},
   "outputs": [
    {
     "data": {
      "text/plain": [
       "<Axes: title={'center': 'Elbow Curve'}, xlabel='k'>"
      ]
     },
     "execution_count": 21,
     "metadata": {},
     "output_type": "execute_result"
    },
    {
     "data": {
      "image/png": "[encoded data removed]",
      "text/plain": [
       "<Figure size 640x480 with 1 Axes>"
      ]
     },
     "metadata": {},
     "output_type": "display_data"
    }
   ],
   "source": [
    "# Plot the elbow curve\n",
    "df_elbow.plot(kind=\"line\", x='k', y='inertia', title='Elbow Curve', style=\".-\", xticks=k)"
   ]
  },
  {
   "cell_type": "markdown",
   "metadata": {},
   "source": [
    "##  Apply the KMeans Algorithm\n",
    "---\n",
    "### Use Kmeans to cluster data"
   ]
  },
  {
   "cell_type": "code",
   "execution_count": 22,
   "metadata": {},
   "outputs": [],
   "source": [
    "# Define the model with 3 clusters\n",
    "model = KMeans(n_clusters=3, n_init=\"auto\", random_state=0)\n",
    "\n",
    "# Fit the model\n",
    "model.fit(ccinfo_df)\n",
    "\n",
    "# Make predictions\n",
    "model_3 = model.predict(ccinfo_df)\n",
    "\n",
    "# Create a copy of the preprocessed data\n",
    "predictions_df = ccinfo_df.copy()\n",
    "\n",
    "# Add a class column with the labels\n",
    "predictions_df['segments'] = model_3"
   ]
  },
  {
   "cell_type": "code",
   "execution_count": 27,
   "metadata": {},
   "outputs": [
    {
     "data": {
      "text/plain": [
       "<Axes: title={'center': 'Customer Seg'}, xlabel='limit_bal', ylabel='age'>"
      ]
     },
     "execution_count": 27,
     "metadata": {},
     "output_type": "execute_result"
    },
    {
     "data": {
      "image/png": "[encoded data removed]",
      "text/plain": [
       "<Figure size 640x480 with 2 Axes>"
      ]
     },
     "metadata": {},
     "output_type": "display_data"
    }
   ],
   "source": [
    "# Plot the clusters\n",
    "predictions_df.plot(kind=\"scatter\", x='limit_bal', y='age', \n",
    "                    title='Customer Seg', \n",
    "                    c='segments', colormap='spring')"
   ]
  },
  {
   "cell_type": "code",
   "execution_count": null,
   "metadata": {},
   "outputs": [],
   "source": []
  }
 ],
 "metadata": {
  "kernelspec": {
   "display_name": "Python 3",
   "language": "python",
   "name": "python3"
  },
  "language_info": {
   "codemirror_mode": {
    "name": "ipython",
    "version": 3
   },
   "file_extension": ".py",
   "mimetype": "text/x-python",
   "name": "python",
   "nbconvert_exporter": "python",
   "pygments_lexer": "ipython3",
   "version": "3.11.7"
  }
 },
 "nbformat": 4,
 "nbformat_minor": 4
}
