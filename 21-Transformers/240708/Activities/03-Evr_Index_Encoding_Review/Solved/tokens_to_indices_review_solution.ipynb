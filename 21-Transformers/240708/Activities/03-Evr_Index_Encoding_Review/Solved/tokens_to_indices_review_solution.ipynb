{
 "cells": [
  {
   "cell_type": "code",
   "execution_count": 25,
   "id": "949c4137",
   "metadata": {},
   "outputs": [],
   "source": [
    "# Import the dependencies\n",
    "# import tf_keras as tf\n",
    "# print(tf.__version__)\n",
    "# import keras\n",
    "# print(keras.__version__)\n",
    "# from tf_keras.preprocessing.text import Tokenizer\n",
    "# import tokenizer\n",
    "\n",
    "from tf_keras.preprocessing.text import Tokenizer\n",
    "# from keras.preprocessing.text import Tokenizer"
   ]
  },
  {
   "cell_type": "code",
   "execution_count": 26,
   "id": "8fdb99bc",
   "metadata": {},
   "outputs": [],
   "source": [
    "# Define a list of sentences to tokenize. \n",
    "sentences = [\"I love my dog.\", \"I love my family.\", \"My dog is a lab\"]"
   ]
  },
  {
   "cell_type": "code",
   "execution_count": 27,
   "id": "e771d5dd",
   "metadata": {},
   "outputs": [],
   "source": [
    "# Create an instance of the Tokenizer\n",
    "tokenizer = Tokenizer()\n",
    "# Fit the tokenizer on the documents\n",
    "tokenizer.fit_on_texts(sentences)"
   ]
  },
  {
   "cell_type": "code",
   "execution_count": 28,
   "id": "3f6b87a1",
   "metadata": {},
   "outputs": [
    {
     "name": "stdout",
     "output_type": "stream",
     "text": [
      "{'my': 1, 'i': 2, 'love': 3, 'dog': 4, 'family': 5, 'is': 6, 'a': 7, 'lab': 8}\n"
     ]
    }
   ],
   "source": [
    "# Create a dictionary mapping of words to their indices\n",
    "print(tokenizer.word_index)"
   ]
  },
  {
   "cell_type": "code",
   "execution_count": 29,
   "id": "320f0b9b",
   "metadata": {},
   "outputs": [
    {
     "data": {
      "text/plain": [
       "[[2, 3, 1, 4], [2, 3, 1, 5], [1, 4, 6, 7, 8]]"
      ]
     },
     "execution_count": 29,
     "metadata": {},
     "output_type": "execute_result"
    }
   ],
   "source": [
    "# Encode each word in the text_sequences to the indices. \n",
    "sequences = tokenizer.texts_to_sequences(sentences)\n",
    "sequences"
   ]
  },
  {
   "cell_type": "code",
   "execution_count": 30,
   "id": "31d24c43",
   "metadata": {},
   "outputs": [
    {
     "data": {
      "text/plain": [
       "['i love my dog', 'i love my family', 'my dog is a lab']"
      ]
     },
     "execution_count": 30,
     "metadata": {},
     "output_type": "execute_result"
    }
   ],
   "source": [
    "# Regenerate the sentences from the indcies.\n",
    "[sequence for sequence in tokenizer.sequences_to_texts_generator(sequences)]"
   ]
  },
  {
   "cell_type": "code",
   "execution_count": null,
   "id": "de20feb9",
   "metadata": {},
   "outputs": [],
   "source": []
  }
 ],
 "metadata": {
  "kernelspec": {
   "display_name": "dev",
   "language": "python",
   "name": "dev"
  },
  "language_info": {
   "codemirror_mode": {
    "name": "ipython",
    "version": 3
   },
   "file_extension": ".py",
   "mimetype": "text/x-python",
   "name": "python",
   "nbconvert_exporter": "python",
   "pygments_lexer": "ipython3",
   "version": "3.10.13"
  }
 },
 "nbformat": 4,
 "nbformat_minor": 5
}
