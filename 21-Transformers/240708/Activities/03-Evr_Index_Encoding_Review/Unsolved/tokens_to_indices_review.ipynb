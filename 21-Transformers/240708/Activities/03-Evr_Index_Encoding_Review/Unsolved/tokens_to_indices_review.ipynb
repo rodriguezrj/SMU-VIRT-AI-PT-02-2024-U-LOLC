{
 "cells": [
  {
   "cell_type": "code",
   "execution_count": 2,
   "id": "949c4137",
   "metadata": {},
   "outputs": [],
   "source": [
    "# Import the dependencies\n",
    "# from keras.preprocessing.text import Tokenizer\n",
    "from tf_keras.preprocessing.text import Tokenizer"
   ]
  },
  {
   "cell_type": "code",
   "execution_count": 4,
   "id": "8fdb99bc",
   "metadata": {},
   "outputs": [],
   "source": [
    "# Define a list of sentences to tokenize. \n",
    "sentences = [\"I love my dog.\", \"I love my family.\", \"My dog is a lab\"]"
   ]
  },
  {
   "cell_type": "code",
   "execution_count": 5,
   "id": "e771d5dd",
   "metadata": {},
   "outputs": [],
   "source": [
    "# Create an instance of the Tokenizer\n",
    "tokenizer = Tokenizer()\n",
    "# Fit the tokenizer on the documents\n",
    "tokenizer.fit_on_texts(sentences)"
   ]
  },
  {
   "cell_type": "code",
   "execution_count": 6,
   "id": "3f6b87a1",
   "metadata": {},
   "outputs": [
    {
     "data": {
      "text/plain": [
       "{'my': 1, 'i': 2, 'love': 3, 'dog': 4, 'family': 5, 'is': 6, 'a': 7, 'lab': 8}"
      ]
     },
     "execution_count": 6,
     "metadata": {},
     "output_type": "execute_result"
    }
   ],
   "source": [
    "# Create a dictionary mapping of words to their indices\n",
    "tokenizer.word_index"
   ]
  },
  {
   "cell_type": "code",
   "execution_count": 7,
   "id": "0e4d0cb9",
   "metadata": {},
   "outputs": [
    {
     "data": {
      "text/plain": [
       "{1: 'my', 2: 'i', 3: 'love', 4: 'dog', 5: 'family', 6: 'is', 7: 'a', 8: 'lab'}"
      ]
     },
     "execution_count": 7,
     "metadata": {},
     "output_type": "execute_result"
    }
   ],
   "source": [
    "tokenizer.index_word"
   ]
  },
  {
   "cell_type": "code",
   "execution_count": 8,
   "id": "320f0b9b",
   "metadata": {},
   "outputs": [
    {
     "data": {
      "text/plain": [
       "[[2, 3, 1, 4], [2, 3, 1, 5], [1, 4, 6, 7, 8]]"
      ]
     },
     "execution_count": 8,
     "metadata": {},
     "output_type": "execute_result"
    }
   ],
   "source": [
    "# Encode each word in the text_sequences to the indices. \n",
    "sequences = tokenizer.texts_to_sequences(sentences)\n",
    "sequences"
   ]
  },
  {
   "cell_type": "code",
   "execution_count": 9,
   "id": "31d24c43",
   "metadata": {},
   "outputs": [
    {
     "data": {
      "text/plain": [
       "['i love my dog', 'i love my family', 'my dog is a lab']"
      ]
     },
     "execution_count": 9,
     "metadata": {},
     "output_type": "execute_result"
    }
   ],
   "source": [
    "# Regenerate the sentences from the indcies.\n",
    "tokenizer.sequences_to_texts(sequences)"
   ]
  }
 ],
 "metadata": {
  "kernelspec": {
   "display_name": "dev",
   "language": "python",
   "name": "dev"
  },
  "language_info": {
   "codemirror_mode": {
    "name": "ipython",
    "version": 3
   },
   "file_extension": ".py",
   "mimetype": "text/x-python",
   "name": "python",
   "nbconvert_exporter": "python",
   "pygments_lexer": "ipython3",
   "version": "3.10.13"
  }
 },
 "nbformat": 4,
 "nbformat_minor": 5
}
