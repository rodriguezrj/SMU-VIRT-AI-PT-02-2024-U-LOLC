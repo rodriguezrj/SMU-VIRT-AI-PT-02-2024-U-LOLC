{
 "cells": [
  {
   "cell_type": "markdown",
   "metadata": {},
   "source": [
    "# House of Requests"
   ]
  },
  {
   "cell_type": "markdown",
   "metadata": {},
   "source": [
    "Use the `Deck of Cards` API to play a game of BlackJack with a partner. Parameterize the `Deck of Cards` API `request urls` in order to create the deck of cards, as well as draw cards for the game."
   ]
  },
  {
   "cell_type": "code",
   "execution_count": 1,
   "metadata": {},
   "outputs": [],
   "source": [
    "import requests\n",
    "import json"
   ]
  },
  {
   "cell_type": "markdown",
   "metadata": {},
   "source": [
    "## Prep for the Game"
   ]
  },
  {
   "cell_type": "code",
   "execution_count": 3,
   "metadata": {},
   "outputs": [
    {
     "data": {
      "text/plain": [
       "312"
      ]
     },
     "execution_count": 3,
     "metadata": {},
     "output_type": "execute_result"
    }
   ],
   "source": [
    "6*52"
   ]
  },
  {
   "cell_type": "code",
   "execution_count": 2,
   "metadata": {},
   "outputs": [
    {
     "data": {
      "text/plain": [
       "{'success': True,\n",
       " 'deck_id': 'bel5kf1wyc2y',\n",
       " 'remaining': 312,\n",
       " 'shuffled': True}"
      ]
     },
     "execution_count": 2,
     "metadata": {},
     "output_type": "execute_result"
    }
   ],
   "source": [
    "# Declare request url to create deck id\n",
    "create_deck_url = \"https://deckofcardsapi.com/api/deck/new/shuffle/?deck_count=6\"\n",
    "\n",
    "# Execute create deck url\n",
    "response_data = requests.get(create_deck_url).json()\n",
    "response_data"
   ]
  },
  {
   "cell_type": "markdown",
   "metadata": {},
   "source": [
    "### Parse JSON and extract `deck_id`"
   ]
  },
  {
   "cell_type": "code",
   "execution_count": 6,
   "metadata": {},
   "outputs": [
    {
     "name": "stdout",
     "output_type": "stream",
     "text": [
      "bel5kf1wyc2y\n"
     ]
    }
   ],
   "source": [
    "# Select deck_id\n",
    "deck_id = response_data['deck_id']\n",
    "\n",
    "print(deck_id)"
   ]
  },
  {
   "cell_type": "markdown",
   "metadata": {},
   "source": [
    "### Declare request urls to draw cards and shuffle deck"
   ]
  },
  {
   "cell_type": "code",
   "execution_count": 7,
   "metadata": {},
   "outputs": [
    {
     "name": "stdout",
     "output_type": "stream",
     "text": [
      "https://deckofcardsapi.com/api/deck/bel5kf1wyc2y/draw/?count=2\n",
      "https://deckofcardsapi.com/api/deck/bel5kf1wyc2y/shuffle/\n"
     ]
    }
   ],
   "source": [
    "# Declare draw_cards_url and shuffle_deck_url\n",
    "# Use string interpolation to incorporate the deck_id\n",
    "draw_cards_url = f\"https://deckofcardsapi.com/api/deck/{deck_id}/draw/?count=2\"\n",
    "shuffle_deck_url = f\"https://deckofcardsapi.com/api/deck/{deck_id}/shuffle/\"\n",
    "print(draw_cards_url)\n",
    "print(shuffle_deck_url)"
   ]
  },
  {
   "cell_type": "markdown",
   "metadata": {},
   "source": [
    "## Player 1 Turn"
   ]
  },
  {
   "cell_type": "markdown",
   "metadata": {},
   "source": [
    "### Draw two cards"
   ]
  },
  {
   "cell_type": "code",
   "execution_count": 8,
   "metadata": {},
   "outputs": [
    {
     "data": {
      "text/plain": [
       "{'success': True,\n",
       " 'deck_id': 'bel5kf1wyc2y',\n",
       " 'cards': [{'code': '3C',\n",
       "   'image': 'https://deckofcardsapi.com/static/img/3C.png',\n",
       "   'images': {'svg': 'https://deckofcardsapi.com/static/img/3C.svg',\n",
       "    'png': 'https://deckofcardsapi.com/static/img/3C.png'},\n",
       "   'value': '3',\n",
       "   'suit': 'CLUBS'},\n",
       "  {'code': '6S',\n",
       "   'image': 'https://deckofcardsapi.com/static/img/6S.png',\n",
       "   'images': {'svg': 'https://deckofcardsapi.com/static/img/6S.svg',\n",
       "    'png': 'https://deckofcardsapi.com/static/img/6S.png'},\n",
       "   'value': '6',\n",
       "   'suit': 'SPADES'}],\n",
       " 'remaining': 310}"
      ]
     },
     "execution_count": 8,
     "metadata": {},
     "output_type": "execute_result"
    }
   ],
   "source": [
    "# Draw two cards\n",
    "pl1_draw2 = requests.get(draw_cards_url).json()\n",
    "pl1_draw2"
   ]
  },
  {
   "cell_type": "markdown",
   "metadata": {},
   "source": [
    "### Parse and extract `value` and `suit` elements from JSON output, for each card"
   ]
  },
  {
   "cell_type": "code",
   "execution_count": 9,
   "metadata": {},
   "outputs": [
    {
     "name": "stdout",
     "output_type": "stream",
     "text": [
      "3 of CLUBS\n",
      "6 of SPADES\n"
     ]
    }
   ],
   "source": [
    "# Select returned card's value and suit (i.e. 3 of clubs)\n",
    "player_1_card_1= pl1_draw2['cards'][0]['value'] + \" of \" + pl1_draw2['cards'][0]['suit']\n",
    "player_1_card_2= pl1_draw2['cards'][1]['value'] + \" of \" + pl1_draw2['cards'][1]['suit']\n",
    "\n",
    "\n",
    "# Print player cards\n",
    "print(player_1_card_1)\n",
    "print(player_1_card_2)"
   ]
  },
  {
   "cell_type": "markdown",
   "metadata": {},
   "source": [
    "### Decide whether to draw another card or skip to next player turn"
   ]
  },
  {
   "cell_type": "code",
   "execution_count": 10,
   "metadata": {},
   "outputs": [
    {
     "name": "stdout",
     "output_type": "stream",
     "text": [
      "3 of DIAMONDS\n"
     ]
    }
   ],
   "source": [
    "# Draw a third card\n",
    "draw_cards_url = f\"https://deckofcardsapi.com/api/deck/{deck_id}/draw/?count=1\"\n",
    "new_card = requests.get(draw_cards_url).json()\n",
    "\n",
    "# Select returned card's value and suit (i.e. 3 of clubs)\n",
    "player_1_card_3= new_card['cards'][0]['value'] + \" of \" + new_card['cards'][0]['suit']\n",
    "\n",
    "\n",
    "# Print player card\n",
    "print(player_1_card_3)"
   ]
  },
  {
   "cell_type": "markdown",
   "metadata": {},
   "source": [
    "### Manually calculate player 1 points and enter below"
   ]
  },
  {
   "cell_type": "markdown",
   "metadata": {},
   "source": [
    "Player 1 points = "
   ]
  },
  {
   "cell_type": "raw",
   "metadata": {},
   "source": []
  },
  {
   "cell_type": "markdown",
   "metadata": {},
   "source": [
    "## Player 2 / Dealer Turn"
   ]
  },
  {
   "cell_type": "code",
   "execution_count": null,
   "metadata": {},
   "outputs": [],
   "source": [
    "# Draw two cards for player 1\n",
    "\n",
    "\n",
    "# Select card value and suit \n",
    "\n",
    "\n",
    "# Print player cards\n",
    "print(player_2_card_1)\n",
    "print(player_2_card_2)\n",
    "\n",
    "# Draw third card for player 2\n",
    "\n",
    "\n",
    "# Print player card\n",
    "print(player_2_card_3)"
   ]
  },
  {
   "cell_type": "markdown",
   "metadata": {},
   "source": [
    "### Manually calculate player 2 points and enter below"
   ]
  },
  {
   "cell_type": "markdown",
   "metadata": {},
   "source": [
    "Player 2 points ="
   ]
  },
  {
   "cell_type": "raw",
   "metadata": {},
   "source": []
  }
 ],
 "metadata": {
  "kernelspec": {
   "display_name": "Python 3",
   "language": "python",
   "name": "python3"
  },
  "language_info": {
   "codemirror_mode": {
    "name": "ipython",
    "version": 3
   },
   "file_extension": ".py",
   "mimetype": "text/x-python",
   "name": "python",
   "nbconvert_exporter": "python",
   "pygments_lexer": "ipython3",
   "version": "3.11.7"
  }
 },
 "nbformat": 4,
 "nbformat_minor": 4
}
