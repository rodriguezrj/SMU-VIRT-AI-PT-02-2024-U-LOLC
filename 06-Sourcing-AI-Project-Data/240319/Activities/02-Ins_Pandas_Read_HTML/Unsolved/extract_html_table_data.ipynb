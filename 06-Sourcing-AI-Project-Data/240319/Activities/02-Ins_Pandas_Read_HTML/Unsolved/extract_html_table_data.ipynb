{
 "cells": [
  {
   "cell_type": "markdown",
   "metadata": {
    "slideshow": {
     "slide_type": "slide"
    }
   },
   "source": [
    "# Sourcing Data from HTML Tables with Pandas"
   ]
  },
  {
   "cell_type": "code",
   "execution_count": 2,
   "metadata": {
    "slideshow": {
     "slide_type": "slide"
    }
   },
   "outputs": [],
   "source": [
    "import pandas as pd"
   ]
  },
  {
   "cell_type": "markdown",
   "metadata": {
    "slideshow": {
     "slide_type": "subslide"
    }
   },
   "source": [
    "We can use the `read_html` function in Pandas to automatically extract any tabular data from a page."
   ]
  },
  {
   "cell_type": "code",
   "execution_count": 3,
   "metadata": {
    "slideshow": {
     "slide_type": "fragment"
    }
   },
   "outputs": [],
   "source": [
    "url = 'https://en.wikipedia.org/wiki/List_of_Australian_capital_cities'"
   ]
  },
  {
   "cell_type": "code",
   "execution_count": 4,
   "metadata": {
    "slideshow": {
     "slide_type": "fragment"
    }
   },
   "outputs": [
    {
     "data": {
      "text/plain": [
       "[                                                   0\n",
       " 0  WESTERN AUSTRALIA NORTHERN TERRITORY SOUTH AUS...,\n",
       "                 State/territory    Capital  City population[2]  \\\n",
       " 0               New South Wales     Sydney             5029768   \n",
       " 1                      Victoria  Melbourne             4725316   \n",
       " 2                    Queensland   Brisbane             2360241   \n",
       " 3             Western Australia      Perth             2022044   \n",
       " 4               South Australia   Adelaide             1324279   \n",
       " 5                      Tasmania     Hobart              224462   \n",
       " 6  Australian Capital Territory   Canberra              403468   \n",
       " 7            Northern Territory     Darwin              145916   \n",
       " \n",
       "    State/territory population[3]  \\\n",
       " 0                        7759274   \n",
       " 1                        6179249   \n",
       " 2                        4848877   \n",
       " 3                        2558951   \n",
       " 4                        1713054   \n",
       " 5                         517588   \n",
       " 6                         403468   \n",
       " 7                         245740   \n",
       " \n",
       "   Percentage of state/territory population in capital city  Established  \\\n",
       " 0                                             64.82%               1788   \n",
       " 1                                             76.47%               1835   \n",
       " 2                                             48.68%               1825   \n",
       " 3                                             79.02%               1829   \n",
       " 4                                             77.31%               1836   \n",
       " 5                                             43.37%               1804   \n",
       " 6                                            100.00%               1913   \n",
       " 7                                             59.38%               1869   \n",
       " \n",
       "    Capital since  Image  \n",
       " 0           1788    NaN  \n",
       " 1           1851    NaN  \n",
       " 2           1860    NaN  \n",
       " 3           1829    NaN  \n",
       " 4           1836    NaN  \n",
       " 5           1826    NaN  \n",
       " 6           1913    NaN  \n",
       " 7           1911    NaN  ,\n",
       "                                 vteAustralia articles  \\\n",
       " 0                                             History   \n",
       " 1   Timeline Bibliography Prehistory Archaeology E...   \n",
       " 2                                            By topic   \n",
       " 3                                           Geography   \n",
       " 4   Climate Climate change Continent Deserts Envir...   \n",
       " 5                                        Subdivisions   \n",
       " 6                                            Politics   \n",
       " 7   Asylum Constitution Courts Elections Donations...   \n",
       " 8                                             Economy   \n",
       " 9   Agriculture Dollar Energy Gross state product ...   \n",
       " 10                                            Society   \n",
       " 11  Abortion Aged care Censorship Citizenship Crim...   \n",
       " 12                                            Culture   \n",
       " 13           OutlineIndexBibliography Category Portal   \n",
       " \n",
       "                               vteAustralia articles.1  \n",
       " 0   Timeline Bibliography Prehistory Archaeology E...  \n",
       " 1   Timeline Bibliography Prehistory Archaeology E...  \n",
       " 2   Asian Australians Constitutional Diplomatic Ec...  \n",
       " 3   Climate Climate change Continent Deserts Envir...  \n",
       " 4   Climate Climate change Continent Deserts Envir...  \n",
       " 5              States and territories Capitals Cities  \n",
       " 6   Asylum Constitution Courts Elections Donations...  \n",
       " 7   Asylum Constitution Courts Elections Donations...  \n",
       " 8   Agriculture Dollar Energy Gross state product ...  \n",
       " 9   Agriculture Dollar Energy Gross state product ...  \n",
       " 10  Abortion Aged care Censorship Citizenship Crim...  \n",
       " 11  Abortion Aged care Censorship Citizenship Crim...  \n",
       " 12  Architecture Art Arts Australian English Cinem...  \n",
       " 13           OutlineIndexBibliography Category Portal  ,\n",
       "                                                    0  \\\n",
       " 0  Timeline Bibliography Prehistory Archaeology E...   \n",
       " 1                                           By topic   \n",
       " \n",
       "                                                    1  \n",
       " 0  Timeline Bibliography Prehistory Archaeology E...  \n",
       " 1  Asian Australians Constitutional Diplomatic Ec...  ,\n",
       "                                                    0  \\\n",
       " 0  Climate Climate change Continent Deserts Envir...   \n",
       " 1                                       Subdivisions   \n",
       " \n",
       "                                                    1  \n",
       " 0  Climate Climate change Continent Deserts Envir...  \n",
       " 1             States and territories Capitals Cities  ,\n",
       "                                                    0  \\\n",
       " 0  Asylum Constitution Courts Elections Donations...   \n",
       " \n",
       "                                                    1  \n",
       " 0  Asylum Constitution Courts Elections Donations...  ,\n",
       "                                                    0  \\\n",
       " 0  Agriculture Dollar Energy Gross state product ...   \n",
       " \n",
       "                                                    1  \n",
       " 0  Agriculture Dollar Energy Gross state product ...  ,\n",
       "                                                    0  \\\n",
       " 0  Abortion Aged care Censorship Citizenship Crim...   \n",
       " 1                                            Culture   \n",
       " \n",
       "                                                    1  \n",
       " 0  Abortion Aged care Censorship Citizenship Crim...  \n",
       " 1  Architecture Art Arts Australian English Cinem...  ,\n",
       "                       vteCapital cities of Australia  \\\n",
       " 0  National and ACT Canberra NSW Sydney NT Darwin...   \n",
       " 1                          National and ACT Canberra   \n",
       " 2                        List of cities in Australia   \n",
       " \n",
       "                     vteCapital cities of Australia.1 Unnamed: 2    Unnamed: 3  \\\n",
       " 0  National and ACT Canberra NSW Sydney NT Darwin...        NaN           NaN   \n",
       " 1                                         NSW Sydney  NT Darwin  QLD Brisbane   \n",
       " 2                        List of cities in Australia        NaN           NaN   \n",
       " \n",
       "     Unnamed: 4  Unnamed: 5     Unnamed: 6 Unnamed: 7  \n",
       " 0          NaN         NaN            NaN        NaN  \n",
       " 1  SA Adelaide  TAS Hobart  VIC Melbourne   WA Perth  \n",
       " 2          NaN         NaN            NaN        NaN  ,\n",
       "                            0           1          2             3  \\\n",
       " 0  National and ACT Canberra  NSW Sydney  NT Darwin  QLD Brisbane   \n",
       " \n",
       "              4           5              6         7  \n",
       " 0  SA Adelaide  TAS Hobart  VIC Melbourne  WA Perth  ]"
      ]
     },
     "execution_count": 4,
     "metadata": {},
     "output_type": "execute_result"
    }
   ],
   "source": [
    "tables = pd.read_html(url)\n",
    "\n",
    "tables"
   ]
  },
  {
   "cell_type": "code",
   "execution_count": 11,
   "metadata": {},
   "outputs": [
    {
     "data": {
      "text/html": [
       "<div>\n",
       "<style scoped>\n",
       "    .dataframe tbody tr th:only-of-type {\n",
       "        vertical-align: middle;\n",
       "    }\n",
       "\n",
       "    .dataframe tbody tr th {\n",
       "        vertical-align: top;\n",
       "    }\n",
       "\n",
       "    .dataframe thead th {\n",
       "        text-align: right;\n",
       "    }\n",
       "</style>\n",
       "<table border=\"1\" class=\"dataframe\">\n",
       "  <thead>\n",
       "    <tr style=\"text-align: right;\">\n",
       "      <th></th>\n",
       "      <th>0</th>\n",
       "    </tr>\n",
       "  </thead>\n",
       "  <tbody>\n",
       "    <tr>\n",
       "      <th>0</th>\n",
       "      <td>WESTERN AUSTRALIA NORTHERN TERRITORY SOUTH AUS...</td>\n",
       "    </tr>\n",
       "  </tbody>\n",
       "</table>\n",
       "</div>"
      ],
      "text/plain": [
       "                                                   0\n",
       "0  WESTERN AUSTRALIA NORTHERN TERRITORY SOUTH AUS..."
      ]
     },
     "execution_count": 11,
     "metadata": {},
     "output_type": "execute_result"
    }
   ],
   "source": [
    "tables[0]"
   ]
  },
  {
   "cell_type": "code",
   "execution_count": 12,
   "metadata": {},
   "outputs": [
    {
     "data": {
      "text/html": [
       "<div>\n",
       "<style scoped>\n",
       "    .dataframe tbody tr th:only-of-type {\n",
       "        vertical-align: middle;\n",
       "    }\n",
       "\n",
       "    .dataframe tbody tr th {\n",
       "        vertical-align: top;\n",
       "    }\n",
       "\n",
       "    .dataframe thead th {\n",
       "        text-align: right;\n",
       "    }\n",
       "</style>\n",
       "<table border=\"1\" class=\"dataframe\">\n",
       "  <thead>\n",
       "    <tr style=\"text-align: right;\">\n",
       "      <th></th>\n",
       "      <th>State/territory</th>\n",
       "      <th>Capital</th>\n",
       "      <th>City population[2]</th>\n",
       "      <th>State/territory population[3]</th>\n",
       "      <th>Percentage of state/territory population in capital city</th>\n",
       "      <th>Established</th>\n",
       "      <th>Capital since</th>\n",
       "      <th>Image</th>\n",
       "    </tr>\n",
       "  </thead>\n",
       "  <tbody>\n",
       "    <tr>\n",
       "      <th>0</th>\n",
       "      <td>New South Wales</td>\n",
       "      <td>Sydney</td>\n",
       "      <td>5029768</td>\n",
       "      <td>7759274</td>\n",
       "      <td>64.82%</td>\n",
       "      <td>1788</td>\n",
       "      <td>1788</td>\n",
       "      <td>NaN</td>\n",
       "    </tr>\n",
       "    <tr>\n",
       "      <th>1</th>\n",
       "      <td>Victoria</td>\n",
       "      <td>Melbourne</td>\n",
       "      <td>4725316</td>\n",
       "      <td>6179249</td>\n",
       "      <td>76.47%</td>\n",
       "      <td>1835</td>\n",
       "      <td>1851</td>\n",
       "      <td>NaN</td>\n",
       "    </tr>\n",
       "    <tr>\n",
       "      <th>2</th>\n",
       "      <td>Queensland</td>\n",
       "      <td>Brisbane</td>\n",
       "      <td>2360241</td>\n",
       "      <td>4848877</td>\n",
       "      <td>48.68%</td>\n",
       "      <td>1825</td>\n",
       "      <td>1860</td>\n",
       "      <td>NaN</td>\n",
       "    </tr>\n",
       "    <tr>\n",
       "      <th>3</th>\n",
       "      <td>Western Australia</td>\n",
       "      <td>Perth</td>\n",
       "      <td>2022044</td>\n",
       "      <td>2558951</td>\n",
       "      <td>79.02%</td>\n",
       "      <td>1829</td>\n",
       "      <td>1829</td>\n",
       "      <td>NaN</td>\n",
       "    </tr>\n",
       "    <tr>\n",
       "      <th>4</th>\n",
       "      <td>South Australia</td>\n",
       "      <td>Adelaide</td>\n",
       "      <td>1324279</td>\n",
       "      <td>1713054</td>\n",
       "      <td>77.31%</td>\n",
       "      <td>1836</td>\n",
       "      <td>1836</td>\n",
       "      <td>NaN</td>\n",
       "    </tr>\n",
       "    <tr>\n",
       "      <th>5</th>\n",
       "      <td>Tasmania</td>\n",
       "      <td>Hobart</td>\n",
       "      <td>224462</td>\n",
       "      <td>517588</td>\n",
       "      <td>43.37%</td>\n",
       "      <td>1804</td>\n",
       "      <td>1826</td>\n",
       "      <td>NaN</td>\n",
       "    </tr>\n",
       "    <tr>\n",
       "      <th>6</th>\n",
       "      <td>Australian Capital Territory</td>\n",
       "      <td>Canberra</td>\n",
       "      <td>403468</td>\n",
       "      <td>403468</td>\n",
       "      <td>100.00%</td>\n",
       "      <td>1913</td>\n",
       "      <td>1913</td>\n",
       "      <td>NaN</td>\n",
       "    </tr>\n",
       "    <tr>\n",
       "      <th>7</th>\n",
       "      <td>Northern Territory</td>\n",
       "      <td>Darwin</td>\n",
       "      <td>145916</td>\n",
       "      <td>245740</td>\n",
       "      <td>59.38%</td>\n",
       "      <td>1869</td>\n",
       "      <td>1911</td>\n",
       "      <td>NaN</td>\n",
       "    </tr>\n",
       "  </tbody>\n",
       "</table>\n",
       "</div>"
      ],
      "text/plain": [
       "                State/territory    Capital  City population[2]  \\\n",
       "0               New South Wales     Sydney             5029768   \n",
       "1                      Victoria  Melbourne             4725316   \n",
       "2                    Queensland   Brisbane             2360241   \n",
       "3             Western Australia      Perth             2022044   \n",
       "4               South Australia   Adelaide             1324279   \n",
       "5                      Tasmania     Hobart              224462   \n",
       "6  Australian Capital Territory   Canberra              403468   \n",
       "7            Northern Territory     Darwin              145916   \n",
       "\n",
       "   State/territory population[3]  \\\n",
       "0                        7759274   \n",
       "1                        6179249   \n",
       "2                        4848877   \n",
       "3                        2558951   \n",
       "4                        1713054   \n",
       "5                         517588   \n",
       "6                         403468   \n",
       "7                         245740   \n",
       "\n",
       "  Percentage of state/territory population in capital city  Established  \\\n",
       "0                                             64.82%               1788   \n",
       "1                                             76.47%               1835   \n",
       "2                                             48.68%               1825   \n",
       "3                                             79.02%               1829   \n",
       "4                                             77.31%               1836   \n",
       "5                                             43.37%               1804   \n",
       "6                                            100.00%               1913   \n",
       "7                                             59.38%               1869   \n",
       "\n",
       "   Capital since  Image  \n",
       "0           1788    NaN  \n",
       "1           1851    NaN  \n",
       "2           1860    NaN  \n",
       "3           1829    NaN  \n",
       "4           1836    NaN  \n",
       "5           1826    NaN  \n",
       "6           1913    NaN  \n",
       "7           1911    NaN  "
      ]
     },
     "execution_count": 12,
     "metadata": {},
     "output_type": "execute_result"
    }
   ],
   "source": [
    "tables[1]"
   ]
  },
  {
   "cell_type": "code",
   "execution_count": 13,
   "metadata": {},
   "outputs": [
    {
     "data": {
      "text/html": [
       "<div>\n",
       "<style scoped>\n",
       "    .dataframe tbody tr th:only-of-type {\n",
       "        vertical-align: middle;\n",
       "    }\n",
       "\n",
       "    .dataframe tbody tr th {\n",
       "        vertical-align: top;\n",
       "    }\n",
       "\n",
       "    .dataframe thead th {\n",
       "        text-align: right;\n",
       "    }\n",
       "</style>\n",
       "<table border=\"1\" class=\"dataframe\">\n",
       "  <thead>\n",
       "    <tr style=\"text-align: right;\">\n",
       "      <th></th>\n",
       "      <th>vteAustralia articles</th>\n",
       "      <th>vteAustralia articles.1</th>\n",
       "    </tr>\n",
       "  </thead>\n",
       "  <tbody>\n",
       "    <tr>\n",
       "      <th>0</th>\n",
       "      <td>History</td>\n",
       "      <td>Timeline Bibliography Prehistory Archaeology E...</td>\n",
       "    </tr>\n",
       "    <tr>\n",
       "      <th>1</th>\n",
       "      <td>Timeline Bibliography Prehistory Archaeology E...</td>\n",
       "      <td>Timeline Bibliography Prehistory Archaeology E...</td>\n",
       "    </tr>\n",
       "    <tr>\n",
       "      <th>2</th>\n",
       "      <td>By topic</td>\n",
       "      <td>Asian Australians Constitutional Diplomatic Ec...</td>\n",
       "    </tr>\n",
       "    <tr>\n",
       "      <th>3</th>\n",
       "      <td>Geography</td>\n",
       "      <td>Climate Climate change Continent Deserts Envir...</td>\n",
       "    </tr>\n",
       "    <tr>\n",
       "      <th>4</th>\n",
       "      <td>Climate Climate change Continent Deserts Envir...</td>\n",
       "      <td>Climate Climate change Continent Deserts Envir...</td>\n",
       "    </tr>\n",
       "    <tr>\n",
       "      <th>5</th>\n",
       "      <td>Subdivisions</td>\n",
       "      <td>States and territories Capitals Cities</td>\n",
       "    </tr>\n",
       "    <tr>\n",
       "      <th>6</th>\n",
       "      <td>Politics</td>\n",
       "      <td>Asylum Constitution Courts Elections Donations...</td>\n",
       "    </tr>\n",
       "    <tr>\n",
       "      <th>7</th>\n",
       "      <td>Asylum Constitution Courts Elections Donations...</td>\n",
       "      <td>Asylum Constitution Courts Elections Donations...</td>\n",
       "    </tr>\n",
       "    <tr>\n",
       "      <th>8</th>\n",
       "      <td>Economy</td>\n",
       "      <td>Agriculture Dollar Energy Gross state product ...</td>\n",
       "    </tr>\n",
       "    <tr>\n",
       "      <th>9</th>\n",
       "      <td>Agriculture Dollar Energy Gross state product ...</td>\n",
       "      <td>Agriculture Dollar Energy Gross state product ...</td>\n",
       "    </tr>\n",
       "    <tr>\n",
       "      <th>10</th>\n",
       "      <td>Society</td>\n",
       "      <td>Abortion Aged care Censorship Citizenship Crim...</td>\n",
       "    </tr>\n",
       "    <tr>\n",
       "      <th>11</th>\n",
       "      <td>Abortion Aged care Censorship Citizenship Crim...</td>\n",
       "      <td>Abortion Aged care Censorship Citizenship Crim...</td>\n",
       "    </tr>\n",
       "    <tr>\n",
       "      <th>12</th>\n",
       "      <td>Culture</td>\n",
       "      <td>Architecture Art Arts Australian English Cinem...</td>\n",
       "    </tr>\n",
       "    <tr>\n",
       "      <th>13</th>\n",
       "      <td>OutlineIndexBibliography Category Portal</td>\n",
       "      <td>OutlineIndexBibliography Category Portal</td>\n",
       "    </tr>\n",
       "  </tbody>\n",
       "</table>\n",
       "</div>"
      ],
      "text/plain": [
       "                                vteAustralia articles  \\\n",
       "0                                             History   \n",
       "1   Timeline Bibliography Prehistory Archaeology E...   \n",
       "2                                            By topic   \n",
       "3                                           Geography   \n",
       "4   Climate Climate change Continent Deserts Envir...   \n",
       "5                                        Subdivisions   \n",
       "6                                            Politics   \n",
       "7   Asylum Constitution Courts Elections Donations...   \n",
       "8                                             Economy   \n",
       "9   Agriculture Dollar Energy Gross state product ...   \n",
       "10                                            Society   \n",
       "11  Abortion Aged care Censorship Citizenship Crim...   \n",
       "12                                            Culture   \n",
       "13           OutlineIndexBibliography Category Portal   \n",
       "\n",
       "                              vteAustralia articles.1  \n",
       "0   Timeline Bibliography Prehistory Archaeology E...  \n",
       "1   Timeline Bibliography Prehistory Archaeology E...  \n",
       "2   Asian Australians Constitutional Diplomatic Ec...  \n",
       "3   Climate Climate change Continent Deserts Envir...  \n",
       "4   Climate Climate change Continent Deserts Envir...  \n",
       "5              States and territories Capitals Cities  \n",
       "6   Asylum Constitution Courts Elections Donations...  \n",
       "7   Asylum Constitution Courts Elections Donations...  \n",
       "8   Agriculture Dollar Energy Gross state product ...  \n",
       "9   Agriculture Dollar Energy Gross state product ...  \n",
       "10  Abortion Aged care Censorship Citizenship Crim...  \n",
       "11  Abortion Aged care Censorship Citizenship Crim...  \n",
       "12  Architecture Art Arts Australian English Cinem...  \n",
       "13           OutlineIndexBibliography Category Portal  "
      ]
     },
     "execution_count": 13,
     "metadata": {},
     "output_type": "execute_result"
    }
   ],
   "source": [
    "tables[2]"
   ]
  },
  {
   "cell_type": "code",
   "execution_count": 14,
   "metadata": {},
   "outputs": [
    {
     "data": {
      "text/html": [
       "<div>\n",
       "<style scoped>\n",
       "    .dataframe tbody tr th:only-of-type {\n",
       "        vertical-align: middle;\n",
       "    }\n",
       "\n",
       "    .dataframe tbody tr th {\n",
       "        vertical-align: top;\n",
       "    }\n",
       "\n",
       "    .dataframe thead th {\n",
       "        text-align: right;\n",
       "    }\n",
       "</style>\n",
       "<table border=\"1\" class=\"dataframe\">\n",
       "  <thead>\n",
       "    <tr style=\"text-align: right;\">\n",
       "      <th></th>\n",
       "      <th>0</th>\n",
       "      <th>1</th>\n",
       "    </tr>\n",
       "  </thead>\n",
       "  <tbody>\n",
       "    <tr>\n",
       "      <th>0</th>\n",
       "      <td>Timeline Bibliography Prehistory Archaeology E...</td>\n",
       "      <td>Timeline Bibliography Prehistory Archaeology E...</td>\n",
       "    </tr>\n",
       "    <tr>\n",
       "      <th>1</th>\n",
       "      <td>By topic</td>\n",
       "      <td>Asian Australians Constitutional Diplomatic Ec...</td>\n",
       "    </tr>\n",
       "  </tbody>\n",
       "</table>\n",
       "</div>"
      ],
      "text/plain": [
       "                                                   0  \\\n",
       "0  Timeline Bibliography Prehistory Archaeology E...   \n",
       "1                                           By topic   \n",
       "\n",
       "                                                   1  \n",
       "0  Timeline Bibliography Prehistory Archaeology E...  \n",
       "1  Asian Australians Constitutional Diplomatic Ec...  "
      ]
     },
     "execution_count": 14,
     "metadata": {},
     "output_type": "execute_result"
    }
   ],
   "source": [
    "tables[3]"
   ]
  },
  {
   "cell_type": "code",
   "execution_count": 15,
   "metadata": {},
   "outputs": [
    {
     "data": {
      "text/html": [
       "<div>\n",
       "<style scoped>\n",
       "    .dataframe tbody tr th:only-of-type {\n",
       "        vertical-align: middle;\n",
       "    }\n",
       "\n",
       "    .dataframe tbody tr th {\n",
       "        vertical-align: top;\n",
       "    }\n",
       "\n",
       "    .dataframe thead th {\n",
       "        text-align: right;\n",
       "    }\n",
       "</style>\n",
       "<table border=\"1\" class=\"dataframe\">\n",
       "  <thead>\n",
       "    <tr style=\"text-align: right;\">\n",
       "      <th></th>\n",
       "      <th>0</th>\n",
       "      <th>1</th>\n",
       "    </tr>\n",
       "  </thead>\n",
       "  <tbody>\n",
       "    <tr>\n",
       "      <th>0</th>\n",
       "      <td>Climate Climate change Continent Deserts Envir...</td>\n",
       "      <td>Climate Climate change Continent Deserts Envir...</td>\n",
       "    </tr>\n",
       "    <tr>\n",
       "      <th>1</th>\n",
       "      <td>Subdivisions</td>\n",
       "      <td>States and territories Capitals Cities</td>\n",
       "    </tr>\n",
       "  </tbody>\n",
       "</table>\n",
       "</div>"
      ],
      "text/plain": [
       "                                                   0  \\\n",
       "0  Climate Climate change Continent Deserts Envir...   \n",
       "1                                       Subdivisions   \n",
       "\n",
       "                                                   1  \n",
       "0  Climate Climate change Continent Deserts Envir...  \n",
       "1             States and territories Capitals Cities  "
      ]
     },
     "execution_count": 15,
     "metadata": {},
     "output_type": "execute_result"
    }
   ],
   "source": [
    "tables[4]"
   ]
  },
  {
   "cell_type": "markdown",
   "metadata": {
    "slideshow": {
     "slide_type": "subslide"
    }
   },
   "source": [
    "#### What we get in return is a list of DataFrames for any tabular data that Pandas found."
   ]
  },
  {
   "cell_type": "code",
   "execution_count": 17,
   "metadata": {
    "slideshow": {
     "slide_type": "fragment"
    }
   },
   "outputs": [
    {
     "data": {
      "text/plain": [
       "10"
      ]
     },
     "execution_count": 17,
     "metadata": {},
     "output_type": "execute_result"
    }
   ],
   "source": [
    "type(tables)\n",
    "len(tables)"
   ]
  },
  {
   "cell_type": "markdown",
   "metadata": {
    "slideshow": {
     "slide_type": "subslide"
    }
   },
   "source": [
    "#### We can slice off any of those dataframes that we want using normal indexing."
   ]
  },
  {
   "cell_type": "code",
   "execution_count": 18,
   "metadata": {
    "slideshow": {
     "slide_type": "fragment"
    }
   },
   "outputs": [
    {
     "data": {
      "text/html": [
       "<div>\n",
       "<style scoped>\n",
       "    .dataframe tbody tr th:only-of-type {\n",
       "        vertical-align: middle;\n",
       "    }\n",
       "\n",
       "    .dataframe tbody tr th {\n",
       "        vertical-align: top;\n",
       "    }\n",
       "\n",
       "    .dataframe thead th {\n",
       "        text-align: right;\n",
       "    }\n",
       "</style>\n",
       "<table border=\"1\" class=\"dataframe\">\n",
       "  <thead>\n",
       "    <tr style=\"text-align: right;\">\n",
       "      <th></th>\n",
       "      <th>State/territory</th>\n",
       "      <th>Capital</th>\n",
       "      <th>City population[2]</th>\n",
       "      <th>State/territory population[3]</th>\n",
       "      <th>Percentage of state/territory population in capital city</th>\n",
       "      <th>Established</th>\n",
       "      <th>Capital since</th>\n",
       "      <th>Image</th>\n",
       "    </tr>\n",
       "  </thead>\n",
       "  <tbody>\n",
       "    <tr>\n",
       "      <th>0</th>\n",
       "      <td>New South Wales</td>\n",
       "      <td>Sydney</td>\n",
       "      <td>5029768</td>\n",
       "      <td>7759274</td>\n",
       "      <td>64.82%</td>\n",
       "      <td>1788</td>\n",
       "      <td>1788</td>\n",
       "      <td>NaN</td>\n",
       "    </tr>\n",
       "    <tr>\n",
       "      <th>1</th>\n",
       "      <td>Victoria</td>\n",
       "      <td>Melbourne</td>\n",
       "      <td>4725316</td>\n",
       "      <td>6179249</td>\n",
       "      <td>76.47%</td>\n",
       "      <td>1835</td>\n",
       "      <td>1851</td>\n",
       "      <td>NaN</td>\n",
       "    </tr>\n",
       "    <tr>\n",
       "      <th>2</th>\n",
       "      <td>Queensland</td>\n",
       "      <td>Brisbane</td>\n",
       "      <td>2360241</td>\n",
       "      <td>4848877</td>\n",
       "      <td>48.68%</td>\n",
       "      <td>1825</td>\n",
       "      <td>1860</td>\n",
       "      <td>NaN</td>\n",
       "    </tr>\n",
       "    <tr>\n",
       "      <th>3</th>\n",
       "      <td>Western Australia</td>\n",
       "      <td>Perth</td>\n",
       "      <td>2022044</td>\n",
       "      <td>2558951</td>\n",
       "      <td>79.02%</td>\n",
       "      <td>1829</td>\n",
       "      <td>1829</td>\n",
       "      <td>NaN</td>\n",
       "    </tr>\n",
       "    <tr>\n",
       "      <th>4</th>\n",
       "      <td>South Australia</td>\n",
       "      <td>Adelaide</td>\n",
       "      <td>1324279</td>\n",
       "      <td>1713054</td>\n",
       "      <td>77.31%</td>\n",
       "      <td>1836</td>\n",
       "      <td>1836</td>\n",
       "      <td>NaN</td>\n",
       "    </tr>\n",
       "  </tbody>\n",
       "</table>\n",
       "</div>"
      ],
      "text/plain": [
       "     State/territory    Capital  City population[2]  \\\n",
       "0    New South Wales     Sydney             5029768   \n",
       "1           Victoria  Melbourne             4725316   \n",
       "2         Queensland   Brisbane             2360241   \n",
       "3  Western Australia      Perth             2022044   \n",
       "4    South Australia   Adelaide             1324279   \n",
       "\n",
       "   State/territory population[3]  \\\n",
       "0                        7759274   \n",
       "1                        6179249   \n",
       "2                        4848877   \n",
       "3                        2558951   \n",
       "4                        1713054   \n",
       "\n",
       "  Percentage of state/territory population in capital city  Established  \\\n",
       "0                                             64.82%               1788   \n",
       "1                                             76.47%               1835   \n",
       "2                                             48.68%               1825   \n",
       "3                                             79.02%               1829   \n",
       "4                                             77.31%               1836   \n",
       "\n",
       "   Capital since  Image  \n",
       "0           1788    NaN  \n",
       "1           1851    NaN  \n",
       "2           1860    NaN  \n",
       "3           1829    NaN  \n",
       "4           1836    NaN  "
      ]
     },
     "execution_count": 18,
     "metadata": {},
     "output_type": "execute_result"
    }
   ],
   "source": [
    "df = tables[1]\n",
    "df.head(5)"
   ]
  },
  {
   "cell_type": "markdown",
   "metadata": {
    "slideshow": {
     "slide_type": "subslide"
    }
   },
   "source": [
    "#### Fix column names"
   ]
  },
  {
   "cell_type": "code",
   "execution_count": 22,
   "metadata": {
    "scrolled": true
   },
   "outputs": [
    {
     "data": {
      "text/plain": [
       "Index(['State/territory', 'Capital', 'City population[2]',\n",
       "       'State/territory population[3]',\n",
       "       'Percentage of state/territory population in capital city',\n",
       "       'Established', 'Capital since', 'Image'],\n",
       "      dtype='object')"
      ]
     },
     "execution_count": 22,
     "metadata": {},
     "output_type": "execute_result"
    }
   ],
   "source": [
    "df.columns"
   ]
  },
  {
   "cell_type": "code",
   "execution_count": 23,
   "metadata": {},
   "outputs": [
    {
     "data": {
      "text/html": [
       "<div>\n",
       "<style scoped>\n",
       "    .dataframe tbody tr th:only-of-type {\n",
       "        vertical-align: middle;\n",
       "    }\n",
       "\n",
       "    .dataframe tbody tr th {\n",
       "        vertical-align: top;\n",
       "    }\n",
       "\n",
       "    .dataframe thead th {\n",
       "        text-align: right;\n",
       "    }\n",
       "</style>\n",
       "<table border=\"1\" class=\"dataframe\">\n",
       "  <thead>\n",
       "    <tr style=\"text-align: right;\">\n",
       "      <th></th>\n",
       "      <th>State/territory</th>\n",
       "      <th>Capital</th>\n",
       "      <th>City population[2]</th>\n",
       "      <th>State/territory population[3]</th>\n",
       "      <th>Percentage of state/territory population in capital city</th>\n",
       "      <th>Established</th>\n",
       "      <th>Capital since</th>\n",
       "      <th>Image</th>\n",
       "    </tr>\n",
       "  </thead>\n",
       "  <tbody>\n",
       "    <tr>\n",
       "      <th>0</th>\n",
       "      <td>New South Wales</td>\n",
       "      <td>Sydney</td>\n",
       "      <td>5029768</td>\n",
       "      <td>7759274</td>\n",
       "      <td>64.82%</td>\n",
       "      <td>1788</td>\n",
       "      <td>1788</td>\n",
       "      <td>NaN</td>\n",
       "    </tr>\n",
       "    <tr>\n",
       "      <th>1</th>\n",
       "      <td>Victoria</td>\n",
       "      <td>Melbourne</td>\n",
       "      <td>4725316</td>\n",
       "      <td>6179249</td>\n",
       "      <td>76.47%</td>\n",
       "      <td>1835</td>\n",
       "      <td>1851</td>\n",
       "      <td>NaN</td>\n",
       "    </tr>\n",
       "    <tr>\n",
       "      <th>2</th>\n",
       "      <td>Queensland</td>\n",
       "      <td>Brisbane</td>\n",
       "      <td>2360241</td>\n",
       "      <td>4848877</td>\n",
       "      <td>48.68%</td>\n",
       "      <td>1825</td>\n",
       "      <td>1860</td>\n",
       "      <td>NaN</td>\n",
       "    </tr>\n",
       "    <tr>\n",
       "      <th>3</th>\n",
       "      <td>Western Australia</td>\n",
       "      <td>Perth</td>\n",
       "      <td>2022044</td>\n",
       "      <td>2558951</td>\n",
       "      <td>79.02%</td>\n",
       "      <td>1829</td>\n",
       "      <td>1829</td>\n",
       "      <td>NaN</td>\n",
       "    </tr>\n",
       "    <tr>\n",
       "      <th>4</th>\n",
       "      <td>South Australia</td>\n",
       "      <td>Adelaide</td>\n",
       "      <td>1324279</td>\n",
       "      <td>1713054</td>\n",
       "      <td>77.31%</td>\n",
       "      <td>1836</td>\n",
       "      <td>1836</td>\n",
       "      <td>NaN</td>\n",
       "    </tr>\n",
       "    <tr>\n",
       "      <th>5</th>\n",
       "      <td>Tasmania</td>\n",
       "      <td>Hobart</td>\n",
       "      <td>224462</td>\n",
       "      <td>517588</td>\n",
       "      <td>43.37%</td>\n",
       "      <td>1804</td>\n",
       "      <td>1826</td>\n",
       "      <td>NaN</td>\n",
       "    </tr>\n",
       "    <tr>\n",
       "      <th>6</th>\n",
       "      <td>Australian Capital Territory</td>\n",
       "      <td>Canberra</td>\n",
       "      <td>403468</td>\n",
       "      <td>403468</td>\n",
       "      <td>100.00%</td>\n",
       "      <td>1913</td>\n",
       "      <td>1913</td>\n",
       "      <td>NaN</td>\n",
       "    </tr>\n",
       "    <tr>\n",
       "      <th>7</th>\n",
       "      <td>Northern Territory</td>\n",
       "      <td>Darwin</td>\n",
       "      <td>145916</td>\n",
       "      <td>245740</td>\n",
       "      <td>59.38%</td>\n",
       "      <td>1869</td>\n",
       "      <td>1911</td>\n",
       "      <td>NaN</td>\n",
       "    </tr>\n",
       "  </tbody>\n",
       "</table>\n",
       "</div>"
      ],
      "text/plain": [
       "                State/territory    Capital  City population[2]  \\\n",
       "0               New South Wales     Sydney             5029768   \n",
       "1                      Victoria  Melbourne             4725316   \n",
       "2                    Queensland   Brisbane             2360241   \n",
       "3             Western Australia      Perth             2022044   \n",
       "4               South Australia   Adelaide             1324279   \n",
       "5                      Tasmania     Hobart              224462   \n",
       "6  Australian Capital Territory   Canberra              403468   \n",
       "7            Northern Territory     Darwin              145916   \n",
       "\n",
       "   State/territory population[3]  \\\n",
       "0                        7759274   \n",
       "1                        6179249   \n",
       "2                        4848877   \n",
       "3                        2558951   \n",
       "4                        1713054   \n",
       "5                         517588   \n",
       "6                         403468   \n",
       "7                         245740   \n",
       "\n",
       "  Percentage of state/territory population in capital city  Established  \\\n",
       "0                                             64.82%               1788   \n",
       "1                                             76.47%               1835   \n",
       "2                                             48.68%               1825   \n",
       "3                                             79.02%               1829   \n",
       "4                                             77.31%               1836   \n",
       "5                                             43.37%               1804   \n",
       "6                                            100.00%               1913   \n",
       "7                                             59.38%               1869   \n",
       "\n",
       "   Capital since  Image  \n",
       "0           1788    NaN  \n",
       "1           1851    NaN  \n",
       "2           1860    NaN  \n",
       "3           1829    NaN  \n",
       "4           1836    NaN  \n",
       "5           1826    NaN  \n",
       "6           1913    NaN  \n",
       "7           1911    NaN  "
      ]
     },
     "execution_count": 23,
     "metadata": {},
     "output_type": "execute_result"
    }
   ],
   "source": [
    "df"
   ]
  },
  {
   "cell_type": "code",
   "execution_count": 24,
   "metadata": {
    "slideshow": {
     "slide_type": "fragment"
    }
   },
   "outputs": [
    {
     "data": {
      "text/html": [
       "<div>\n",
       "<style scoped>\n",
       "    .dataframe tbody tr th:only-of-type {\n",
       "        vertical-align: middle;\n",
       "    }\n",
       "\n",
       "    .dataframe tbody tr th {\n",
       "        vertical-align: top;\n",
       "    }\n",
       "\n",
       "    .dataframe thead th {\n",
       "        text-align: right;\n",
       "    }\n",
       "</style>\n",
       "<table border=\"1\" class=\"dataframe\">\n",
       "  <thead>\n",
       "    <tr style=\"text-align: right;\">\n",
       "      <th></th>\n",
       "      <th>State/territory</th>\n",
       "      <th>Capital</th>\n",
       "      <th>City Population</th>\n",
       "      <th>State/territory population</th>\n",
       "      <th>Percentage of state/territory population in capital city</th>\n",
       "      <th>Established</th>\n",
       "      <th>Capital since</th>\n",
       "      <th>Image</th>\n",
       "    </tr>\n",
       "  </thead>\n",
       "  <tbody>\n",
       "    <tr>\n",
       "      <th>0</th>\n",
       "      <td>New South Wales</td>\n",
       "      <td>Sydney</td>\n",
       "      <td>5029768</td>\n",
       "      <td>7759274</td>\n",
       "      <td>64.82%</td>\n",
       "      <td>1788</td>\n",
       "      <td>1788</td>\n",
       "      <td>NaN</td>\n",
       "    </tr>\n",
       "    <tr>\n",
       "      <th>1</th>\n",
       "      <td>Victoria</td>\n",
       "      <td>Melbourne</td>\n",
       "      <td>4725316</td>\n",
       "      <td>6179249</td>\n",
       "      <td>76.47%</td>\n",
       "      <td>1835</td>\n",
       "      <td>1851</td>\n",
       "      <td>NaN</td>\n",
       "    </tr>\n",
       "    <tr>\n",
       "      <th>2</th>\n",
       "      <td>Queensland</td>\n",
       "      <td>Brisbane</td>\n",
       "      <td>2360241</td>\n",
       "      <td>4848877</td>\n",
       "      <td>48.68%</td>\n",
       "      <td>1825</td>\n",
       "      <td>1860</td>\n",
       "      <td>NaN</td>\n",
       "    </tr>\n",
       "    <tr>\n",
       "      <th>3</th>\n",
       "      <td>Western Australia</td>\n",
       "      <td>Perth</td>\n",
       "      <td>2022044</td>\n",
       "      <td>2558951</td>\n",
       "      <td>79.02%</td>\n",
       "      <td>1829</td>\n",
       "      <td>1829</td>\n",
       "      <td>NaN</td>\n",
       "    </tr>\n",
       "    <tr>\n",
       "      <th>4</th>\n",
       "      <td>South Australia</td>\n",
       "      <td>Adelaide</td>\n",
       "      <td>1324279</td>\n",
       "      <td>1713054</td>\n",
       "      <td>77.31%</td>\n",
       "      <td>1836</td>\n",
       "      <td>1836</td>\n",
       "      <td>NaN</td>\n",
       "    </tr>\n",
       "  </tbody>\n",
       "</table>\n",
       "</div>"
      ],
      "text/plain": [
       "     State/territory    Capital  City Population  State/territory population  \\\n",
       "0    New South Wales     Sydney          5029768                     7759274   \n",
       "1           Victoria  Melbourne          4725316                     6179249   \n",
       "2         Queensland   Brisbane          2360241                     4848877   \n",
       "3  Western Australia      Perth          2022044                     2558951   \n",
       "4    South Australia   Adelaide          1324279                     1713054   \n",
       "\n",
       "  Percentage of state/territory population in capital city  Established  \\\n",
       "0                                             64.82%               1788   \n",
       "1                                             76.47%               1835   \n",
       "2                                             48.68%               1825   \n",
       "3                                             79.02%               1829   \n",
       "4                                             77.31%               1836   \n",
       "\n",
       "   Capital since  Image  \n",
       "0           1788    NaN  \n",
       "1           1851    NaN  \n",
       "2           1860    NaN  \n",
       "3           1829    NaN  \n",
       "4           1836    NaN  "
      ]
     },
     "execution_count": 24,
     "metadata": {},
     "output_type": "execute_result"
    }
   ],
   "source": [
    "cols = list(df.columns)\n",
    "cols[2] = \"City Population\"\n",
    "cols[3] = \"State/territory population\"\n",
    "\n",
    "df.columns = cols\n",
    "\n",
    "df.head(5)"
   ]
  },
  {
   "cell_type": "code",
   "execution_count": null,
   "metadata": {},
   "outputs": [],
   "source": [
    "# df.rename(columns={})"
   ]
  },
  {
   "cell_type": "markdown",
   "metadata": {
    "slideshow": {
     "slide_type": "subslide"
    }
   },
   "source": [
    "#### Drop a column"
   ]
  },
  {
   "cell_type": "code",
   "execution_count": 26,
   "metadata": {
    "scrolled": false,
    "slideshow": {
     "slide_type": "fragment"
    }
   },
   "outputs": [],
   "source": [
    "df = df.drop(['Image'], axis=1)"
   ]
  },
  {
   "cell_type": "markdown",
   "metadata": {},
   "source": [
    "#### Reset an index"
   ]
  },
  {
   "cell_type": "code",
   "execution_count": 27,
   "metadata": {},
   "outputs": [
    {
     "data": {
      "text/html": [
       "<div>\n",
       "<style scoped>\n",
       "    .dataframe tbody tr th:only-of-type {\n",
       "        vertical-align: middle;\n",
       "    }\n",
       "\n",
       "    .dataframe tbody tr th {\n",
       "        vertical-align: top;\n",
       "    }\n",
       "\n",
       "    .dataframe thead th {\n",
       "        text-align: right;\n",
       "    }\n",
       "</style>\n",
       "<table border=\"1\" class=\"dataframe\">\n",
       "  <thead>\n",
       "    <tr style=\"text-align: right;\">\n",
       "      <th></th>\n",
       "      <th>State/territory</th>\n",
       "      <th>Capital</th>\n",
       "      <th>City Population</th>\n",
       "      <th>State/territory population</th>\n",
       "      <th>Percentage of state/territory population in capital city</th>\n",
       "      <th>Established</th>\n",
       "      <th>Capital since</th>\n",
       "    </tr>\n",
       "  </thead>\n",
       "  <tbody>\n",
       "    <tr>\n",
       "      <th>0</th>\n",
       "      <td>New South Wales</td>\n",
       "      <td>Sydney</td>\n",
       "      <td>5029768</td>\n",
       "      <td>7759274</td>\n",
       "      <td>64.82%</td>\n",
       "      <td>1788</td>\n",
       "      <td>1788</td>\n",
       "    </tr>\n",
       "    <tr>\n",
       "      <th>1</th>\n",
       "      <td>Victoria</td>\n",
       "      <td>Melbourne</td>\n",
       "      <td>4725316</td>\n",
       "      <td>6179249</td>\n",
       "      <td>76.47%</td>\n",
       "      <td>1835</td>\n",
       "      <td>1851</td>\n",
       "    </tr>\n",
       "    <tr>\n",
       "      <th>2</th>\n",
       "      <td>Queensland</td>\n",
       "      <td>Brisbane</td>\n",
       "      <td>2360241</td>\n",
       "      <td>4848877</td>\n",
       "      <td>48.68%</td>\n",
       "      <td>1825</td>\n",
       "      <td>1860</td>\n",
       "    </tr>\n",
       "    <tr>\n",
       "      <th>3</th>\n",
       "      <td>Western Australia</td>\n",
       "      <td>Perth</td>\n",
       "      <td>2022044</td>\n",
       "      <td>2558951</td>\n",
       "      <td>79.02%</td>\n",
       "      <td>1829</td>\n",
       "      <td>1829</td>\n",
       "    </tr>\n",
       "    <tr>\n",
       "      <th>4</th>\n",
       "      <td>South Australia</td>\n",
       "      <td>Adelaide</td>\n",
       "      <td>1324279</td>\n",
       "      <td>1713054</td>\n",
       "      <td>77.31%</td>\n",
       "      <td>1836</td>\n",
       "      <td>1836</td>\n",
       "    </tr>\n",
       "    <tr>\n",
       "      <th>5</th>\n",
       "      <td>Tasmania</td>\n",
       "      <td>Hobart</td>\n",
       "      <td>224462</td>\n",
       "      <td>517588</td>\n",
       "      <td>43.37%</td>\n",
       "      <td>1804</td>\n",
       "      <td>1826</td>\n",
       "    </tr>\n",
       "    <tr>\n",
       "      <th>6</th>\n",
       "      <td>Australian Capital Territory</td>\n",
       "      <td>Canberra</td>\n",
       "      <td>403468</td>\n",
       "      <td>403468</td>\n",
       "      <td>100.00%</td>\n",
       "      <td>1913</td>\n",
       "      <td>1913</td>\n",
       "    </tr>\n",
       "    <tr>\n",
       "      <th>7</th>\n",
       "      <td>Northern Territory</td>\n",
       "      <td>Darwin</td>\n",
       "      <td>145916</td>\n",
       "      <td>245740</td>\n",
       "      <td>59.38%</td>\n",
       "      <td>1869</td>\n",
       "      <td>1911</td>\n",
       "    </tr>\n",
       "  </tbody>\n",
       "</table>\n",
       "</div>"
      ],
      "text/plain": [
       "                State/territory    Capital  City Population  \\\n",
       "0               New South Wales     Sydney          5029768   \n",
       "1                      Victoria  Melbourne          4725316   \n",
       "2                    Queensland   Brisbane          2360241   \n",
       "3             Western Australia      Perth          2022044   \n",
       "4               South Australia   Adelaide          1324279   \n",
       "5                      Tasmania     Hobart           224462   \n",
       "6  Australian Capital Territory   Canberra           403468   \n",
       "7            Northern Territory     Darwin           145916   \n",
       "\n",
       "   State/territory population  \\\n",
       "0                     7759274   \n",
       "1                     6179249   \n",
       "2                     4848877   \n",
       "3                     2558951   \n",
       "4                     1713054   \n",
       "5                      517588   \n",
       "6                      403468   \n",
       "7                      245740   \n",
       "\n",
       "  Percentage of state/territory population in capital city  Established  \\\n",
       "0                                             64.82%               1788   \n",
       "1                                             76.47%               1835   \n",
       "2                                             48.68%               1825   \n",
       "3                                             79.02%               1829   \n",
       "4                                             77.31%               1836   \n",
       "5                                             43.37%               1804   \n",
       "6                                            100.00%               1913   \n",
       "7                                             59.38%               1869   \n",
       "\n",
       "   Capital since  \n",
       "0           1788  \n",
       "1           1851  \n",
       "2           1860  \n",
       "3           1829  \n",
       "4           1836  \n",
       "5           1826  \n",
       "6           1913  \n",
       "7           1911  "
      ]
     },
     "execution_count": 27,
     "metadata": {},
     "output_type": "execute_result"
    }
   ],
   "source": [
    "df = df.reset_index(drop=True)\n",
    "df"
   ]
  },
  {
   "cell_type": "code",
   "execution_count": 28,
   "metadata": {},
   "outputs": [
    {
     "data": {
      "text/plain": [
       "State/territory                                             New South Wales\n",
       "Capital                                                              Sydney\n",
       "City Population                                                     5029768\n",
       "State/territory population                                          7759274\n",
       "Percentage of state/territory population in capital city             64.82%\n",
       "Established                                                            1788\n",
       "Capital since                                                          1788\n",
       "Name: 0, dtype: object"
      ]
     },
     "execution_count": 28,
     "metadata": {},
     "output_type": "execute_result"
    }
   ],
   "source": [
    "df.iloc[0]"
   ]
  },
  {
   "cell_type": "code",
   "execution_count": 30,
   "metadata": {},
   "outputs": [
    {
     "data": {
      "text/html": [
       "<div>\n",
       "<style scoped>\n",
       "    .dataframe tbody tr th:only-of-type {\n",
       "        vertical-align: middle;\n",
       "    }\n",
       "\n",
       "    .dataframe tbody tr th {\n",
       "        vertical-align: top;\n",
       "    }\n",
       "\n",
       "    .dataframe thead th {\n",
       "        text-align: right;\n",
       "    }\n",
       "</style>\n",
       "<table border=\"1\" class=\"dataframe\">\n",
       "  <thead>\n",
       "    <tr style=\"text-align: right;\">\n",
       "      <th></th>\n",
       "      <th>State/territory</th>\n",
       "      <th>Capital</th>\n",
       "      <th>City Population</th>\n",
       "      <th>State/territory population</th>\n",
       "      <th>Percentage of state/territory population in capital city</th>\n",
       "      <th>Established</th>\n",
       "      <th>Capital since</th>\n",
       "    </tr>\n",
       "  </thead>\n",
       "  <tbody>\n",
       "    <tr>\n",
       "      <th>0</th>\n",
       "      <td>New South Wales</td>\n",
       "      <td>Sydney</td>\n",
       "      <td>5029768</td>\n",
       "      <td>7759274</td>\n",
       "      <td>64.82%</td>\n",
       "      <td>1788</td>\n",
       "      <td>1788</td>\n",
       "    </tr>\n",
       "  </tbody>\n",
       "</table>\n",
       "</div>"
      ],
      "text/plain": [
       "   State/territory Capital  City Population  State/territory population  \\\n",
       "0  New South Wales  Sydney          5029768                     7759274   \n",
       "\n",
       "  Percentage of state/territory population in capital city  Established  \\\n",
       "0                                             64.82%               1788   \n",
       "\n",
       "   Capital since  \n",
       "0           1788  "
      ]
     },
     "execution_count": 30,
     "metadata": {},
     "output_type": "execute_result"
    }
   ],
   "source": [
    "df.loc[df['State/territory']=='New South Wales']"
   ]
  },
  {
   "cell_type": "markdown",
   "metadata": {
    "slideshow": {
     "slide_type": "slide"
    }
   },
   "source": [
    "## Export DataFrame as CSV"
   ]
  },
  {
   "cell_type": "code",
   "execution_count": 31,
   "metadata": {
    "scrolled": true,
    "slideshow": {
     "slide_type": "fragment"
    }
   },
   "outputs": [],
   "source": [
    "df.to_csv('aussie_wiki.csv', index=False)"
   ]
  },
  {
   "cell_type": "code",
   "execution_count": null,
   "metadata": {},
   "outputs": [],
   "source": []
  }
 ],
 "metadata": {
  "kernelspec": {
   "display_name": "Python 3",
   "language": "python",
   "name": "python3"
  },
  "language_info": {
   "codemirror_mode": {
    "name": "ipython",
    "version": 3
   },
   "file_extension": ".py",
   "mimetype": "text/x-python",
   "name": "python",
   "nbconvert_exporter": "python",
   "pygments_lexer": "ipython3",
   "version": "3.11.7"
  },
  "varInspector": {
   "cols": {
    "lenName": 16,
    "lenType": 16,
    "lenVar": 40
   },
   "kernels_config": {
    "python": {
     "delete_cmd_postfix": "",
     "delete_cmd_prefix": "del ",
     "library": "var_list.py",
     "varRefreshCmd": "print(var_dic_list())"
    },
    "r": {
     "delete_cmd_postfix": ") ",
     "delete_cmd_prefix": "rm(",
     "library": "var_list.r",
     "varRefreshCmd": "cat(var_dic_list()) "
    }
   },
   "types_to_exclude": [
    "module",
    "function",
    "builtin_function_or_method",
    "instance",
    "_Feature"
   ],
   "window_display": false
  }
 },
 "nbformat": 4,
 "nbformat_minor": 2
}
