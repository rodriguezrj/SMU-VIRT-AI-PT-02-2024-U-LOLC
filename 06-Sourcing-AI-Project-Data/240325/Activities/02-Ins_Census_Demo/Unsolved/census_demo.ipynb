{
 "cells": [
  {
   "cell_type": "markdown",
   "metadata": {},
   "source": [
    "# U.S. Census Demo"
   ]
  },
  {
   "cell_type": "code",
   "execution_count": 2,
   "metadata": {
    "tags": []
   },
   "outputs": [],
   "source": [
    "# Dependencies\n",
    "import requests\n",
    "import pandas as pd\n",
    "from census import Census\n",
    "from dotenv import load_dotenv\n",
    "import os\n",
    "\n",
    "# Load environment variables and U.S. Census API key\n",
    "load_dotenv()\n",
    "api_key = os.getenv(\"CENSUS_API_KEY\")"
   ]
  },
  {
   "cell_type": "code",
   "execution_count": 3,
   "metadata": {},
   "outputs": [],
   "source": [
    "# Create an instance of the Census library\n",
    "c = Census(\n",
    "    api_key,\n",
    "    year = 2013\n",
    ")"
   ]
  },
  {
   "cell_type": "markdown",
   "metadata": {},
   "source": [
    "## Retrieve data from the U.S. Census using the Census library\n",
    "\n",
    "References:\n",
    "\n",
    "* Review the following page to review the Python library documentation: <https://github.com/CommerceDataService/census-wrapper>\n",
    "\n",
    "* Review the following page to learn more about the data labels: <https://gist.github.com/afhaque/60558290d6efd892351c4b64e5c01e9b>"
   ]
  },
  {
   "cell_type": "code",
   "execution_count": 5,
   "metadata": {},
   "outputs": [
    {
     "name": "stdout",
     "output_type": "stream",
     "text": [
      "(33120, 9)\n"
     ]
    },
    {
     "data": {
      "text/html": [
       "<div>\n",
       "<style scoped>\n",
       "    .dataframe tbody tr th:only-of-type {\n",
       "        vertical-align: middle;\n",
       "    }\n",
       "\n",
       "    .dataframe tbody tr th {\n",
       "        vertical-align: top;\n",
       "    }\n",
       "\n",
       "    .dataframe thead th {\n",
       "        text-align: right;\n",
       "    }\n",
       "</style>\n",
       "<table border=\"1\" class=\"dataframe\">\n",
       "  <thead>\n",
       "    <tr style=\"text-align: right;\">\n",
       "      <th></th>\n",
       "      <th>Name</th>\n",
       "      <th>Household Income</th>\n",
       "      <th>Population</th>\n",
       "      <th>Median Age</th>\n",
       "      <th>Per Capita Income</th>\n",
       "      <th>Poverty Count</th>\n",
       "      <th>state</th>\n",
       "      <th>zip code tabulation area</th>\n",
       "      <th>Poverty Rate</th>\n",
       "    </tr>\n",
       "  </thead>\n",
       "  <tbody>\n",
       "    <tr>\n",
       "      <th>0</th>\n",
       "      <td>ZCTA5 01832</td>\n",
       "      <td>57833.0</td>\n",
       "      <td>22121.0</td>\n",
       "      <td>38.5</td>\n",
       "      <td>29014.0</td>\n",
       "      <td>2412.0</td>\n",
       "      <td>25</td>\n",
       "      <td>01832</td>\n",
       "      <td>10.90</td>\n",
       "    </tr>\n",
       "    <tr>\n",
       "      <th>1</th>\n",
       "      <td>ZCTA5 01833</td>\n",
       "      <td>107775.0</td>\n",
       "      <td>8295.0</td>\n",
       "      <td>42.4</td>\n",
       "      <td>43297.0</td>\n",
       "      <td>191.0</td>\n",
       "      <td>25</td>\n",
       "      <td>01833</td>\n",
       "      <td>2.30</td>\n",
       "    </tr>\n",
       "    <tr>\n",
       "      <th>2</th>\n",
       "      <td>ZCTA5 01834</td>\n",
       "      <td>97463.0</td>\n",
       "      <td>6675.0</td>\n",
       "      <td>46.1</td>\n",
       "      <td>40222.0</td>\n",
       "      <td>146.0</td>\n",
       "      <td>25</td>\n",
       "      <td>01834</td>\n",
       "      <td>2.19</td>\n",
       "    </tr>\n",
       "    <tr>\n",
       "      <th>3</th>\n",
       "      <td>ZCTA5 01835</td>\n",
       "      <td>72228.0</td>\n",
       "      <td>13527.0</td>\n",
       "      <td>37.1</td>\n",
       "      <td>31429.0</td>\n",
       "      <td>1153.0</td>\n",
       "      <td>25</td>\n",
       "      <td>01835</td>\n",
       "      <td>8.52</td>\n",
       "    </tr>\n",
       "    <tr>\n",
       "      <th>4</th>\n",
       "      <td>ZCTA5 01840</td>\n",
       "      <td>18261.0</td>\n",
       "      <td>4547.0</td>\n",
       "      <td>36.8</td>\n",
       "      <td>14758.0</td>\n",
       "      <td>1798.0</td>\n",
       "      <td>25</td>\n",
       "      <td>01840</td>\n",
       "      <td>39.54</td>\n",
       "    </tr>\n",
       "  </tbody>\n",
       "</table>\n",
       "</div>"
      ],
      "text/plain": [
       "          Name  Household Income  Population  Median Age  Per Capita Income  \\\n",
       "0  ZCTA5 01832           57833.0     22121.0        38.5            29014.0   \n",
       "1  ZCTA5 01833          107775.0      8295.0        42.4            43297.0   \n",
       "2  ZCTA5 01834           97463.0      6675.0        46.1            40222.0   \n",
       "3  ZCTA5 01835           72228.0     13527.0        37.1            31429.0   \n",
       "4  ZCTA5 01840           18261.0      4547.0        36.8            14758.0   \n",
       "\n",
       "   Poverty Count state zip code tabulation area  Poverty Rate  \n",
       "0         2412.0    25                    01832         10.90  \n",
       "1          191.0    25                    01833          2.30  \n",
       "2          146.0    25                    01834          2.19  \n",
       "3         1153.0    25                    01835          8.52  \n",
       "4         1798.0    25                    01840         39.54  "
      ]
     },
     "execution_count": 5,
     "metadata": {},
     "output_type": "execute_result"
    }
   ],
   "source": [
    "# Run Census Search to retrieve data on all zip codes (2013 ACS5 Census)\n",
    "census_data = c.acs5.get(\n",
    "    (\n",
    "        \"NAME\",\n",
    "        \"B19013_001E\",\n",
    "        \"B01003_001E\",\n",
    "        \"B01002_001E\",\n",
    "        \"B19301_001E\",\n",
    "        \"B17001_002E\"\n",
    "    ),\n",
    "    {'for': 'zip code tabulation area:*'}\n",
    ")\n",
    "\n",
    "# Convert to DataFrame\n",
    "data = pd.DataFrame(census_data)\n",
    "\n",
    "\n",
    "# Column renaming\n",
    "data = data.rename(columns = {\n",
    "    \"NAME\" : \"Name\",\n",
    "    \"B19013_001E\" : 'Household Income',\n",
    "    \"B01003_001E\": \"Population\",\n",
    "    \"B01002_001E\": \"Median Age\",\n",
    "    \"B19301_001E\": \"Per Capita Income\",\n",
    "    \"B17001_002E\": \"Poverty Count\"\n",
    "})\n",
    "\n",
    "\n",
    "# Add a Poverty Rate column (Poverty Count / Population)\n",
    "data[\"Poverty Rate\"] = round(data['Poverty Count'] / data['Population'] * 100, 2)\n",
    "\n",
    "# Configure the final DataFrame\n",
    "\n",
    "\n",
    "# Display DataFrame length and sample data\n",
    "print(data.shape)\n",
    "data.head(5)"
   ]
  },
  {
   "cell_type": "code",
   "execution_count": 7,
   "metadata": {
    "tags": []
   },
   "outputs": [],
   "source": [
    "# Save the DataFrame as a CSV\n",
    "# Note: To avoid any issues later, use encoding=\"utf-8\"\n",
    "data.to_csv(\"data.csv\", index=False, encoding=\"utf-8\")"
   ]
  },
  {
   "cell_type": "code",
   "execution_count": null,
   "metadata": {},
   "outputs": [],
   "source": []
  }
 ],
 "metadata": {
  "anaconda-cloud": {},
  "kernelspec": {
   "display_name": "Python 3 (ipykernel)",
   "language": "python",
   "name": "python3"
  },
  "language_info": {
   "codemirror_mode": {
    "name": "ipython",
    "version": 3
   },
   "file_extension": ".py",
   "mimetype": "text/x-python",
   "name": "python",
   "nbconvert_exporter": "python",
   "pygments_lexer": "ipython3",
   "version": "3.10.13"
  },
  "latex_envs": {
   "LaTeX_envs_menu_present": true,
   "autoclose": false,
   "autocomplete": true,
   "bibliofile": "biblio.bib",
   "cite_by": "apalike",
   "current_citInitial": 1,
   "eqLabelWithNumbers": true,
   "eqNumInitial": 1,
   "hotkeys": {
    "equation": "Ctrl-E",
    "itemize": "Ctrl-I"
   },
   "labels_anchors": false,
   "latex_user_defs": false,
   "report_style_numbering": false,
   "user_envs_cfg": false
  }
 },
 "nbformat": 4,
 "nbformat_minor": 4
}
