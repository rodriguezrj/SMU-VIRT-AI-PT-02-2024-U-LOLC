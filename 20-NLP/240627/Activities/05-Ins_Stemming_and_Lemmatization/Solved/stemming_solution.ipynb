{
 "cells": [
  {
   "cell_type": "markdown",
   "metadata": {},
   "source": [
    "# Stemming"
   ]
  },
  {
   "cell_type": "markdown",
   "metadata": {},
   "source": [
    "## Porter Stemmer"
   ]
  },
  {
   "cell_type": "code",
   "execution_count": 24,
   "metadata": {},
   "outputs": [],
   "source": [
    "# Import NLTK and the full PorterStemmer library\n",
    "from nltk.stem.porter import PorterStemmer\n",
    "# Import the word tokenizer\n",
    "from nltk.tokenize import word_tokenize"
   ]
  },
  {
   "cell_type": "code",
   "execution_count": 25,
   "metadata": {},
   "outputs": [],
   "source": [
    "# Instantiate the PorterStemmer() class\n",
    "p_stemmer = PorterStemmer()"
   ]
  },
  {
   "cell_type": "code",
   "execution_count": 22,
   "metadata": {},
   "outputs": [],
   "source": [
    "# Create a list of words with different tenses.\n",
    "words = ['drive', 'driven','driver','driving','drove','easily','fairly', 'industries', 'caresses', 'geese']"
   ]
  },
  {
   "cell_type": "code",
   "execution_count": 26,
   "metadata": {},
   "outputs": [
    {
     "data": {
      "text/plain": [
       "['drive --> drive',\n",
       " 'driven --> driven',\n",
       " 'driver --> driver',\n",
       " 'driving --> drive',\n",
       " 'drove --> drove',\n",
       " 'easily --> easili',\n",
       " 'fairly --> fairli',\n",
       " 'industries --> industri',\n",
       " 'caresses --> caress',\n",
       " 'geese --> gees']"
      ]
     },
     "execution_count": 26,
     "metadata": {},
     "output_type": "execute_result"
    }
   ],
   "source": [
    "# Print the word and the stem of the word.\n",
    "stem_words = [word+' --> '+p_stemmer.stem(word) for word in words]\n",
    "stem_words"
   ]
  },
  {
   "cell_type": "markdown",
   "metadata": {},
   "source": [
    "## Snowball Stemmer\n",
    "- multilingual -> more aggressive"
   ]
  },
  {
   "cell_type": "code",
   "execution_count": 27,
   "metadata": {},
   "outputs": [],
   "source": [
    "# Import the SnowballStemmer class\n",
    "from nltk.stem.snowball import SnowballStemmer\n",
    "# Instantiate the Snowball Stemmer and pass in the \"english\" language parameter.\n",
    "s_stemmer = SnowballStemmer(language='english')"
   ]
  },
  {
   "cell_type": "code",
   "execution_count": 28,
   "metadata": {},
   "outputs": [
    {
     "data": {
      "text/plain": [
       "['drive --> drive',\n",
       " 'driven --> driven',\n",
       " 'driver --> driver',\n",
       " 'driving --> drive',\n",
       " 'drove --> drove',\n",
       " 'easily --> easili',\n",
       " 'fairly --> fair',\n",
       " 'industries --> industri',\n",
       " 'caresses --> caress',\n",
       " 'geese --> gees']"
      ]
     },
     "execution_count": 28,
     "metadata": {},
     "output_type": "execute_result"
    }
   ],
   "source": [
    "# Print the word and the stem of the word.\n",
    "[word+' --> '+s_stemmer.stem(word) for word in words]"
   ]
  },
  {
   "cell_type": "code",
   "execution_count": 7,
   "metadata": {},
   "outputs": [
    {
     "name": "stdout",
     "output_type": "stream",
     "text": [
      "['the', 'fox', 'walk', 'into', 'the', 'box', '.']\n"
     ]
    }
   ],
   "source": [
    "# Tokenize the sentence \n",
    "sentence = \"The foxes walked into the boxes.\"\n",
    "words = word_tokenize(sentence)\n",
    "# Apply the Porter Stemmer to the list of words.\n",
    "s_result = [p_stemmer.stem(word) for word in words]\n",
    "print(s_result)"
   ]
  },
  {
   "cell_type": "code",
   "execution_count": null,
   "metadata": {},
   "outputs": [],
   "source": []
  }
 ],
 "metadata": {
  "kernelspec": {
   "display_name": "dev",
   "language": "python",
   "name": "dev"
  },
  "language_info": {
   "codemirror_mode": {
    "name": "ipython",
    "version": 3
   },
   "file_extension": ".py",
   "mimetype": "text/x-python",
   "name": "python",
   "nbconvert_exporter": "python",
   "pygments_lexer": "ipython3",
   "version": "3.10.13"
  },
  "nteract": {
   "version": "0.28.0"
  }
 },
 "nbformat": 4,
 "nbformat_minor": 2
}
