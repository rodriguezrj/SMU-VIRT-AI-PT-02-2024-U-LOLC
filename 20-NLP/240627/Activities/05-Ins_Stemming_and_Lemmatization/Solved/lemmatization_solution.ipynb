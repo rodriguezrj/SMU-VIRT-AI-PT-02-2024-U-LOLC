{
 "cells": [
  {
   "cell_type": "markdown",
   "metadata": {},
   "source": [
    "# Lemmatization"
   ]
  },
  {
   "cell_type": "code",
   "execution_count": 17,
   "metadata": {},
   "outputs": [
    {
     "name": "stderr",
     "output_type": "stream",
     "text": [
      "[nltk_data] Downloading package punkt to\n",
      "[nltk_data]     /Users/bradleywise/nltk_data...\n",
      "[nltk_data]   Package punkt is already up-to-date!\n",
      "[nltk_data] Downloading package wordnet to\n",
      "[nltk_data]     /Users/bradleywise/nltk_data...\n",
      "[nltk_data]   Package wordnet is already up-to-date!\n"
     ]
    },
    {
     "data": {
      "text/plain": [
       "True"
      ]
     },
     "execution_count": 17,
     "metadata": {},
     "output_type": "execute_result"
    }
   ],
   "source": [
    "# Import WordNetLemmatizer class and word tokenizer\n",
    "from nltk.stem import WordNetLemmatizer \n",
    "from nltk.tokenize import word_tokenize\n",
    "# Download \"punkt\" sentence tokenizer and \"wordnet\" that the lemmatizer uses.\n",
    "import nltk\n",
    "nltk.download('punkt')\n",
    "nltk.download('wordnet')"
   ]
  },
  {
   "cell_type": "code",
   "execution_count": 18,
   "metadata": {},
   "outputs": [],
   "source": [
    "# Instantiate the lemmatizer\n",
    "lemmatizer = WordNetLemmatizer()"
   ]
  },
  {
   "cell_type": "code",
   "execution_count": 19,
   "metadata": {},
   "outputs": [
    {
     "data": {
      "text/plain": [
       "['drive --> drive',\n",
       " 'driven --> driven',\n",
       " 'driver --> driver',\n",
       " 'driving --> driving',\n",
       " 'drove --> drove',\n",
       " 'easily --> easily',\n",
       " 'fairly --> fairly',\n",
       " 'industries --> industry',\n",
       " 'caresses --> caress',\n",
       " 'geese --> goose']"
      ]
     },
     "execution_count": 19,
     "metadata": {},
     "output_type": "execute_result"
    }
   ],
   "source": [
    "words = ['drive', 'driven','driver','driving','drove','easily','fairly', 'industries', 'caresses', 'geese']\n",
    "lemmatized_words = [word+' --> '+lemmatizer.lemmatize(word) for word in words]\n",
    "lemmatized_words"
   ]
  },
  {
   "cell_type": "code",
   "execution_count": 20,
   "metadata": {},
   "outputs": [
    {
     "name": "stdout",
     "output_type": "stream",
     "text": [
      "box\n",
      "goose\n"
     ]
    }
   ],
   "source": [
    "# Lemmatize the plural of a word\n",
    "print(lemmatizer.lemmatize('boxes'))\n",
    "print(lemmatizer.lemmatize('geese'))"
   ]
  },
  {
   "cell_type": "code",
   "execution_count": 21,
   "metadata": {},
   "outputs": [
    {
     "name": "stdout",
     "output_type": "stream",
     "text": [
      "boxed\n",
      "greater\n"
     ]
    }
   ],
   "source": [
    "# Lemmatize the past tense of a word\n",
    "print(lemmatizer.lemmatize('boxed'))\n",
    "# Lemmatize an adjective of a word\n",
    "print(lemmatizer.lemmatize('greater'))"
   ]
  },
  {
   "cell_type": "markdown",
   "metadata": {},
   "source": [
    "- makes words present tense, singular\n",
    "\t•\t\"a\" = adjective\n",
    "\t•\t\"n\" = noun\n",
    "\t•\t\"v\" = verb\n",
    "\t•\t\"r\" = adverb"
   ]
  },
  {
   "cell_type": "code",
   "execution_count": 22,
   "metadata": {},
   "outputs": [
    {
     "name": "stdout",
     "output_type": "stream",
     "text": [
      "box\n",
      "great\n"
     ]
    }
   ],
   "source": [
    "# Lemmatize the past tense of a word and indicate the part of speech as a verb \"v\".\n",
    "print(lemmatizer.lemmatize('boxed',pos='v'))\n",
    "# Lemmatize an adjective of a word and indicate the part of speech as an \"a\".\n",
    "print(lemmatizer.lemmatize('greater', pos='a'))"
   ]
  },
  {
   "cell_type": "code",
   "execution_count": 23,
   "metadata": {},
   "outputs": [],
   "source": [
    "# Lemmatize each word from a list of words\n",
    "sentence = \"The foxes walked into the boxes.\"\n",
    "words = word_tokenize(sentence)"
   ]
  },
  {
   "cell_type": "code",
   "execution_count": 24,
   "metadata": {},
   "outputs": [
    {
     "name": "stdout",
     "output_type": "stream",
     "text": [
      "['The', 'fox', 'walked', 'into', 'the', 'box', '.']\n"
     ]
    }
   ],
   "source": [
    "# Apply the lemmatizer to the list of words.\n",
    "result = [lemmatizer.lemmatize(word) for word in words]\n",
    "print(result)"
   ]
  },
  {
   "cell_type": "code",
   "execution_count": null,
   "metadata": {},
   "outputs": [],
   "source": []
  }
 ],
 "metadata": {
  "kernelspec": {
   "display_name": "dev",
   "language": "python",
   "name": "dev"
  },
  "language_info": {
   "codemirror_mode": {
    "name": "ipython",
    "version": 3
   },
   "file_extension": ".py",
   "mimetype": "text/x-python",
   "name": "python",
   "nbconvert_exporter": "python",
   "pygments_lexer": "ipython3",
   "version": "3.10.13"
  }
 },
 "nbformat": 4,
 "nbformat_minor": 2
}
