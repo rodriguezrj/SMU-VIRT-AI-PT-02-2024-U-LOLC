{
 "cells": [
  {
   "cell_type": "code",
   "execution_count": 1,
   "metadata": {},
   "outputs": [],
   "source": [
    "import pandas as pd"
   ]
  },
  {
   "cell_type": "code",
   "execution_count": 2,
   "metadata": {},
   "outputs": [
    {
     "data": {
      "text/html": [
       "<div>\n",
       "<style scoped>\n",
       "    .dataframe tbody tr th:only-of-type {\n",
       "        vertical-align: middle;\n",
       "    }\n",
       "\n",
       "    .dataframe tbody tr th {\n",
       "        vertical-align: top;\n",
       "    }\n",
       "\n",
       "    .dataframe thead th {\n",
       "        text-align: right;\n",
       "    }\n",
       "</style>\n",
       "<table border=\"1\" class=\"dataframe\">\n",
       "  <thead>\n",
       "    <tr style=\"text-align: right;\">\n",
       "      <th></th>\n",
       "      <th>Year</th>\n",
       "      <th>Month Number</th>\n",
       "      <th>Month</th>\n",
       "      <th>Utility</th>\n",
       "      <th>Owner</th>\n",
       "      <th>Units</th>\n",
       "      <th>Usage</th>\n",
       "    </tr>\n",
       "  </thead>\n",
       "  <tbody>\n",
       "    <tr>\n",
       "      <th>0</th>\n",
       "      <td>2013</td>\n",
       "      <td>1</td>\n",
       "      <td>Jan</td>\n",
       "      <td>Passengers</td>\n",
       "      <td>Campus</td>\n",
       "      <td>PAX</td>\n",
       "      <td>3209356.0</td>\n",
       "    </tr>\n",
       "    <tr>\n",
       "      <th>1</th>\n",
       "      <td>2013</td>\n",
       "      <td>1</td>\n",
       "      <td>Jan</td>\n",
       "      <td>Gas</td>\n",
       "      <td>Commission</td>\n",
       "      <td>Therms</td>\n",
       "      <td>363205.0</td>\n",
       "    </tr>\n",
       "    <tr>\n",
       "      <th>2</th>\n",
       "      <td>2013</td>\n",
       "      <td>1</td>\n",
       "      <td>Jan</td>\n",
       "      <td>Gas</td>\n",
       "      <td>Tenant</td>\n",
       "      <td>Therms</td>\n",
       "      <td>49393.0</td>\n",
       "    </tr>\n",
       "    <tr>\n",
       "      <th>3</th>\n",
       "      <td>2013</td>\n",
       "      <td>1</td>\n",
       "      <td>Jan</td>\n",
       "      <td>Electricity</td>\n",
       "      <td>Commission</td>\n",
       "      <td>kWh</td>\n",
       "      <td>12904353.0</td>\n",
       "    </tr>\n",
       "    <tr>\n",
       "      <th>4</th>\n",
       "      <td>2013</td>\n",
       "      <td>1</td>\n",
       "      <td>Jan</td>\n",
       "      <td>Electricity</td>\n",
       "      <td>Tenant</td>\n",
       "      <td>kWh</td>\n",
       "      <td>14002156.0</td>\n",
       "    </tr>\n",
       "  </tbody>\n",
       "</table>\n",
       "</div>"
      ],
      "text/plain": [
       "   Year  Month Number Month      Utility       Owner   Units       Usage\n",
       "0  2013             1   Jan   Passengers      Campus     PAX   3209356.0\n",
       "1  2013             1   Jan          Gas  Commission  Therms    363205.0\n",
       "2  2013             1   Jan          Gas      Tenant  Therms     49393.0\n",
       "3  2013             1   Jan  Electricity  Commission     kWh  12904353.0\n",
       "4  2013             1   Jan  Electricity      Tenant     kWh  14002156.0"
      ]
     },
     "execution_count": 2,
     "metadata": {},
     "output_type": "execute_result"
    }
   ],
   "source": [
    "# Import the data\n",
    "file = '../Resources/SFO_Airport_Utility_Consumption.csv'\n",
    "utilities_df = pd.read_csv(file)\n",
    "\n",
    "utilities_df.head()"
   ]
  },
  {
   "cell_type": "markdown",
   "metadata": {},
   "source": [
    "# Basic Analysis"
   ]
  },
  {
   "cell_type": "code",
   "execution_count": 3,
   "metadata": {},
   "outputs": [
    {
     "data": {
      "text/plain": [
       "(560, 7)"
      ]
     },
     "execution_count": 3,
     "metadata": {},
     "output_type": "execute_result"
    }
   ],
   "source": [
    "utilities_df.shape"
   ]
  },
  {
   "cell_type": "code",
   "execution_count": 4,
   "metadata": {},
   "outputs": [
    {
     "data": {
      "text/plain": [
       "Year\n",
       "2013    84\n",
       "2014    84\n",
       "2015    84\n",
       "2016    84\n",
       "2017    84\n",
       "2018    84\n",
       "2019    56\n",
       "Name: count, dtype: int64"
      ]
     },
     "execution_count": 4,
     "metadata": {},
     "output_type": "execute_result"
    }
   ],
   "source": [
    "utilities_df['Year'].value_counts()"
   ]
  },
  {
   "cell_type": "code",
   "execution_count": 7,
   "metadata": {},
   "outputs": [
    {
     "data": {
      "text/plain": [
       "Utility\n",
       "Gas            160\n",
       "Electricity    160\n",
       "Water          160\n",
       "Passengers      80\n",
       "Name: count, dtype: int64"
      ]
     },
     "execution_count": 7,
     "metadata": {},
     "output_type": "execute_result"
    }
   ],
   "source": [
    "utilities_df['Utility'].value_counts()"
   ]
  },
  {
   "cell_type": "code",
   "execution_count": 8,
   "metadata": {},
   "outputs": [
    {
     "data": {
      "text/plain": [
       "Units\n",
       "Therms             160\n",
       "kWh                160\n",
       "Million Gallons    160\n",
       "PAX                 80\n",
       "Name: count, dtype: int64"
      ]
     },
     "execution_count": 8,
     "metadata": {},
     "output_type": "execute_result"
    }
   ],
   "source": [
    "utilities_df['Units'].value_counts()"
   ]
  },
  {
   "cell_type": "code",
   "execution_count": 10,
   "metadata": {},
   "outputs": [
    {
     "data": {
      "text/plain": [
       "Year            0\n",
       "Month Number    0\n",
       "Month           0\n",
       "Utility         0\n",
       "Owner           0\n",
       "Units           0\n",
       "Usage           0\n",
       "dtype: int64"
      ]
     },
     "execution_count": 10,
     "metadata": {},
     "output_type": "execute_result"
    }
   ],
   "source": [
    "utilities_df.isnull().sum()"
   ]
  },
  {
   "cell_type": "markdown",
   "metadata": {},
   "source": [
    "NOTES:\n",
    "- 1) We only care about 2013, 2018\n",
    "- 2) Units and Utility are vibing, so we only need 1\n",
    "- 3) Utilities, Year, Usage\n",
    "- 4) We don't care about month, Month Numbers, Owner, Units\n",
    "\n",
    "\n",
    "- 5) Track Percentage change only"
   ]
  },
  {
   "cell_type": "markdown",
   "metadata": {},
   "source": [
    "# Question: \n",
    "### Which utility's usage changed the most from 2013 to 2018?"
   ]
  },
  {
   "cell_type": "code",
   "execution_count": 12,
   "metadata": {},
   "outputs": [
    {
     "data": {
      "text/plain": [
       "Index(['Year', 'Month Number', 'Month', 'Utility', 'Owner', 'Units', 'Usage'], dtype='object')"
      ]
     },
     "execution_count": 12,
     "metadata": {},
     "output_type": "execute_result"
    }
   ],
   "source": [
    "utilities_df.columns"
   ]
  },
  {
   "cell_type": "code",
   "execution_count": 13,
   "metadata": {},
   "outputs": [
    {
     "data": {
      "text/html": [
       "<div>\n",
       "<style scoped>\n",
       "    .dataframe tbody tr th:only-of-type {\n",
       "        vertical-align: middle;\n",
       "    }\n",
       "\n",
       "    .dataframe tbody tr th {\n",
       "        vertical-align: top;\n",
       "    }\n",
       "\n",
       "    .dataframe thead th {\n",
       "        text-align: right;\n",
       "    }\n",
       "</style>\n",
       "<table border=\"1\" class=\"dataframe\">\n",
       "  <thead>\n",
       "    <tr style=\"text-align: right;\">\n",
       "      <th></th>\n",
       "      <th>Utility</th>\n",
       "      <th>Year</th>\n",
       "      <th>Usage</th>\n",
       "    </tr>\n",
       "  </thead>\n",
       "  <tbody>\n",
       "    <tr>\n",
       "      <th>0</th>\n",
       "      <td>Passengers</td>\n",
       "      <td>2013</td>\n",
       "      <td>3209356.0</td>\n",
       "    </tr>\n",
       "    <tr>\n",
       "      <th>1</th>\n",
       "      <td>Gas</td>\n",
       "      <td>2013</td>\n",
       "      <td>363205.0</td>\n",
       "    </tr>\n",
       "    <tr>\n",
       "      <th>2</th>\n",
       "      <td>Gas</td>\n",
       "      <td>2013</td>\n",
       "      <td>49393.0</td>\n",
       "    </tr>\n",
       "    <tr>\n",
       "      <th>3</th>\n",
       "      <td>Electricity</td>\n",
       "      <td>2013</td>\n",
       "      <td>12904353.0</td>\n",
       "    </tr>\n",
       "    <tr>\n",
       "      <th>4</th>\n",
       "      <td>Electricity</td>\n",
       "      <td>2013</td>\n",
       "      <td>14002156.0</td>\n",
       "    </tr>\n",
       "  </tbody>\n",
       "</table>\n",
       "</div>"
      ],
      "text/plain": [
       "       Utility  Year       Usage\n",
       "0   Passengers  2013   3209356.0\n",
       "1          Gas  2013    363205.0\n",
       "2          Gas  2013     49393.0\n",
       "3  Electricity  2013  12904353.0\n",
       "4  Electricity  2013  14002156.0"
      ]
     },
     "execution_count": 13,
     "metadata": {},
     "output_type": "execute_result"
    }
   ],
   "source": [
    "utilities_df = utilities_df[['Utility', 'Year', 'Usage']]\n",
    "utilities_df.head()"
   ]
  },
  {
   "cell_type": "code",
   "execution_count": 16,
   "metadata": {},
   "outputs": [],
   "source": [
    "utilities_df = utilities_df.loc[(utilities_df['Year'] == 2013) | (utilities_df['Year'] == 2018)]"
   ]
  },
  {
   "cell_type": "code",
   "execution_count": 20,
   "metadata": {},
   "outputs": [
    {
     "data": {
      "text/plain": [
       "Utility\n",
       "Gas            48\n",
       "Electricity    48\n",
       "Water          48\n",
       "Passengers     24\n",
       "Name: count, dtype: int64"
      ]
     },
     "execution_count": 20,
     "metadata": {},
     "output_type": "execute_result"
    }
   ],
   "source": [
    "utilities_df['Utility'].value_counts()"
   ]
  },
  {
   "cell_type": "code",
   "execution_count": 22,
   "metadata": {},
   "outputs": [
    {
     "data": {
      "text/plain": [
       "Year\n",
       "2013    84\n",
       "2018    84\n",
       "Name: count, dtype: int64"
      ]
     },
     "execution_count": 22,
     "metadata": {},
     "output_type": "execute_result"
    }
   ],
   "source": [
    "utilities_df['Year'].value_counts()"
   ]
  },
  {
   "cell_type": "code",
   "execution_count": 27,
   "metadata": {},
   "outputs": [],
   "source": [
    "gas_2013   = utilities_df.loc[(utilities_df['Utility'] == \"Gas\") & (utilities_df['Year'] == 2013)]['Usage'].sum()\n",
    "elec_2013  = utilities_df.loc[(utilities_df['Utility'] == \"Electricity\") & (utilities_df['Year'] == 2013)]['Usage'].sum()\n",
    "water_2013 = utilities_df.loc[(utilities_df['Utility'] == \"Water\") & (utilities_df['Year'] == 2013)]['Usage'].sum()\n",
    "pass_2013   = utilities_df.loc[(utilities_df['Utility'] == \"Passengers\") & (utilities_df['Year'] == 2013)]['Usage'].sum()"
   ]
  },
  {
   "cell_type": "code",
   "execution_count": 28,
   "metadata": {},
   "outputs": [],
   "source": [
    "gas_2018   = utilities_df.loc[(utilities_df['Utility'] == \"Gas\") & (utilities_df['Year'] == 2018)]['Usage'].sum()\n",
    "elec_2018  = utilities_df.loc[(utilities_df['Utility'] == \"Electricity\") & (utilities_df['Year'] == 2018)]['Usage'].sum()\n",
    "water_2018 = utilities_df.loc[(utilities_df['Utility'] == \"Water\") & (utilities_df['Year'] == 2018)]['Usage'].sum()\n",
    "pass_2018  = utilities_df.loc[(utilities_df['Utility'] == \"Passengers\") & (utilities_df['Year'] == 2018)]['Usage'].sum()"
   ]
  },
  {
   "cell_type": "code",
   "execution_count": 53,
   "metadata": {},
   "outputs": [],
   "source": [
    "final_list = [ \n",
    "{\n",
    "    \"Utility\": \"Gas\",\n",
    "    \"2013\" : gas_2013,\n",
    "    \"2018\": gas_2018,\n",
    "    \"Difference\": round(gas_2018 - gas_2013, 1),\n",
    "    \"Change %\": round((gas_2018 - gas_2013) / gas_2013 * 100, 1)\n",
    "},\n",
    "{\n",
    "    \"Utility\": \"Electricity\",\n",
    "    \"2013\" : elec_2013,\n",
    "    \"2018\": elec_2018,\n",
    "    \"Difference\": round(elec_2018 - elec_2013, 1),\n",
    "    \"Change %\": round((elec_2018 - elec_2013) / elec_2013 * 100, 1)\n",
    "},\n",
    "{\n",
    "    \"Utility\": \"Water\",\n",
    "    \"2013\" : water_2013,\n",
    "    \"2018\": water_2018,\n",
    "    \"Difference\": round(water_2018 - water_2013, 1),\n",
    "    \"Change %\": round((water_2018 - water_2013) / water_2013 * 100, 1)\n",
    "},\n",
    "{\n",
    "    \"Utility\": \"Passengers\",\n",
    "    \"2013\" : pass_2013,\n",
    "    \"2018\": pass_2018,\n",
    "    \"Difference\": round(pass_2018 - pass_2013, 1),\n",
    "    \"Change %\": round((pass_2018 - pass_2013) / pass_2013 * 100, 1)\n",
    "},\n",
    "]"
   ]
  },
  {
   "cell_type": "code",
   "execution_count": 54,
   "metadata": {},
   "outputs": [
    {
     "data": {
      "text/html": [
       "<div>\n",
       "<style scoped>\n",
       "    .dataframe tbody tr th:only-of-type {\n",
       "        vertical-align: middle;\n",
       "    }\n",
       "\n",
       "    .dataframe tbody tr th {\n",
       "        vertical-align: top;\n",
       "    }\n",
       "\n",
       "    .dataframe thead th {\n",
       "        text-align: right;\n",
       "    }\n",
       "</style>\n",
       "<table border=\"1\" class=\"dataframe\">\n",
       "  <thead>\n",
       "    <tr style=\"text-align: right;\">\n",
       "      <th></th>\n",
       "      <th>Utility</th>\n",
       "      <th>2013</th>\n",
       "      <th>2018</th>\n",
       "      <th>Difference</th>\n",
       "      <th>Change %</th>\n",
       "    </tr>\n",
       "  </thead>\n",
       "  <tbody>\n",
       "    <tr>\n",
       "      <th>0</th>\n",
       "      <td>Gas</td>\n",
       "      <td>3.887382e+06</td>\n",
       "      <td>3.621795e+06</td>\n",
       "      <td>-265587.5</td>\n",
       "      <td>-6.8</td>\n",
       "    </tr>\n",
       "    <tr>\n",
       "      <th>1</th>\n",
       "      <td>Electricity</td>\n",
       "      <td>3.302848e+08</td>\n",
       "      <td>3.112194e+08</td>\n",
       "      <td>-19065323.9</td>\n",
       "      <td>-5.8</td>\n",
       "    </tr>\n",
       "    <tr>\n",
       "      <th>2</th>\n",
       "      <td>Water</td>\n",
       "      <td>3.909325e+02</td>\n",
       "      <td>4.102361e+02</td>\n",
       "      <td>19.3</td>\n",
       "      <td>4.9</td>\n",
       "    </tr>\n",
       "    <tr>\n",
       "      <th>3</th>\n",
       "      <td>Passengers</td>\n",
       "      <td>4.500676e+07</td>\n",
       "      <td>5.779723e+07</td>\n",
       "      <td>12790468.0</td>\n",
       "      <td>28.4</td>\n",
       "    </tr>\n",
       "  </tbody>\n",
       "</table>\n",
       "</div>"
      ],
      "text/plain": [
       "       Utility          2013          2018  Difference  Change %\n",
       "0          Gas  3.887382e+06  3.621795e+06   -265587.5      -6.8\n",
       "1  Electricity  3.302848e+08  3.112194e+08 -19065323.9      -5.8\n",
       "2        Water  3.909325e+02  4.102361e+02        19.3       4.9\n",
       "3   Passengers  4.500676e+07  5.779723e+07  12790468.0      28.4"
      ]
     },
     "execution_count": 54,
     "metadata": {},
     "output_type": "execute_result"
    }
   ],
   "source": [
    "pd.DataFrame(final_list)"
   ]
  },
  {
   "cell_type": "code",
   "execution_count": null,
   "metadata": {},
   "outputs": [],
   "source": []
  },
  {
   "cell_type": "code",
   "execution_count": 44,
   "metadata": {},
   "outputs": [],
   "source": [
    "gas_diff   = round((gas_2018 - gas_2013)     / gas_2013 * 100, 1)\n",
    "elec_diff  = round((elec_2018 - elec_2013)   / elec_2013 * 100, 1)\n",
    "water_diff = round((water_2018 - water_2013) / water_2013 * 100, 1)\n",
    "pass_diff  = round((pass_2018 - pass_2013)   / pass_2013 * 100, 1)"
   ]
  },
  {
   "cell_type": "code",
   "execution_count": 45,
   "metadata": {},
   "outputs": [
    {
     "name": "stdout",
     "output_type": "stream",
     "text": [
      "-6.8\n",
      "-5.8\n",
      "4.9\n",
      "28.4\n"
     ]
    }
   ],
   "source": [
    "print(gas_diff)\n",
    "print(elec_diff)\n",
    "print(water_diff)\n",
    "print(pass_diff)"
   ]
  },
  {
   "cell_type": "code",
   "execution_count": 55,
   "metadata": {},
   "outputs": [],
   "source": [
    "def calculate_utility_difference(utilities_df, utilities, years):\n",
    "    result = {}\n",
    "    for year in years:\n",
    "        result[year] = {}\n",
    "        for utility in utilities:\n",
    "            subset = utilities_df[(utilities_df['Year'] == year) & (utilities_df['Utility'] == utility)]\n",
    "            total = subset['Usage'].sum()\n",
    "            result[year][utility] = total\n",
    "    difference = {}\n",
    "    for utility in utilities:\n",
    "        difference[utility] = result[2018][utility] - result[2013][utility]\n",
    "    return difference"
   ]
  },
  {
   "cell_type": "code",
   "execution_count": 56,
   "metadata": {},
   "outputs": [
    {
     "name": "stdout",
     "output_type": "stream",
     "text": [
      "{'Gas': -265587.49627000047, 'Water': 19.303635999999983, 'Electricity': -19065323.899999976, 'Passengers': 12790468.0}\n"
     ]
    }
   ],
   "source": [
    "utilities = ['Gas', 'Water', 'Electricity', 'Passengers']\n",
    "years = [2013, 2018]\n",
    "result_difference = calculate_utility_difference(utilities_df, utilities, years)\n",
    "print(result_difference)"
   ]
  },
  {
   "cell_type": "markdown",
   "metadata": {},
   "source": [
    "# Summary\n",
    "{Write your summary here.}"
   ]
  },
  {
   "cell_type": "markdown",
   "metadata": {},
   "source": []
  }
 ],
 "metadata": {
  "kernelspec": {
   "display_name": "Python 3",
   "language": "python",
   "name": "python3"
  },
  "language_info": {
   "codemirror_mode": {
    "name": "ipython",
    "version": 3
   },
   "file_extension": ".py",
   "mimetype": "text/x-python",
   "name": "python",
   "nbconvert_exporter": "python",
   "pygments_lexer": "ipython3",
   "version": "3.11.7"
  }
 },
 "nbformat": 4,
 "nbformat_minor": 2
}
