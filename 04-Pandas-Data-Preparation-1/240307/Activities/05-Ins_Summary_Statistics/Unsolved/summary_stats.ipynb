{
 "cells": [
  {
   "cell_type": "code",
   "execution_count": 3,
   "metadata": {},
   "outputs": [],
   "source": [
    "# Import dependencies\n",
    "import numpy as np\n",
    "import pandas as pd\n",
    "import scipy.stats as stats"
   ]
  },
  {
   "cell_type": "code",
   "execution_count": 6,
   "metadata": {},
   "outputs": [
    {
     "data": {
      "text/html": [
       "<div>\n",
       "<style scoped>\n",
       "    .dataframe tbody tr th:only-of-type {\n",
       "        vertical-align: middle;\n",
       "    }\n",
       "\n",
       "    .dataframe tbody tr th {\n",
       "        vertical-align: top;\n",
       "    }\n",
       "\n",
       "    .dataframe thead th {\n",
       "        text-align: right;\n",
       "    }\n",
       "</style>\n",
       "<table border=\"1\" class=\"dataframe\">\n",
       "  <thead>\n",
       "    <tr style=\"text-align: right;\">\n",
       "      <th></th>\n",
       "      <th>STATION</th>\n",
       "      <th>DATE</th>\n",
       "      <th>REPORT_TYPE</th>\n",
       "      <th>HourlyDryBulbTemperature</th>\n",
       "    </tr>\n",
       "  </thead>\n",
       "  <tbody>\n",
       "    <tr>\n",
       "      <th>0</th>\n",
       "      <td>72295023174</td>\n",
       "      <td>2019-01-01T00:49:00</td>\n",
       "      <td>FM-16</td>\n",
       "      <td>52</td>\n",
       "    </tr>\n",
       "    <tr>\n",
       "      <th>1</th>\n",
       "      <td>72295023174</td>\n",
       "      <td>2019-01-01T00:53:00</td>\n",
       "      <td>FM-15</td>\n",
       "      <td>51</td>\n",
       "    </tr>\n",
       "    <tr>\n",
       "      <th>2</th>\n",
       "      <td>72295023174</td>\n",
       "      <td>2019-01-01T01:53:00</td>\n",
       "      <td>FM-15</td>\n",
       "      <td>52</td>\n",
       "    </tr>\n",
       "    <tr>\n",
       "      <th>3</th>\n",
       "      <td>72295023174</td>\n",
       "      <td>2019-01-01T02:53:00</td>\n",
       "      <td>FM-15</td>\n",
       "      <td>49</td>\n",
       "    </tr>\n",
       "    <tr>\n",
       "      <th>4</th>\n",
       "      <td>72295023174</td>\n",
       "      <td>2019-01-01T03:53:00</td>\n",
       "      <td>FM-15</td>\n",
       "      <td>43</td>\n",
       "    </tr>\n",
       "    <tr>\n",
       "      <th>...</th>\n",
       "      <td>...</td>\n",
       "      <td>...</td>\n",
       "      <td>...</td>\n",
       "      <td>...</td>\n",
       "    </tr>\n",
       "    <tr>\n",
       "      <th>3524</th>\n",
       "      <td>72295023174</td>\n",
       "      <td>2019-04-18T21:53:00</td>\n",
       "      <td>FM-15</td>\n",
       "      <td>60</td>\n",
       "    </tr>\n",
       "    <tr>\n",
       "      <th>3525</th>\n",
       "      <td>72295023174</td>\n",
       "      <td>2019-04-18T22:06:00</td>\n",
       "      <td>FM-16</td>\n",
       "      <td>59</td>\n",
       "    </tr>\n",
       "    <tr>\n",
       "      <th>3526</th>\n",
       "      <td>72295023174</td>\n",
       "      <td>2019-04-18T22:12:00</td>\n",
       "      <td>FM-16</td>\n",
       "      <td>58</td>\n",
       "    </tr>\n",
       "    <tr>\n",
       "      <th>3527</th>\n",
       "      <td>72295023174</td>\n",
       "      <td>2019-04-18T22:36:00</td>\n",
       "      <td>FM-16</td>\n",
       "      <td>58</td>\n",
       "    </tr>\n",
       "    <tr>\n",
       "      <th>3528</th>\n",
       "      <td>72295023174</td>\n",
       "      <td>2019-04-18T22:53:00</td>\n",
       "      <td>FM-15</td>\n",
       "      <td>58</td>\n",
       "    </tr>\n",
       "  </tbody>\n",
       "</table>\n",
       "<p>3529 rows × 4 columns</p>\n",
       "</div>"
      ],
      "text/plain": [
       "          STATION                 DATE REPORT_TYPE  HourlyDryBulbTemperature\n",
       "0     72295023174  2019-01-01T00:49:00       FM-16                        52\n",
       "1     72295023174  2019-01-01T00:53:00       FM-15                        51\n",
       "2     72295023174  2019-01-01T01:53:00       FM-15                        52\n",
       "3     72295023174  2019-01-01T02:53:00       FM-15                        49\n",
       "4     72295023174  2019-01-01T03:53:00       FM-15                        43\n",
       "...           ...                  ...         ...                       ...\n",
       "3524  72295023174  2019-04-18T21:53:00       FM-15                        60\n",
       "3525  72295023174  2019-04-18T22:06:00       FM-16                        59\n",
       "3526  72295023174  2019-04-18T22:12:00       FM-16                        58\n",
       "3527  72295023174  2019-04-18T22:36:00       FM-16                        58\n",
       "3528  72295023174  2019-04-18T22:53:00       FM-15                        58\n",
       "\n",
       "[3529 rows x 4 columns]"
      ]
     },
     "execution_count": 6,
     "metadata": {},
     "output_type": "execute_result"
    }
   ],
   "source": [
    "# Read in the LAX temperature data\n",
    "temp_df = pd.read_csv('../Resources/lax_temperature.csv')\n",
    "\n",
    "temperatures = temp_df['HourlyDryBulbTemperature']\n",
    "\n",
    "temp_df"
   ]
  },
  {
   "cell_type": "code",
   "execution_count": 15,
   "metadata": {},
   "outputs": [
    {
     "name": "stdout",
     "output_type": "stream",
     "text": [
      "57.65514310002834\n",
      "57.0\n",
      "0    57\n",
      "Name: HourlyDryBulbTemperature, dtype: int64\n"
     ]
    }
   ],
   "source": [
    "print(temperatures.mean())\n",
    "print(temperatures.median())\n",
    "print(temperatures.mode())"
   ]
  },
  {
   "cell_type": "code",
   "execution_count": 13,
   "metadata": {},
   "outputs": [],
   "source": [
    "# temperatures.describe()"
   ]
  },
  {
   "cell_type": "code",
   "execution_count": 17,
   "metadata": {},
   "outputs": [
    {
     "name": "stdout",
     "output_type": "stream",
     "text": [
      "The mean temperature at the LAX airport is 57.65514310002834\n",
      "The median temperature at the LAX airport is 57.0\n",
      "The mode temperature at the LAX airport is ModeResult(mode=57, count=327)\n"
     ]
    }
   ],
   "source": [
    "# Calculate the measures of central tendency\n",
    "print(f\"The mean temperature at the LAX airport is {np.mean(temperatures)}\")\n",
    "print(f\"The median temperature at the LAX airport is {np.median(temperatures)}\")\n",
    "print(f\"The mode temperature at the LAX airport is {stats.mode(temperatures)}\")"
   ]
  },
  {
   "cell_type": "code",
   "execution_count": 18,
   "metadata": {},
   "outputs": [
    {
     "name": "stdout",
     "output_type": "stream",
     "text": [
      "The population variance using the NumPy module is 32.33077618382955\n",
      "The population standard deviation using the NumPy module is 5.686015844493361\n"
     ]
    }
   ],
   "source": [
    "# Calculate variance and standard deviation using NumPy\n",
    "print(f\"The population variance using the NumPy module is {np.var(temperatures)}\")\n",
    "print(f\"The population standard deviation using the NumPy module is {np.std(temperatures)}\")"
   ]
  },
  {
   "cell_type": "code",
   "execution_count": 20,
   "metadata": {},
   "outputs": [
    {
     "name": "stdout",
     "output_type": "stream",
     "text": [
      "The z-scores using the SciPy module are 0      -0.994570\n",
      "1      -1.170440\n",
      "2      -0.994570\n",
      "3      -1.522181\n",
      "4      -2.577401\n",
      "          ...   \n",
      "3524    0.412390\n",
      "3525    0.236520\n",
      "3526    0.060650\n",
      "3527    0.060650\n",
      "3528    0.060650\n",
      "Name: HourlyDryBulbTemperature, Length: 3529, dtype: float64\n"
     ]
    }
   ],
   "source": [
    "# Calculate z-scores using SciPy\n",
    "print(f\"The z-scores using the SciPy module are {stats.zscore(temperatures)}\")"
   ]
  },
  {
   "cell_type": "code",
   "execution_count": 21,
   "metadata": {},
   "outputs": [
    {
     "data": {
      "text/html": [
       "<div>\n",
       "<style scoped>\n",
       "    .dataframe tbody tr th:only-of-type {\n",
       "        vertical-align: middle;\n",
       "    }\n",
       "\n",
       "    .dataframe tbody tr th {\n",
       "        vertical-align: top;\n",
       "    }\n",
       "\n",
       "    .dataframe thead th {\n",
       "        text-align: right;\n",
       "    }\n",
       "</style>\n",
       "<table border=\"1\" class=\"dataframe\">\n",
       "  <thead>\n",
       "    <tr style=\"text-align: right;\">\n",
       "      <th></th>\n",
       "      <th>STATION</th>\n",
       "      <th>DATE</th>\n",
       "      <th>REPORT_TYPE</th>\n",
       "      <th>HourlyDryBulbTemperature</th>\n",
       "      <th>z_score</th>\n",
       "    </tr>\n",
       "  </thead>\n",
       "  <tbody>\n",
       "    <tr>\n",
       "      <th>0</th>\n",
       "      <td>72295023174</td>\n",
       "      <td>2019-01-01T00:49:00</td>\n",
       "      <td>FM-16</td>\n",
       "      <td>52</td>\n",
       "      <td>-0.994570</td>\n",
       "    </tr>\n",
       "    <tr>\n",
       "      <th>1</th>\n",
       "      <td>72295023174</td>\n",
       "      <td>2019-01-01T00:53:00</td>\n",
       "      <td>FM-15</td>\n",
       "      <td>51</td>\n",
       "      <td>-1.170440</td>\n",
       "    </tr>\n",
       "    <tr>\n",
       "      <th>2</th>\n",
       "      <td>72295023174</td>\n",
       "      <td>2019-01-01T01:53:00</td>\n",
       "      <td>FM-15</td>\n",
       "      <td>52</td>\n",
       "      <td>-0.994570</td>\n",
       "    </tr>\n",
       "    <tr>\n",
       "      <th>3</th>\n",
       "      <td>72295023174</td>\n",
       "      <td>2019-01-01T02:53:00</td>\n",
       "      <td>FM-15</td>\n",
       "      <td>49</td>\n",
       "      <td>-1.522181</td>\n",
       "    </tr>\n",
       "    <tr>\n",
       "      <th>4</th>\n",
       "      <td>72295023174</td>\n",
       "      <td>2019-01-01T03:53:00</td>\n",
       "      <td>FM-15</td>\n",
       "      <td>43</td>\n",
       "      <td>-2.577401</td>\n",
       "    </tr>\n",
       "    <tr>\n",
       "      <th>5</th>\n",
       "      <td>72295023174</td>\n",
       "      <td>2019-01-01T04:00:00</td>\n",
       "      <td>FM-12</td>\n",
       "      <td>43</td>\n",
       "      <td>-2.577401</td>\n",
       "    </tr>\n",
       "    <tr>\n",
       "      <th>6</th>\n",
       "      <td>72295023174</td>\n",
       "      <td>2019-01-01T04:53:00</td>\n",
       "      <td>FM-15</td>\n",
       "      <td>46</td>\n",
       "      <td>-2.049791</td>\n",
       "    </tr>\n",
       "    <tr>\n",
       "      <th>7</th>\n",
       "      <td>72295023174</td>\n",
       "      <td>2019-01-01T05:53:00</td>\n",
       "      <td>FM-15</td>\n",
       "      <td>47</td>\n",
       "      <td>-1.873921</td>\n",
       "    </tr>\n",
       "    <tr>\n",
       "      <th>8</th>\n",
       "      <td>72295023174</td>\n",
       "      <td>2019-01-01T06:53:00</td>\n",
       "      <td>FM-15</td>\n",
       "      <td>44</td>\n",
       "      <td>-2.401531</td>\n",
       "    </tr>\n",
       "    <tr>\n",
       "      <th>9</th>\n",
       "      <td>72295023174</td>\n",
       "      <td>2019-01-01T07:53:00</td>\n",
       "      <td>FM-15</td>\n",
       "      <td>47</td>\n",
       "      <td>-1.873921</td>\n",
       "    </tr>\n",
       "  </tbody>\n",
       "</table>\n",
       "</div>"
      ],
      "text/plain": [
       "       STATION                 DATE REPORT_TYPE  HourlyDryBulbTemperature  \\\n",
       "0  72295023174  2019-01-01T00:49:00       FM-16                        52   \n",
       "1  72295023174  2019-01-01T00:53:00       FM-15                        51   \n",
       "2  72295023174  2019-01-01T01:53:00       FM-15                        52   \n",
       "3  72295023174  2019-01-01T02:53:00       FM-15                        49   \n",
       "4  72295023174  2019-01-01T03:53:00       FM-15                        43   \n",
       "5  72295023174  2019-01-01T04:00:00       FM-12                        43   \n",
       "6  72295023174  2019-01-01T04:53:00       FM-15                        46   \n",
       "7  72295023174  2019-01-01T05:53:00       FM-15                        47   \n",
       "8  72295023174  2019-01-01T06:53:00       FM-15                        44   \n",
       "9  72295023174  2019-01-01T07:53:00       FM-15                        47   \n",
       "\n",
       "    z_score  \n",
       "0 -0.994570  \n",
       "1 -1.170440  \n",
       "2 -0.994570  \n",
       "3 -1.522181  \n",
       "4 -2.577401  \n",
       "5 -2.577401  \n",
       "6 -2.049791  \n",
       "7 -1.873921  \n",
       "8 -2.401531  \n",
       "9 -1.873921  "
      ]
     },
     "execution_count": 21,
     "metadata": {},
     "output_type": "execute_result"
    }
   ],
   "source": [
    "# Add the z-scores to the original DataFrame as a new column\n",
    "temp_df[\"z_score\"] = stats.zscore(temperatures)\n",
    "\n",
    "temp_df.head(10)"
   ]
  }
 ],
 "metadata": {
  "kernelspec": {
   "display_name": "Python 3",
   "language": "python",
   "name": "python3"
  },
  "language_info": {
   "codemirror_mode": {
    "name": "ipython",
    "version": 3
   },
   "file_extension": ".py",
   "mimetype": "text/x-python",
   "name": "python",
   "nbconvert_exporter": "python",
   "pygments_lexer": "ipython3",
   "version": "3.11.7"
  }
 },
 "nbformat": 4,
 "nbformat_minor": 2
}
