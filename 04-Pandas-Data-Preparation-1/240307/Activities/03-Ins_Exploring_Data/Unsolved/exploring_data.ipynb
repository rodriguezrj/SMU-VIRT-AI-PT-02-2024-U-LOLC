{
 "cells": [
  {
   "cell_type": "code",
   "execution_count": 1,
   "metadata": {},
   "outputs": [],
   "source": [
    "# Dependencies\n",
    "import pandas as pd"
   ]
  },
  {
   "cell_type": "code",
   "execution_count": 2,
   "metadata": {
    "inputHidden": false,
    "outputHidden": false
   },
   "outputs": [],
   "source": [
    "# Name of the CSV file\n",
    "file = '../Resources/donors2021_unclean.csv'"
   ]
  },
  {
   "cell_type": "code",
   "execution_count": 3,
   "metadata": {
    "inputHidden": false,
    "outputHidden": false
   },
   "outputs": [],
   "source": [
    "# The correct encoding must be used to read the CSV\n",
    "df = pd.read_csv(file, encoding=\"ISO-8859-1\")"
   ]
  },
  {
   "cell_type": "code",
   "execution_count": 10,
   "metadata": {
    "inputHidden": false,
    "outputHidden": false
   },
   "outputs": [
    {
     "name": "stdout",
     "output_type": "stream",
     "text": [
      "Series([], Name: count, dtype: int64)\n"
     ]
    },
    {
     "data": {
      "text/html": [
       "<div>\n",
       "<style scoped>\n",
       "    .dataframe tbody tr th:only-of-type {\n",
       "        vertical-align: middle;\n",
       "    }\n",
       "\n",
       "    .dataframe tbody tr th {\n",
       "        vertical-align: top;\n",
       "    }\n",
       "\n",
       "    .dataframe thead th {\n",
       "        text-align: right;\n",
       "    }\n",
       "</style>\n",
       "<table border=\"1\" class=\"dataframe\">\n",
       "  <thead>\n",
       "    <tr style=\"text-align: right;\">\n",
       "      <th></th>\n",
       "      <th>Name</th>\n",
       "      <th>Employer</th>\n",
       "      <th>City</th>\n",
       "      <th>State</th>\n",
       "      <th>Zip</th>\n",
       "      <th>Amount</th>\n",
       "      <th>Memo_CD</th>\n",
       "    </tr>\n",
       "  </thead>\n",
       "  <tbody>\n",
       "    <tr>\n",
       "      <th>0</th>\n",
       "      <td>CAREY, JAMES</td>\n",
       "      <td>NOT EMPLOYED</td>\n",
       "      <td>HOCKESSIN</td>\n",
       "      <td>DE</td>\n",
       "      <td>197071618.0</td>\n",
       "      <td>500</td>\n",
       "      <td>NaN</td>\n",
       "    </tr>\n",
       "    <tr>\n",
       "      <th>1</th>\n",
       "      <td>OBICI, SILVANA</td>\n",
       "      <td>STONY BROOK</td>\n",
       "      <td>PORT JEFFERSON STATION</td>\n",
       "      <td>NY</td>\n",
       "      <td>117764286.0</td>\n",
       "      <td>250</td>\n",
       "      <td>NaN</td>\n",
       "    </tr>\n",
       "    <tr>\n",
       "      <th>2</th>\n",
       "      <td>MAISLIN, KAREN</td>\n",
       "      <td>RETIRED</td>\n",
       "      <td>WILLIAMSVILLE</td>\n",
       "      <td>NY</td>\n",
       "      <td>14221.0</td>\n",
       "      <td>250</td>\n",
       "      <td>NaN</td>\n",
       "    </tr>\n",
       "    <tr>\n",
       "      <th>3</th>\n",
       "      <td>MCCLELLAND, CARTER AND STEPHANIE</td>\n",
       "      <td>UNION SQUARE ADVISORS</td>\n",
       "      <td>NEW YORK</td>\n",
       "      <td>NY</td>\n",
       "      <td>10023.0</td>\n",
       "      <td>1000</td>\n",
       "      <td>NaN</td>\n",
       "    </tr>\n",
       "    <tr>\n",
       "      <th>4</th>\n",
       "      <td>MCCLUSKEY, MARTHA</td>\n",
       "      <td>STATE UNIVERSITY OF NEW YORK</td>\n",
       "      <td>BUFFALO</td>\n",
       "      <td>NY</td>\n",
       "      <td>14214.0</td>\n",
       "      <td>250</td>\n",
       "      <td>NaN</td>\n",
       "    </tr>\n",
       "  </tbody>\n",
       "</table>\n",
       "</div>"
      ],
      "text/plain": [
       "                               Name                      Employer  \\\n",
       "0                      CAREY, JAMES                  NOT EMPLOYED   \n",
       "1                    OBICI, SILVANA                   STONY BROOK   \n",
       "2                    MAISLIN, KAREN                       RETIRED   \n",
       "3  MCCLELLAND, CARTER AND STEPHANIE         UNION SQUARE ADVISORS   \n",
       "4                 MCCLUSKEY, MARTHA  STATE UNIVERSITY OF NEW YORK   \n",
       "\n",
       "                     City State          Zip  Amount  Memo_CD  \n",
       "0               HOCKESSIN    DE  197071618.0     500      NaN  \n",
       "1  PORT JEFFERSON STATION    NY  117764286.0     250      NaN  \n",
       "2           WILLIAMSVILLE    NY      14221.0     250      NaN  \n",
       "3                NEW YORK    NY      10023.0    1000      NaN  \n",
       "4                 BUFFALO    NY      14214.0     250      NaN  "
      ]
     },
     "execution_count": 10,
     "metadata": {},
     "output_type": "execute_result"
    }
   ],
   "source": [
    "# Preview of the DataFrame\n",
    "# Note that Memo_CD is likely a meaningless column\n",
    "\n",
    "print(df['Memo_CD'].value_counts())\n",
    "\n",
    "df.head()"
   ]
  },
  {
   "cell_type": "code",
   "execution_count": 13,
   "metadata": {
    "inputHidden": false,
    "outputHidden": false
   },
   "outputs": [],
   "source": [
    "# Delete extraneous column\n",
    "del df[\"Memo_CD\"]"
   ]
  },
  {
   "cell_type": "code",
   "execution_count": 14,
   "metadata": {},
   "outputs": [
    {
     "data": {
      "text/html": [
       "<div>\n",
       "<style scoped>\n",
       "    .dataframe tbody tr th:only-of-type {\n",
       "        vertical-align: middle;\n",
       "    }\n",
       "\n",
       "    .dataframe tbody tr th {\n",
       "        vertical-align: top;\n",
       "    }\n",
       "\n",
       "    .dataframe thead th {\n",
       "        text-align: right;\n",
       "    }\n",
       "</style>\n",
       "<table border=\"1\" class=\"dataframe\">\n",
       "  <thead>\n",
       "    <tr style=\"text-align: right;\">\n",
       "      <th></th>\n",
       "      <th>Name</th>\n",
       "      <th>Employer</th>\n",
       "      <th>City</th>\n",
       "      <th>State</th>\n",
       "      <th>Zip</th>\n",
       "      <th>Amount</th>\n",
       "    </tr>\n",
       "  </thead>\n",
       "  <tbody>\n",
       "    <tr>\n",
       "      <th>0</th>\n",
       "      <td>CAREY, JAMES</td>\n",
       "      <td>NOT EMPLOYED</td>\n",
       "      <td>HOCKESSIN</td>\n",
       "      <td>DE</td>\n",
       "      <td>197071618.0</td>\n",
       "      <td>500</td>\n",
       "    </tr>\n",
       "    <tr>\n",
       "      <th>1</th>\n",
       "      <td>OBICI, SILVANA</td>\n",
       "      <td>STONY BROOK</td>\n",
       "      <td>PORT JEFFERSON STATION</td>\n",
       "      <td>NY</td>\n",
       "      <td>117764286.0</td>\n",
       "      <td>250</td>\n",
       "    </tr>\n",
       "    <tr>\n",
       "      <th>2</th>\n",
       "      <td>MAISLIN, KAREN</td>\n",
       "      <td>RETIRED</td>\n",
       "      <td>WILLIAMSVILLE</td>\n",
       "      <td>NY</td>\n",
       "      <td>14221.0</td>\n",
       "      <td>250</td>\n",
       "    </tr>\n",
       "    <tr>\n",
       "      <th>3</th>\n",
       "      <td>MCCLELLAND, CARTER AND STEPHANIE</td>\n",
       "      <td>UNION SQUARE ADVISORS</td>\n",
       "      <td>NEW YORK</td>\n",
       "      <td>NY</td>\n",
       "      <td>10023.0</td>\n",
       "      <td>1000</td>\n",
       "    </tr>\n",
       "    <tr>\n",
       "      <th>4</th>\n",
       "      <td>MCCLUSKEY, MARTHA</td>\n",
       "      <td>STATE UNIVERSITY OF NEW YORK</td>\n",
       "      <td>BUFFALO</td>\n",
       "      <td>NY</td>\n",
       "      <td>14214.0</td>\n",
       "      <td>250</td>\n",
       "    </tr>\n",
       "  </tbody>\n",
       "</table>\n",
       "</div>"
      ],
      "text/plain": [
       "                               Name                      Employer  \\\n",
       "0                      CAREY, JAMES                  NOT EMPLOYED   \n",
       "1                    OBICI, SILVANA                   STONY BROOK   \n",
       "2                    MAISLIN, KAREN                       RETIRED   \n",
       "3  MCCLELLAND, CARTER AND STEPHANIE         UNION SQUARE ADVISORS   \n",
       "4                 MCCLUSKEY, MARTHA  STATE UNIVERSITY OF NEW YORK   \n",
       "\n",
       "                     City State          Zip  Amount  \n",
       "0               HOCKESSIN    DE  197071618.0     500  \n",
       "1  PORT JEFFERSON STATION    NY  117764286.0     250  \n",
       "2           WILLIAMSVILLE    NY      14221.0     250  \n",
       "3                NEW YORK    NY      10023.0    1000  \n",
       "4                 BUFFALO    NY      14214.0     250  "
      ]
     },
     "execution_count": 14,
     "metadata": {},
     "output_type": "execute_result"
    }
   ],
   "source": [
    "df.head()"
   ]
  },
  {
   "cell_type": "code",
   "execution_count": 15,
   "metadata": {
    "inputHidden": false,
    "outputHidden": false
   },
   "outputs": [
    {
     "data": {
      "text/plain": [
       "Name        2000\n",
       "Employer    1820\n",
       "City        1999\n",
       "State       1999\n",
       "Zip         1996\n",
       "Amount      2000\n",
       "dtype: int64"
      ]
     },
     "execution_count": 15,
     "metadata": {},
     "output_type": "execute_result"
    }
   ],
   "source": [
    "# Identify incomplete rows\n",
    "df.count()"
   ]
  },
  {
   "cell_type": "code",
   "execution_count": 16,
   "metadata": {
    "inputHidden": false,
    "outputHidden": false
   },
   "outputs": [],
   "source": [
    "# Drop all rows with missing information\n",
    "df = df.dropna(how=\"any\")"
   ]
  },
  {
   "cell_type": "code",
   "execution_count": 17,
   "metadata": {
    "inputHidden": false,
    "outputHidden": false
   },
   "outputs": [
    {
     "data": {
      "text/plain": [
       "Name        1818\n",
       "Employer    1818\n",
       "City        1818\n",
       "State       1818\n",
       "Zip         1818\n",
       "Amount      1818\n",
       "dtype: int64"
      ]
     },
     "execution_count": 17,
     "metadata": {},
     "output_type": "execute_result"
    }
   ],
   "source": [
    "# Verify dropped rows\n",
    "df.count()"
   ]
  },
  {
   "cell_type": "code",
   "execution_count": 19,
   "metadata": {
    "inputHidden": false,
    "outputHidden": false
   },
   "outputs": [
    {
     "data": {
      "text/plain": [
       "Name         object\n",
       "Employer     object\n",
       "City         object\n",
       "State        object\n",
       "Zip         float64\n",
       "Amount        int64\n",
       "dtype: object"
      ]
     },
     "execution_count": 19,
     "metadata": {},
     "output_type": "execute_result"
    }
   ],
   "source": [
    "# The Zip column is the wrong data type. It should be a string (object).\n",
    "type(df)\n",
    "\n",
    "df.dtypes"
   ]
  },
  {
   "cell_type": "code",
   "execution_count": 23,
   "metadata": {
    "inputHidden": false,
    "outputHidden": false
   },
   "outputs": [
    {
     "data": {
      "text/plain": [
       "Name        object\n",
       "Employer    object\n",
       "City        object\n",
       "State       object\n",
       "Zip         object\n",
       "Amount       int64\n",
       "dtype: object"
      ]
     },
     "execution_count": 23,
     "metadata": {},
     "output_type": "execute_result"
    }
   ],
   "source": [
    "# Use df.astype() method to convert the datatype of the Zip column\n",
    "df = df.astype({\"Zip\" : str}, errors = \"raise\")\n",
    "\n",
    "df.dtypes"
   ]
  },
  {
   "cell_type": "code",
   "execution_count": 24,
   "metadata": {
    "inputHidden": false,
    "outputHidden": false
   },
   "outputs": [
    {
     "data": {
      "text/plain": [
       "dtype('O')"
      ]
     },
     "execution_count": 24,
     "metadata": {},
     "output_type": "execute_result"
    }
   ],
   "source": [
    "# Verify that the Zip column datatype has been made an object\n",
    "df['Zip'].dtype"
   ]
  },
  {
   "cell_type": "code",
   "execution_count": 25,
   "metadata": {},
   "outputs": [
    {
     "data": {
      "text/plain": [
       "array(['NOT EMPLOYED', 'STONY BROOK', 'RETIRED', 'UNION SQUARE ADVISORS',\n",
       "       'STATE UNIVERSITY OF NEW YORK', 'SELF', 'SETH PYENSON',\n",
       "       'BACKSTOP SOLUTIONS', 'TAYLOR RING', 'ICI MUTUAL',\n",
       "       'WEBB SANDERS & WILLIAMS PLLC', 'ALAMEDA COUNTY',\n",
       "       'THE COALITION AGAINST TRAFFICKING IN W', 'GOOGLE LLC',\n",
       "       'CASE WESTERN RESERVE UNIVERSITY', 'NONE', 'VELOCITYEHS',\n",
       "       'UC BERKELEY', 'MLK LLC', 'CISCO', 'STATE OF OHIO', 'FANATICS INC',\n",
       "       'SOFTWARE', 'MANAGER', 'CONSULTANT',\n",
       "       'PAN-AMERICAN LIFE INSURANCE GROUP', 'BCR PROPERTIES',\n",
       "       'WYNNEFIELD CAPITAL', 'JOHNS HOPKINS UNIVERSITY',\n",
       "       'COLUMBIA UNIVERSITY', 'COHERENT SYSTEMS', 'CLEVELAND-CLIFFS INC.',\n",
       "       'IRONUNITS LLC (CCI)', 'IRONUNITSLLC (CCI)', 'IRONUNITS (CCI)',\n",
       "       'ASANTE PHYSICIAN PARTNERS', 'UPS', 'CHICAGO BAR COMPANY',\n",
       "       'OVERTON SECURITY SERVICES', 'DRUMMOND COMPANY, INC.',\n",
       "       'INGRAM BARGE', 'INGRAM BARGE COMPANY', 'INGRAM',\n",
       "       'INGRAM INDUSTRIES INC.', 'INGRAM INDUSTRIES',\n",
       "       'HAWKINS CONSTRUCTION COMPANY', 'PILLEN FAMILY FARMS',\n",
       "       'KIEWIT CONSTRUCTION GROUP INC.', 'SELF-EMPLOYED',\n",
       "       'D.L. DAY MASONRY', 'NATIONAL HERITAGE ACADEMIES', 'NOKIA CORP',\n",
       "       'DREYER INTERNATIONAL ACADEMY LLC', 'RAY GRAHAM ASSOCIATION',\n",
       "       'UNEMPLOYED', 'ALABAMA STATE PORT AUTHORITY',\n",
       "       'BORELL CONSULTING SERVICES, LLC',\n",
       "       'NIPPON LIFE INS. CO. OF AMERIC', 'SANDVIK MATERIALS TECH',\n",
       "       'VIRTUA', 'COMMUNITY CHRISTIAN FELLOWSHIP', 'SELF AND VA',\n",
       "       'VOYAGER SERVICE CENTERS INC.', 'DES PERES HOSPITAL',\n",
       "       'SACRED HEART CHURCH', 'PROVIDENCE ASSOCIATES', 'SELF EMPLOYED',\n",
       "       'USAF', 'P LOESCH PAINTING', 'DIOCESE OF SAN BERNARDINO',\n",
       "       'ARCHDIOCESE OF NEW YORK', 'RIDGE NAPQA', 'HUB GROUP',\n",
       "       'US POSTAL SERVICE', 'BALTIMORE CO. BOARD OF EDUCATION', 'US ARMY',\n",
       "       'CHRIST COMMUNITY MINISTRIES', \"SHAFTO'S FARM\",\n",
       "       'BOEHRINER INGELHEIM', 'LOCKHEAD MARTIN', 'CHRYSLER CORPORATION',\n",
       "       'SM HEATING & A/C', 'TRINITY SCHOOL',\n",
       "       'AUTOMATED LOGISTICS SYSTEMS', 'JOELLEN DESIGNS',\n",
       "       'T & B AUTO SALES', \"THE MASTER'S WOODSHOP\",\n",
       "       'GREAT CONNECTIONS ELECTRIC LLC', 'THE JANKOVICH COMPANY',\n",
       "       'ADAMS& BLUIN', 'ALLSTATE INSURANCE', 'Y COMBINATOR', 'ZENPUT',\n",
       "       'NORTHEASTERN UNIVERSITY', 'ARCOSA, INC.',\n",
       "       'SPIRIT AEROSYSTEMS INC', 'AVANGRID', 'AVANGRID SERVICE COMPANY',\n",
       "       'AVANGRID RENEWABLES, LLC', 'NY STATE ELECTRIC & GAS C',\n",
       "       'LEXISNEXIS RISK SOLUTIONS', 'WEGMANS FOOD MARKETS INC.', 'PAE',\n",
       "       'HAPPY HEALTHY WITH HADLEE', 'U.S. DEPARTMENT OF INTERIOR', 'CEL',\n",
       "       'INTEL CORPORATION', 'PROGRESSIVE PRODUCE LLC',\n",
       "       'SONY MUSIC ENTERTAINMENT', 'CORNELL UNIVERSITY', 'DYSON',\n",
       "       'ACCENTURE', 'SIXPOINT HARNESS', 'PIXAR ANIMATION STUDIOS',\n",
       "       'UNIVERSITY OF PENNSYLVANIA', 'JPG',\n",
       "       'PROVIDENCE ST. JOSEPH HEALTH', 'SOCURE',\n",
       "       \"PEOPLE'S COMMUNITY CLINIC OF NEWBERG\", 'MELISSA AND SUE CAMP',\n",
       "       'UNIVERSITY OF WYOMING', 'MICHIGAN STATE HOUSING DEVELOPMENT AUT',\n",
       "       'FREIGHT FORWARDER', 'LARCHMONT CHARTER SCHOOL',\n",
       "       'SAN FRANCISCO UNIFIED SCHOOL DISTRICT', 'SPACEX', 'AHVI', 'TPAG',\n",
       "       'LOS ANGELES VALLEY COLLEGE', 'GEICO', 'SCHOOL OF ROCK',\n",
       "       'LOTARIA INC.', '11X', 'CARBON FIVE',\n",
       "       'AMAZON DEVELOPMENT CENTER U.S. INC.',\n",
       "       'CALIFORNIA ALLIANCE FOR ARTS EDUCATION', 'CHIME', 'INDEED INC.',\n",
       "       'GLOBALFOUNDRIES INC.', 'STATE OF TEXAS',\n",
       "       'UNIVERSITY OF CALIFORNIA', 'TMCSEA',\n",
       "       'ASSOCIATION FOR COMMUNITY AFFILIATED P',\n",
       "       'POLITICAL COMMUNICATIONS, INC', 'SEATTLE GENETICS',\n",
       "       'DEROSA ADVISORS', 'ASSOCIA INC', 'ASSOCIA NORTHERN CALIFORNIA',\n",
       "       'COMERICA INC', 'CHARLES A. KLEIN  SONS INC.',\n",
       "       'QUALCOMM TECHNOLOGIES INC.', 'ARCHER AUTO GROUP',\n",
       "       'HOLLAND ENGINEERING', 'DUBOV PARTNERS,LLC', 'RENCO GROUP',\n",
       "       'URBAN FOUNDATION ENGINEERING', 'CNB', 'PEDIATRICS OF SW HOUSTON',\n",
       "       'RUAN, INC', 'RYAN SPECIALTY GROUP', 'BRACKEN INTEREST',\n",
       "       'NESNAH MANAGEMENT', 'FAMILY MANAGEMENT CORP',\n",
       "       'ARMSTRONG ACCOUNTING', 'CAILLOUX FOUNDATION', 'JAMES CALLAN INC.',\n",
       "       'FIRING PIN ENTERPRIZES, INC.', 'OWNER', 'TDH CAPITAL CORP',\n",
       "       'SEYFARTH', 'ZIPPO MFG. CO.', 'MILLBROOK CAPITAL',\n",
       "       'PINNACLE EXPRESS INC.', 'NEUBERGER BERMAN',\n",
       "       'ADAMS, BARFIELD  BAITY', 'FILM FLEET, LLC',\n",
       "       'RAC PROPERTIES OF ATHENS, INC', 'BAE SYSTEMS', 'TOTAL SOURCE CAM',\n",
       "       'CLARK CONSTRUCTION LLC', 'RYAN SPECIALTYGROUP',\n",
       "       'GAINESVILLE SKIN CANCER CENTER', 'LINDQUIST MORTIARIES',\n",
       "       \"JEROME'S COLLISION CENTER\", 'AURORA MEDICAL GROUP',\n",
       "       'HANNAFORD BROS.', 'FOMMCO', 'EVERHARD PRODUCTS',\n",
       "       'GABELL BEAVER LLC', 'NO LONGER WORK', 'SPARBOE FARMS',\n",
       "       'TERMINIX SERVICE, INC.', 'SIRI  GLIMSTAD LLP',\n",
       "       'INVEST AMERICA REALTY', 'HOT SPRINGS COUNTY DISTRICT HOSPITAL',\n",
       "       'BP INDUSTRIES INC', 'ACURA CARLAND', 'ALLIANT INSURANCE SERVICES',\n",
       "       'GUARDIAN LIFE', 'ROOF DEPOT', 'FAREL BYRD, CPA, PA', 'EJME',\n",
       "       'LOCKHEED MARTIN', 'BRAY INTERNATIONAL INC.', 'MICHAELREED',\n",
       "       'MAGNOLIA OIL & GAS', 'NOT WORKING NOW', 'AIR FORCE',\n",
       "       'ST PETERS HEALTH', 'ANGES AUTO', 'MWD MGNT CORP',\n",
       "       'FIRST NATIONAL CAPITAL CORPORATION', 'ARUZE GAMING AMERICA',\n",
       "       'CAREMOUNT', 'HUSBAND', 'FBM', 'SERVICE EXPERTS',\n",
       "       'THE HYATT COMPANY, LLC', 'OTIS EASTERN SERVICE LLC',\n",
       "       'JOHN PROP. MGMT CO', 'MATRIX PARTNERS, LTD.',\n",
       "       'AGAR TRUCK SALES INC', 'AUTONOMY AIR CORP', 'FH MINE SUPPLY INC.',\n",
       "       'MIDWAY FORD TRK CTR', 'TREVDAN INC', 'ST. FRANCIS MEDICAL CENTER',\n",
       "       'HOBBS  ASSOC', 'CUSTARD KINGS', 'TANQUE VERDE RANCH', 'VHCA',\n",
       "       'BOYLE INV. CO', 'EQUITY GROUP INVESTMENTS', 'MMM EXPRESS',\n",
       "       'MAXWELL HUD', 'GENUITY SCIENCE', 'STATE OF CONNECTICUT',\n",
       "       'STARR AVIATION', 'INDEPENDENT CONTRACTOR', 'PEN COR', 'RYAN LLC',\n",
       "       'RELEASE MARINE', 'ICARE MGT', 'REMAX', 'NPH', 'APELINC',\n",
       "       'BAXTER PACIFIC GROUP', 'ADVANCE AMERICA CASH ADVANCE CENTERS I',\n",
       "       'SAP', 'OCEAN TOMO', 'BLUE RIDGE HEALTH', 'WAL MART',\n",
       "       'FERNANDEZ & COMPANY P.C.', 'ZEUS', 'ROBINSON CONSULTING',\n",
       "       'POLYTECHNIC SCHOOL', 'IMMERSION, INC.',\n",
       "       'ENDANGERED HABITATS LEAGUE', 'IN/SITE ARCHITECTURE',\n",
       "       'TANANA VALLEY HOLDINGS', 'MMC', 'EMSD6', 'PVT LAND CO',\n",
       "       'SNOHOMISH SD', 'NIH', 'OFFICE OF THE PUBLIC DEFENDER', 'MPS, LLC',\n",
       "       'MARKS AND LEAR A PLC', 'WETA DIGITAL', 'BELKIN INTERNATIONAL',\n",
       "       'LEXISNEXIS', 'ORACLE', 'EWEB', 'PG&E', 'GRAPH STRATEGY',\n",
       "       'DATA AUTOMATION GROUP', 'BANK OF AMERICA', 'TRC', 'L&M',\n",
       "       'XEROX CORPORATION', 'FAA', 'SPIRE SPORTS', 'AP ENGINEERING',\n",
       "       'PAGANELLI LAW GROUP LLC', 'CBRE', 'UNIVERSITY OF OREGON',\n",
       "       \"CHICO'S\", 'SENTARA HEALTH CARE', 'FIREBRAND CREATIVE', 'FIS',\n",
       "       'US DEPARTMENT OF THE INTERIOR', 'MAJOR LINDSEY & AFRICA',\n",
       "       'MICROSOFT', 'THINKRESOLUTION', 'UNIVERSITY OF MASSACHUSETTS',\n",
       "       'JP MORGAN', 'OASIS SYSTEMS', 'KHMR&G', 'REFUSED TO DISCLOSE',\n",
       "       'ZWJ', 'ALLIANCE OF CHRISTIAN MEDIA', 'PACTIV',\n",
       "       'PROCESS SPECIALTIES', 'SHELBY CO SCHOOLS',\n",
       "       'NEW ENGLAND SOUTHERN RR', 'HOUSTON METHODIST', '42CHAT', 'APA',\n",
       "       'SLOCUM & SONS', 'MARINHEALTH MEDICAL CENTER',\n",
       "       'ARTSIGNS ARCHITECTURAL GRAPHICS INC.', 'URBAN PHILANTHROPIES',\n",
       "       'KOBALT MUSIC', 'US NAVY', 'HEB', 'OLIVER', 'ETA COMPUTE',\n",
       "       'MATTRESS FIRM', 'UBS', 'MANSELL & ANDREWS', 'IBM',\n",
       "       'CREATION DESIGN SERVICES', 'BRIGHT HEALTH', 'PIMG', 'ATLANTIC',\n",
       "       'UC SAN DIEGO', 'ERICSSON', 'AEQUITAS INVESTMENT ADVISORS',\n",
       "       'PILLSBURY', 'SOUTHWEST AIRLINES', 'PRESSURE TECHNOLOGY',\n",
       "       'PRASAD CORPORATION', 'BOBS DISCOUNT FURNITURE', 'MICRO FOCUS',\n",
       "       'MATSON NAVIGATION', 'MEDFORD', 'WELLMARK', 'TETRA PAK', 'ID',\n",
       "       'MAXFIELD REAL ESTATE', 'MUIH', 'MAYO CLINIC',\n",
       "       'SILVER STAR BRANDS', 'MEDTRONIC', 'VHA', 'E JE2T PAC',\n",
       "       'MONTEFIORE', 'OCPS', 'WELLS FARGO ADVISORS', 'KDB PLLC',\n",
       "       'CLUBHOUSE INTERNATIONAL', 'CHAINEY-DAVIS BIOLOGICAL CONSULTING',\n",
       "       'HEPTON LIVESTOCK LLC', 'ODOC', 'LEGACY HEALTH', 'EJD TRANSPORT',\n",
       "       'LAWRENCE BERKELEY LAB', 'WALMART', 'UPMC', 'MASS GENERAL BRIGHAM',\n",
       "       'MAGIC LEAP', 'USPS', 'NSI', 'EXPERGY', 'SANMINA CORPORATION',\n",
       "       'NORTH ATLANTA ENT', 'SAN FRANCISCO OPERA', 'LARIMARKET', 'SDUSD',\n",
       "       'USACS', 'A MEDICAL TECH COMPANY', 'RSI', 'ROBOTECH',\n",
       "       'HOLIDAY INN EXPRESS', 'CSU', 'UNIVERSITY OF ILLINOIS',\n",
       "       'IVY LEAGUE UNIVERISTY', 'FUSION MARKETING GROUP', 'SSP AMERICA',\n",
       "       'UNITY CONSULTING', 'PEACEHEALTH', 'STUDENT ACHIEVEMENT PARTNERS',\n",
       "       'APE', 'GLOBAL FOUNDRIES', 'MAXIMUS FEDERAL', 'S3', 'ACM',\n",
       "       'SEATTLE CITY LIGHT', 'SCE', 'ALVARADO MANAGAGMENT',\n",
       "       'DI COSTA PARTNERS', 'MAGIQ TECHNOLOGIES', 'MOEBIUS MODELS',\n",
       "       'CENTURY 21 ALLIANCE', 'COORDINATED RESPONSE', 'SHP MGMT',\n",
       "       'DECISIONS LLC', 'KEYBANK', 'UNIV OF TAMPA', 'JC EDWARD CORP',\n",
       "       'INTEL AMERICAS', 'XRO', \"BRIGGS FREEMAN SOTHEBY'S\",\n",
       "       'DOCTOR OFFICE', 'ALLIED WORLD INSURANCE COMPANY', 'TJX',\n",
       "       'ENGINEERED ENVIRONMENTAL SOLUTIONS', 'RODAHL & COMPANY LLC',\n",
       "       'SBPI SERVICES INC.', 'SCALAR MEDIA PARTNERS', 'LOCKE LORD, LLP',\n",
       "       \"TRADER JOE'S\", 'STRUCTURE CAPITAL', 'CLOUDS AND SUNBREAKS',\n",
       "       'NOWCC', 'HEBERT & MARCEAUX', 'WELLS FARGO', 'AT&T',\n",
       "       'WOOD PARTNERS', 'MUSD2O', 'NETAPP', 'BRADLEY ARANT',\n",
       "       'SPLUNK INC.', 'VELA TRADING', 'SFTC, LLC', 'DIRECT ENERGY',\n",
       "       'LOS ANGELES COUNTY', 'ELF', 'ERON ENGINEERING',\n",
       "       'MCCROSKEY LAW FIRM', 'LW INSURANCE', 'INVE$TNET',\n",
       "       'SWEETUM PRODUCTIONS', 'CHARTER OAK FCU', 'KIRBY ELECTRIC',\n",
       "       'JUMBURRITO.COM', 'CHAMPION ASSOCIATES', 'HCA',\n",
       "       'FORM4 ARCHITECTURE', 'KOCHEL EQUIPMENT', 'HEALTHCARE PARTNERS',\n",
       "       'FCA US, LLC', 'OFFICE CHURCHILL', 'SAFEWORKS', 'CNS',\n",
       "       'CHICAGO HOUSING AUTORITY', 'STAPLES', 'DAN CRON LAW FIRM',\n",
       "       'TRANE', 'ESTES', 'GULF INTERSTATE', 'LHH',\n",
       "       'LYNX STUDIO TECHNOLOGY, INC.', 'UW-MILWAUKEE', 'ORACLE USA',\n",
       "       'RPS', 'NAWCWD', 'TREES OF SHADE INC', 'NOKIA OF AMERICA',\n",
       "       'PROVIDENCE', 'MITRE CORP.', 'ENTERPRISE', 'PARADATEC',\n",
       "       'ECAPITAL ADVISORS', 'JRPRO', 'ENDEAVOR AIR',\n",
       "       'HORIZON PHILANTHROPIC', 'SIGMATEX, INC.', 'SIKORSKY',\n",
       "       'PARK WEST HEALTH SYSTEM, INC.', 'IRRELEVANT',\n",
       "       'UNIVERSITY OF SOUTH FLORIDA', 'UNITED CHURCH OF CHRIST', 'AXIOM',\n",
       "       'SHARTZER LAW FIRM', 'ST LOUIS UNIVERSITY', 'REFUSE TO DISCLOSE',\n",
       "       'STATE OF CALIFORNIA', 'ARCTIC STORM MANAGEMENT GROUP',\n",
       "       'FAEGRE DRINKER', 'MOSES SINGER', 'BOARD OF ED', 'COMPASS',\n",
       "       'UNIVERSITY OF ALASKA', 'TOWN & COUNTRY MOVERS', 'BARUCH COLLEGE',\n",
       "       'HEALTH LAW CONSULTANCY', 'ALLMED HEALTHCARE MANAGEMENT, INC.',\n",
       "       'DOMENGEAUX WRIGHT ROY & EDWARDS, LLC', 'BARREL ASSOCIATES',\n",
       "       'RESOURCE DATA INC.', 'PROJECT TRANSITION', 'HOME DEPOT',\n",
       "       'BOOKREPORT', 'CC5', 'BLM', 'WILLIS TOWERS WATSON',\n",
       "       'VECTOR SOFTWARE', 'HEALTHASSIST', 'RIVERSIDE RESEARCH',\n",
       "       'BLOOMBERG ADVOCACY', 'VISA', 'CAPITOL DOOR SALES', 'CFSB',\n",
       "       'EMPATH HEALTH', 'COMPUTERNET RESOURCE GROUP',\n",
       "       'PRECISION STRUCTURAL EMGOMEEROMG', '40TH STREET APARTMENTS LLC',\n",
       "       'MERCK', 'EY', 'ESS', 'MIDMICHIGAN MEDICAL CENTER',\n",
       "       'JACKOWAY ET AL', 'KROGER', 'AX MOJO LLC', 'KRIFCON', 'UCLA',\n",
       "       'FLYTEC, USA', '5T WEALTH, LLC'], dtype=object)"
      ]
     },
     "execution_count": 25,
     "metadata": {},
     "output_type": "execute_result"
    }
   ],
   "source": [
    "# We can view all the unique values in a column\n",
    "df['Employer'].unique()"
   ]
  },
  {
   "cell_type": "code",
   "execution_count": 26,
   "metadata": {},
   "outputs": [
    {
     "data": {
      "text/plain": [
       "519"
      ]
     },
     "execution_count": 26,
     "metadata": {},
     "output_type": "execute_result"
    }
   ],
   "source": [
    "# We can count the number of unique values\n",
    "df['Employer'].nunique()"
   ]
  },
  {
   "cell_type": "code",
   "execution_count": 27,
   "metadata": {
    "inputHidden": false,
    "outputHidden": false
   },
   "outputs": [
    {
     "data": {
      "text/plain": [
       "Employer\n",
       "NOT EMPLOYED                        609\n",
       "NONE                                321\n",
       "SELF-EMPLOYED                       132\n",
       "SELF                                 33\n",
       "RETIRED                              32\n",
       "                                   ... \n",
       "NOKIA CORP                            1\n",
       "FH MINE SUPPLY INC.                   1\n",
       "DREYER INTERNATIONAL ACADEMY LLC      1\n",
       "RAY GRAHAM ASSOCIATION                1\n",
       "5T WEALTH, LLC                        1\n",
       "Name: count, Length: 519, dtype: int64"
      ]
     },
     "execution_count": 27,
     "metadata": {},
     "output_type": "execute_result"
    }
   ],
   "source": [
    "# We can count the number of occurrences\n",
    "# for each unique value\n",
    "df['Employer'].value_counts()"
   ]
  },
  {
   "cell_type": "code",
   "execution_count": 28,
   "metadata": {
    "inputHidden": false,
    "outputHidden": false
   },
   "outputs": [],
   "source": [
    "# Clean up Employer category. Replace 'SELF' and 'SELF EMPLOYED' with 'SELF-EMPLOYED'\n",
    "df['Employer'] = df[\"Employer\"].replace({\"SELF\" : 'SELF-EMPLOYED', \"SELF EMPLOYED\" : \"SELF-EMPLOYED\"})"
   ]
  },
  {
   "cell_type": "code",
   "execution_count": 29,
   "metadata": {
    "inputHidden": false,
    "outputHidden": false
   },
   "outputs": [
    {
     "data": {
      "text/plain": [
       "Employer\n",
       "NOT EMPLOYED                            609\n",
       "NONE                                    321\n",
       "SELF-EMPLOYED                           180\n",
       "RETIRED                                  32\n",
       "INGRAM BARGE COMPANY                     30\n",
       "                                       ... \n",
       "GOOGLE LLC                                1\n",
       "BP INDUSTRIES INC                         1\n",
       "HOT SPRINGS COUNTY DISTRICT HOSPITAL      1\n",
       "INVEST AMERICA REALTY                     1\n",
       "5T WEALTH, LLC                            1\n",
       "Name: count, Length: 517, dtype: int64"
      ]
     },
     "execution_count": 29,
     "metadata": {},
     "output_type": "execute_result"
    }
   ],
   "source": [
    "# Verify clean-up.\n",
    "df['Employer'].value_counts()"
   ]
  },
  {
   "cell_type": "code",
   "execution_count": 31,
   "metadata": {
    "inputHidden": false,
    "outputHidden": false
   },
   "outputs": [
    {
     "data": {
      "text/plain": [
       "Employer\n",
       "UNEMPLOYED                        611\n",
       "NONE                              321\n",
       "SELF-EMPLOYED                     180\n",
       "RETIRED                            32\n",
       "INGRAM BARGE COMPANY               30\n",
       "                                 ... \n",
       "JEROME'S COLLISION CENTER           1\n",
       "LINDQUIST MORTIARIES                1\n",
       "GAINESVILLE SKIN CANCER CENTER      1\n",
       "RYAN SPECIALTYGROUP                 1\n",
       "5T WEALTH, LLC                      1\n",
       "Name: count, Length: 516, dtype: int64"
      ]
     },
     "execution_count": 31,
     "metadata": {},
     "output_type": "execute_result"
    }
   ],
   "source": [
    "# Clean up Employer category. Replace 'NOT EMPLOYED' with 'UNEMPLOYED'\n",
    "df['Employer'] = df[\"Employer\"].replace({\"NOT EMPLOYED\" : 'UNEMPLOYED'})\n",
    "df['Employer'].value_counts()"
   ]
  },
  {
   "cell_type": "code",
   "execution_count": 32,
   "metadata": {
    "inputHidden": false,
    "outputHidden": false
   },
   "outputs": [
    {
     "data": {
      "text/html": [
       "<div>\n",
       "<style scoped>\n",
       "    .dataframe tbody tr th:only-of-type {\n",
       "        vertical-align: middle;\n",
       "    }\n",
       "\n",
       "    .dataframe tbody tr th {\n",
       "        vertical-align: top;\n",
       "    }\n",
       "\n",
       "    .dataframe thead th {\n",
       "        text-align: right;\n",
       "    }\n",
       "</style>\n",
       "<table border=\"1\" class=\"dataframe\">\n",
       "  <thead>\n",
       "    <tr style=\"text-align: right;\">\n",
       "      <th></th>\n",
       "      <th>Amount</th>\n",
       "    </tr>\n",
       "  </thead>\n",
       "  <tbody>\n",
       "    <tr>\n",
       "      <th>count</th>\n",
       "      <td>1818.000000</td>\n",
       "    </tr>\n",
       "    <tr>\n",
       "      <th>mean</th>\n",
       "      <td>752.127613</td>\n",
       "    </tr>\n",
       "    <tr>\n",
       "      <th>std</th>\n",
       "      <td>11601.791128</td>\n",
       "    </tr>\n",
       "    <tr>\n",
       "      <th>min</th>\n",
       "      <td>-1000.000000</td>\n",
       "    </tr>\n",
       "    <tr>\n",
       "      <th>25%</th>\n",
       "      <td>25.000000</td>\n",
       "    </tr>\n",
       "    <tr>\n",
       "      <th>50%</th>\n",
       "      <td>50.000000</td>\n",
       "    </tr>\n",
       "    <tr>\n",
       "      <th>75%</th>\n",
       "      <td>200.000000</td>\n",
       "    </tr>\n",
       "    <tr>\n",
       "      <th>max</th>\n",
       "      <td>400000.000000</td>\n",
       "    </tr>\n",
       "  </tbody>\n",
       "</table>\n",
       "</div>"
      ],
      "text/plain": [
       "              Amount\n",
       "count    1818.000000\n",
       "mean      752.127613\n",
       "std     11601.791128\n",
       "min     -1000.000000\n",
       "25%        25.000000\n",
       "50%        50.000000\n",
       "75%       200.000000\n",
       "max    400000.000000"
      ]
     },
     "execution_count": 32,
     "metadata": {},
     "output_type": "execute_result"
    }
   ],
   "source": [
    "# Display a statistical overview\n",
    "df.describe()"
   ]
  },
  {
   "cell_type": "code",
   "execution_count": 33,
   "metadata": {},
   "outputs": [
    {
     "name": "stdout",
     "output_type": "stream",
     "text": [
      "AMOUNT:\n",
      "The count is 1818\n",
      "The minimum is -1000\n",
      "The maximum is 400000\n",
      "The mean is 752.1276127612762\n"
     ]
    }
   ],
   "source": [
    "# We can calculate individual aggregate functions per column\n",
    "print(\"AMOUNT:\")\n",
    "print(f\"The count is {df['Amount'].count()}\")\n",
    "print(f\"The minimum is {df['Amount'].min()}\")\n",
    "print(f\"The maximum is {df['Amount'].max()}\")\n",
    "print(f\"The mean is {df['Amount'].mean()}\")"
   ]
  },
  {
   "cell_type": "code",
   "execution_count": 37,
   "metadata": {},
   "outputs": [
    {
     "data": {
      "text/plain": [
       "Name        ABATA, JOSEPH\n",
       "Employer              11X\n",
       "City                ACTON\n",
       "State                  AK\n",
       "Zip           100032604.0\n",
       "Amount              -1000\n",
       "dtype: object"
      ]
     },
     "execution_count": 37,
     "metadata": {},
     "output_type": "execute_result"
    }
   ],
   "source": [
    "# We can also calculate them for an entire DataFrame\n",
    "df.min()"
   ]
  },
  {
   "cell_type": "code",
   "execution_count": 39,
   "metadata": {},
   "outputs": [
    {
     "data": {
      "text/html": [
       "<div>\n",
       "<style scoped>\n",
       "    .dataframe tbody tr th:only-of-type {\n",
       "        vertical-align: middle;\n",
       "    }\n",
       "\n",
       "    .dataframe tbody tr th {\n",
       "        vertical-align: top;\n",
       "    }\n",
       "\n",
       "    .dataframe thead th {\n",
       "        text-align: right;\n",
       "    }\n",
       "</style>\n",
       "<table border=\"1\" class=\"dataframe\">\n",
       "  <thead>\n",
       "    <tr style=\"text-align: right;\">\n",
       "      <th></th>\n",
       "      <th>Name</th>\n",
       "      <th>Employer</th>\n",
       "      <th>City</th>\n",
       "      <th>State</th>\n",
       "      <th>Zip</th>\n",
       "      <th>Amount</th>\n",
       "    </tr>\n",
       "  </thead>\n",
       "  <tbody>\n",
       "    <tr>\n",
       "      <th>0</th>\n",
       "      <td>CAREY, JAMES</td>\n",
       "      <td>UNEMPLOYED</td>\n",
       "      <td>HOCKESSIN</td>\n",
       "      <td>DE</td>\n",
       "      <td>197071618.0</td>\n",
       "      <td>500</td>\n",
       "    </tr>\n",
       "    <tr>\n",
       "      <th>1</th>\n",
       "      <td>OBICI, SILVANA</td>\n",
       "      <td>STONY BROOK</td>\n",
       "      <td>PORT JEFFERSON STATION</td>\n",
       "      <td>NY</td>\n",
       "      <td>117764286.0</td>\n",
       "      <td>250</td>\n",
       "    </tr>\n",
       "    <tr>\n",
       "      <th>2</th>\n",
       "      <td>MAISLIN, KAREN</td>\n",
       "      <td>RETIRED</td>\n",
       "      <td>WILLIAMSVILLE</td>\n",
       "      <td>NY</td>\n",
       "      <td>14221.0</td>\n",
       "      <td>250</td>\n",
       "    </tr>\n",
       "    <tr>\n",
       "      <th>3</th>\n",
       "      <td>MCCLELLAND, CARTER AND STEPHANIE</td>\n",
       "      <td>UNION SQUARE ADVISORS</td>\n",
       "      <td>NEW YORK</td>\n",
       "      <td>NY</td>\n",
       "      <td>10023.0</td>\n",
       "      <td>1000</td>\n",
       "    </tr>\n",
       "    <tr>\n",
       "      <th>4</th>\n",
       "      <td>MCCLUSKEY, MARTHA</td>\n",
       "      <td>STATE UNIVERSITY OF NEW YORK</td>\n",
       "      <td>BUFFALO</td>\n",
       "      <td>NY</td>\n",
       "      <td>14214.0</td>\n",
       "      <td>250</td>\n",
       "    </tr>\n",
       "    <tr>\n",
       "      <th>...</th>\n",
       "      <td>...</td>\n",
       "      <td>...</td>\n",
       "      <td>...</td>\n",
       "      <td>...</td>\n",
       "      <td>...</td>\n",
       "      <td>...</td>\n",
       "    </tr>\n",
       "    <tr>\n",
       "      <th>1995</th>\n",
       "      <td>KROMHOUT, WILEEN</td>\n",
       "      <td>UCLA</td>\n",
       "      <td>PORTER RANCH</td>\n",
       "      <td>CA</td>\n",
       "      <td>913263018.0</td>\n",
       "      <td>57</td>\n",
       "    </tr>\n",
       "    <tr>\n",
       "      <th>1996</th>\n",
       "      <td>KRONHEIM, NANCY</td>\n",
       "      <td>UNEMPLOYED</td>\n",
       "      <td>ARLINGTON</td>\n",
       "      <td>VA</td>\n",
       "      <td>222041332.0</td>\n",
       "      <td>100</td>\n",
       "    </tr>\n",
       "    <tr>\n",
       "      <th>1997</th>\n",
       "      <td>KROOP, STEVE</td>\n",
       "      <td>FLYTEC, USA</td>\n",
       "      <td>HIGH SPRINGS</td>\n",
       "      <td>FL</td>\n",
       "      <td>326431608.0</td>\n",
       "      <td>39</td>\n",
       "    </tr>\n",
       "    <tr>\n",
       "      <th>1998</th>\n",
       "      <td>KRSEK, PAUL</td>\n",
       "      <td>5T WEALTH, LLC</td>\n",
       "      <td>NAPA</td>\n",
       "      <td>CA</td>\n",
       "      <td>945581818.0</td>\n",
       "      <td>20</td>\n",
       "    </tr>\n",
       "    <tr>\n",
       "      <th>1999</th>\n",
       "      <td>KRUEGER, BETTY</td>\n",
       "      <td>UNEMPLOYED</td>\n",
       "      <td>MUNDELEIN</td>\n",
       "      <td>IL</td>\n",
       "      <td>600606036.0</td>\n",
       "      <td>25</td>\n",
       "    </tr>\n",
       "  </tbody>\n",
       "</table>\n",
       "<p>1818 rows × 6 columns</p>\n",
       "</div>"
      ],
      "text/plain": [
       "                                  Name                      Employer  \\\n",
       "0                         CAREY, JAMES                    UNEMPLOYED   \n",
       "1                       OBICI, SILVANA                   STONY BROOK   \n",
       "2                       MAISLIN, KAREN                       RETIRED   \n",
       "3     MCCLELLAND, CARTER AND STEPHANIE         UNION SQUARE ADVISORS   \n",
       "4                    MCCLUSKEY, MARTHA  STATE UNIVERSITY OF NEW YORK   \n",
       "...                                ...                           ...   \n",
       "1995                  KROMHOUT, WILEEN                          UCLA   \n",
       "1996                   KRONHEIM, NANCY                    UNEMPLOYED   \n",
       "1997                      KROOP, STEVE                   FLYTEC, USA   \n",
       "1998                       KRSEK, PAUL                5T WEALTH, LLC   \n",
       "1999                    KRUEGER, BETTY                    UNEMPLOYED   \n",
       "\n",
       "                        City State          Zip  Amount  \n",
       "0                  HOCKESSIN    DE  197071618.0     500  \n",
       "1     PORT JEFFERSON STATION    NY  117764286.0     250  \n",
       "2              WILLIAMSVILLE    NY      14221.0     250  \n",
       "3                   NEW YORK    NY      10023.0    1000  \n",
       "4                    BUFFALO    NY      14214.0     250  \n",
       "...                      ...   ...          ...     ...  \n",
       "1995            PORTER RANCH    CA  913263018.0      57  \n",
       "1996               ARLINGTON    VA  222041332.0     100  \n",
       "1997            HIGH SPRINGS    FL  326431608.0      39  \n",
       "1998                    NAPA    CA  945581818.0      20  \n",
       "1999               MUNDELEIN    IL  600606036.0      25  \n",
       "\n",
       "[1818 rows x 6 columns]"
      ]
     },
     "execution_count": 39,
     "metadata": {},
     "output_type": "execute_result"
    }
   ],
   "source": [
    "df"
   ]
  },
  {
   "cell_type": "code",
   "execution_count": 38,
   "metadata": {},
   "outputs": [],
   "source": [
    "# Save the DataFrame to a CSV file. \n",
    "# https://pandas.pydata.org/docs/reference/api/pandas.DataFrame.html\n",
    "df.to_csv(\"cleaned_donors.csv\", index=False)"
   ]
  }
 ],
 "metadata": {
  "anaconda-cloud": {},
  "kernel_info": {
   "name": "python3"
  },
  "kernelspec": {
   "display_name": "Python 3",
   "language": "python",
   "name": "python3"
  },
  "language_info": {
   "codemirror_mode": {
    "name": "ipython",
    "version": 3
   },
   "file_extension": ".py",
   "mimetype": "text/x-python",
   "name": "python",
   "nbconvert_exporter": "python",
   "pygments_lexer": "ipython3",
   "version": "3.11.7"
  },
  "nteract": {
   "version": "0.2.0"
  }
 },
 "nbformat": 4,
 "nbformat_minor": 2
}
